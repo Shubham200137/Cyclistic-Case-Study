{
 "cells": [
  {
   "cell_type": "code",
   "execution_count": 1,
   "id": "64652539",
   "metadata": {},
   "outputs": [
    {
     "name": "stdout",
     "output_type": "stream",
     "text": [
      "Requirement already satisfied: pandas in c:\\users\\shubh\\appdata\\local\\programs\\python\\python311\\lib\\site-packages (2.0.2)\n",
      "Requirement already satisfied: python-dateutil>=2.8.2 in c:\\users\\shubh\\appdata\\local\\programs\\python\\python311\\lib\\site-packages (from pandas) (2.8.2)\n",
      "Requirement already satisfied: pytz>=2020.1 in c:\\users\\shubh\\appdata\\local\\programs\\python\\python311\\lib\\site-packages (from pandas) (2023.3)\n",
      "Requirement already satisfied: tzdata>=2022.1 in c:\\users\\shubh\\appdata\\local\\programs\\python\\python311\\lib\\site-packages (from pandas) (2023.3)\n",
      "Requirement already satisfied: numpy>=1.21.0 in c:\\users\\shubh\\appdata\\local\\programs\\python\\python311\\lib\\site-packages (from pandas) (1.24.3)\n",
      "Requirement already satisfied: six>=1.5 in c:\\users\\shubh\\appdata\\local\\programs\\python\\python311\\lib\\site-packages (from python-dateutil>=2.8.2->pandas) (1.16.0)\n",
      "Note: you may need to restart the kernel to use updated packages.\n"
     ]
    }
   ],
   "source": [
    "pip install pandas"
   ]
  },
  {
   "cell_type": "code",
   "execution_count": 2,
   "id": "7e75ce02",
   "metadata": {
    "scrolled": true
   },
   "outputs": [
    {
     "name": "stdout",
     "output_type": "stream",
     "text": [
      "Requirement already satisfied: openpyxl in c:\\users\\shubh\\appdata\\local\\programs\\python\\python311\\lib\\site-packages (3.1.2)\n",
      "Requirement already satisfied: et-xmlfile in c:\\users\\shubh\\appdata\\local\\programs\\python\\python311\\lib\\site-packages (from openpyxl) (1.1.0)\n",
      "Note: you may need to restart the kernel to use updated packages.\n"
     ]
    }
   ],
   "source": [
    "pip install openpyxl"
   ]
  },
  {
   "cell_type": "code",
   "execution_count": 3,
   "id": "9cd85128",
   "metadata": {},
   "outputs": [],
   "source": [
    "import openpyxl"
   ]
  },
  {
   "cell_type": "code",
   "execution_count": 4,
   "id": "33e6e97c",
   "metadata": {},
   "outputs": [],
   "source": [
    "import pandas as pd"
   ]
  },
  {
   "cell_type": "markdown",
   "id": "344c618d",
   "metadata": {},
   "source": [
    "# Step 1:COLLECT DATA\n"
   ]
  },
  {
   "cell_type": "code",
   "execution_count": 5,
   "id": "4250e045",
   "metadata": {},
   "outputs": [],
   "source": [
    "# Read Excel file into a dataframe\n",
    "df = pd.read_excel(\"C:\\Case Study 1\\Data\\cyclistic_data_q1.xlsx\")\n",
    "# Access and manipulate the data in the dataframe"
   ]
  },
  {
   "cell_type": "code",
   "execution_count": 6,
   "id": "4845f99d",
   "metadata": {},
   "outputs": [
    {
     "data": {
      "text/html": [
       "<div>\n",
       "<style scoped>\n",
       "    .dataframe tbody tr th:only-of-type {\n",
       "        vertical-align: middle;\n",
       "    }\n",
       "\n",
       "    .dataframe tbody tr th {\n",
       "        vertical-align: top;\n",
       "    }\n",
       "\n",
       "    .dataframe thead th {\n",
       "        text-align: right;\n",
       "    }\n",
       "</style>\n",
       "<table border=\"1\" class=\"dataframe\">\n",
       "  <thead>\n",
       "    <tr style=\"text-align: right;\">\n",
       "      <th></th>\n",
       "      <th>rideable_type</th>\n",
       "      <th>started_at</th>\n",
       "      <th>ended_at</th>\n",
       "      <th>start_station_name</th>\n",
       "      <th>start_station_id</th>\n",
       "      <th>end_station_name</th>\n",
       "      <th>end_station_id</th>\n",
       "      <th>start_lat</th>\n",
       "      <th>start_lng</th>\n",
       "      <th>end_lat</th>\n",
       "      <th>end_lng</th>\n",
       "      <th>member_casual</th>\n",
       "      <th>ride_length</th>\n",
       "      <th>ride_date</th>\n",
       "      <th>ride_year</th>\n",
       "      <th>ride_month</th>\n",
       "      <th>start_time</th>\n",
       "      <th>end_time</th>\n",
       "      <th>day_of_week</th>\n",
       "      <th>season</th>\n",
       "    </tr>\n",
       "  </thead>\n",
       "  <tbody>\n",
       "    <tr>\n",
       "      <th>0</th>\n",
       "      <td>docked_bike</td>\n",
       "      <td>2020-04-01 00:00:00</td>\n",
       "      <td>2020-04-01 00:23:00</td>\n",
       "      <td>Damen Ave &amp; Wellington Ave</td>\n",
       "      <td>162</td>\n",
       "      <td>Pine Grove Ave &amp; Waveland Ave</td>\n",
       "      <td>232.0</td>\n",
       "      <td>41.935900</td>\n",
       "      <td>-87.678400</td>\n",
       "      <td>41.949300</td>\n",
       "      <td>-87.646300</td>\n",
       "      <td>casual</td>\n",
       "      <td>00:23:00</td>\n",
       "      <td>2020-04-01</td>\n",
       "      <td>2020</td>\n",
       "      <td>4</td>\n",
       "      <td>00:00:00</td>\n",
       "      <td>00:23:00</td>\n",
       "      <td>4</td>\n",
       "      <td>Spring</td>\n",
       "    </tr>\n",
       "    <tr>\n",
       "      <th>1</th>\n",
       "      <td>docked_bike</td>\n",
       "      <td>2020-04-01 00:02:00</td>\n",
       "      <td>2020-04-01 00:24:00</td>\n",
       "      <td>Damen Ave &amp; Wellington Ave</td>\n",
       "      <td>162</td>\n",
       "      <td>Spaulding Ave &amp; Armitage Ave</td>\n",
       "      <td>506.0</td>\n",
       "      <td>41.935900</td>\n",
       "      <td>-87.678400</td>\n",
       "      <td>41.917100</td>\n",
       "      <td>-87.710200</td>\n",
       "      <td>casual</td>\n",
       "      <td>00:22:00</td>\n",
       "      <td>2020-04-01</td>\n",
       "      <td>2020</td>\n",
       "      <td>4</td>\n",
       "      <td>00:02:00</td>\n",
       "      <td>00:24:00</td>\n",
       "      <td>4</td>\n",
       "      <td>Spring</td>\n",
       "    </tr>\n",
       "    <tr>\n",
       "      <th>2</th>\n",
       "      <td>docked_bike</td>\n",
       "      <td>2020-04-01 00:02:00</td>\n",
       "      <td>2020-04-01 00:10:00</td>\n",
       "      <td>Wabash Ave &amp; 16th St</td>\n",
       "      <td>72</td>\n",
       "      <td>Wabash Ave &amp; 9th St</td>\n",
       "      <td>321.0</td>\n",
       "      <td>41.860400</td>\n",
       "      <td>-87.625800</td>\n",
       "      <td>41.870800</td>\n",
       "      <td>-87.625700</td>\n",
       "      <td>member</td>\n",
       "      <td>00:08:00</td>\n",
       "      <td>2020-04-01</td>\n",
       "      <td>2020</td>\n",
       "      <td>4</td>\n",
       "      <td>00:02:00</td>\n",
       "      <td>00:10:00</td>\n",
       "      <td>4</td>\n",
       "      <td>Spring</td>\n",
       "    </tr>\n",
       "    <tr>\n",
       "      <th>3</th>\n",
       "      <td>docked_bike</td>\n",
       "      <td>2020-04-01 00:06:00</td>\n",
       "      <td>2020-04-01 00:14:00</td>\n",
       "      <td>Mies van der Rohe Way &amp; Chicago Ave</td>\n",
       "      <td>173</td>\n",
       "      <td>Clark St &amp; Schiller St</td>\n",
       "      <td>301.0</td>\n",
       "      <td>41.896900</td>\n",
       "      <td>-87.621700</td>\n",
       "      <td>41.908000</td>\n",
       "      <td>-87.631500</td>\n",
       "      <td>member</td>\n",
       "      <td>00:08:00</td>\n",
       "      <td>2020-04-01</td>\n",
       "      <td>2020</td>\n",
       "      <td>4</td>\n",
       "      <td>00:06:00</td>\n",
       "      <td>00:14:00</td>\n",
       "      <td>4</td>\n",
       "      <td>Spring</td>\n",
       "    </tr>\n",
       "    <tr>\n",
       "      <th>4</th>\n",
       "      <td>docked_bike</td>\n",
       "      <td>2020-04-01 00:11:00</td>\n",
       "      <td>2020-04-01 00:11:00</td>\n",
       "      <td>Wabash Ave &amp; 9th St</td>\n",
       "      <td>321</td>\n",
       "      <td>Wabash Ave &amp; 9th St</td>\n",
       "      <td>321.0</td>\n",
       "      <td>41.870800</td>\n",
       "      <td>-87.625700</td>\n",
       "      <td>41.870800</td>\n",
       "      <td>-87.625700</td>\n",
       "      <td>member</td>\n",
       "      <td>00:00:00</td>\n",
       "      <td>2020-04-01</td>\n",
       "      <td>2020</td>\n",
       "      <td>4</td>\n",
       "      <td>00:11:00</td>\n",
       "      <td>00:11:00</td>\n",
       "      <td>4</td>\n",
       "      <td>Spring</td>\n",
       "    </tr>\n",
       "    <tr>\n",
       "      <th>...</th>\n",
       "      <td>...</td>\n",
       "      <td>...</td>\n",
       "      <td>...</td>\n",
       "      <td>...</td>\n",
       "      <td>...</td>\n",
       "      <td>...</td>\n",
       "      <td>...</td>\n",
       "      <td>...</td>\n",
       "      <td>...</td>\n",
       "      <td>...</td>\n",
       "      <td>...</td>\n",
       "      <td>...</td>\n",
       "      <td>...</td>\n",
       "      <td>...</td>\n",
       "      <td>...</td>\n",
       "      <td>...</td>\n",
       "      <td>...</td>\n",
       "      <td>...</td>\n",
       "      <td>...</td>\n",
       "      <td>...</td>\n",
       "    </tr>\n",
       "    <tr>\n",
       "      <th>509616</th>\n",
       "      <td>docked_bike</td>\n",
       "      <td>2020-06-30 23:59:06</td>\n",
       "      <td>2020-07-01 01:02:00</td>\n",
       "      <td>Lake Shore Dr &amp; Wellington Ave</td>\n",
       "      <td>157</td>\n",
       "      <td>Lake Shore Dr &amp; Wellington Ave</td>\n",
       "      <td>157.0</td>\n",
       "      <td>41.936688</td>\n",
       "      <td>-87.636829</td>\n",
       "      <td>41.936688</td>\n",
       "      <td>-87.636829</td>\n",
       "      <td>casual</td>\n",
       "      <td>01:03:21</td>\n",
       "      <td>2020-06-30</td>\n",
       "      <td>2020</td>\n",
       "      <td>6</td>\n",
       "      <td>23:59:06</td>\n",
       "      <td>01:02:27</td>\n",
       "      <td>3</td>\n",
       "      <td>Summer</td>\n",
       "    </tr>\n",
       "    <tr>\n",
       "      <th>509617</th>\n",
       "      <td>docked_bike</td>\n",
       "      <td>2020-06-30 23:59:23</td>\n",
       "      <td>2020-07-01 01:02:00</td>\n",
       "      <td>Lake Shore Dr &amp; Wellington Ave</td>\n",
       "      <td>157</td>\n",
       "      <td>Lake Shore Dr &amp; Wellington Ave</td>\n",
       "      <td>157.0</td>\n",
       "      <td>41.936688</td>\n",
       "      <td>-87.636829</td>\n",
       "      <td>41.936688</td>\n",
       "      <td>-87.636829</td>\n",
       "      <td>casual</td>\n",
       "      <td>01:03:00</td>\n",
       "      <td>2020-06-30</td>\n",
       "      <td>2020</td>\n",
       "      <td>6</td>\n",
       "      <td>23:59:23</td>\n",
       "      <td>01:02:23</td>\n",
       "      <td>3</td>\n",
       "      <td>Summer</td>\n",
       "    </tr>\n",
       "    <tr>\n",
       "      <th>509618</th>\n",
       "      <td>docked_bike</td>\n",
       "      <td>2020-06-30 23:59:41</td>\n",
       "      <td>2020-07-01 00:35:00</td>\n",
       "      <td>Theater on the Lake</td>\n",
       "      <td>177</td>\n",
       "      <td>Theater on the Lake</td>\n",
       "      <td>177.0</td>\n",
       "      <td>41.926277</td>\n",
       "      <td>-87.630834</td>\n",
       "      <td>41.926277</td>\n",
       "      <td>-87.630834</td>\n",
       "      <td>casual</td>\n",
       "      <td>00:35:19</td>\n",
       "      <td>2020-06-30</td>\n",
       "      <td>2020</td>\n",
       "      <td>6</td>\n",
       "      <td>23:59:41</td>\n",
       "      <td>00:35:00</td>\n",
       "      <td>3</td>\n",
       "      <td>Summer</td>\n",
       "    </tr>\n",
       "    <tr>\n",
       "      <th>509619</th>\n",
       "      <td>docked_bike</td>\n",
       "      <td>2020-06-30 23:59:45</td>\n",
       "      <td>2020-07-01 00:35:00</td>\n",
       "      <td>Theater on the Lake</td>\n",
       "      <td>177</td>\n",
       "      <td>Theater on the Lake</td>\n",
       "      <td>177.0</td>\n",
       "      <td>41.926277</td>\n",
       "      <td>-87.630834</td>\n",
       "      <td>41.926277</td>\n",
       "      <td>-87.630834</td>\n",
       "      <td>casual</td>\n",
       "      <td>00:35:16</td>\n",
       "      <td>2020-06-30</td>\n",
       "      <td>2020</td>\n",
       "      <td>6</td>\n",
       "      <td>23:59:45</td>\n",
       "      <td>00:35:01</td>\n",
       "      <td>3</td>\n",
       "      <td>Summer</td>\n",
       "    </tr>\n",
       "    <tr>\n",
       "      <th>509620</th>\n",
       "      <td>docked_bike</td>\n",
       "      <td>2020-06-30 23:59:54</td>\n",
       "      <td>2020-07-01 00:56:00</td>\n",
       "      <td>Lake Shore Dr &amp; Monroe St</td>\n",
       "      <td>76</td>\n",
       "      <td>Lake Shore Dr &amp; Monroe St</td>\n",
       "      <td>76.0</td>\n",
       "      <td>41.880958</td>\n",
       "      <td>-87.616743</td>\n",
       "      <td>41.880958</td>\n",
       "      <td>-87.616743</td>\n",
       "      <td>casual</td>\n",
       "      <td>00:56:55</td>\n",
       "      <td>2020-06-30</td>\n",
       "      <td>2020</td>\n",
       "      <td>6</td>\n",
       "      <td>23:59:54</td>\n",
       "      <td>00:56:49</td>\n",
       "      <td>3</td>\n",
       "      <td>Summer</td>\n",
       "    </tr>\n",
       "  </tbody>\n",
       "</table>\n",
       "<p>509621 rows × 20 columns</p>\n",
       "</div>"
      ],
      "text/plain": [
       "       rideable_type          started_at            ended_at  \\\n",
       "0        docked_bike 2020-04-01 00:00:00 2020-04-01 00:23:00   \n",
       "1        docked_bike 2020-04-01 00:02:00 2020-04-01 00:24:00   \n",
       "2        docked_bike 2020-04-01 00:02:00 2020-04-01 00:10:00   \n",
       "3        docked_bike 2020-04-01 00:06:00 2020-04-01 00:14:00   \n",
       "4        docked_bike 2020-04-01 00:11:00 2020-04-01 00:11:00   \n",
       "...              ...                 ...                 ...   \n",
       "509616   docked_bike 2020-06-30 23:59:06 2020-07-01 01:02:00   \n",
       "509617   docked_bike 2020-06-30 23:59:23 2020-07-01 01:02:00   \n",
       "509618   docked_bike 2020-06-30 23:59:41 2020-07-01 00:35:00   \n",
       "509619   docked_bike 2020-06-30 23:59:45 2020-07-01 00:35:00   \n",
       "509620   docked_bike 2020-06-30 23:59:54 2020-07-01 00:56:00   \n",
       "\n",
       "                         start_station_name  start_station_id  \\\n",
       "0                Damen Ave & Wellington Ave               162   \n",
       "1                Damen Ave & Wellington Ave               162   \n",
       "2                      Wabash Ave & 16th St                72   \n",
       "3       Mies van der Rohe Way & Chicago Ave               173   \n",
       "4                       Wabash Ave & 9th St               321   \n",
       "...                                     ...               ...   \n",
       "509616       Lake Shore Dr & Wellington Ave               157   \n",
       "509617       Lake Shore Dr & Wellington Ave               157   \n",
       "509618                  Theater on the Lake               177   \n",
       "509619                  Theater on the Lake               177   \n",
       "509620            Lake Shore Dr & Monroe St                76   \n",
       "\n",
       "                      end_station_name  end_station_id  start_lat  start_lng  \\\n",
       "0        Pine Grove Ave & Waveland Ave           232.0  41.935900 -87.678400   \n",
       "1         Spaulding Ave & Armitage Ave           506.0  41.935900 -87.678400   \n",
       "2                  Wabash Ave & 9th St           321.0  41.860400 -87.625800   \n",
       "3               Clark St & Schiller St           301.0  41.896900 -87.621700   \n",
       "4                  Wabash Ave & 9th St           321.0  41.870800 -87.625700   \n",
       "...                                ...             ...        ...        ...   \n",
       "509616  Lake Shore Dr & Wellington Ave           157.0  41.936688 -87.636829   \n",
       "509617  Lake Shore Dr & Wellington Ave           157.0  41.936688 -87.636829   \n",
       "509618             Theater on the Lake           177.0  41.926277 -87.630834   \n",
       "509619             Theater on the Lake           177.0  41.926277 -87.630834   \n",
       "509620       Lake Shore Dr & Monroe St            76.0  41.880958 -87.616743   \n",
       "\n",
       "          end_lat    end_lng member_casual ride_length  ride_date  ride_year  \\\n",
       "0       41.949300 -87.646300        casual    00:23:00 2020-04-01       2020   \n",
       "1       41.917100 -87.710200        casual    00:22:00 2020-04-01       2020   \n",
       "2       41.870800 -87.625700        member    00:08:00 2020-04-01       2020   \n",
       "3       41.908000 -87.631500        member    00:08:00 2020-04-01       2020   \n",
       "4       41.870800 -87.625700        member    00:00:00 2020-04-01       2020   \n",
       "...           ...        ...           ...         ...        ...        ...   \n",
       "509616  41.936688 -87.636829        casual    01:03:21 2020-06-30       2020   \n",
       "509617  41.936688 -87.636829        casual    01:03:00 2020-06-30       2020   \n",
       "509618  41.926277 -87.630834        casual    00:35:19 2020-06-30       2020   \n",
       "509619  41.926277 -87.630834        casual    00:35:16 2020-06-30       2020   \n",
       "509620  41.880958 -87.616743        casual    00:56:55 2020-06-30       2020   \n",
       "\n",
       "        ride_month start_time  end_time  day_of_week  season  \n",
       "0                4   00:00:00  00:23:00            4  Spring  \n",
       "1                4   00:02:00  00:24:00            4  Spring  \n",
       "2                4   00:02:00  00:10:00            4  Spring  \n",
       "3                4   00:06:00  00:14:00            4  Spring  \n",
       "4                4   00:11:00  00:11:00            4  Spring  \n",
       "...            ...        ...       ...          ...     ...  \n",
       "509616           6   23:59:06  01:02:27            3  Summer  \n",
       "509617           6   23:59:23  01:02:23            3  Summer  \n",
       "509618           6   23:59:41  00:35:00            3  Summer  \n",
       "509619           6   23:59:45  00:35:01            3  Summer  \n",
       "509620           6   23:59:54  00:56:49            3  Summer  \n",
       "\n",
       "[509621 rows x 20 columns]"
      ]
     },
     "execution_count": 6,
     "metadata": {},
     "output_type": "execute_result"
    }
   ],
   "source": [
    "df"
   ]
  },
  {
   "cell_type": "code",
   "execution_count": 7,
   "id": "b098e18f",
   "metadata": {},
   "outputs": [],
   "source": [
    "import pandas as pd\n",
    "\n",
    "# Read the Excel file\n",
    "file_path = 'C:\\Case Study 1\\Data\\cyclistic_data_q2.xlsx'\n",
    "xls = pd.ExcelFile(file_path)\n",
    "\n",
    "# Create an empty list to hold the individual DataFrames\n",
    "dfs = []\n",
    "\n",
    "# Iterate over each worksheet in the Excel file\n",
    "for sheet_name in xls.sheet_names:\n",
    "    # Read the data from the current worksheet into a DataFrame\n",
    "    df0 = pd.read_excel(file_path, sheet_name=sheet_name)\n",
    "    \n",
    "    # Append the DataFrame to the list\n",
    "    dfs.append(df0)\n",
    "\n",
    "# Concatenate the list of DataFrames into a single DataFrame\n",
    "combined_df = pd.concat(dfs, ignore_index=True)\n",
    "\n",
    "# Print the combined DataFrame\n",
    "#print(combined_df)\n",
    "df2=combined_df"
   ]
  },
  {
   "cell_type": "code",
   "execution_count": 9,
   "id": "6a7b68c6",
   "metadata": {},
   "outputs": [
    {
     "data": {
      "text/html": [
       "<div>\n",
       "<style scoped>\n",
       "    .dataframe tbody tr th:only-of-type {\n",
       "        vertical-align: middle;\n",
       "    }\n",
       "\n",
       "    .dataframe tbody tr th {\n",
       "        vertical-align: top;\n",
       "    }\n",
       "\n",
       "    .dataframe thead th {\n",
       "        text-align: right;\n",
       "    }\n",
       "</style>\n",
       "<table border=\"1\" class=\"dataframe\">\n",
       "  <thead>\n",
       "    <tr style=\"text-align: right;\">\n",
       "      <th></th>\n",
       "      <th>rideable_type</th>\n",
       "      <th>started_at</th>\n",
       "      <th>ended_at</th>\n",
       "      <th>start_station_name</th>\n",
       "      <th>start_station_id</th>\n",
       "      <th>end_station_name</th>\n",
       "      <th>end_station_id</th>\n",
       "      <th>start_lat</th>\n",
       "      <th>start_lng</th>\n",
       "      <th>end_lat</th>\n",
       "      <th>end_lng</th>\n",
       "      <th>member_casual</th>\n",
       "      <th>ride_length</th>\n",
       "      <th>ride_date</th>\n",
       "      <th>ride_year</th>\n",
       "      <th>ride_month</th>\n",
       "      <th>start_time</th>\n",
       "      <th>end_time</th>\n",
       "      <th>day_of_week</th>\n",
       "      <th>season</th>\n",
       "    </tr>\n",
       "  </thead>\n",
       "  <tbody>\n",
       "    <tr>\n",
       "      <th>0</th>\n",
       "      <td>docked_bike</td>\n",
       "      <td>2020-07-01 00:00:00</td>\n",
       "      <td>2020-07-01 02:52:00</td>\n",
       "      <td>Wells St &amp; Concord Ln</td>\n",
       "      <td>289.0</td>\n",
       "      <td>Clark St &amp; Lake St</td>\n",
       "      <td>38.0</td>\n",
       "      <td>41.912133</td>\n",
       "      <td>-87.634656</td>\n",
       "      <td>41.886021</td>\n",
       "      <td>-87.630876</td>\n",
       "      <td>casual</td>\n",
       "      <td>02:51:26</td>\n",
       "      <td>2020-07-01</td>\n",
       "      <td>2020</td>\n",
       "      <td>7</td>\n",
       "      <td>00:00:50</td>\n",
       "      <td>02:52:16</td>\n",
       "      <td>4</td>\n",
       "      <td>Summer</td>\n",
       "    </tr>\n",
       "    <tr>\n",
       "      <th>1</th>\n",
       "      <td>docked_bike</td>\n",
       "      <td>2020-07-01 00:00:00</td>\n",
       "      <td>2020-07-01 00:45:00</td>\n",
       "      <td>Wabash Ave &amp; Wacker Pl</td>\n",
       "      <td>194.0</td>\n",
       "      <td>Wabash Ave &amp; Wacker Pl</td>\n",
       "      <td>194.0</td>\n",
       "      <td>41.886875</td>\n",
       "      <td>-87.626030</td>\n",
       "      <td>41.886875</td>\n",
       "      <td>-87.626030</td>\n",
       "      <td>casual</td>\n",
       "      <td>00:44:15</td>\n",
       "      <td>2020-07-01</td>\n",
       "      <td>2020</td>\n",
       "      <td>7</td>\n",
       "      <td>00:00:49</td>\n",
       "      <td>00:45:04</td>\n",
       "      <td>4</td>\n",
       "      <td>Summer</td>\n",
       "    </tr>\n",
       "    <tr>\n",
       "      <th>2</th>\n",
       "      <td>docked_bike</td>\n",
       "      <td>2020-07-01 00:00:00</td>\n",
       "      <td>2020-07-01 02:44:00</td>\n",
       "      <td>Wells St &amp; Concord Ln</td>\n",
       "      <td>289.0</td>\n",
       "      <td>Clark St &amp; Lake St</td>\n",
       "      <td>38.0</td>\n",
       "      <td>41.912133</td>\n",
       "      <td>-87.634656</td>\n",
       "      <td>41.886021</td>\n",
       "      <td>-87.630876</td>\n",
       "      <td>casual</td>\n",
       "      <td>02:44:43</td>\n",
       "      <td>2020-07-01</td>\n",
       "      <td>2020</td>\n",
       "      <td>7</td>\n",
       "      <td>00:00:15</td>\n",
       "      <td>02:44:58</td>\n",
       "      <td>4</td>\n",
       "      <td>Summer</td>\n",
       "    </tr>\n",
       "    <tr>\n",
       "      <th>3</th>\n",
       "      <td>docked_bike</td>\n",
       "      <td>2020-07-01 00:00:00</td>\n",
       "      <td>2020-07-01 01:28:00</td>\n",
       "      <td>Buckingham Fountain</td>\n",
       "      <td>2.0</td>\n",
       "      <td>Buckingham Fountain</td>\n",
       "      <td>2.0</td>\n",
       "      <td>41.876511</td>\n",
       "      <td>-87.620548</td>\n",
       "      <td>41.876511</td>\n",
       "      <td>-87.620548</td>\n",
       "      <td>casual</td>\n",
       "      <td>01:27:58</td>\n",
       "      <td>2020-07-01</td>\n",
       "      <td>2020</td>\n",
       "      <td>7</td>\n",
       "      <td>00:00:14</td>\n",
       "      <td>01:28:12</td>\n",
       "      <td>4</td>\n",
       "      <td>Summer</td>\n",
       "    </tr>\n",
       "    <tr>\n",
       "      <th>4</th>\n",
       "      <td>docked_bike</td>\n",
       "      <td>2020-07-01 00:01:00</td>\n",
       "      <td>2020-07-01 00:24:00</td>\n",
       "      <td>Clark St &amp; Grace St</td>\n",
       "      <td>165.0</td>\n",
       "      <td>Clark St &amp; Elmdale Ave</td>\n",
       "      <td>457.0</td>\n",
       "      <td>41.950780</td>\n",
       "      <td>-87.659172</td>\n",
       "      <td>41.990518</td>\n",
       "      <td>-87.669834</td>\n",
       "      <td>member</td>\n",
       "      <td>00:22:31</td>\n",
       "      <td>2020-07-01</td>\n",
       "      <td>2020</td>\n",
       "      <td>7</td>\n",
       "      <td>00:01:56</td>\n",
       "      <td>00:24:27</td>\n",
       "      <td>4</td>\n",
       "      <td>Summer</td>\n",
       "    </tr>\n",
       "    <tr>\n",
       "      <th>...</th>\n",
       "      <td>...</td>\n",
       "      <td>...</td>\n",
       "      <td>...</td>\n",
       "      <td>...</td>\n",
       "      <td>...</td>\n",
       "      <td>...</td>\n",
       "      <td>...</td>\n",
       "      <td>...</td>\n",
       "      <td>...</td>\n",
       "      <td>...</td>\n",
       "      <td>...</td>\n",
       "      <td>...</td>\n",
       "      <td>...</td>\n",
       "      <td>...</td>\n",
       "      <td>...</td>\n",
       "      <td>...</td>\n",
       "      <td>...</td>\n",
       "      <td>...</td>\n",
       "      <td>...</td>\n",
       "      <td>...</td>\n",
       "    </tr>\n",
       "    <tr>\n",
       "      <th>1700148</th>\n",
       "      <td>docked_bike</td>\n",
       "      <td>2020-09-30 23:54:00</td>\n",
       "      <td>2020-09-30 23:57:00</td>\n",
       "      <td>Morgan St &amp; Lake St</td>\n",
       "      <td>71.0</td>\n",
       "      <td>Elizabeth (May) St &amp; Fulton St</td>\n",
       "      <td>217.0</td>\n",
       "      <td>41.885483</td>\n",
       "      <td>-87.652304</td>\n",
       "      <td>41.886616</td>\n",
       "      <td>-87.658040</td>\n",
       "      <td>casual</td>\n",
       "      <td>00:03:18</td>\n",
       "      <td>2020-09-30</td>\n",
       "      <td>2020</td>\n",
       "      <td>9</td>\n",
       "      <td>23:54:14</td>\n",
       "      <td>23:57:32</td>\n",
       "      <td>4</td>\n",
       "      <td>Autumn</td>\n",
       "    </tr>\n",
       "    <tr>\n",
       "      <th>1700149</th>\n",
       "      <td>electric_bike</td>\n",
       "      <td>2020-09-30 23:55:00</td>\n",
       "      <td>2020-10-01 00:02:00</td>\n",
       "      <td>Drake Ave &amp; Montrose Ave</td>\n",
       "      <td>479.0</td>\n",
       "      <td>Drake Ave &amp; Montrose Ave</td>\n",
       "      <td>479.0</td>\n",
       "      <td>41.961162</td>\n",
       "      <td>-87.716574</td>\n",
       "      <td>41.961185</td>\n",
       "      <td>-87.716623</td>\n",
       "      <td>member</td>\n",
       "      <td>00:06:58</td>\n",
       "      <td>2020-09-30</td>\n",
       "      <td>2020</td>\n",
       "      <td>9</td>\n",
       "      <td>23:55:24</td>\n",
       "      <td>00:02:22</td>\n",
       "      <td>4</td>\n",
       "      <td>Autumn</td>\n",
       "    </tr>\n",
       "    <tr>\n",
       "      <th>1700150</th>\n",
       "      <td>electric_bike</td>\n",
       "      <td>2020-09-30 23:57:00</td>\n",
       "      <td>2020-10-01 00:32:00</td>\n",
       "      <td>Kedzie Ave &amp; Chicago Ave</td>\n",
       "      <td>373.0</td>\n",
       "      <td>NaN</td>\n",
       "      <td>NaN</td>\n",
       "      <td>41.895445</td>\n",
       "      <td>-87.706151</td>\n",
       "      <td>41.820000</td>\n",
       "      <td>-87.600000</td>\n",
       "      <td>member</td>\n",
       "      <td>00:34:56</td>\n",
       "      <td>2020-09-30</td>\n",
       "      <td>2020</td>\n",
       "      <td>9</td>\n",
       "      <td>23:57:36</td>\n",
       "      <td>00:32:32</td>\n",
       "      <td>4</td>\n",
       "      <td>Autumn</td>\n",
       "    </tr>\n",
       "    <tr>\n",
       "      <th>1700151</th>\n",
       "      <td>electric_bike</td>\n",
       "      <td>2020-09-30 23:57:00</td>\n",
       "      <td>2020-10-01 00:33:00</td>\n",
       "      <td>Christiana Ave &amp; Lawrence Ave</td>\n",
       "      <td>474.0</td>\n",
       "      <td>Christiana Ave &amp; Lawrence Ave</td>\n",
       "      <td>474.0</td>\n",
       "      <td>41.968336</td>\n",
       "      <td>-87.711919</td>\n",
       "      <td>41.968345</td>\n",
       "      <td>-87.711931</td>\n",
       "      <td>member</td>\n",
       "      <td>00:35:57</td>\n",
       "      <td>2020-09-30</td>\n",
       "      <td>2020</td>\n",
       "      <td>9</td>\n",
       "      <td>23:57:10</td>\n",
       "      <td>00:33:07</td>\n",
       "      <td>4</td>\n",
       "      <td>Autumn</td>\n",
       "    </tr>\n",
       "    <tr>\n",
       "      <th>1700152</th>\n",
       "      <td>electric_bike</td>\n",
       "      <td>2020-09-30 23:58:00</td>\n",
       "      <td>2020-10-01 00:08:00</td>\n",
       "      <td>LaSalle St &amp; Washington St</td>\n",
       "      <td>98.0</td>\n",
       "      <td>Wabash Ave &amp; Cermak Rd</td>\n",
       "      <td>42.0</td>\n",
       "      <td>41.882718</td>\n",
       "      <td>-87.632684</td>\n",
       "      <td>41.852681</td>\n",
       "      <td>-87.626451</td>\n",
       "      <td>casual</td>\n",
       "      <td>00:09:26</td>\n",
       "      <td>2020-09-30</td>\n",
       "      <td>2020</td>\n",
       "      <td>9</td>\n",
       "      <td>23:58:39</td>\n",
       "      <td>00:08:05</td>\n",
       "      <td>4</td>\n",
       "      <td>Autumn</td>\n",
       "    </tr>\n",
       "  </tbody>\n",
       "</table>\n",
       "<p>1700153 rows × 20 columns</p>\n",
       "</div>"
      ],
      "text/plain": [
       "         rideable_type          started_at            ended_at  \\\n",
       "0          docked_bike 2020-07-01 00:00:00 2020-07-01 02:52:00   \n",
       "1          docked_bike 2020-07-01 00:00:00 2020-07-01 00:45:00   \n",
       "2          docked_bike 2020-07-01 00:00:00 2020-07-01 02:44:00   \n",
       "3          docked_bike 2020-07-01 00:00:00 2020-07-01 01:28:00   \n",
       "4          docked_bike 2020-07-01 00:01:00 2020-07-01 00:24:00   \n",
       "...                ...                 ...                 ...   \n",
       "1700148    docked_bike 2020-09-30 23:54:00 2020-09-30 23:57:00   \n",
       "1700149  electric_bike 2020-09-30 23:55:00 2020-10-01 00:02:00   \n",
       "1700150  electric_bike 2020-09-30 23:57:00 2020-10-01 00:32:00   \n",
       "1700151  electric_bike 2020-09-30 23:57:00 2020-10-01 00:33:00   \n",
       "1700152  electric_bike 2020-09-30 23:58:00 2020-10-01 00:08:00   \n",
       "\n",
       "                    start_station_name  start_station_id  \\\n",
       "0                Wells St & Concord Ln             289.0   \n",
       "1               Wabash Ave & Wacker Pl             194.0   \n",
       "2                Wells St & Concord Ln             289.0   \n",
       "3                  Buckingham Fountain               2.0   \n",
       "4                  Clark St & Grace St             165.0   \n",
       "...                                ...               ...   \n",
       "1700148            Morgan St & Lake St              71.0   \n",
       "1700149       Drake Ave & Montrose Ave             479.0   \n",
       "1700150       Kedzie Ave & Chicago Ave             373.0   \n",
       "1700151  Christiana Ave & Lawrence Ave             474.0   \n",
       "1700152     LaSalle St & Washington St              98.0   \n",
       "\n",
       "                       end_station_name  end_station_id  start_lat  start_lng  \\\n",
       "0                    Clark St & Lake St            38.0  41.912133 -87.634656   \n",
       "1                Wabash Ave & Wacker Pl           194.0  41.886875 -87.626030   \n",
       "2                    Clark St & Lake St            38.0  41.912133 -87.634656   \n",
       "3                   Buckingham Fountain             2.0  41.876511 -87.620548   \n",
       "4                Clark St & Elmdale Ave           457.0  41.950780 -87.659172   \n",
       "...                                 ...             ...        ...        ...   \n",
       "1700148  Elizabeth (May) St & Fulton St           217.0  41.885483 -87.652304   \n",
       "1700149        Drake Ave & Montrose Ave           479.0  41.961162 -87.716574   \n",
       "1700150                             NaN             NaN  41.895445 -87.706151   \n",
       "1700151   Christiana Ave & Lawrence Ave           474.0  41.968336 -87.711919   \n",
       "1700152          Wabash Ave & Cermak Rd            42.0  41.882718 -87.632684   \n",
       "\n",
       "           end_lat    end_lng member_casual ride_length  ride_date  ride_year  \\\n",
       "0        41.886021 -87.630876        casual    02:51:26 2020-07-01       2020   \n",
       "1        41.886875 -87.626030        casual    00:44:15 2020-07-01       2020   \n",
       "2        41.886021 -87.630876        casual    02:44:43 2020-07-01       2020   \n",
       "3        41.876511 -87.620548        casual    01:27:58 2020-07-01       2020   \n",
       "4        41.990518 -87.669834        member    00:22:31 2020-07-01       2020   \n",
       "...            ...        ...           ...         ...        ...        ...   \n",
       "1700148  41.886616 -87.658040        casual    00:03:18 2020-09-30       2020   \n",
       "1700149  41.961185 -87.716623        member    00:06:58 2020-09-30       2020   \n",
       "1700150  41.820000 -87.600000        member    00:34:56 2020-09-30       2020   \n",
       "1700151  41.968345 -87.711931        member    00:35:57 2020-09-30       2020   \n",
       "1700152  41.852681 -87.626451        casual    00:09:26 2020-09-30       2020   \n",
       "\n",
       "         ride_month start_time  end_time  day_of_week  season  \n",
       "0                 7   00:00:50  02:52:16            4  Summer  \n",
       "1                 7   00:00:49  00:45:04            4  Summer  \n",
       "2                 7   00:00:15  02:44:58            4  Summer  \n",
       "3                 7   00:00:14  01:28:12            4  Summer  \n",
       "4                 7   00:01:56  00:24:27            4  Summer  \n",
       "...             ...        ...       ...          ...     ...  \n",
       "1700148           9   23:54:14  23:57:32            4  Autumn  \n",
       "1700149           9   23:55:24  00:02:22            4  Autumn  \n",
       "1700150           9   23:57:36  00:32:32            4  Autumn  \n",
       "1700151           9   23:57:10  00:33:07            4  Autumn  \n",
       "1700152           9   23:58:39  00:08:05            4  Autumn  \n",
       "\n",
       "[1700153 rows x 20 columns]"
      ]
     },
     "execution_count": 9,
     "metadata": {},
     "output_type": "execute_result"
    }
   ],
   "source": [
    "df2"
   ]
  },
  {
   "cell_type": "code",
   "execution_count": 10,
   "id": "44cbdb80",
   "metadata": {},
   "outputs": [],
   "source": [
    "# Read Excel file into a dataframe\n",
    "df3 = pd.read_excel(\"C:\\Case Study 1\\Data\\cyclistic_data_q3.xlsx\")"
   ]
  },
  {
   "cell_type": "code",
   "execution_count": 11,
   "id": "c3aa6498",
   "metadata": {},
   "outputs": [
    {
     "data": {
      "text/html": [
       "<div>\n",
       "<style scoped>\n",
       "    .dataframe tbody tr th:only-of-type {\n",
       "        vertical-align: middle;\n",
       "    }\n",
       "\n",
       "    .dataframe tbody tr th {\n",
       "        vertical-align: top;\n",
       "    }\n",
       "\n",
       "    .dataframe thead th {\n",
       "        text-align: right;\n",
       "    }\n",
       "</style>\n",
       "<table border=\"1\" class=\"dataframe\">\n",
       "  <thead>\n",
       "    <tr style=\"text-align: right;\">\n",
       "      <th></th>\n",
       "      <th>rideable_type</th>\n",
       "      <th>started_at</th>\n",
       "      <th>ended_at</th>\n",
       "      <th>start_station_name</th>\n",
       "      <th>start_station_id</th>\n",
       "      <th>end_station_name</th>\n",
       "      <th>end_station_id</th>\n",
       "      <th>start_lat</th>\n",
       "      <th>start_lng</th>\n",
       "      <th>end_lat</th>\n",
       "      <th>end_lng</th>\n",
       "      <th>member_casual</th>\n",
       "      <th>ride_length</th>\n",
       "      <th>ride_date</th>\n",
       "      <th>ride_year</th>\n",
       "      <th>ride_month</th>\n",
       "      <th>start_time</th>\n",
       "      <th>end_time</th>\n",
       "      <th>day_of_week</th>\n",
       "      <th>season</th>\n",
       "    </tr>\n",
       "  </thead>\n",
       "  <tbody>\n",
       "    <tr>\n",
       "      <th>0</th>\n",
       "      <td>electric_bike</td>\n",
       "      <td>2020-10-01 00:00:00</td>\n",
       "      <td>2020-10-01 00:12:00</td>\n",
       "      <td>Clark St &amp; Wellington Ave</td>\n",
       "      <td>156</td>\n",
       "      <td>Clark St &amp; Winnemac Ave</td>\n",
       "      <td>325</td>\n",
       "      <td>41.936500</td>\n",
       "      <td>-87.647550</td>\n",
       "      <td>41.973255</td>\n",
       "      <td>-87.669709</td>\n",
       "      <td>casual</td>\n",
       "      <td>00:11:47</td>\n",
       "      <td>2020-10-01</td>\n",
       "      <td>2020</td>\n",
       "      <td>10</td>\n",
       "      <td>00:00:48</td>\n",
       "      <td>00:12:35</td>\n",
       "      <td>5</td>\n",
       "      <td>Autumn</td>\n",
       "    </tr>\n",
       "    <tr>\n",
       "      <th>1</th>\n",
       "      <td>electric_bike</td>\n",
       "      <td>2020-10-01 00:00:00</td>\n",
       "      <td>2020-10-01 00:06:00</td>\n",
       "      <td>Stave St &amp; Armitage Ave</td>\n",
       "      <td>185</td>\n",
       "      <td>NaN</td>\n",
       "      <td>NaN</td>\n",
       "      <td>41.917708</td>\n",
       "      <td>-87.691402</td>\n",
       "      <td>41.920000</td>\n",
       "      <td>-87.710000</td>\n",
       "      <td>casual</td>\n",
       "      <td>00:05:46</td>\n",
       "      <td>2020-10-01</td>\n",
       "      <td>2020</td>\n",
       "      <td>10</td>\n",
       "      <td>00:00:18</td>\n",
       "      <td>00:06:04</td>\n",
       "      <td>5</td>\n",
       "      <td>Autumn</td>\n",
       "    </tr>\n",
       "    <tr>\n",
       "      <th>2</th>\n",
       "      <td>electric_bike</td>\n",
       "      <td>2020-10-01 00:00:00</td>\n",
       "      <td>2020-10-01 00:10:00</td>\n",
       "      <td>Wells St &amp; Hubbard St</td>\n",
       "      <td>212</td>\n",
       "      <td>NaN</td>\n",
       "      <td>NaN</td>\n",
       "      <td>41.890028</td>\n",
       "      <td>-87.634203</td>\n",
       "      <td>41.920000</td>\n",
       "      <td>-87.650000</td>\n",
       "      <td>member</td>\n",
       "      <td>00:10:27</td>\n",
       "      <td>2020-10-01</td>\n",
       "      <td>2020</td>\n",
       "      <td>10</td>\n",
       "      <td>00:00:16</td>\n",
       "      <td>00:10:43</td>\n",
       "      <td>5</td>\n",
       "      <td>Autumn</td>\n",
       "    </tr>\n",
       "    <tr>\n",
       "      <th>3</th>\n",
       "      <td>electric_bike</td>\n",
       "      <td>2020-10-01 00:00:00</td>\n",
       "      <td>2020-10-01 00:08:00</td>\n",
       "      <td>Broadway &amp; Cornelia Ave</td>\n",
       "      <td>303</td>\n",
       "      <td>Southport Ave &amp; Belmont Ave</td>\n",
       "      <td>154</td>\n",
       "      <td>41.945530</td>\n",
       "      <td>-87.646452</td>\n",
       "      <td>41.939108</td>\n",
       "      <td>-87.663849</td>\n",
       "      <td>member</td>\n",
       "      <td>00:07:25</td>\n",
       "      <td>2020-10-01</td>\n",
       "      <td>2020</td>\n",
       "      <td>10</td>\n",
       "      <td>00:00:46</td>\n",
       "      <td>00:08:11</td>\n",
       "      <td>5</td>\n",
       "      <td>Autumn</td>\n",
       "    </tr>\n",
       "    <tr>\n",
       "      <th>4</th>\n",
       "      <td>docked_bike</td>\n",
       "      <td>2020-10-01 00:00:00</td>\n",
       "      <td>2020-10-01 00:37:00</td>\n",
       "      <td>Leavitt St &amp; Archer Ave</td>\n",
       "      <td>9</td>\n",
       "      <td>Leavitt St &amp; Archer Ave</td>\n",
       "      <td>9</td>\n",
       "      <td>41.828792</td>\n",
       "      <td>-87.680604</td>\n",
       "      <td>41.828792</td>\n",
       "      <td>-87.680604</td>\n",
       "      <td>casual</td>\n",
       "      <td>00:37:26</td>\n",
       "      <td>2020-10-01</td>\n",
       "      <td>2020</td>\n",
       "      <td>10</td>\n",
       "      <td>00:00:30</td>\n",
       "      <td>00:37:56</td>\n",
       "      <td>5</td>\n",
       "      <td>Autumn</td>\n",
       "    </tr>\n",
       "    <tr>\n",
       "      <th>...</th>\n",
       "      <td>...</td>\n",
       "      <td>...</td>\n",
       "      <td>...</td>\n",
       "      <td>...</td>\n",
       "      <td>...</td>\n",
       "      <td>...</td>\n",
       "      <td>...</td>\n",
       "      <td>...</td>\n",
       "      <td>...</td>\n",
       "      <td>...</td>\n",
       "      <td>...</td>\n",
       "      <td>...</td>\n",
       "      <td>...</td>\n",
       "      <td>...</td>\n",
       "      <td>...</td>\n",
       "      <td>...</td>\n",
       "      <td>...</td>\n",
       "      <td>...</td>\n",
       "      <td>...</td>\n",
       "      <td>...</td>\n",
       "    </tr>\n",
       "    <tr>\n",
       "      <th>776727</th>\n",
       "      <td>docked_bike</td>\n",
       "      <td>2020-12-31 23:54:00</td>\n",
       "      <td>2020-12-31 23:54:00</td>\n",
       "      <td>Michigan Ave &amp; Jackson Blvd</td>\n",
       "      <td>TA1309000002</td>\n",
       "      <td>Michigan Ave &amp; Jackson Blvd</td>\n",
       "      <td>TA1309000002</td>\n",
       "      <td>41.877850</td>\n",
       "      <td>-87.624080</td>\n",
       "      <td>41.877850</td>\n",
       "      <td>-87.624080</td>\n",
       "      <td>casual</td>\n",
       "      <td>00:00:04</td>\n",
       "      <td>2020-12-31</td>\n",
       "      <td>2020</td>\n",
       "      <td>12</td>\n",
       "      <td>23:54:39</td>\n",
       "      <td>23:54:43</td>\n",
       "      <td>5</td>\n",
       "      <td>Winter</td>\n",
       "    </tr>\n",
       "    <tr>\n",
       "      <th>776728</th>\n",
       "      <td>classic_bike</td>\n",
       "      <td>2020-12-31 23:55:00</td>\n",
       "      <td>2021-01-01 00:17:00</td>\n",
       "      <td>Shore Dr &amp; 55th St</td>\n",
       "      <td>TA1308000009</td>\n",
       "      <td>Shore Dr &amp; 55th St</td>\n",
       "      <td>TA1308000009</td>\n",
       "      <td>41.795212</td>\n",
       "      <td>-87.580715</td>\n",
       "      <td>41.795212</td>\n",
       "      <td>-87.580715</td>\n",
       "      <td>member</td>\n",
       "      <td>00:22:08</td>\n",
       "      <td>2020-12-31</td>\n",
       "      <td>2020</td>\n",
       "      <td>12</td>\n",
       "      <td>23:55:51</td>\n",
       "      <td>00:17:59</td>\n",
       "      <td>5</td>\n",
       "      <td>Winter</td>\n",
       "    </tr>\n",
       "    <tr>\n",
       "      <th>776729</th>\n",
       "      <td>classic_bike</td>\n",
       "      <td>2020-12-31 23:56:00</td>\n",
       "      <td>2021-01-01 00:18:00</td>\n",
       "      <td>Shore Dr &amp; 55th St</td>\n",
       "      <td>TA1308000009</td>\n",
       "      <td>Shore Dr &amp; 55th St</td>\n",
       "      <td>TA1308000009</td>\n",
       "      <td>41.795212</td>\n",
       "      <td>-87.580715</td>\n",
       "      <td>41.795212</td>\n",
       "      <td>-87.580715</td>\n",
       "      <td>member</td>\n",
       "      <td>00:22:04</td>\n",
       "      <td>2020-12-31</td>\n",
       "      <td>2020</td>\n",
       "      <td>12</td>\n",
       "      <td>23:56:14</td>\n",
       "      <td>00:18:18</td>\n",
       "      <td>5</td>\n",
       "      <td>Winter</td>\n",
       "    </tr>\n",
       "    <tr>\n",
       "      <th>776730</th>\n",
       "      <td>classic_bike</td>\n",
       "      <td>2020-12-31 23:58:00</td>\n",
       "      <td>2021-01-01 00:06:00</td>\n",
       "      <td>Clark St &amp; Wrightwood Ave</td>\n",
       "      <td>TA1305000014</td>\n",
       "      <td>Lakeview Ave &amp; Fullerton Pkwy</td>\n",
       "      <td>TA1309000019</td>\n",
       "      <td>41.929546</td>\n",
       "      <td>-87.643118</td>\n",
       "      <td>41.925858</td>\n",
       "      <td>-87.638973</td>\n",
       "      <td>member</td>\n",
       "      <td>00:08:12</td>\n",
       "      <td>2020-12-31</td>\n",
       "      <td>2020</td>\n",
       "      <td>12</td>\n",
       "      <td>23:58:21</td>\n",
       "      <td>00:06:33</td>\n",
       "      <td>5</td>\n",
       "      <td>Winter</td>\n",
       "    </tr>\n",
       "    <tr>\n",
       "      <th>776731</th>\n",
       "      <td>classic_bike</td>\n",
       "      <td>2020-12-31 23:59:00</td>\n",
       "      <td>2021-01-01 00:03:00</td>\n",
       "      <td>State St &amp; 33rd St</td>\n",
       "      <td>13216</td>\n",
       "      <td>Calumet Ave &amp; 33rd St</td>\n",
       "      <td>13217</td>\n",
       "      <td>41.834734</td>\n",
       "      <td>-87.625813</td>\n",
       "      <td>41.834900</td>\n",
       "      <td>-87.617930</td>\n",
       "      <td>member</td>\n",
       "      <td>00:03:33</td>\n",
       "      <td>2020-12-31</td>\n",
       "      <td>2020</td>\n",
       "      <td>12</td>\n",
       "      <td>23:59:59</td>\n",
       "      <td>00:03:32</td>\n",
       "      <td>5</td>\n",
       "      <td>Winter</td>\n",
       "    </tr>\n",
       "  </tbody>\n",
       "</table>\n",
       "<p>776732 rows × 20 columns</p>\n",
       "</div>"
      ],
      "text/plain": [
       "        rideable_type          started_at            ended_at  \\\n",
       "0       electric_bike 2020-10-01 00:00:00 2020-10-01 00:12:00   \n",
       "1       electric_bike 2020-10-01 00:00:00 2020-10-01 00:06:00   \n",
       "2       electric_bike 2020-10-01 00:00:00 2020-10-01 00:10:00   \n",
       "3       electric_bike 2020-10-01 00:00:00 2020-10-01 00:08:00   \n",
       "4         docked_bike 2020-10-01 00:00:00 2020-10-01 00:37:00   \n",
       "...               ...                 ...                 ...   \n",
       "776727    docked_bike 2020-12-31 23:54:00 2020-12-31 23:54:00   \n",
       "776728   classic_bike 2020-12-31 23:55:00 2021-01-01 00:17:00   \n",
       "776729   classic_bike 2020-12-31 23:56:00 2021-01-01 00:18:00   \n",
       "776730   classic_bike 2020-12-31 23:58:00 2021-01-01 00:06:00   \n",
       "776731   classic_bike 2020-12-31 23:59:00 2021-01-01 00:03:00   \n",
       "\n",
       "                 start_station_name start_station_id  \\\n",
       "0         Clark St & Wellington Ave              156   \n",
       "1           Stave St & Armitage Ave              185   \n",
       "2             Wells St & Hubbard St              212   \n",
       "3           Broadway & Cornelia Ave              303   \n",
       "4           Leavitt St & Archer Ave                9   \n",
       "...                             ...              ...   \n",
       "776727  Michigan Ave & Jackson Blvd     TA1309000002   \n",
       "776728           Shore Dr & 55th St     TA1308000009   \n",
       "776729           Shore Dr & 55th St     TA1308000009   \n",
       "776730    Clark St & Wrightwood Ave     TA1305000014   \n",
       "776731           State St & 33rd St            13216   \n",
       "\n",
       "                     end_station_name end_station_id  start_lat  start_lng  \\\n",
       "0             Clark St & Winnemac Ave            325  41.936500 -87.647550   \n",
       "1                                 NaN            NaN  41.917708 -87.691402   \n",
       "2                                 NaN            NaN  41.890028 -87.634203   \n",
       "3         Southport Ave & Belmont Ave            154  41.945530 -87.646452   \n",
       "4             Leavitt St & Archer Ave              9  41.828792 -87.680604   \n",
       "...                               ...            ...        ...        ...   \n",
       "776727    Michigan Ave & Jackson Blvd   TA1309000002  41.877850 -87.624080   \n",
       "776728             Shore Dr & 55th St   TA1308000009  41.795212 -87.580715   \n",
       "776729             Shore Dr & 55th St   TA1308000009  41.795212 -87.580715   \n",
       "776730  Lakeview Ave & Fullerton Pkwy   TA1309000019  41.929546 -87.643118   \n",
       "776731          Calumet Ave & 33rd St          13217  41.834734 -87.625813   \n",
       "\n",
       "          end_lat    end_lng member_casual ride_length  ride_date  ride_year  \\\n",
       "0       41.973255 -87.669709        casual    00:11:47 2020-10-01       2020   \n",
       "1       41.920000 -87.710000        casual    00:05:46 2020-10-01       2020   \n",
       "2       41.920000 -87.650000        member    00:10:27 2020-10-01       2020   \n",
       "3       41.939108 -87.663849        member    00:07:25 2020-10-01       2020   \n",
       "4       41.828792 -87.680604        casual    00:37:26 2020-10-01       2020   \n",
       "...           ...        ...           ...         ...        ...        ...   \n",
       "776727  41.877850 -87.624080        casual    00:00:04 2020-12-31       2020   \n",
       "776728  41.795212 -87.580715        member    00:22:08 2020-12-31       2020   \n",
       "776729  41.795212 -87.580715        member    00:22:04 2020-12-31       2020   \n",
       "776730  41.925858 -87.638973        member    00:08:12 2020-12-31       2020   \n",
       "776731  41.834900 -87.617930        member    00:03:33 2020-12-31       2020   \n",
       "\n",
       "        ride_month start_time  end_time  day_of_week  season  \n",
       "0               10   00:00:48  00:12:35            5  Autumn  \n",
       "1               10   00:00:18  00:06:04            5  Autumn  \n",
       "2               10   00:00:16  00:10:43            5  Autumn  \n",
       "3               10   00:00:46  00:08:11            5  Autumn  \n",
       "4               10   00:00:30  00:37:56            5  Autumn  \n",
       "...            ...        ...       ...          ...     ...  \n",
       "776727          12   23:54:39  23:54:43            5  Winter  \n",
       "776728          12   23:55:51  00:17:59            5  Winter  \n",
       "776729          12   23:56:14  00:18:18            5  Winter  \n",
       "776730          12   23:58:21  00:06:33            5  Winter  \n",
       "776731          12   23:59:59  00:03:32            5  Winter  \n",
       "\n",
       "[776732 rows x 20 columns]"
      ]
     },
     "execution_count": 11,
     "metadata": {},
     "output_type": "execute_result"
    }
   ],
   "source": [
    "df3"
   ]
  },
  {
   "cell_type": "code",
   "execution_count": null,
   "id": "14b442af",
   "metadata": {},
   "outputs": [],
   "source": []
  },
  {
   "cell_type": "code",
   "execution_count": 12,
   "id": "6a94ec6b",
   "metadata": {},
   "outputs": [],
   "source": [
    "# Read Excel file into a dataframe\n",
    "df4 = pd.read_excel(\"C:\\Case Study 1\\Data\\cyclistic_data_q4.xlsx\")"
   ]
  },
  {
   "cell_type": "code",
   "execution_count": 13,
   "id": "e1203eda",
   "metadata": {
    "scrolled": true
   },
   "outputs": [
    {
     "data": {
      "text/html": [
       "<div>\n",
       "<style scoped>\n",
       "    .dataframe tbody tr th:only-of-type {\n",
       "        vertical-align: middle;\n",
       "    }\n",
       "\n",
       "    .dataframe tbody tr th {\n",
       "        vertical-align: top;\n",
       "    }\n",
       "\n",
       "    .dataframe thead th {\n",
       "        text-align: right;\n",
       "    }\n",
       "</style>\n",
       "<table border=\"1\" class=\"dataframe\">\n",
       "  <thead>\n",
       "    <tr style=\"text-align: right;\">\n",
       "      <th></th>\n",
       "      <th>rideable_type</th>\n",
       "      <th>started_at</th>\n",
       "      <th>ended_at</th>\n",
       "      <th>start_station_name</th>\n",
       "      <th>start_station_id</th>\n",
       "      <th>end_station_name</th>\n",
       "      <th>end_station_id</th>\n",
       "      <th>start_lat</th>\n",
       "      <th>start_lng</th>\n",
       "      <th>end_lat</th>\n",
       "      <th>end_lng</th>\n",
       "      <th>member_casual</th>\n",
       "      <th>ride_length</th>\n",
       "      <th>ride_date</th>\n",
       "      <th>ride_year</th>\n",
       "      <th>ride_month</th>\n",
       "      <th>start_time</th>\n",
       "      <th>end_time</th>\n",
       "      <th>day_of_week</th>\n",
       "      <th>season</th>\n",
       "    </tr>\n",
       "  </thead>\n",
       "  <tbody>\n",
       "    <tr>\n",
       "      <th>0</th>\n",
       "      <td>electric_bike</td>\n",
       "      <td>2021-01-01 00:02:00</td>\n",
       "      <td>2021-01-01 00:12:00</td>\n",
       "      <td>NaN</td>\n",
       "      <td>NaN</td>\n",
       "      <td>NaN</td>\n",
       "      <td>NaN</td>\n",
       "      <td>41.980000</td>\n",
       "      <td>-87.650000</td>\n",
       "      <td>41.980000</td>\n",
       "      <td>-87.660000</td>\n",
       "      <td>member</td>\n",
       "      <td>00:10:34</td>\n",
       "      <td>2021-01-01</td>\n",
       "      <td>2021</td>\n",
       "      <td>1</td>\n",
       "      <td>00:02:05</td>\n",
       "      <td>00:12:39</td>\n",
       "      <td>6</td>\n",
       "      <td>Winter</td>\n",
       "    </tr>\n",
       "    <tr>\n",
       "      <th>1</th>\n",
       "      <td>classic_bike</td>\n",
       "      <td>2021-01-01 00:02:00</td>\n",
       "      <td>2021-01-01 00:08:00</td>\n",
       "      <td>State St &amp; 33rd St</td>\n",
       "      <td>13216</td>\n",
       "      <td>MLK Jr Dr &amp; 29th St</td>\n",
       "      <td>TA1307000139</td>\n",
       "      <td>41.834734</td>\n",
       "      <td>-87.625813</td>\n",
       "      <td>41.842052</td>\n",
       "      <td>-87.617000</td>\n",
       "      <td>member</td>\n",
       "      <td>00:06:15</td>\n",
       "      <td>2021-01-01</td>\n",
       "      <td>2021</td>\n",
       "      <td>1</td>\n",
       "      <td>00:02:24</td>\n",
       "      <td>00:08:39</td>\n",
       "      <td>6</td>\n",
       "      <td>Winter</td>\n",
       "    </tr>\n",
       "    <tr>\n",
       "      <th>2</th>\n",
       "      <td>classic_bike</td>\n",
       "      <td>2021-01-01 00:06:00</td>\n",
       "      <td>2021-01-01 00:26:00</td>\n",
       "      <td>Lakeview Ave &amp; Fullerton Pkwy</td>\n",
       "      <td>TA1309000019</td>\n",
       "      <td>Ritchie Ct &amp; Banks St</td>\n",
       "      <td>KA1504000134</td>\n",
       "      <td>41.925858</td>\n",
       "      <td>-87.638973</td>\n",
       "      <td>41.906866</td>\n",
       "      <td>-87.626217</td>\n",
       "      <td>member</td>\n",
       "      <td>00:19:41</td>\n",
       "      <td>2021-01-01</td>\n",
       "      <td>2021</td>\n",
       "      <td>1</td>\n",
       "      <td>00:06:55</td>\n",
       "      <td>00:26:36</td>\n",
       "      <td>6</td>\n",
       "      <td>Winter</td>\n",
       "    </tr>\n",
       "    <tr>\n",
       "      <th>3</th>\n",
       "      <td>classic_bike</td>\n",
       "      <td>2021-01-01 00:12:00</td>\n",
       "      <td>2021-01-01 00:12:00</td>\n",
       "      <td>Montrose Harbor</td>\n",
       "      <td>TA1308000012</td>\n",
       "      <td>Montrose Harbor</td>\n",
       "      <td>TA1308000012</td>\n",
       "      <td>41.963982</td>\n",
       "      <td>-87.638181</td>\n",
       "      <td>41.963982</td>\n",
       "      <td>-87.638181</td>\n",
       "      <td>member</td>\n",
       "      <td>00:00:12</td>\n",
       "      <td>2021-01-01</td>\n",
       "      <td>2021</td>\n",
       "      <td>1</td>\n",
       "      <td>00:12:21</td>\n",
       "      <td>00:12:33</td>\n",
       "      <td>6</td>\n",
       "      <td>Winter</td>\n",
       "    </tr>\n",
       "    <tr>\n",
       "      <th>4</th>\n",
       "      <td>classic_bike</td>\n",
       "      <td>2021-01-01 00:12:00</td>\n",
       "      <td>2021-01-01 00:12:00</td>\n",
       "      <td>Montrose Harbor</td>\n",
       "      <td>TA1308000012</td>\n",
       "      <td>Montrose Harbor</td>\n",
       "      <td>TA1308000012</td>\n",
       "      <td>41.963982</td>\n",
       "      <td>-87.638181</td>\n",
       "      <td>41.963982</td>\n",
       "      <td>-87.638181</td>\n",
       "      <td>casual</td>\n",
       "      <td>00:00:03</td>\n",
       "      <td>2021-01-01</td>\n",
       "      <td>2021</td>\n",
       "      <td>1</td>\n",
       "      <td>00:12:27</td>\n",
       "      <td>00:12:30</td>\n",
       "      <td>6</td>\n",
       "      <td>Winter</td>\n",
       "    </tr>\n",
       "    <tr>\n",
       "      <th>...</th>\n",
       "      <td>...</td>\n",
       "      <td>...</td>\n",
       "      <td>...</td>\n",
       "      <td>...</td>\n",
       "      <td>...</td>\n",
       "      <td>...</td>\n",
       "      <td>...</td>\n",
       "      <td>...</td>\n",
       "      <td>...</td>\n",
       "      <td>...</td>\n",
       "      <td>...</td>\n",
       "      <td>...</td>\n",
       "      <td>...</td>\n",
       "      <td>...</td>\n",
       "      <td>...</td>\n",
       "      <td>...</td>\n",
       "      <td>...</td>\n",
       "      <td>...</td>\n",
       "      <td>...</td>\n",
       "      <td>...</td>\n",
       "    </tr>\n",
       "    <tr>\n",
       "      <th>374943</th>\n",
       "      <td>classic_bike</td>\n",
       "      <td>2021-03-31 23:56:00</td>\n",
       "      <td>2021-04-01 00:10:00</td>\n",
       "      <td>Michigan Ave &amp; 14th St</td>\n",
       "      <td>TA1307000124</td>\n",
       "      <td>Racine Ave &amp; 18th St</td>\n",
       "      <td>13164</td>\n",
       "      <td>41.864059</td>\n",
       "      <td>-87.623727</td>\n",
       "      <td>41.858166</td>\n",
       "      <td>-87.656495</td>\n",
       "      <td>member</td>\n",
       "      <td>00:13:45</td>\n",
       "      <td>2021-03-31</td>\n",
       "      <td>2021</td>\n",
       "      <td>3</td>\n",
       "      <td>23:56:37</td>\n",
       "      <td>00:10:22</td>\n",
       "      <td>4</td>\n",
       "      <td>Spring</td>\n",
       "    </tr>\n",
       "    <tr>\n",
       "      <th>374944</th>\n",
       "      <td>electric_bike</td>\n",
       "      <td>2021-03-31 23:57:00</td>\n",
       "      <td>2021-04-01 00:21:00</td>\n",
       "      <td>Clinton St &amp; Roosevelt Rd</td>\n",
       "      <td>WL-008</td>\n",
       "      <td>Damen Ave &amp; Cortland St</td>\n",
       "      <td>13133</td>\n",
       "      <td>41.867087</td>\n",
       "      <td>-87.641014</td>\n",
       "      <td>41.915945</td>\n",
       "      <td>-87.677218</td>\n",
       "      <td>member</td>\n",
       "      <td>00:23:12</td>\n",
       "      <td>2021-03-31</td>\n",
       "      <td>2021</td>\n",
       "      <td>3</td>\n",
       "      <td>23:57:50</td>\n",
       "      <td>00:21:02</td>\n",
       "      <td>4</td>\n",
       "      <td>Spring</td>\n",
       "    </tr>\n",
       "    <tr>\n",
       "      <th>374945</th>\n",
       "      <td>classic_bike</td>\n",
       "      <td>2021-03-31 23:58:00</td>\n",
       "      <td>2021-04-01 00:35:00</td>\n",
       "      <td>Dearborn St &amp; Erie St</td>\n",
       "      <td>13045</td>\n",
       "      <td>Clarendon Ave &amp; Junior Ter</td>\n",
       "      <td>13389</td>\n",
       "      <td>41.893992</td>\n",
       "      <td>-87.629318</td>\n",
       "      <td>41.961004</td>\n",
       "      <td>-87.649603</td>\n",
       "      <td>member</td>\n",
       "      <td>00:37:27</td>\n",
       "      <td>2021-03-31</td>\n",
       "      <td>2021</td>\n",
       "      <td>3</td>\n",
       "      <td>23:58:00</td>\n",
       "      <td>00:35:27</td>\n",
       "      <td>4</td>\n",
       "      <td>Spring</td>\n",
       "    </tr>\n",
       "    <tr>\n",
       "      <th>374946</th>\n",
       "      <td>classic_bike</td>\n",
       "      <td>2021-03-31 23:59:00</td>\n",
       "      <td>2021-04-01 00:11:00</td>\n",
       "      <td>Fairbanks Ct &amp; Grand Ave</td>\n",
       "      <td>TA1305000003</td>\n",
       "      <td>Clark St &amp; North Ave</td>\n",
       "      <td>13128</td>\n",
       "      <td>41.891847</td>\n",
       "      <td>-87.620580</td>\n",
       "      <td>41.911974</td>\n",
       "      <td>-87.631942</td>\n",
       "      <td>member</td>\n",
       "      <td>00:12:25</td>\n",
       "      <td>2021-03-31</td>\n",
       "      <td>2021</td>\n",
       "      <td>3</td>\n",
       "      <td>23:59:08</td>\n",
       "      <td>00:11:33</td>\n",
       "      <td>4</td>\n",
       "      <td>Spring</td>\n",
       "    </tr>\n",
       "    <tr>\n",
       "      <th>374947</th>\n",
       "      <td>classic_bike</td>\n",
       "      <td>2021-03-31 23:59:00</td>\n",
       "      <td>2021-04-01 00:07:00</td>\n",
       "      <td>Clark St &amp; Leland Ave</td>\n",
       "      <td>TA1309000014</td>\n",
       "      <td>Clark St &amp; Leland Ave</td>\n",
       "      <td>TA1309000014</td>\n",
       "      <td>41.967096</td>\n",
       "      <td>-87.667429</td>\n",
       "      <td>41.967096</td>\n",
       "      <td>-87.667429</td>\n",
       "      <td>member</td>\n",
       "      <td>00:07:59</td>\n",
       "      <td>2021-03-31</td>\n",
       "      <td>2021</td>\n",
       "      <td>3</td>\n",
       "      <td>23:59:05</td>\n",
       "      <td>00:07:04</td>\n",
       "      <td>4</td>\n",
       "      <td>Spring</td>\n",
       "    </tr>\n",
       "  </tbody>\n",
       "</table>\n",
       "<p>374948 rows × 20 columns</p>\n",
       "</div>"
      ],
      "text/plain": [
       "        rideable_type          started_at            ended_at  \\\n",
       "0       electric_bike 2021-01-01 00:02:00 2021-01-01 00:12:00   \n",
       "1        classic_bike 2021-01-01 00:02:00 2021-01-01 00:08:00   \n",
       "2        classic_bike 2021-01-01 00:06:00 2021-01-01 00:26:00   \n",
       "3        classic_bike 2021-01-01 00:12:00 2021-01-01 00:12:00   \n",
       "4        classic_bike 2021-01-01 00:12:00 2021-01-01 00:12:00   \n",
       "...               ...                 ...                 ...   \n",
       "374943   classic_bike 2021-03-31 23:56:00 2021-04-01 00:10:00   \n",
       "374944  electric_bike 2021-03-31 23:57:00 2021-04-01 00:21:00   \n",
       "374945   classic_bike 2021-03-31 23:58:00 2021-04-01 00:35:00   \n",
       "374946   classic_bike 2021-03-31 23:59:00 2021-04-01 00:11:00   \n",
       "374947   classic_bike 2021-03-31 23:59:00 2021-04-01 00:07:00   \n",
       "\n",
       "                   start_station_name start_station_id  \\\n",
       "0                                 NaN              NaN   \n",
       "1                  State St & 33rd St            13216   \n",
       "2       Lakeview Ave & Fullerton Pkwy     TA1309000019   \n",
       "3                     Montrose Harbor     TA1308000012   \n",
       "4                     Montrose Harbor     TA1308000012   \n",
       "...                               ...              ...   \n",
       "374943         Michigan Ave & 14th St     TA1307000124   \n",
       "374944      Clinton St & Roosevelt Rd           WL-008   \n",
       "374945          Dearborn St & Erie St            13045   \n",
       "374946       Fairbanks Ct & Grand Ave     TA1305000003   \n",
       "374947          Clark St & Leland Ave     TA1309000014   \n",
       "\n",
       "                  end_station_name end_station_id  start_lat  start_lng  \\\n",
       "0                              NaN            NaN  41.980000 -87.650000   \n",
       "1              MLK Jr Dr & 29th St   TA1307000139  41.834734 -87.625813   \n",
       "2            Ritchie Ct & Banks St   KA1504000134  41.925858 -87.638973   \n",
       "3                  Montrose Harbor   TA1308000012  41.963982 -87.638181   \n",
       "4                  Montrose Harbor   TA1308000012  41.963982 -87.638181   \n",
       "...                            ...            ...        ...        ...   \n",
       "374943        Racine Ave & 18th St          13164  41.864059 -87.623727   \n",
       "374944     Damen Ave & Cortland St          13133  41.867087 -87.641014   \n",
       "374945  Clarendon Ave & Junior Ter          13389  41.893992 -87.629318   \n",
       "374946        Clark St & North Ave          13128  41.891847 -87.620580   \n",
       "374947       Clark St & Leland Ave   TA1309000014  41.967096 -87.667429   \n",
       "\n",
       "          end_lat    end_lng member_casual ride_length  ride_date  ride_year  \\\n",
       "0       41.980000 -87.660000        member    00:10:34 2021-01-01       2021   \n",
       "1       41.842052 -87.617000        member    00:06:15 2021-01-01       2021   \n",
       "2       41.906866 -87.626217        member    00:19:41 2021-01-01       2021   \n",
       "3       41.963982 -87.638181        member    00:00:12 2021-01-01       2021   \n",
       "4       41.963982 -87.638181        casual    00:00:03 2021-01-01       2021   \n",
       "...           ...        ...           ...         ...        ...        ...   \n",
       "374943  41.858166 -87.656495        member    00:13:45 2021-03-31       2021   \n",
       "374944  41.915945 -87.677218        member    00:23:12 2021-03-31       2021   \n",
       "374945  41.961004 -87.649603        member    00:37:27 2021-03-31       2021   \n",
       "374946  41.911974 -87.631942        member    00:12:25 2021-03-31       2021   \n",
       "374947  41.967096 -87.667429        member    00:07:59 2021-03-31       2021   \n",
       "\n",
       "        ride_month start_time  end_time  day_of_week  season  \n",
       "0                1   00:02:05  00:12:39            6  Winter  \n",
       "1                1   00:02:24  00:08:39            6  Winter  \n",
       "2                1   00:06:55  00:26:36            6  Winter  \n",
       "3                1   00:12:21  00:12:33            6  Winter  \n",
       "4                1   00:12:27  00:12:30            6  Winter  \n",
       "...            ...        ...       ...          ...     ...  \n",
       "374943           3   23:56:37  00:10:22            4  Spring  \n",
       "374944           3   23:57:50  00:21:02            4  Spring  \n",
       "374945           3   23:58:00  00:35:27            4  Spring  \n",
       "374946           3   23:59:08  00:11:33            4  Spring  \n",
       "374947           3   23:59:05  00:07:04            4  Spring  \n",
       "\n",
       "[374948 rows x 20 columns]"
      ]
     },
     "execution_count": 13,
     "metadata": {},
     "output_type": "execute_result"
    }
   ],
   "source": [
    "df4"
   ]
  },
  {
   "cell_type": "code",
   "execution_count": 14,
   "id": "6e5c72a9",
   "metadata": {},
   "outputs": [],
   "source": [
    "q1=df\n",
    "q2=df2\n",
    "q3=df3\n",
    "q4=df4"
   ]
  },
  {
   "cell_type": "code",
   "execution_count": 15,
   "id": "4d76c0f9",
   "metadata": {},
   "outputs": [],
   "source": [
    "new_columns = {'rideable_type': 'bike_id',\n",
    "               'started_at': 'start_datetime',\n",
    "               'ended_at': 'end_datetime',\n",
    "               'start_station_name': 'from_station_name',\n",
    "               'start_station_id': 'from_station_id',\n",
    "               'end_station_name': 'to_station_name',\n",
    "               'end_station_id': 'to_station_id',\n",
    "               'member_casual': 'usertype'}\n",
    "\n",
    "q1 = q1.rename(columns=new_columns)"
   ]
  },
  {
   "cell_type": "code",
   "execution_count": 16,
   "id": "5231818c",
   "metadata": {
    "scrolled": true
   },
   "outputs": [
    {
     "data": {
      "text/html": [
       "<div>\n",
       "<style scoped>\n",
       "    .dataframe tbody tr th:only-of-type {\n",
       "        vertical-align: middle;\n",
       "    }\n",
       "\n",
       "    .dataframe tbody tr th {\n",
       "        vertical-align: top;\n",
       "    }\n",
       "\n",
       "    .dataframe thead th {\n",
       "        text-align: right;\n",
       "    }\n",
       "</style>\n",
       "<table border=\"1\" class=\"dataframe\">\n",
       "  <thead>\n",
       "    <tr style=\"text-align: right;\">\n",
       "      <th></th>\n",
       "      <th>bike_id</th>\n",
       "      <th>start_datetime</th>\n",
       "      <th>end_datetime</th>\n",
       "      <th>from_station_name</th>\n",
       "      <th>from_station_id</th>\n",
       "      <th>to_station_name</th>\n",
       "      <th>to_station_id</th>\n",
       "      <th>start_lat</th>\n",
       "      <th>start_lng</th>\n",
       "      <th>end_lat</th>\n",
       "      <th>end_lng</th>\n",
       "      <th>usertype</th>\n",
       "      <th>ride_length</th>\n",
       "      <th>ride_date</th>\n",
       "      <th>ride_year</th>\n",
       "      <th>ride_month</th>\n",
       "      <th>start_time</th>\n",
       "      <th>end_time</th>\n",
       "      <th>day_of_week</th>\n",
       "      <th>season</th>\n",
       "    </tr>\n",
       "  </thead>\n",
       "  <tbody>\n",
       "    <tr>\n",
       "      <th>0</th>\n",
       "      <td>docked_bike</td>\n",
       "      <td>2020-04-01 00:00:00</td>\n",
       "      <td>2020-04-01 00:23:00</td>\n",
       "      <td>Damen Ave &amp; Wellington Ave</td>\n",
       "      <td>162</td>\n",
       "      <td>Pine Grove Ave &amp; Waveland Ave</td>\n",
       "      <td>232.0</td>\n",
       "      <td>41.935900</td>\n",
       "      <td>-87.678400</td>\n",
       "      <td>41.949300</td>\n",
       "      <td>-87.646300</td>\n",
       "      <td>casual</td>\n",
       "      <td>00:23:00</td>\n",
       "      <td>2020-04-01</td>\n",
       "      <td>2020</td>\n",
       "      <td>4</td>\n",
       "      <td>00:00:00</td>\n",
       "      <td>00:23:00</td>\n",
       "      <td>4</td>\n",
       "      <td>Spring</td>\n",
       "    </tr>\n",
       "    <tr>\n",
       "      <th>1</th>\n",
       "      <td>docked_bike</td>\n",
       "      <td>2020-04-01 00:02:00</td>\n",
       "      <td>2020-04-01 00:24:00</td>\n",
       "      <td>Damen Ave &amp; Wellington Ave</td>\n",
       "      <td>162</td>\n",
       "      <td>Spaulding Ave &amp; Armitage Ave</td>\n",
       "      <td>506.0</td>\n",
       "      <td>41.935900</td>\n",
       "      <td>-87.678400</td>\n",
       "      <td>41.917100</td>\n",
       "      <td>-87.710200</td>\n",
       "      <td>casual</td>\n",
       "      <td>00:22:00</td>\n",
       "      <td>2020-04-01</td>\n",
       "      <td>2020</td>\n",
       "      <td>4</td>\n",
       "      <td>00:02:00</td>\n",
       "      <td>00:24:00</td>\n",
       "      <td>4</td>\n",
       "      <td>Spring</td>\n",
       "    </tr>\n",
       "    <tr>\n",
       "      <th>2</th>\n",
       "      <td>docked_bike</td>\n",
       "      <td>2020-04-01 00:02:00</td>\n",
       "      <td>2020-04-01 00:10:00</td>\n",
       "      <td>Wabash Ave &amp; 16th St</td>\n",
       "      <td>72</td>\n",
       "      <td>Wabash Ave &amp; 9th St</td>\n",
       "      <td>321.0</td>\n",
       "      <td>41.860400</td>\n",
       "      <td>-87.625800</td>\n",
       "      <td>41.870800</td>\n",
       "      <td>-87.625700</td>\n",
       "      <td>member</td>\n",
       "      <td>00:08:00</td>\n",
       "      <td>2020-04-01</td>\n",
       "      <td>2020</td>\n",
       "      <td>4</td>\n",
       "      <td>00:02:00</td>\n",
       "      <td>00:10:00</td>\n",
       "      <td>4</td>\n",
       "      <td>Spring</td>\n",
       "    </tr>\n",
       "    <tr>\n",
       "      <th>3</th>\n",
       "      <td>docked_bike</td>\n",
       "      <td>2020-04-01 00:06:00</td>\n",
       "      <td>2020-04-01 00:14:00</td>\n",
       "      <td>Mies van der Rohe Way &amp; Chicago Ave</td>\n",
       "      <td>173</td>\n",
       "      <td>Clark St &amp; Schiller St</td>\n",
       "      <td>301.0</td>\n",
       "      <td>41.896900</td>\n",
       "      <td>-87.621700</td>\n",
       "      <td>41.908000</td>\n",
       "      <td>-87.631500</td>\n",
       "      <td>member</td>\n",
       "      <td>00:08:00</td>\n",
       "      <td>2020-04-01</td>\n",
       "      <td>2020</td>\n",
       "      <td>4</td>\n",
       "      <td>00:06:00</td>\n",
       "      <td>00:14:00</td>\n",
       "      <td>4</td>\n",
       "      <td>Spring</td>\n",
       "    </tr>\n",
       "    <tr>\n",
       "      <th>4</th>\n",
       "      <td>docked_bike</td>\n",
       "      <td>2020-04-01 00:11:00</td>\n",
       "      <td>2020-04-01 00:11:00</td>\n",
       "      <td>Wabash Ave &amp; 9th St</td>\n",
       "      <td>321</td>\n",
       "      <td>Wabash Ave &amp; 9th St</td>\n",
       "      <td>321.0</td>\n",
       "      <td>41.870800</td>\n",
       "      <td>-87.625700</td>\n",
       "      <td>41.870800</td>\n",
       "      <td>-87.625700</td>\n",
       "      <td>member</td>\n",
       "      <td>00:00:00</td>\n",
       "      <td>2020-04-01</td>\n",
       "      <td>2020</td>\n",
       "      <td>4</td>\n",
       "      <td>00:11:00</td>\n",
       "      <td>00:11:00</td>\n",
       "      <td>4</td>\n",
       "      <td>Spring</td>\n",
       "    </tr>\n",
       "    <tr>\n",
       "      <th>...</th>\n",
       "      <td>...</td>\n",
       "      <td>...</td>\n",
       "      <td>...</td>\n",
       "      <td>...</td>\n",
       "      <td>...</td>\n",
       "      <td>...</td>\n",
       "      <td>...</td>\n",
       "      <td>...</td>\n",
       "      <td>...</td>\n",
       "      <td>...</td>\n",
       "      <td>...</td>\n",
       "      <td>...</td>\n",
       "      <td>...</td>\n",
       "      <td>...</td>\n",
       "      <td>...</td>\n",
       "      <td>...</td>\n",
       "      <td>...</td>\n",
       "      <td>...</td>\n",
       "      <td>...</td>\n",
       "      <td>...</td>\n",
       "    </tr>\n",
       "    <tr>\n",
       "      <th>509616</th>\n",
       "      <td>docked_bike</td>\n",
       "      <td>2020-06-30 23:59:06</td>\n",
       "      <td>2020-07-01 01:02:00</td>\n",
       "      <td>Lake Shore Dr &amp; Wellington Ave</td>\n",
       "      <td>157</td>\n",
       "      <td>Lake Shore Dr &amp; Wellington Ave</td>\n",
       "      <td>157.0</td>\n",
       "      <td>41.936688</td>\n",
       "      <td>-87.636829</td>\n",
       "      <td>41.936688</td>\n",
       "      <td>-87.636829</td>\n",
       "      <td>casual</td>\n",
       "      <td>01:03:21</td>\n",
       "      <td>2020-06-30</td>\n",
       "      <td>2020</td>\n",
       "      <td>6</td>\n",
       "      <td>23:59:06</td>\n",
       "      <td>01:02:27</td>\n",
       "      <td>3</td>\n",
       "      <td>Summer</td>\n",
       "    </tr>\n",
       "    <tr>\n",
       "      <th>509617</th>\n",
       "      <td>docked_bike</td>\n",
       "      <td>2020-06-30 23:59:23</td>\n",
       "      <td>2020-07-01 01:02:00</td>\n",
       "      <td>Lake Shore Dr &amp; Wellington Ave</td>\n",
       "      <td>157</td>\n",
       "      <td>Lake Shore Dr &amp; Wellington Ave</td>\n",
       "      <td>157.0</td>\n",
       "      <td>41.936688</td>\n",
       "      <td>-87.636829</td>\n",
       "      <td>41.936688</td>\n",
       "      <td>-87.636829</td>\n",
       "      <td>casual</td>\n",
       "      <td>01:03:00</td>\n",
       "      <td>2020-06-30</td>\n",
       "      <td>2020</td>\n",
       "      <td>6</td>\n",
       "      <td>23:59:23</td>\n",
       "      <td>01:02:23</td>\n",
       "      <td>3</td>\n",
       "      <td>Summer</td>\n",
       "    </tr>\n",
       "    <tr>\n",
       "      <th>509618</th>\n",
       "      <td>docked_bike</td>\n",
       "      <td>2020-06-30 23:59:41</td>\n",
       "      <td>2020-07-01 00:35:00</td>\n",
       "      <td>Theater on the Lake</td>\n",
       "      <td>177</td>\n",
       "      <td>Theater on the Lake</td>\n",
       "      <td>177.0</td>\n",
       "      <td>41.926277</td>\n",
       "      <td>-87.630834</td>\n",
       "      <td>41.926277</td>\n",
       "      <td>-87.630834</td>\n",
       "      <td>casual</td>\n",
       "      <td>00:35:19</td>\n",
       "      <td>2020-06-30</td>\n",
       "      <td>2020</td>\n",
       "      <td>6</td>\n",
       "      <td>23:59:41</td>\n",
       "      <td>00:35:00</td>\n",
       "      <td>3</td>\n",
       "      <td>Summer</td>\n",
       "    </tr>\n",
       "    <tr>\n",
       "      <th>509619</th>\n",
       "      <td>docked_bike</td>\n",
       "      <td>2020-06-30 23:59:45</td>\n",
       "      <td>2020-07-01 00:35:00</td>\n",
       "      <td>Theater on the Lake</td>\n",
       "      <td>177</td>\n",
       "      <td>Theater on the Lake</td>\n",
       "      <td>177.0</td>\n",
       "      <td>41.926277</td>\n",
       "      <td>-87.630834</td>\n",
       "      <td>41.926277</td>\n",
       "      <td>-87.630834</td>\n",
       "      <td>casual</td>\n",
       "      <td>00:35:16</td>\n",
       "      <td>2020-06-30</td>\n",
       "      <td>2020</td>\n",
       "      <td>6</td>\n",
       "      <td>23:59:45</td>\n",
       "      <td>00:35:01</td>\n",
       "      <td>3</td>\n",
       "      <td>Summer</td>\n",
       "    </tr>\n",
       "    <tr>\n",
       "      <th>509620</th>\n",
       "      <td>docked_bike</td>\n",
       "      <td>2020-06-30 23:59:54</td>\n",
       "      <td>2020-07-01 00:56:00</td>\n",
       "      <td>Lake Shore Dr &amp; Monroe St</td>\n",
       "      <td>76</td>\n",
       "      <td>Lake Shore Dr &amp; Monroe St</td>\n",
       "      <td>76.0</td>\n",
       "      <td>41.880958</td>\n",
       "      <td>-87.616743</td>\n",
       "      <td>41.880958</td>\n",
       "      <td>-87.616743</td>\n",
       "      <td>casual</td>\n",
       "      <td>00:56:55</td>\n",
       "      <td>2020-06-30</td>\n",
       "      <td>2020</td>\n",
       "      <td>6</td>\n",
       "      <td>23:59:54</td>\n",
       "      <td>00:56:49</td>\n",
       "      <td>3</td>\n",
       "      <td>Summer</td>\n",
       "    </tr>\n",
       "  </tbody>\n",
       "</table>\n",
       "<p>509621 rows × 20 columns</p>\n",
       "</div>"
      ],
      "text/plain": [
       "            bike_id      start_datetime        end_datetime  \\\n",
       "0       docked_bike 2020-04-01 00:00:00 2020-04-01 00:23:00   \n",
       "1       docked_bike 2020-04-01 00:02:00 2020-04-01 00:24:00   \n",
       "2       docked_bike 2020-04-01 00:02:00 2020-04-01 00:10:00   \n",
       "3       docked_bike 2020-04-01 00:06:00 2020-04-01 00:14:00   \n",
       "4       docked_bike 2020-04-01 00:11:00 2020-04-01 00:11:00   \n",
       "...             ...                 ...                 ...   \n",
       "509616  docked_bike 2020-06-30 23:59:06 2020-07-01 01:02:00   \n",
       "509617  docked_bike 2020-06-30 23:59:23 2020-07-01 01:02:00   \n",
       "509618  docked_bike 2020-06-30 23:59:41 2020-07-01 00:35:00   \n",
       "509619  docked_bike 2020-06-30 23:59:45 2020-07-01 00:35:00   \n",
       "509620  docked_bike 2020-06-30 23:59:54 2020-07-01 00:56:00   \n",
       "\n",
       "                          from_station_name  from_station_id  \\\n",
       "0                Damen Ave & Wellington Ave              162   \n",
       "1                Damen Ave & Wellington Ave              162   \n",
       "2                      Wabash Ave & 16th St               72   \n",
       "3       Mies van der Rohe Way & Chicago Ave              173   \n",
       "4                       Wabash Ave & 9th St              321   \n",
       "...                                     ...              ...   \n",
       "509616       Lake Shore Dr & Wellington Ave              157   \n",
       "509617       Lake Shore Dr & Wellington Ave              157   \n",
       "509618                  Theater on the Lake              177   \n",
       "509619                  Theater on the Lake              177   \n",
       "509620            Lake Shore Dr & Monroe St               76   \n",
       "\n",
       "                       to_station_name  to_station_id  start_lat  start_lng  \\\n",
       "0        Pine Grove Ave & Waveland Ave          232.0  41.935900 -87.678400   \n",
       "1         Spaulding Ave & Armitage Ave          506.0  41.935900 -87.678400   \n",
       "2                  Wabash Ave & 9th St          321.0  41.860400 -87.625800   \n",
       "3               Clark St & Schiller St          301.0  41.896900 -87.621700   \n",
       "4                  Wabash Ave & 9th St          321.0  41.870800 -87.625700   \n",
       "...                                ...            ...        ...        ...   \n",
       "509616  Lake Shore Dr & Wellington Ave          157.0  41.936688 -87.636829   \n",
       "509617  Lake Shore Dr & Wellington Ave          157.0  41.936688 -87.636829   \n",
       "509618             Theater on the Lake          177.0  41.926277 -87.630834   \n",
       "509619             Theater on the Lake          177.0  41.926277 -87.630834   \n",
       "509620       Lake Shore Dr & Monroe St           76.0  41.880958 -87.616743   \n",
       "\n",
       "          end_lat    end_lng usertype ride_length  ride_date  ride_year  \\\n",
       "0       41.949300 -87.646300   casual    00:23:00 2020-04-01       2020   \n",
       "1       41.917100 -87.710200   casual    00:22:00 2020-04-01       2020   \n",
       "2       41.870800 -87.625700   member    00:08:00 2020-04-01       2020   \n",
       "3       41.908000 -87.631500   member    00:08:00 2020-04-01       2020   \n",
       "4       41.870800 -87.625700   member    00:00:00 2020-04-01       2020   \n",
       "...           ...        ...      ...         ...        ...        ...   \n",
       "509616  41.936688 -87.636829   casual    01:03:21 2020-06-30       2020   \n",
       "509617  41.936688 -87.636829   casual    01:03:00 2020-06-30       2020   \n",
       "509618  41.926277 -87.630834   casual    00:35:19 2020-06-30       2020   \n",
       "509619  41.926277 -87.630834   casual    00:35:16 2020-06-30       2020   \n",
       "509620  41.880958 -87.616743   casual    00:56:55 2020-06-30       2020   \n",
       "\n",
       "        ride_month start_time  end_time  day_of_week  season  \n",
       "0                4   00:00:00  00:23:00            4  Spring  \n",
       "1                4   00:02:00  00:24:00            4  Spring  \n",
       "2                4   00:02:00  00:10:00            4  Spring  \n",
       "3                4   00:06:00  00:14:00            4  Spring  \n",
       "4                4   00:11:00  00:11:00            4  Spring  \n",
       "...            ...        ...       ...          ...     ...  \n",
       "509616           6   23:59:06  01:02:27            3  Summer  \n",
       "509617           6   23:59:23  01:02:23            3  Summer  \n",
       "509618           6   23:59:41  00:35:00            3  Summer  \n",
       "509619           6   23:59:45  00:35:01            3  Summer  \n",
       "509620           6   23:59:54  00:56:49            3  Summer  \n",
       "\n",
       "[509621 rows x 20 columns]"
      ]
     },
     "execution_count": 16,
     "metadata": {},
     "output_type": "execute_result"
    }
   ],
   "source": [
    "q1"
   ]
  },
  {
   "cell_type": "code",
   "execution_count": 17,
   "id": "a323faf3",
   "metadata": {},
   "outputs": [],
   "source": [
    "new_columns = {'rideable_type': 'bike_id',\n",
    "               'started_at': 'start_datetime',\n",
    "               'ended_at': 'end_datetime',\n",
    "               'start_station_name': 'from_station_name',\n",
    "               'start_station_id': 'from_station_id',\n",
    "               'end_station_name': 'to_station_name',\n",
    "               'end_station_id': 'to_station_id',\n",
    "               'member_casual': 'usertype'}\n",
    "\n",
    "q2 = q2.rename(columns=new_columns)"
   ]
  },
  {
   "cell_type": "code",
   "execution_count": 18,
   "id": "ae407613",
   "metadata": {},
   "outputs": [
    {
     "data": {
      "text/html": [
       "<div>\n",
       "<style scoped>\n",
       "    .dataframe tbody tr th:only-of-type {\n",
       "        vertical-align: middle;\n",
       "    }\n",
       "\n",
       "    .dataframe tbody tr th {\n",
       "        vertical-align: top;\n",
       "    }\n",
       "\n",
       "    .dataframe thead th {\n",
       "        text-align: right;\n",
       "    }\n",
       "</style>\n",
       "<table border=\"1\" class=\"dataframe\">\n",
       "  <thead>\n",
       "    <tr style=\"text-align: right;\">\n",
       "      <th></th>\n",
       "      <th>bike_id</th>\n",
       "      <th>start_datetime</th>\n",
       "      <th>end_datetime</th>\n",
       "      <th>from_station_name</th>\n",
       "      <th>from_station_id</th>\n",
       "      <th>to_station_name</th>\n",
       "      <th>to_station_id</th>\n",
       "      <th>start_lat</th>\n",
       "      <th>start_lng</th>\n",
       "      <th>end_lat</th>\n",
       "      <th>end_lng</th>\n",
       "      <th>usertype</th>\n",
       "      <th>ride_length</th>\n",
       "      <th>ride_date</th>\n",
       "      <th>ride_year</th>\n",
       "      <th>ride_month</th>\n",
       "      <th>start_time</th>\n",
       "      <th>end_time</th>\n",
       "      <th>day_of_week</th>\n",
       "      <th>season</th>\n",
       "    </tr>\n",
       "  </thead>\n",
       "  <tbody>\n",
       "    <tr>\n",
       "      <th>0</th>\n",
       "      <td>docked_bike</td>\n",
       "      <td>2020-07-01 00:00:00</td>\n",
       "      <td>2020-07-01 02:52:00</td>\n",
       "      <td>Wells St &amp; Concord Ln</td>\n",
       "      <td>289.0</td>\n",
       "      <td>Clark St &amp; Lake St</td>\n",
       "      <td>38.0</td>\n",
       "      <td>41.912133</td>\n",
       "      <td>-87.634656</td>\n",
       "      <td>41.886021</td>\n",
       "      <td>-87.630876</td>\n",
       "      <td>casual</td>\n",
       "      <td>02:51:26</td>\n",
       "      <td>2020-07-01</td>\n",
       "      <td>2020</td>\n",
       "      <td>7</td>\n",
       "      <td>00:00:50</td>\n",
       "      <td>02:52:16</td>\n",
       "      <td>4</td>\n",
       "      <td>Summer</td>\n",
       "    </tr>\n",
       "    <tr>\n",
       "      <th>1</th>\n",
       "      <td>docked_bike</td>\n",
       "      <td>2020-07-01 00:00:00</td>\n",
       "      <td>2020-07-01 00:45:00</td>\n",
       "      <td>Wabash Ave &amp; Wacker Pl</td>\n",
       "      <td>194.0</td>\n",
       "      <td>Wabash Ave &amp; Wacker Pl</td>\n",
       "      <td>194.0</td>\n",
       "      <td>41.886875</td>\n",
       "      <td>-87.626030</td>\n",
       "      <td>41.886875</td>\n",
       "      <td>-87.626030</td>\n",
       "      <td>casual</td>\n",
       "      <td>00:44:15</td>\n",
       "      <td>2020-07-01</td>\n",
       "      <td>2020</td>\n",
       "      <td>7</td>\n",
       "      <td>00:00:49</td>\n",
       "      <td>00:45:04</td>\n",
       "      <td>4</td>\n",
       "      <td>Summer</td>\n",
       "    </tr>\n",
       "    <tr>\n",
       "      <th>2</th>\n",
       "      <td>docked_bike</td>\n",
       "      <td>2020-07-01 00:00:00</td>\n",
       "      <td>2020-07-01 02:44:00</td>\n",
       "      <td>Wells St &amp; Concord Ln</td>\n",
       "      <td>289.0</td>\n",
       "      <td>Clark St &amp; Lake St</td>\n",
       "      <td>38.0</td>\n",
       "      <td>41.912133</td>\n",
       "      <td>-87.634656</td>\n",
       "      <td>41.886021</td>\n",
       "      <td>-87.630876</td>\n",
       "      <td>casual</td>\n",
       "      <td>02:44:43</td>\n",
       "      <td>2020-07-01</td>\n",
       "      <td>2020</td>\n",
       "      <td>7</td>\n",
       "      <td>00:00:15</td>\n",
       "      <td>02:44:58</td>\n",
       "      <td>4</td>\n",
       "      <td>Summer</td>\n",
       "    </tr>\n",
       "    <tr>\n",
       "      <th>3</th>\n",
       "      <td>docked_bike</td>\n",
       "      <td>2020-07-01 00:00:00</td>\n",
       "      <td>2020-07-01 01:28:00</td>\n",
       "      <td>Buckingham Fountain</td>\n",
       "      <td>2.0</td>\n",
       "      <td>Buckingham Fountain</td>\n",
       "      <td>2.0</td>\n",
       "      <td>41.876511</td>\n",
       "      <td>-87.620548</td>\n",
       "      <td>41.876511</td>\n",
       "      <td>-87.620548</td>\n",
       "      <td>casual</td>\n",
       "      <td>01:27:58</td>\n",
       "      <td>2020-07-01</td>\n",
       "      <td>2020</td>\n",
       "      <td>7</td>\n",
       "      <td>00:00:14</td>\n",
       "      <td>01:28:12</td>\n",
       "      <td>4</td>\n",
       "      <td>Summer</td>\n",
       "    </tr>\n",
       "    <tr>\n",
       "      <th>4</th>\n",
       "      <td>docked_bike</td>\n",
       "      <td>2020-07-01 00:01:00</td>\n",
       "      <td>2020-07-01 00:24:00</td>\n",
       "      <td>Clark St &amp; Grace St</td>\n",
       "      <td>165.0</td>\n",
       "      <td>Clark St &amp; Elmdale Ave</td>\n",
       "      <td>457.0</td>\n",
       "      <td>41.950780</td>\n",
       "      <td>-87.659172</td>\n",
       "      <td>41.990518</td>\n",
       "      <td>-87.669834</td>\n",
       "      <td>member</td>\n",
       "      <td>00:22:31</td>\n",
       "      <td>2020-07-01</td>\n",
       "      <td>2020</td>\n",
       "      <td>7</td>\n",
       "      <td>00:01:56</td>\n",
       "      <td>00:24:27</td>\n",
       "      <td>4</td>\n",
       "      <td>Summer</td>\n",
       "    </tr>\n",
       "    <tr>\n",
       "      <th>...</th>\n",
       "      <td>...</td>\n",
       "      <td>...</td>\n",
       "      <td>...</td>\n",
       "      <td>...</td>\n",
       "      <td>...</td>\n",
       "      <td>...</td>\n",
       "      <td>...</td>\n",
       "      <td>...</td>\n",
       "      <td>...</td>\n",
       "      <td>...</td>\n",
       "      <td>...</td>\n",
       "      <td>...</td>\n",
       "      <td>...</td>\n",
       "      <td>...</td>\n",
       "      <td>...</td>\n",
       "      <td>...</td>\n",
       "      <td>...</td>\n",
       "      <td>...</td>\n",
       "      <td>...</td>\n",
       "      <td>...</td>\n",
       "    </tr>\n",
       "    <tr>\n",
       "      <th>1700148</th>\n",
       "      <td>docked_bike</td>\n",
       "      <td>2020-09-30 23:54:00</td>\n",
       "      <td>2020-09-30 23:57:00</td>\n",
       "      <td>Morgan St &amp; Lake St</td>\n",
       "      <td>71.0</td>\n",
       "      <td>Elizabeth (May) St &amp; Fulton St</td>\n",
       "      <td>217.0</td>\n",
       "      <td>41.885483</td>\n",
       "      <td>-87.652304</td>\n",
       "      <td>41.886616</td>\n",
       "      <td>-87.658040</td>\n",
       "      <td>casual</td>\n",
       "      <td>00:03:18</td>\n",
       "      <td>2020-09-30</td>\n",
       "      <td>2020</td>\n",
       "      <td>9</td>\n",
       "      <td>23:54:14</td>\n",
       "      <td>23:57:32</td>\n",
       "      <td>4</td>\n",
       "      <td>Autumn</td>\n",
       "    </tr>\n",
       "    <tr>\n",
       "      <th>1700149</th>\n",
       "      <td>electric_bike</td>\n",
       "      <td>2020-09-30 23:55:00</td>\n",
       "      <td>2020-10-01 00:02:00</td>\n",
       "      <td>Drake Ave &amp; Montrose Ave</td>\n",
       "      <td>479.0</td>\n",
       "      <td>Drake Ave &amp; Montrose Ave</td>\n",
       "      <td>479.0</td>\n",
       "      <td>41.961162</td>\n",
       "      <td>-87.716574</td>\n",
       "      <td>41.961185</td>\n",
       "      <td>-87.716623</td>\n",
       "      <td>member</td>\n",
       "      <td>00:06:58</td>\n",
       "      <td>2020-09-30</td>\n",
       "      <td>2020</td>\n",
       "      <td>9</td>\n",
       "      <td>23:55:24</td>\n",
       "      <td>00:02:22</td>\n",
       "      <td>4</td>\n",
       "      <td>Autumn</td>\n",
       "    </tr>\n",
       "    <tr>\n",
       "      <th>1700150</th>\n",
       "      <td>electric_bike</td>\n",
       "      <td>2020-09-30 23:57:00</td>\n",
       "      <td>2020-10-01 00:32:00</td>\n",
       "      <td>Kedzie Ave &amp; Chicago Ave</td>\n",
       "      <td>373.0</td>\n",
       "      <td>NaN</td>\n",
       "      <td>NaN</td>\n",
       "      <td>41.895445</td>\n",
       "      <td>-87.706151</td>\n",
       "      <td>41.820000</td>\n",
       "      <td>-87.600000</td>\n",
       "      <td>member</td>\n",
       "      <td>00:34:56</td>\n",
       "      <td>2020-09-30</td>\n",
       "      <td>2020</td>\n",
       "      <td>9</td>\n",
       "      <td>23:57:36</td>\n",
       "      <td>00:32:32</td>\n",
       "      <td>4</td>\n",
       "      <td>Autumn</td>\n",
       "    </tr>\n",
       "    <tr>\n",
       "      <th>1700151</th>\n",
       "      <td>electric_bike</td>\n",
       "      <td>2020-09-30 23:57:00</td>\n",
       "      <td>2020-10-01 00:33:00</td>\n",
       "      <td>Christiana Ave &amp; Lawrence Ave</td>\n",
       "      <td>474.0</td>\n",
       "      <td>Christiana Ave &amp; Lawrence Ave</td>\n",
       "      <td>474.0</td>\n",
       "      <td>41.968336</td>\n",
       "      <td>-87.711919</td>\n",
       "      <td>41.968345</td>\n",
       "      <td>-87.711931</td>\n",
       "      <td>member</td>\n",
       "      <td>00:35:57</td>\n",
       "      <td>2020-09-30</td>\n",
       "      <td>2020</td>\n",
       "      <td>9</td>\n",
       "      <td>23:57:10</td>\n",
       "      <td>00:33:07</td>\n",
       "      <td>4</td>\n",
       "      <td>Autumn</td>\n",
       "    </tr>\n",
       "    <tr>\n",
       "      <th>1700152</th>\n",
       "      <td>electric_bike</td>\n",
       "      <td>2020-09-30 23:58:00</td>\n",
       "      <td>2020-10-01 00:08:00</td>\n",
       "      <td>LaSalle St &amp; Washington St</td>\n",
       "      <td>98.0</td>\n",
       "      <td>Wabash Ave &amp; Cermak Rd</td>\n",
       "      <td>42.0</td>\n",
       "      <td>41.882718</td>\n",
       "      <td>-87.632684</td>\n",
       "      <td>41.852681</td>\n",
       "      <td>-87.626451</td>\n",
       "      <td>casual</td>\n",
       "      <td>00:09:26</td>\n",
       "      <td>2020-09-30</td>\n",
       "      <td>2020</td>\n",
       "      <td>9</td>\n",
       "      <td>23:58:39</td>\n",
       "      <td>00:08:05</td>\n",
       "      <td>4</td>\n",
       "      <td>Autumn</td>\n",
       "    </tr>\n",
       "  </tbody>\n",
       "</table>\n",
       "<p>1700153 rows × 20 columns</p>\n",
       "</div>"
      ],
      "text/plain": [
       "               bike_id      start_datetime        end_datetime  \\\n",
       "0          docked_bike 2020-07-01 00:00:00 2020-07-01 02:52:00   \n",
       "1          docked_bike 2020-07-01 00:00:00 2020-07-01 00:45:00   \n",
       "2          docked_bike 2020-07-01 00:00:00 2020-07-01 02:44:00   \n",
       "3          docked_bike 2020-07-01 00:00:00 2020-07-01 01:28:00   \n",
       "4          docked_bike 2020-07-01 00:01:00 2020-07-01 00:24:00   \n",
       "...                ...                 ...                 ...   \n",
       "1700148    docked_bike 2020-09-30 23:54:00 2020-09-30 23:57:00   \n",
       "1700149  electric_bike 2020-09-30 23:55:00 2020-10-01 00:02:00   \n",
       "1700150  electric_bike 2020-09-30 23:57:00 2020-10-01 00:32:00   \n",
       "1700151  electric_bike 2020-09-30 23:57:00 2020-10-01 00:33:00   \n",
       "1700152  electric_bike 2020-09-30 23:58:00 2020-10-01 00:08:00   \n",
       "\n",
       "                     from_station_name  from_station_id  \\\n",
       "0                Wells St & Concord Ln            289.0   \n",
       "1               Wabash Ave & Wacker Pl            194.0   \n",
       "2                Wells St & Concord Ln            289.0   \n",
       "3                  Buckingham Fountain              2.0   \n",
       "4                  Clark St & Grace St            165.0   \n",
       "...                                ...              ...   \n",
       "1700148            Morgan St & Lake St             71.0   \n",
       "1700149       Drake Ave & Montrose Ave            479.0   \n",
       "1700150       Kedzie Ave & Chicago Ave            373.0   \n",
       "1700151  Christiana Ave & Lawrence Ave            474.0   \n",
       "1700152     LaSalle St & Washington St             98.0   \n",
       "\n",
       "                        to_station_name  to_station_id  start_lat  start_lng  \\\n",
       "0                    Clark St & Lake St           38.0  41.912133 -87.634656   \n",
       "1                Wabash Ave & Wacker Pl          194.0  41.886875 -87.626030   \n",
       "2                    Clark St & Lake St           38.0  41.912133 -87.634656   \n",
       "3                   Buckingham Fountain            2.0  41.876511 -87.620548   \n",
       "4                Clark St & Elmdale Ave          457.0  41.950780 -87.659172   \n",
       "...                                 ...            ...        ...        ...   \n",
       "1700148  Elizabeth (May) St & Fulton St          217.0  41.885483 -87.652304   \n",
       "1700149        Drake Ave & Montrose Ave          479.0  41.961162 -87.716574   \n",
       "1700150                             NaN            NaN  41.895445 -87.706151   \n",
       "1700151   Christiana Ave & Lawrence Ave          474.0  41.968336 -87.711919   \n",
       "1700152          Wabash Ave & Cermak Rd           42.0  41.882718 -87.632684   \n",
       "\n",
       "           end_lat    end_lng usertype ride_length  ride_date  ride_year  \\\n",
       "0        41.886021 -87.630876   casual    02:51:26 2020-07-01       2020   \n",
       "1        41.886875 -87.626030   casual    00:44:15 2020-07-01       2020   \n",
       "2        41.886021 -87.630876   casual    02:44:43 2020-07-01       2020   \n",
       "3        41.876511 -87.620548   casual    01:27:58 2020-07-01       2020   \n",
       "4        41.990518 -87.669834   member    00:22:31 2020-07-01       2020   \n",
       "...            ...        ...      ...         ...        ...        ...   \n",
       "1700148  41.886616 -87.658040   casual    00:03:18 2020-09-30       2020   \n",
       "1700149  41.961185 -87.716623   member    00:06:58 2020-09-30       2020   \n",
       "1700150  41.820000 -87.600000   member    00:34:56 2020-09-30       2020   \n",
       "1700151  41.968345 -87.711931   member    00:35:57 2020-09-30       2020   \n",
       "1700152  41.852681 -87.626451   casual    00:09:26 2020-09-30       2020   \n",
       "\n",
       "         ride_month start_time  end_time  day_of_week  season  \n",
       "0                 7   00:00:50  02:52:16            4  Summer  \n",
       "1                 7   00:00:49  00:45:04            4  Summer  \n",
       "2                 7   00:00:15  02:44:58            4  Summer  \n",
       "3                 7   00:00:14  01:28:12            4  Summer  \n",
       "4                 7   00:01:56  00:24:27            4  Summer  \n",
       "...             ...        ...       ...          ...     ...  \n",
       "1700148           9   23:54:14  23:57:32            4  Autumn  \n",
       "1700149           9   23:55:24  00:02:22            4  Autumn  \n",
       "1700150           9   23:57:36  00:32:32            4  Autumn  \n",
       "1700151           9   23:57:10  00:33:07            4  Autumn  \n",
       "1700152           9   23:58:39  00:08:05            4  Autumn  \n",
       "\n",
       "[1700153 rows x 20 columns]"
      ]
     },
     "execution_count": 18,
     "metadata": {},
     "output_type": "execute_result"
    }
   ],
   "source": [
    "q2"
   ]
  },
  {
   "cell_type": "code",
   "execution_count": 19,
   "id": "972ab691",
   "metadata": {},
   "outputs": [],
   "source": [
    "new_columns = {'rideable_type': 'bike_id',\n",
    "               'started_at': 'start_datetime',\n",
    "               'ended_at': 'end_datetime',\n",
    "               'start_station_name': 'from_station_name',\n",
    "               'start_station_id': 'from_station_id',\n",
    "               'end_station_name': 'to_station_name',\n",
    "               'end_station_id': 'to_station_id',\n",
    "               'member_casual': 'usertype'}\n",
    "\n",
    "q3 = q3.rename(columns=new_columns)"
   ]
  },
  {
   "cell_type": "code",
   "execution_count": 20,
   "id": "ff3113fc",
   "metadata": {},
   "outputs": [
    {
     "data": {
      "text/html": [
       "<div>\n",
       "<style scoped>\n",
       "    .dataframe tbody tr th:only-of-type {\n",
       "        vertical-align: middle;\n",
       "    }\n",
       "\n",
       "    .dataframe tbody tr th {\n",
       "        vertical-align: top;\n",
       "    }\n",
       "\n",
       "    .dataframe thead th {\n",
       "        text-align: right;\n",
       "    }\n",
       "</style>\n",
       "<table border=\"1\" class=\"dataframe\">\n",
       "  <thead>\n",
       "    <tr style=\"text-align: right;\">\n",
       "      <th></th>\n",
       "      <th>bike_id</th>\n",
       "      <th>start_datetime</th>\n",
       "      <th>end_datetime</th>\n",
       "      <th>from_station_name</th>\n",
       "      <th>from_station_id</th>\n",
       "      <th>to_station_name</th>\n",
       "      <th>to_station_id</th>\n",
       "      <th>start_lat</th>\n",
       "      <th>start_lng</th>\n",
       "      <th>end_lat</th>\n",
       "      <th>end_lng</th>\n",
       "      <th>usertype</th>\n",
       "      <th>ride_length</th>\n",
       "      <th>ride_date</th>\n",
       "      <th>ride_year</th>\n",
       "      <th>ride_month</th>\n",
       "      <th>start_time</th>\n",
       "      <th>end_time</th>\n",
       "      <th>day_of_week</th>\n",
       "      <th>season</th>\n",
       "    </tr>\n",
       "  </thead>\n",
       "  <tbody>\n",
       "    <tr>\n",
       "      <th>0</th>\n",
       "      <td>electric_bike</td>\n",
       "      <td>2020-10-01 00:00:00</td>\n",
       "      <td>2020-10-01 00:12:00</td>\n",
       "      <td>Clark St &amp; Wellington Ave</td>\n",
       "      <td>156</td>\n",
       "      <td>Clark St &amp; Winnemac Ave</td>\n",
       "      <td>325</td>\n",
       "      <td>41.936500</td>\n",
       "      <td>-87.647550</td>\n",
       "      <td>41.973255</td>\n",
       "      <td>-87.669709</td>\n",
       "      <td>casual</td>\n",
       "      <td>00:11:47</td>\n",
       "      <td>2020-10-01</td>\n",
       "      <td>2020</td>\n",
       "      <td>10</td>\n",
       "      <td>00:00:48</td>\n",
       "      <td>00:12:35</td>\n",
       "      <td>5</td>\n",
       "      <td>Autumn</td>\n",
       "    </tr>\n",
       "    <tr>\n",
       "      <th>1</th>\n",
       "      <td>electric_bike</td>\n",
       "      <td>2020-10-01 00:00:00</td>\n",
       "      <td>2020-10-01 00:06:00</td>\n",
       "      <td>Stave St &amp; Armitage Ave</td>\n",
       "      <td>185</td>\n",
       "      <td>NaN</td>\n",
       "      <td>NaN</td>\n",
       "      <td>41.917708</td>\n",
       "      <td>-87.691402</td>\n",
       "      <td>41.920000</td>\n",
       "      <td>-87.710000</td>\n",
       "      <td>casual</td>\n",
       "      <td>00:05:46</td>\n",
       "      <td>2020-10-01</td>\n",
       "      <td>2020</td>\n",
       "      <td>10</td>\n",
       "      <td>00:00:18</td>\n",
       "      <td>00:06:04</td>\n",
       "      <td>5</td>\n",
       "      <td>Autumn</td>\n",
       "    </tr>\n",
       "    <tr>\n",
       "      <th>2</th>\n",
       "      <td>electric_bike</td>\n",
       "      <td>2020-10-01 00:00:00</td>\n",
       "      <td>2020-10-01 00:10:00</td>\n",
       "      <td>Wells St &amp; Hubbard St</td>\n",
       "      <td>212</td>\n",
       "      <td>NaN</td>\n",
       "      <td>NaN</td>\n",
       "      <td>41.890028</td>\n",
       "      <td>-87.634203</td>\n",
       "      <td>41.920000</td>\n",
       "      <td>-87.650000</td>\n",
       "      <td>member</td>\n",
       "      <td>00:10:27</td>\n",
       "      <td>2020-10-01</td>\n",
       "      <td>2020</td>\n",
       "      <td>10</td>\n",
       "      <td>00:00:16</td>\n",
       "      <td>00:10:43</td>\n",
       "      <td>5</td>\n",
       "      <td>Autumn</td>\n",
       "    </tr>\n",
       "    <tr>\n",
       "      <th>3</th>\n",
       "      <td>electric_bike</td>\n",
       "      <td>2020-10-01 00:00:00</td>\n",
       "      <td>2020-10-01 00:08:00</td>\n",
       "      <td>Broadway &amp; Cornelia Ave</td>\n",
       "      <td>303</td>\n",
       "      <td>Southport Ave &amp; Belmont Ave</td>\n",
       "      <td>154</td>\n",
       "      <td>41.945530</td>\n",
       "      <td>-87.646452</td>\n",
       "      <td>41.939108</td>\n",
       "      <td>-87.663849</td>\n",
       "      <td>member</td>\n",
       "      <td>00:07:25</td>\n",
       "      <td>2020-10-01</td>\n",
       "      <td>2020</td>\n",
       "      <td>10</td>\n",
       "      <td>00:00:46</td>\n",
       "      <td>00:08:11</td>\n",
       "      <td>5</td>\n",
       "      <td>Autumn</td>\n",
       "    </tr>\n",
       "    <tr>\n",
       "      <th>4</th>\n",
       "      <td>docked_bike</td>\n",
       "      <td>2020-10-01 00:00:00</td>\n",
       "      <td>2020-10-01 00:37:00</td>\n",
       "      <td>Leavitt St &amp; Archer Ave</td>\n",
       "      <td>9</td>\n",
       "      <td>Leavitt St &amp; Archer Ave</td>\n",
       "      <td>9</td>\n",
       "      <td>41.828792</td>\n",
       "      <td>-87.680604</td>\n",
       "      <td>41.828792</td>\n",
       "      <td>-87.680604</td>\n",
       "      <td>casual</td>\n",
       "      <td>00:37:26</td>\n",
       "      <td>2020-10-01</td>\n",
       "      <td>2020</td>\n",
       "      <td>10</td>\n",
       "      <td>00:00:30</td>\n",
       "      <td>00:37:56</td>\n",
       "      <td>5</td>\n",
       "      <td>Autumn</td>\n",
       "    </tr>\n",
       "    <tr>\n",
       "      <th>...</th>\n",
       "      <td>...</td>\n",
       "      <td>...</td>\n",
       "      <td>...</td>\n",
       "      <td>...</td>\n",
       "      <td>...</td>\n",
       "      <td>...</td>\n",
       "      <td>...</td>\n",
       "      <td>...</td>\n",
       "      <td>...</td>\n",
       "      <td>...</td>\n",
       "      <td>...</td>\n",
       "      <td>...</td>\n",
       "      <td>...</td>\n",
       "      <td>...</td>\n",
       "      <td>...</td>\n",
       "      <td>...</td>\n",
       "      <td>...</td>\n",
       "      <td>...</td>\n",
       "      <td>...</td>\n",
       "      <td>...</td>\n",
       "    </tr>\n",
       "    <tr>\n",
       "      <th>776727</th>\n",
       "      <td>docked_bike</td>\n",
       "      <td>2020-12-31 23:54:00</td>\n",
       "      <td>2020-12-31 23:54:00</td>\n",
       "      <td>Michigan Ave &amp; Jackson Blvd</td>\n",
       "      <td>TA1309000002</td>\n",
       "      <td>Michigan Ave &amp; Jackson Blvd</td>\n",
       "      <td>TA1309000002</td>\n",
       "      <td>41.877850</td>\n",
       "      <td>-87.624080</td>\n",
       "      <td>41.877850</td>\n",
       "      <td>-87.624080</td>\n",
       "      <td>casual</td>\n",
       "      <td>00:00:04</td>\n",
       "      <td>2020-12-31</td>\n",
       "      <td>2020</td>\n",
       "      <td>12</td>\n",
       "      <td>23:54:39</td>\n",
       "      <td>23:54:43</td>\n",
       "      <td>5</td>\n",
       "      <td>Winter</td>\n",
       "    </tr>\n",
       "    <tr>\n",
       "      <th>776728</th>\n",
       "      <td>classic_bike</td>\n",
       "      <td>2020-12-31 23:55:00</td>\n",
       "      <td>2021-01-01 00:17:00</td>\n",
       "      <td>Shore Dr &amp; 55th St</td>\n",
       "      <td>TA1308000009</td>\n",
       "      <td>Shore Dr &amp; 55th St</td>\n",
       "      <td>TA1308000009</td>\n",
       "      <td>41.795212</td>\n",
       "      <td>-87.580715</td>\n",
       "      <td>41.795212</td>\n",
       "      <td>-87.580715</td>\n",
       "      <td>member</td>\n",
       "      <td>00:22:08</td>\n",
       "      <td>2020-12-31</td>\n",
       "      <td>2020</td>\n",
       "      <td>12</td>\n",
       "      <td>23:55:51</td>\n",
       "      <td>00:17:59</td>\n",
       "      <td>5</td>\n",
       "      <td>Winter</td>\n",
       "    </tr>\n",
       "    <tr>\n",
       "      <th>776729</th>\n",
       "      <td>classic_bike</td>\n",
       "      <td>2020-12-31 23:56:00</td>\n",
       "      <td>2021-01-01 00:18:00</td>\n",
       "      <td>Shore Dr &amp; 55th St</td>\n",
       "      <td>TA1308000009</td>\n",
       "      <td>Shore Dr &amp; 55th St</td>\n",
       "      <td>TA1308000009</td>\n",
       "      <td>41.795212</td>\n",
       "      <td>-87.580715</td>\n",
       "      <td>41.795212</td>\n",
       "      <td>-87.580715</td>\n",
       "      <td>member</td>\n",
       "      <td>00:22:04</td>\n",
       "      <td>2020-12-31</td>\n",
       "      <td>2020</td>\n",
       "      <td>12</td>\n",
       "      <td>23:56:14</td>\n",
       "      <td>00:18:18</td>\n",
       "      <td>5</td>\n",
       "      <td>Winter</td>\n",
       "    </tr>\n",
       "    <tr>\n",
       "      <th>776730</th>\n",
       "      <td>classic_bike</td>\n",
       "      <td>2020-12-31 23:58:00</td>\n",
       "      <td>2021-01-01 00:06:00</td>\n",
       "      <td>Clark St &amp; Wrightwood Ave</td>\n",
       "      <td>TA1305000014</td>\n",
       "      <td>Lakeview Ave &amp; Fullerton Pkwy</td>\n",
       "      <td>TA1309000019</td>\n",
       "      <td>41.929546</td>\n",
       "      <td>-87.643118</td>\n",
       "      <td>41.925858</td>\n",
       "      <td>-87.638973</td>\n",
       "      <td>member</td>\n",
       "      <td>00:08:12</td>\n",
       "      <td>2020-12-31</td>\n",
       "      <td>2020</td>\n",
       "      <td>12</td>\n",
       "      <td>23:58:21</td>\n",
       "      <td>00:06:33</td>\n",
       "      <td>5</td>\n",
       "      <td>Winter</td>\n",
       "    </tr>\n",
       "    <tr>\n",
       "      <th>776731</th>\n",
       "      <td>classic_bike</td>\n",
       "      <td>2020-12-31 23:59:00</td>\n",
       "      <td>2021-01-01 00:03:00</td>\n",
       "      <td>State St &amp; 33rd St</td>\n",
       "      <td>13216</td>\n",
       "      <td>Calumet Ave &amp; 33rd St</td>\n",
       "      <td>13217</td>\n",
       "      <td>41.834734</td>\n",
       "      <td>-87.625813</td>\n",
       "      <td>41.834900</td>\n",
       "      <td>-87.617930</td>\n",
       "      <td>member</td>\n",
       "      <td>00:03:33</td>\n",
       "      <td>2020-12-31</td>\n",
       "      <td>2020</td>\n",
       "      <td>12</td>\n",
       "      <td>23:59:59</td>\n",
       "      <td>00:03:32</td>\n",
       "      <td>5</td>\n",
       "      <td>Winter</td>\n",
       "    </tr>\n",
       "  </tbody>\n",
       "</table>\n",
       "<p>776732 rows × 20 columns</p>\n",
       "</div>"
      ],
      "text/plain": [
       "              bike_id      start_datetime        end_datetime  \\\n",
       "0       electric_bike 2020-10-01 00:00:00 2020-10-01 00:12:00   \n",
       "1       electric_bike 2020-10-01 00:00:00 2020-10-01 00:06:00   \n",
       "2       electric_bike 2020-10-01 00:00:00 2020-10-01 00:10:00   \n",
       "3       electric_bike 2020-10-01 00:00:00 2020-10-01 00:08:00   \n",
       "4         docked_bike 2020-10-01 00:00:00 2020-10-01 00:37:00   \n",
       "...               ...                 ...                 ...   \n",
       "776727    docked_bike 2020-12-31 23:54:00 2020-12-31 23:54:00   \n",
       "776728   classic_bike 2020-12-31 23:55:00 2021-01-01 00:17:00   \n",
       "776729   classic_bike 2020-12-31 23:56:00 2021-01-01 00:18:00   \n",
       "776730   classic_bike 2020-12-31 23:58:00 2021-01-01 00:06:00   \n",
       "776731   classic_bike 2020-12-31 23:59:00 2021-01-01 00:03:00   \n",
       "\n",
       "                  from_station_name from_station_id  \\\n",
       "0         Clark St & Wellington Ave             156   \n",
       "1           Stave St & Armitage Ave             185   \n",
       "2             Wells St & Hubbard St             212   \n",
       "3           Broadway & Cornelia Ave             303   \n",
       "4           Leavitt St & Archer Ave               9   \n",
       "...                             ...             ...   \n",
       "776727  Michigan Ave & Jackson Blvd    TA1309000002   \n",
       "776728           Shore Dr & 55th St    TA1308000009   \n",
       "776729           Shore Dr & 55th St    TA1308000009   \n",
       "776730    Clark St & Wrightwood Ave    TA1305000014   \n",
       "776731           State St & 33rd St           13216   \n",
       "\n",
       "                      to_station_name to_station_id  start_lat  start_lng  \\\n",
       "0             Clark St & Winnemac Ave           325  41.936500 -87.647550   \n",
       "1                                 NaN           NaN  41.917708 -87.691402   \n",
       "2                                 NaN           NaN  41.890028 -87.634203   \n",
       "3         Southport Ave & Belmont Ave           154  41.945530 -87.646452   \n",
       "4             Leavitt St & Archer Ave             9  41.828792 -87.680604   \n",
       "...                               ...           ...        ...        ...   \n",
       "776727    Michigan Ave & Jackson Blvd  TA1309000002  41.877850 -87.624080   \n",
       "776728             Shore Dr & 55th St  TA1308000009  41.795212 -87.580715   \n",
       "776729             Shore Dr & 55th St  TA1308000009  41.795212 -87.580715   \n",
       "776730  Lakeview Ave & Fullerton Pkwy  TA1309000019  41.929546 -87.643118   \n",
       "776731          Calumet Ave & 33rd St         13217  41.834734 -87.625813   \n",
       "\n",
       "          end_lat    end_lng usertype ride_length  ride_date  ride_year  \\\n",
       "0       41.973255 -87.669709   casual    00:11:47 2020-10-01       2020   \n",
       "1       41.920000 -87.710000   casual    00:05:46 2020-10-01       2020   \n",
       "2       41.920000 -87.650000   member    00:10:27 2020-10-01       2020   \n",
       "3       41.939108 -87.663849   member    00:07:25 2020-10-01       2020   \n",
       "4       41.828792 -87.680604   casual    00:37:26 2020-10-01       2020   \n",
       "...           ...        ...      ...         ...        ...        ...   \n",
       "776727  41.877850 -87.624080   casual    00:00:04 2020-12-31       2020   \n",
       "776728  41.795212 -87.580715   member    00:22:08 2020-12-31       2020   \n",
       "776729  41.795212 -87.580715   member    00:22:04 2020-12-31       2020   \n",
       "776730  41.925858 -87.638973   member    00:08:12 2020-12-31       2020   \n",
       "776731  41.834900 -87.617930   member    00:03:33 2020-12-31       2020   \n",
       "\n",
       "        ride_month start_time  end_time  day_of_week  season  \n",
       "0               10   00:00:48  00:12:35            5  Autumn  \n",
       "1               10   00:00:18  00:06:04            5  Autumn  \n",
       "2               10   00:00:16  00:10:43            5  Autumn  \n",
       "3               10   00:00:46  00:08:11            5  Autumn  \n",
       "4               10   00:00:30  00:37:56            5  Autumn  \n",
       "...            ...        ...       ...          ...     ...  \n",
       "776727          12   23:54:39  23:54:43            5  Winter  \n",
       "776728          12   23:55:51  00:17:59            5  Winter  \n",
       "776729          12   23:56:14  00:18:18            5  Winter  \n",
       "776730          12   23:58:21  00:06:33            5  Winter  \n",
       "776731          12   23:59:59  00:03:32            5  Winter  \n",
       "\n",
       "[776732 rows x 20 columns]"
      ]
     },
     "execution_count": 20,
     "metadata": {},
     "output_type": "execute_result"
    }
   ],
   "source": [
    "q3"
   ]
  },
  {
   "cell_type": "code",
   "execution_count": 21,
   "id": "994af2a5",
   "metadata": {},
   "outputs": [],
   "source": [
    "new_columns = {'rideable_type': 'bike_id',\n",
    "               'started_at': 'start_datetime',\n",
    "               'ended_at': 'end_datetime',\n",
    "               'start_station_name': 'from_station_name',\n",
    "               'start_station_id': 'from_station_id',\n",
    "               'end_station_name': 'to_station_name',\n",
    "               'end_station_id': 'to_station_id',\n",
    "               'member_casual': 'usertype'}\n",
    "\n",
    "q4 = q4.rename(columns=new_columns)"
   ]
  },
  {
   "cell_type": "code",
   "execution_count": 22,
   "id": "afd755ad",
   "metadata": {
    "scrolled": true
   },
   "outputs": [
    {
     "data": {
      "text/html": [
       "<div>\n",
       "<style scoped>\n",
       "    .dataframe tbody tr th:only-of-type {\n",
       "        vertical-align: middle;\n",
       "    }\n",
       "\n",
       "    .dataframe tbody tr th {\n",
       "        vertical-align: top;\n",
       "    }\n",
       "\n",
       "    .dataframe thead th {\n",
       "        text-align: right;\n",
       "    }\n",
       "</style>\n",
       "<table border=\"1\" class=\"dataframe\">\n",
       "  <thead>\n",
       "    <tr style=\"text-align: right;\">\n",
       "      <th></th>\n",
       "      <th>bike_id</th>\n",
       "      <th>start_datetime</th>\n",
       "      <th>end_datetime</th>\n",
       "      <th>from_station_name</th>\n",
       "      <th>from_station_id</th>\n",
       "      <th>to_station_name</th>\n",
       "      <th>to_station_id</th>\n",
       "      <th>start_lat</th>\n",
       "      <th>start_lng</th>\n",
       "      <th>end_lat</th>\n",
       "      <th>end_lng</th>\n",
       "      <th>usertype</th>\n",
       "      <th>ride_length</th>\n",
       "      <th>ride_date</th>\n",
       "      <th>ride_year</th>\n",
       "      <th>ride_month</th>\n",
       "      <th>start_time</th>\n",
       "      <th>end_time</th>\n",
       "      <th>day_of_week</th>\n",
       "      <th>season</th>\n",
       "    </tr>\n",
       "  </thead>\n",
       "  <tbody>\n",
       "    <tr>\n",
       "      <th>0</th>\n",
       "      <td>electric_bike</td>\n",
       "      <td>2021-01-01 00:02:00</td>\n",
       "      <td>2021-01-01 00:12:00</td>\n",
       "      <td>NaN</td>\n",
       "      <td>NaN</td>\n",
       "      <td>NaN</td>\n",
       "      <td>NaN</td>\n",
       "      <td>41.980000</td>\n",
       "      <td>-87.650000</td>\n",
       "      <td>41.980000</td>\n",
       "      <td>-87.660000</td>\n",
       "      <td>member</td>\n",
       "      <td>00:10:34</td>\n",
       "      <td>2021-01-01</td>\n",
       "      <td>2021</td>\n",
       "      <td>1</td>\n",
       "      <td>00:02:05</td>\n",
       "      <td>00:12:39</td>\n",
       "      <td>6</td>\n",
       "      <td>Winter</td>\n",
       "    </tr>\n",
       "    <tr>\n",
       "      <th>1</th>\n",
       "      <td>classic_bike</td>\n",
       "      <td>2021-01-01 00:02:00</td>\n",
       "      <td>2021-01-01 00:08:00</td>\n",
       "      <td>State St &amp; 33rd St</td>\n",
       "      <td>13216</td>\n",
       "      <td>MLK Jr Dr &amp; 29th St</td>\n",
       "      <td>TA1307000139</td>\n",
       "      <td>41.834734</td>\n",
       "      <td>-87.625813</td>\n",
       "      <td>41.842052</td>\n",
       "      <td>-87.617000</td>\n",
       "      <td>member</td>\n",
       "      <td>00:06:15</td>\n",
       "      <td>2021-01-01</td>\n",
       "      <td>2021</td>\n",
       "      <td>1</td>\n",
       "      <td>00:02:24</td>\n",
       "      <td>00:08:39</td>\n",
       "      <td>6</td>\n",
       "      <td>Winter</td>\n",
       "    </tr>\n",
       "    <tr>\n",
       "      <th>2</th>\n",
       "      <td>classic_bike</td>\n",
       "      <td>2021-01-01 00:06:00</td>\n",
       "      <td>2021-01-01 00:26:00</td>\n",
       "      <td>Lakeview Ave &amp; Fullerton Pkwy</td>\n",
       "      <td>TA1309000019</td>\n",
       "      <td>Ritchie Ct &amp; Banks St</td>\n",
       "      <td>KA1504000134</td>\n",
       "      <td>41.925858</td>\n",
       "      <td>-87.638973</td>\n",
       "      <td>41.906866</td>\n",
       "      <td>-87.626217</td>\n",
       "      <td>member</td>\n",
       "      <td>00:19:41</td>\n",
       "      <td>2021-01-01</td>\n",
       "      <td>2021</td>\n",
       "      <td>1</td>\n",
       "      <td>00:06:55</td>\n",
       "      <td>00:26:36</td>\n",
       "      <td>6</td>\n",
       "      <td>Winter</td>\n",
       "    </tr>\n",
       "    <tr>\n",
       "      <th>3</th>\n",
       "      <td>classic_bike</td>\n",
       "      <td>2021-01-01 00:12:00</td>\n",
       "      <td>2021-01-01 00:12:00</td>\n",
       "      <td>Montrose Harbor</td>\n",
       "      <td>TA1308000012</td>\n",
       "      <td>Montrose Harbor</td>\n",
       "      <td>TA1308000012</td>\n",
       "      <td>41.963982</td>\n",
       "      <td>-87.638181</td>\n",
       "      <td>41.963982</td>\n",
       "      <td>-87.638181</td>\n",
       "      <td>member</td>\n",
       "      <td>00:00:12</td>\n",
       "      <td>2021-01-01</td>\n",
       "      <td>2021</td>\n",
       "      <td>1</td>\n",
       "      <td>00:12:21</td>\n",
       "      <td>00:12:33</td>\n",
       "      <td>6</td>\n",
       "      <td>Winter</td>\n",
       "    </tr>\n",
       "    <tr>\n",
       "      <th>4</th>\n",
       "      <td>classic_bike</td>\n",
       "      <td>2021-01-01 00:12:00</td>\n",
       "      <td>2021-01-01 00:12:00</td>\n",
       "      <td>Montrose Harbor</td>\n",
       "      <td>TA1308000012</td>\n",
       "      <td>Montrose Harbor</td>\n",
       "      <td>TA1308000012</td>\n",
       "      <td>41.963982</td>\n",
       "      <td>-87.638181</td>\n",
       "      <td>41.963982</td>\n",
       "      <td>-87.638181</td>\n",
       "      <td>casual</td>\n",
       "      <td>00:00:03</td>\n",
       "      <td>2021-01-01</td>\n",
       "      <td>2021</td>\n",
       "      <td>1</td>\n",
       "      <td>00:12:27</td>\n",
       "      <td>00:12:30</td>\n",
       "      <td>6</td>\n",
       "      <td>Winter</td>\n",
       "    </tr>\n",
       "    <tr>\n",
       "      <th>...</th>\n",
       "      <td>...</td>\n",
       "      <td>...</td>\n",
       "      <td>...</td>\n",
       "      <td>...</td>\n",
       "      <td>...</td>\n",
       "      <td>...</td>\n",
       "      <td>...</td>\n",
       "      <td>...</td>\n",
       "      <td>...</td>\n",
       "      <td>...</td>\n",
       "      <td>...</td>\n",
       "      <td>...</td>\n",
       "      <td>...</td>\n",
       "      <td>...</td>\n",
       "      <td>...</td>\n",
       "      <td>...</td>\n",
       "      <td>...</td>\n",
       "      <td>...</td>\n",
       "      <td>...</td>\n",
       "      <td>...</td>\n",
       "    </tr>\n",
       "    <tr>\n",
       "      <th>374943</th>\n",
       "      <td>classic_bike</td>\n",
       "      <td>2021-03-31 23:56:00</td>\n",
       "      <td>2021-04-01 00:10:00</td>\n",
       "      <td>Michigan Ave &amp; 14th St</td>\n",
       "      <td>TA1307000124</td>\n",
       "      <td>Racine Ave &amp; 18th St</td>\n",
       "      <td>13164</td>\n",
       "      <td>41.864059</td>\n",
       "      <td>-87.623727</td>\n",
       "      <td>41.858166</td>\n",
       "      <td>-87.656495</td>\n",
       "      <td>member</td>\n",
       "      <td>00:13:45</td>\n",
       "      <td>2021-03-31</td>\n",
       "      <td>2021</td>\n",
       "      <td>3</td>\n",
       "      <td>23:56:37</td>\n",
       "      <td>00:10:22</td>\n",
       "      <td>4</td>\n",
       "      <td>Spring</td>\n",
       "    </tr>\n",
       "    <tr>\n",
       "      <th>374944</th>\n",
       "      <td>electric_bike</td>\n",
       "      <td>2021-03-31 23:57:00</td>\n",
       "      <td>2021-04-01 00:21:00</td>\n",
       "      <td>Clinton St &amp; Roosevelt Rd</td>\n",
       "      <td>WL-008</td>\n",
       "      <td>Damen Ave &amp; Cortland St</td>\n",
       "      <td>13133</td>\n",
       "      <td>41.867087</td>\n",
       "      <td>-87.641014</td>\n",
       "      <td>41.915945</td>\n",
       "      <td>-87.677218</td>\n",
       "      <td>member</td>\n",
       "      <td>00:23:12</td>\n",
       "      <td>2021-03-31</td>\n",
       "      <td>2021</td>\n",
       "      <td>3</td>\n",
       "      <td>23:57:50</td>\n",
       "      <td>00:21:02</td>\n",
       "      <td>4</td>\n",
       "      <td>Spring</td>\n",
       "    </tr>\n",
       "    <tr>\n",
       "      <th>374945</th>\n",
       "      <td>classic_bike</td>\n",
       "      <td>2021-03-31 23:58:00</td>\n",
       "      <td>2021-04-01 00:35:00</td>\n",
       "      <td>Dearborn St &amp; Erie St</td>\n",
       "      <td>13045</td>\n",
       "      <td>Clarendon Ave &amp; Junior Ter</td>\n",
       "      <td>13389</td>\n",
       "      <td>41.893992</td>\n",
       "      <td>-87.629318</td>\n",
       "      <td>41.961004</td>\n",
       "      <td>-87.649603</td>\n",
       "      <td>member</td>\n",
       "      <td>00:37:27</td>\n",
       "      <td>2021-03-31</td>\n",
       "      <td>2021</td>\n",
       "      <td>3</td>\n",
       "      <td>23:58:00</td>\n",
       "      <td>00:35:27</td>\n",
       "      <td>4</td>\n",
       "      <td>Spring</td>\n",
       "    </tr>\n",
       "    <tr>\n",
       "      <th>374946</th>\n",
       "      <td>classic_bike</td>\n",
       "      <td>2021-03-31 23:59:00</td>\n",
       "      <td>2021-04-01 00:11:00</td>\n",
       "      <td>Fairbanks Ct &amp; Grand Ave</td>\n",
       "      <td>TA1305000003</td>\n",
       "      <td>Clark St &amp; North Ave</td>\n",
       "      <td>13128</td>\n",
       "      <td>41.891847</td>\n",
       "      <td>-87.620580</td>\n",
       "      <td>41.911974</td>\n",
       "      <td>-87.631942</td>\n",
       "      <td>member</td>\n",
       "      <td>00:12:25</td>\n",
       "      <td>2021-03-31</td>\n",
       "      <td>2021</td>\n",
       "      <td>3</td>\n",
       "      <td>23:59:08</td>\n",
       "      <td>00:11:33</td>\n",
       "      <td>4</td>\n",
       "      <td>Spring</td>\n",
       "    </tr>\n",
       "    <tr>\n",
       "      <th>374947</th>\n",
       "      <td>classic_bike</td>\n",
       "      <td>2021-03-31 23:59:00</td>\n",
       "      <td>2021-04-01 00:07:00</td>\n",
       "      <td>Clark St &amp; Leland Ave</td>\n",
       "      <td>TA1309000014</td>\n",
       "      <td>Clark St &amp; Leland Ave</td>\n",
       "      <td>TA1309000014</td>\n",
       "      <td>41.967096</td>\n",
       "      <td>-87.667429</td>\n",
       "      <td>41.967096</td>\n",
       "      <td>-87.667429</td>\n",
       "      <td>member</td>\n",
       "      <td>00:07:59</td>\n",
       "      <td>2021-03-31</td>\n",
       "      <td>2021</td>\n",
       "      <td>3</td>\n",
       "      <td>23:59:05</td>\n",
       "      <td>00:07:04</td>\n",
       "      <td>4</td>\n",
       "      <td>Spring</td>\n",
       "    </tr>\n",
       "  </tbody>\n",
       "</table>\n",
       "<p>374948 rows × 20 columns</p>\n",
       "</div>"
      ],
      "text/plain": [
       "              bike_id      start_datetime        end_datetime  \\\n",
       "0       electric_bike 2021-01-01 00:02:00 2021-01-01 00:12:00   \n",
       "1        classic_bike 2021-01-01 00:02:00 2021-01-01 00:08:00   \n",
       "2        classic_bike 2021-01-01 00:06:00 2021-01-01 00:26:00   \n",
       "3        classic_bike 2021-01-01 00:12:00 2021-01-01 00:12:00   \n",
       "4        classic_bike 2021-01-01 00:12:00 2021-01-01 00:12:00   \n",
       "...               ...                 ...                 ...   \n",
       "374943   classic_bike 2021-03-31 23:56:00 2021-04-01 00:10:00   \n",
       "374944  electric_bike 2021-03-31 23:57:00 2021-04-01 00:21:00   \n",
       "374945   classic_bike 2021-03-31 23:58:00 2021-04-01 00:35:00   \n",
       "374946   classic_bike 2021-03-31 23:59:00 2021-04-01 00:11:00   \n",
       "374947   classic_bike 2021-03-31 23:59:00 2021-04-01 00:07:00   \n",
       "\n",
       "                    from_station_name from_station_id  \\\n",
       "0                                 NaN             NaN   \n",
       "1                  State St & 33rd St           13216   \n",
       "2       Lakeview Ave & Fullerton Pkwy    TA1309000019   \n",
       "3                     Montrose Harbor    TA1308000012   \n",
       "4                     Montrose Harbor    TA1308000012   \n",
       "...                               ...             ...   \n",
       "374943         Michigan Ave & 14th St    TA1307000124   \n",
       "374944      Clinton St & Roosevelt Rd          WL-008   \n",
       "374945          Dearborn St & Erie St           13045   \n",
       "374946       Fairbanks Ct & Grand Ave    TA1305000003   \n",
       "374947          Clark St & Leland Ave    TA1309000014   \n",
       "\n",
       "                   to_station_name to_station_id  start_lat  start_lng  \\\n",
       "0                              NaN           NaN  41.980000 -87.650000   \n",
       "1              MLK Jr Dr & 29th St  TA1307000139  41.834734 -87.625813   \n",
       "2            Ritchie Ct & Banks St  KA1504000134  41.925858 -87.638973   \n",
       "3                  Montrose Harbor  TA1308000012  41.963982 -87.638181   \n",
       "4                  Montrose Harbor  TA1308000012  41.963982 -87.638181   \n",
       "...                            ...           ...        ...        ...   \n",
       "374943        Racine Ave & 18th St         13164  41.864059 -87.623727   \n",
       "374944     Damen Ave & Cortland St         13133  41.867087 -87.641014   \n",
       "374945  Clarendon Ave & Junior Ter         13389  41.893992 -87.629318   \n",
       "374946        Clark St & North Ave         13128  41.891847 -87.620580   \n",
       "374947       Clark St & Leland Ave  TA1309000014  41.967096 -87.667429   \n",
       "\n",
       "          end_lat    end_lng usertype ride_length  ride_date  ride_year  \\\n",
       "0       41.980000 -87.660000   member    00:10:34 2021-01-01       2021   \n",
       "1       41.842052 -87.617000   member    00:06:15 2021-01-01       2021   \n",
       "2       41.906866 -87.626217   member    00:19:41 2021-01-01       2021   \n",
       "3       41.963982 -87.638181   member    00:00:12 2021-01-01       2021   \n",
       "4       41.963982 -87.638181   casual    00:00:03 2021-01-01       2021   \n",
       "...           ...        ...      ...         ...        ...        ...   \n",
       "374943  41.858166 -87.656495   member    00:13:45 2021-03-31       2021   \n",
       "374944  41.915945 -87.677218   member    00:23:12 2021-03-31       2021   \n",
       "374945  41.961004 -87.649603   member    00:37:27 2021-03-31       2021   \n",
       "374946  41.911974 -87.631942   member    00:12:25 2021-03-31       2021   \n",
       "374947  41.967096 -87.667429   member    00:07:59 2021-03-31       2021   \n",
       "\n",
       "        ride_month start_time  end_time  day_of_week  season  \n",
       "0                1   00:02:05  00:12:39            6  Winter  \n",
       "1                1   00:02:24  00:08:39            6  Winter  \n",
       "2                1   00:06:55  00:26:36            6  Winter  \n",
       "3                1   00:12:21  00:12:33            6  Winter  \n",
       "4                1   00:12:27  00:12:30            6  Winter  \n",
       "...            ...        ...       ...          ...     ...  \n",
       "374943           3   23:56:37  00:10:22            4  Spring  \n",
       "374944           3   23:57:50  00:21:02            4  Spring  \n",
       "374945           3   23:58:00  00:35:27            4  Spring  \n",
       "374946           3   23:59:08  00:11:33            4  Spring  \n",
       "374947           3   23:59:05  00:07:04            4  Spring  \n",
       "\n",
       "[374948 rows x 20 columns]"
      ]
     },
     "execution_count": 22,
     "metadata": {},
     "output_type": "execute_result"
    }
   ],
   "source": [
    "q4"
   ]
  },
  {
   "cell_type": "markdown",
   "id": "524e86e5",
   "metadata": {},
   "source": [
    "# STEP 2: WRANGLE DATA AND COMBINE INTO A SINGLE FILE\n"
   ]
  },
  {
   "cell_type": "code",
   "execution_count": 23,
   "id": "55b45db0",
   "metadata": {},
   "outputs": [
    {
     "data": {
      "text/plain": [
       "bike_id                      object\n",
       "start_datetime       datetime64[ns]\n",
       "end_datetime         datetime64[ns]\n",
       "from_station_name            object\n",
       "from_station_id               int64\n",
       "to_station_name              object\n",
       "to_station_id               float64\n",
       "start_lat                   float64\n",
       "start_lng                   float64\n",
       "end_lat                     float64\n",
       "end_lng                     float64\n",
       "usertype                     object\n",
       "ride_length                  object\n",
       "ride_date            datetime64[ns]\n",
       "ride_year                     int64\n",
       "ride_month                    int64\n",
       "start_time                   object\n",
       "end_time                     object\n",
       "day_of_week                   int64\n",
       "season                       object\n",
       "dtype: object"
      ]
     },
     "execution_count": 23,
     "metadata": {},
     "output_type": "execute_result"
    }
   ],
   "source": [
    "q1.dtypes"
   ]
  },
  {
   "cell_type": "code",
   "execution_count": 24,
   "id": "7d277108",
   "metadata": {},
   "outputs": [
    {
     "data": {
      "text/plain": [
       "Index(['bike_id', 'start_datetime', 'end_datetime', 'from_station_name',\n",
       "       'from_station_id', 'to_station_name', 'to_station_id', 'start_lat',\n",
       "       'start_lng', 'end_lat', 'end_lng', 'usertype', 'ride_length',\n",
       "       'ride_date', 'ride_year', 'ride_month', 'start_time', 'end_time',\n",
       "       'day_of_week', 'season'],\n",
       "      dtype='object')"
      ]
     },
     "execution_count": 24,
     "metadata": {},
     "output_type": "execute_result"
    }
   ],
   "source": [
    "q1.columns"
   ]
  },
  {
   "cell_type": "code",
   "execution_count": 25,
   "id": "e0f10307",
   "metadata": {},
   "outputs": [
    {
     "data": {
      "text/html": [
       "<div>\n",
       "<style scoped>\n",
       "    .dataframe tbody tr th:only-of-type {\n",
       "        vertical-align: middle;\n",
       "    }\n",
       "\n",
       "    .dataframe tbody tr th {\n",
       "        vertical-align: top;\n",
       "    }\n",
       "\n",
       "    .dataframe thead th {\n",
       "        text-align: right;\n",
       "    }\n",
       "</style>\n",
       "<table border=\"1\" class=\"dataframe\">\n",
       "  <thead>\n",
       "    <tr style=\"text-align: right;\">\n",
       "      <th></th>\n",
       "      <th>start_datetime</th>\n",
       "      <th>end_datetime</th>\n",
       "      <th>from_station_id</th>\n",
       "      <th>to_station_id</th>\n",
       "      <th>start_lat</th>\n",
       "      <th>start_lng</th>\n",
       "      <th>end_lat</th>\n",
       "      <th>end_lng</th>\n",
       "      <th>ride_date</th>\n",
       "      <th>ride_year</th>\n",
       "      <th>ride_month</th>\n",
       "      <th>day_of_week</th>\n",
       "    </tr>\n",
       "  </thead>\n",
       "  <tbody>\n",
       "    <tr>\n",
       "      <th>count</th>\n",
       "      <td>509621</td>\n",
       "      <td>509621</td>\n",
       "      <td>509621.000000</td>\n",
       "      <td>508921.000000</td>\n",
       "      <td>509621.000000</td>\n",
       "      <td>509621.000000</td>\n",
       "      <td>508921.000000</td>\n",
       "      <td>508921.000000</td>\n",
       "      <td>509621</td>\n",
       "      <td>509621.0</td>\n",
       "      <td>509621.000000</td>\n",
       "      <td>509621.000000</td>\n",
       "    </tr>\n",
       "    <tr>\n",
       "      <th>mean</th>\n",
       "      <td>2020-06-02 15:10:33.060798720</td>\n",
       "      <td>2020-06-02 15:44:21.702833664</td>\n",
       "      <td>228.316759</td>\n",
       "      <td>229.639465</td>\n",
       "      <td>41.907260</td>\n",
       "      <td>-87.646646</td>\n",
       "      <td>41.907459</td>\n",
       "      <td>-87.646978</td>\n",
       "      <td>2020-06-02 00:14:49.903673856</td>\n",
       "      <td>2020.0</td>\n",
       "      <td>5.501170</td>\n",
       "      <td>4.093648</td>\n",
       "    </tr>\n",
       "    <tr>\n",
       "      <th>min</th>\n",
       "      <td>2020-04-01 00:00:00</td>\n",
       "      <td>2020-04-01 00:10:00</td>\n",
       "      <td>2.000000</td>\n",
       "      <td>2.000000</td>\n",
       "      <td>41.736600</td>\n",
       "      <td>-87.774704</td>\n",
       "      <td>41.736600</td>\n",
       "      <td>-87.774704</td>\n",
       "      <td>2020-04-01 00:00:00</td>\n",
       "      <td>2020.0</td>\n",
       "      <td>4.000000</td>\n",
       "      <td>1.000000</td>\n",
       "    </tr>\n",
       "    <tr>\n",
       "      <th>25%</th>\n",
       "      <td>2020-05-21 12:48:00</td>\n",
       "      <td>2020-05-21 13:15:00</td>\n",
       "      <td>109.000000</td>\n",
       "      <td>110.000000</td>\n",
       "      <td>41.884241</td>\n",
       "      <td>-87.661198</td>\n",
       "      <td>41.884500</td>\n",
       "      <td>-87.661500</td>\n",
       "      <td>2020-05-21 00:00:00</td>\n",
       "      <td>2020.0</td>\n",
       "      <td>5.000000</td>\n",
       "      <td>2.000000</td>\n",
       "    </tr>\n",
       "    <tr>\n",
       "      <th>50%</th>\n",
       "      <td>2020-06-11 20:48:12</td>\n",
       "      <td>2020-06-11 21:23:00</td>\n",
       "      <td>203.000000</td>\n",
       "      <td>207.000000</td>\n",
       "      <td>41.903000</td>\n",
       "      <td>-87.644100</td>\n",
       "      <td>41.903119</td>\n",
       "      <td>-87.644140</td>\n",
       "      <td>2020-06-11 00:00:00</td>\n",
       "      <td>2020.0</td>\n",
       "      <td>6.000000</td>\n",
       "      <td>4.000000</td>\n",
       "    </tr>\n",
       "    <tr>\n",
       "      <th>75%</th>\n",
       "      <td>2020-06-21 14:51:15</td>\n",
       "      <td>2020-06-21 15:26:00</td>\n",
       "      <td>314.000000</td>\n",
       "      <td>316.000000</td>\n",
       "      <td>41.932418</td>\n",
       "      <td>-87.629543</td>\n",
       "      <td>41.932588</td>\n",
       "      <td>-87.629634</td>\n",
       "      <td>2020-06-21 00:00:00</td>\n",
       "      <td>2020.0</td>\n",
       "      <td>6.000000</td>\n",
       "      <td>6.000000</td>\n",
       "    </tr>\n",
       "    <tr>\n",
       "      <th>max</th>\n",
       "      <td>2020-06-30 23:59:54</td>\n",
       "      <td>2020-07-03 20:26:00</td>\n",
       "      <td>673.000000</td>\n",
       "      <td>674.000000</td>\n",
       "      <td>42.064900</td>\n",
       "      <td>-87.549386</td>\n",
       "      <td>42.064900</td>\n",
       "      <td>-87.549386</td>\n",
       "      <td>2020-06-30 00:00:00</td>\n",
       "      <td>2020.0</td>\n",
       "      <td>6.000000</td>\n",
       "      <td>7.000000</td>\n",
       "    </tr>\n",
       "    <tr>\n",
       "      <th>std</th>\n",
       "      <td>NaN</td>\n",
       "      <td>NaN</td>\n",
       "      <td>156.827884</td>\n",
       "      <td>158.298130</td>\n",
       "      <td>0.042488</td>\n",
       "      <td>0.025156</td>\n",
       "      <td>0.042605</td>\n",
       "      <td>0.025226</td>\n",
       "      <td>NaN</td>\n",
       "      <td>0.0</td>\n",
       "      <td>0.763313</td>\n",
       "      <td>2.149268</td>\n",
       "    </tr>\n",
       "  </tbody>\n",
       "</table>\n",
       "</div>"
      ],
      "text/plain": [
       "                      start_datetime                   end_datetime  \\\n",
       "count                         509621                         509621   \n",
       "mean   2020-06-02 15:10:33.060798720  2020-06-02 15:44:21.702833664   \n",
       "min              2020-04-01 00:00:00            2020-04-01 00:10:00   \n",
       "25%              2020-05-21 12:48:00            2020-05-21 13:15:00   \n",
       "50%              2020-06-11 20:48:12            2020-06-11 21:23:00   \n",
       "75%              2020-06-21 14:51:15            2020-06-21 15:26:00   \n",
       "max              2020-06-30 23:59:54            2020-07-03 20:26:00   \n",
       "std                              NaN                            NaN   \n",
       "\n",
       "       from_station_id  to_station_id      start_lat      start_lng  \\\n",
       "count    509621.000000  508921.000000  509621.000000  509621.000000   \n",
       "mean        228.316759     229.639465      41.907260     -87.646646   \n",
       "min           2.000000       2.000000      41.736600     -87.774704   \n",
       "25%         109.000000     110.000000      41.884241     -87.661198   \n",
       "50%         203.000000     207.000000      41.903000     -87.644100   \n",
       "75%         314.000000     316.000000      41.932418     -87.629543   \n",
       "max         673.000000     674.000000      42.064900     -87.549386   \n",
       "std         156.827884     158.298130       0.042488       0.025156   \n",
       "\n",
       "             end_lat        end_lng                      ride_date  ride_year  \\\n",
       "count  508921.000000  508921.000000                         509621   509621.0   \n",
       "mean       41.907459     -87.646978  2020-06-02 00:14:49.903673856     2020.0   \n",
       "min        41.736600     -87.774704            2020-04-01 00:00:00     2020.0   \n",
       "25%        41.884500     -87.661500            2020-05-21 00:00:00     2020.0   \n",
       "50%        41.903119     -87.644140            2020-06-11 00:00:00     2020.0   \n",
       "75%        41.932588     -87.629634            2020-06-21 00:00:00     2020.0   \n",
       "max        42.064900     -87.549386            2020-06-30 00:00:00     2020.0   \n",
       "std         0.042605       0.025226                            NaN        0.0   \n",
       "\n",
       "          ride_month    day_of_week  \n",
       "count  509621.000000  509621.000000  \n",
       "mean        5.501170       4.093648  \n",
       "min         4.000000       1.000000  \n",
       "25%         5.000000       2.000000  \n",
       "50%         6.000000       4.000000  \n",
       "75%         6.000000       6.000000  \n",
       "max         6.000000       7.000000  \n",
       "std         0.763313       2.149268  "
      ]
     },
     "execution_count": 25,
     "metadata": {},
     "output_type": "execute_result"
    }
   ],
   "source": [
    "q1.describe()"
   ]
  },
  {
   "cell_type": "code",
   "execution_count": 26,
   "id": "b64cc220",
   "metadata": {},
   "outputs": [
    {
     "data": {
      "text/plain": [
       "bike_id                      object\n",
       "start_datetime       datetime64[ns]\n",
       "end_datetime         datetime64[ns]\n",
       "from_station_name            object\n",
       "from_station_id             float64\n",
       "to_station_name              object\n",
       "to_station_id               float64\n",
       "start_lat                   float64\n",
       "start_lng                   float64\n",
       "end_lat                     float64\n",
       "end_lng                     float64\n",
       "usertype                     object\n",
       "ride_length                  object\n",
       "ride_date            datetime64[ns]\n",
       "ride_year                     int64\n",
       "ride_month                    int64\n",
       "start_time                   object\n",
       "end_time                     object\n",
       "day_of_week                   int64\n",
       "season                       object\n",
       "dtype: object"
      ]
     },
     "execution_count": 26,
     "metadata": {},
     "output_type": "execute_result"
    }
   ],
   "source": [
    "q2.dtypes"
   ]
  },
  {
   "cell_type": "code",
   "execution_count": 27,
   "id": "a3aa9717",
   "metadata": {},
   "outputs": [
    {
     "data": {
      "text/html": [
       "<div>\n",
       "<style scoped>\n",
       "    .dataframe tbody tr th:only-of-type {\n",
       "        vertical-align: middle;\n",
       "    }\n",
       "\n",
       "    .dataframe tbody tr th {\n",
       "        vertical-align: top;\n",
       "    }\n",
       "\n",
       "    .dataframe thead th {\n",
       "        text-align: right;\n",
       "    }\n",
       "</style>\n",
       "<table border=\"1\" class=\"dataframe\">\n",
       "  <thead>\n",
       "    <tr style=\"text-align: right;\">\n",
       "      <th></th>\n",
       "      <th>start_datetime</th>\n",
       "      <th>end_datetime</th>\n",
       "      <th>from_station_id</th>\n",
       "      <th>to_station_id</th>\n",
       "      <th>start_lat</th>\n",
       "      <th>start_lng</th>\n",
       "      <th>end_lat</th>\n",
       "      <th>end_lng</th>\n",
       "      <th>ride_date</th>\n",
       "      <th>ride_year</th>\n",
       "      <th>ride_month</th>\n",
       "      <th>day_of_week</th>\n",
       "    </tr>\n",
       "  </thead>\n",
       "  <tbody>\n",
       "    <tr>\n",
       "      <th>count</th>\n",
       "      <td>1700153</td>\n",
       "      <td>1700153</td>\n",
       "      <td>1.672409e+06</td>\n",
       "      <td>1.665561e+06</td>\n",
       "      <td>1.700153e+06</td>\n",
       "      <td>1.700153e+06</td>\n",
       "      <td>1.697667e+06</td>\n",
       "      <td>1.697667e+06</td>\n",
       "      <td>1700153</td>\n",
       "      <td>1700153.0</td>\n",
       "      <td>1.700153e+06</td>\n",
       "      <td>1.700153e+06</td>\n",
       "    </tr>\n",
       "    <tr>\n",
       "      <th>mean</th>\n",
       "      <td>2020-08-16 08:49:14.687595520</td>\n",
       "      <td>2020-08-16 09:20:28.898128896</td>\n",
       "      <td>2.236568e+02</td>\n",
       "      <td>2.241942e+02</td>\n",
       "      <td>4.190486e+01</td>\n",
       "      <td>-8.764392e+01</td>\n",
       "      <td>4.190516e+01</td>\n",
       "      <td>-8.764418e+01</td>\n",
       "      <td>2020-08-15 17:48:10.021074176</td>\n",
       "      <td>2020.0</td>\n",
       "      <td>7.988878e+00</td>\n",
       "      <td>4.166924e+00</td>\n",
       "    </tr>\n",
       "    <tr>\n",
       "      <th>min</th>\n",
       "      <td>2020-07-01 00:00:00</td>\n",
       "      <td>2020-07-01 00:03:00</td>\n",
       "      <td>2.000000e+00</td>\n",
       "      <td>2.000000e+00</td>\n",
       "      <td>4.165187e+01</td>\n",
       "      <td>-8.787000e+01</td>\n",
       "      <td>4.164000e+01</td>\n",
       "      <td>-8.789000e+01</td>\n",
       "      <td>2020-07-01 00:00:00</td>\n",
       "      <td>2020.0</td>\n",
       "      <td>7.000000e+00</td>\n",
       "      <td>1.000000e+00</td>\n",
       "    </tr>\n",
       "    <tr>\n",
       "      <th>25%</th>\n",
       "      <td>2020-07-25 13:23:00</td>\n",
       "      <td>2020-07-25 13:58:00</td>\n",
       "      <td>9.400000e+01</td>\n",
       "      <td>9.400000e+01</td>\n",
       "      <td>4.188283e+01</td>\n",
       "      <td>-8.765694e+01</td>\n",
       "      <td>4.188313e+01</td>\n",
       "      <td>-8.765804e+01</td>\n",
       "      <td>2020-07-25 00:00:00</td>\n",
       "      <td>2020.0</td>\n",
       "      <td>7.000000e+00</td>\n",
       "      <td>2.000000e+00</td>\n",
       "    </tr>\n",
       "    <tr>\n",
       "      <th>50%</th>\n",
       "      <td>2020-08-16 14:32:00</td>\n",
       "      <td>2020-08-16 15:07:00</td>\n",
       "      <td>1.950000e+02</td>\n",
       "      <td>1.950000e+02</td>\n",
       "      <td>4.190068e+01</td>\n",
       "      <td>-8.763983e+01</td>\n",
       "      <td>4.190096e+01</td>\n",
       "      <td>-8.764055e+01</td>\n",
       "      <td>2020-08-16 00:00:00</td>\n",
       "      <td>2020.0</td>\n",
       "      <td>8.000000e+00</td>\n",
       "      <td>4.000000e+00</td>\n",
       "    </tr>\n",
       "    <tr>\n",
       "      <th>75%</th>\n",
       "      <td>2020-09-06 14:57:00</td>\n",
       "      <td>2020-09-06 15:27:00</td>\n",
       "      <td>3.100000e+02</td>\n",
       "      <td>3.110000e+02</td>\n",
       "      <td>4.193000e+01</td>\n",
       "      <td>-8.762680e+01</td>\n",
       "      <td>4.193125e+01</td>\n",
       "      <td>-8.762680e+01</td>\n",
       "      <td>2020-09-06 00:00:00</td>\n",
       "      <td>2020.0</td>\n",
       "      <td>9.000000e+00</td>\n",
       "      <td>6.000000e+00</td>\n",
       "    </tr>\n",
       "    <tr>\n",
       "      <th>max</th>\n",
       "      <td>2020-09-30 23:58:00</td>\n",
       "      <td>2020-10-12 11:46:00</td>\n",
       "      <td>7.210000e+02</td>\n",
       "      <td>7.210000e+02</td>\n",
       "      <td>4.208000e+01</td>\n",
       "      <td>-8.752000e+01</td>\n",
       "      <td>4.216000e+01</td>\n",
       "      <td>-8.752000e+01</td>\n",
       "      <td>2020-09-30 00:00:00</td>\n",
       "      <td>2020.0</td>\n",
       "      <td>9.000000e+00</td>\n",
       "      <td>7.000000e+00</td>\n",
       "    </tr>\n",
       "    <tr>\n",
       "      <th>std</th>\n",
       "      <td>NaN</td>\n",
       "      <td>NaN</td>\n",
       "      <td>1.613445e+02</td>\n",
       "      <td>1.613172e+02</td>\n",
       "      <td>4.213275e-02</td>\n",
       "      <td>2.509662e-02</td>\n",
       "      <td>4.226516e-02</td>\n",
       "      <td>2.525706e-02</td>\n",
       "      <td>NaN</td>\n",
       "      <td>0.0</td>\n",
       "      <td>7.971472e-01</td>\n",
       "      <td>2.092155e+00</td>\n",
       "    </tr>\n",
       "  </tbody>\n",
       "</table>\n",
       "</div>"
      ],
      "text/plain": [
       "                      start_datetime                   end_datetime  \\\n",
       "count                        1700153                        1700153   \n",
       "mean   2020-08-16 08:49:14.687595520  2020-08-16 09:20:28.898128896   \n",
       "min              2020-07-01 00:00:00            2020-07-01 00:03:00   \n",
       "25%              2020-07-25 13:23:00            2020-07-25 13:58:00   \n",
       "50%              2020-08-16 14:32:00            2020-08-16 15:07:00   \n",
       "75%              2020-09-06 14:57:00            2020-09-06 15:27:00   \n",
       "max              2020-09-30 23:58:00            2020-10-12 11:46:00   \n",
       "std                              NaN                            NaN   \n",
       "\n",
       "       from_station_id  to_station_id     start_lat     start_lng  \\\n",
       "count     1.672409e+06   1.665561e+06  1.700153e+06  1.700153e+06   \n",
       "mean      2.236568e+02   2.241942e+02  4.190486e+01 -8.764392e+01   \n",
       "min       2.000000e+00   2.000000e+00  4.165187e+01 -8.787000e+01   \n",
       "25%       9.400000e+01   9.400000e+01  4.188283e+01 -8.765694e+01   \n",
       "50%       1.950000e+02   1.950000e+02  4.190068e+01 -8.763983e+01   \n",
       "75%       3.100000e+02   3.110000e+02  4.193000e+01 -8.762680e+01   \n",
       "max       7.210000e+02   7.210000e+02  4.208000e+01 -8.752000e+01   \n",
       "std       1.613445e+02   1.613172e+02  4.213275e-02  2.509662e-02   \n",
       "\n",
       "            end_lat       end_lng                      ride_date  ride_year  \\\n",
       "count  1.697667e+06  1.697667e+06                        1700153  1700153.0   \n",
       "mean   4.190516e+01 -8.764418e+01  2020-08-15 17:48:10.021074176     2020.0   \n",
       "min    4.164000e+01 -8.789000e+01            2020-07-01 00:00:00     2020.0   \n",
       "25%    4.188313e+01 -8.765804e+01            2020-07-25 00:00:00     2020.0   \n",
       "50%    4.190096e+01 -8.764055e+01            2020-08-16 00:00:00     2020.0   \n",
       "75%    4.193125e+01 -8.762680e+01            2020-09-06 00:00:00     2020.0   \n",
       "max    4.216000e+01 -8.752000e+01            2020-09-30 00:00:00     2020.0   \n",
       "std    4.226516e-02  2.525706e-02                            NaN        0.0   \n",
       "\n",
       "         ride_month   day_of_week  \n",
       "count  1.700153e+06  1.700153e+06  \n",
       "mean   7.988878e+00  4.166924e+00  \n",
       "min    7.000000e+00  1.000000e+00  \n",
       "25%    7.000000e+00  2.000000e+00  \n",
       "50%    8.000000e+00  4.000000e+00  \n",
       "75%    9.000000e+00  6.000000e+00  \n",
       "max    9.000000e+00  7.000000e+00  \n",
       "std    7.971472e-01  2.092155e+00  "
      ]
     },
     "execution_count": 27,
     "metadata": {},
     "output_type": "execute_result"
    }
   ],
   "source": [
    "q2.describe()"
   ]
  },
  {
   "cell_type": "code",
   "execution_count": 28,
   "id": "04b83178",
   "metadata": {},
   "outputs": [
    {
     "name": "stdout",
     "output_type": "stream",
     "text": [
      "<class 'pandas.core.frame.DataFrame'>\n",
      "RangeIndex: 1700153 entries, 0 to 1700152\n",
      "Data columns (total 20 columns):\n",
      " #   Column             Dtype         \n",
      "---  ------             -----         \n",
      " 0   bike_id            object        \n",
      " 1   start_datetime     datetime64[ns]\n",
      " 2   end_datetime       datetime64[ns]\n",
      " 3   from_station_name  object        \n",
      " 4   from_station_id    float64       \n",
      " 5   to_station_name    object        \n",
      " 6   to_station_id      float64       \n",
      " 7   start_lat          float64       \n",
      " 8   start_lng          float64       \n",
      " 9   end_lat            float64       \n",
      " 10  end_lng            float64       \n",
      " 11  usertype           object        \n",
      " 12  ride_length        object        \n",
      " 13  ride_date          datetime64[ns]\n",
      " 14  ride_year          int64         \n",
      " 15  ride_month         int64         \n",
      " 16  start_time         object        \n",
      " 17  end_time           object        \n",
      " 18  day_of_week        int64         \n",
      " 19  season             object        \n",
      "dtypes: datetime64[ns](3), float64(6), int64(3), object(8)\n",
      "memory usage: 259.4+ MB\n"
     ]
    }
   ],
   "source": [
    "q2.info()"
   ]
  },
  {
   "cell_type": "code",
   "execution_count": 29,
   "id": "edbb3086",
   "metadata": {
    "scrolled": true
   },
   "outputs": [
    {
     "data": {
      "text/html": [
       "<div>\n",
       "<style scoped>\n",
       "    .dataframe tbody tr th:only-of-type {\n",
       "        vertical-align: middle;\n",
       "    }\n",
       "\n",
       "    .dataframe tbody tr th {\n",
       "        vertical-align: top;\n",
       "    }\n",
       "\n",
       "    .dataframe thead th {\n",
       "        text-align: right;\n",
       "    }\n",
       "</style>\n",
       "<table border=\"1\" class=\"dataframe\">\n",
       "  <thead>\n",
       "    <tr style=\"text-align: right;\">\n",
       "      <th></th>\n",
       "      <th>start_datetime</th>\n",
       "      <th>end_datetime</th>\n",
       "      <th>start_lat</th>\n",
       "      <th>start_lng</th>\n",
       "      <th>end_lat</th>\n",
       "      <th>end_lng</th>\n",
       "      <th>ride_date</th>\n",
       "      <th>ride_year</th>\n",
       "      <th>ride_month</th>\n",
       "      <th>day_of_week</th>\n",
       "    </tr>\n",
       "  </thead>\n",
       "  <tbody>\n",
       "    <tr>\n",
       "      <th>count</th>\n",
       "      <td>776732</td>\n",
       "      <td>776732</td>\n",
       "      <td>776732.000000</td>\n",
       "      <td>776732.000000</td>\n",
       "      <td>775875.000000</td>\n",
       "      <td>775875.000000</td>\n",
       "      <td>776732</td>\n",
       "      <td>776732.0</td>\n",
       "      <td>776732.000000</td>\n",
       "      <td>776732.000000</td>\n",
       "    </tr>\n",
       "    <tr>\n",
       "      <th>mean</th>\n",
       "      <td>2020-11-03 20:40:58.056704512</td>\n",
       "      <td>2020-11-03 21:00:16.052178176</td>\n",
       "      <td>41.901701</td>\n",
       "      <td>-87.645489</td>\n",
       "      <td>41.901938</td>\n",
       "      <td>-87.645761</td>\n",
       "      <td>2020-11-03 06:16:20.205269760</td>\n",
       "      <td>2020.0</td>\n",
       "      <td>10.670925</td>\n",
       "      <td>4.243981</td>\n",
       "    </tr>\n",
       "    <tr>\n",
       "      <th>min</th>\n",
       "      <td>2020-10-01 00:00:00</td>\n",
       "      <td>2020-10-01 00:05:00</td>\n",
       "      <td>41.640000</td>\n",
       "      <td>-87.800000</td>\n",
       "      <td>41.540000</td>\n",
       "      <td>-87.870000</td>\n",
       "      <td>2020-10-01 00:00:00</td>\n",
       "      <td>2020.0</td>\n",
       "      <td>10.000000</td>\n",
       "      <td>1.000000</td>\n",
       "    </tr>\n",
       "    <tr>\n",
       "      <th>25%</th>\n",
       "      <td>2020-10-13 11:29:00</td>\n",
       "      <td>2020-10-13 11:49:00</td>\n",
       "      <td>41.881319</td>\n",
       "      <td>-87.660000</td>\n",
       "      <td>41.881653</td>\n",
       "      <td>-87.660000</td>\n",
       "      <td>2020-10-13 00:00:00</td>\n",
       "      <td>2020.0</td>\n",
       "      <td>10.000000</td>\n",
       "      <td>2.000000</td>\n",
       "    </tr>\n",
       "    <tr>\n",
       "      <th>50%</th>\n",
       "      <td>2020-11-01 11:17:00</td>\n",
       "      <td>2020-11-01 11:31:00</td>\n",
       "      <td>41.898586</td>\n",
       "      <td>-87.642884</td>\n",
       "      <td>41.898969</td>\n",
       "      <td>-87.643118</td>\n",
       "      <td>2020-11-01 00:00:00</td>\n",
       "      <td>2020.0</td>\n",
       "      <td>11.000000</td>\n",
       "      <td>4.000000</td>\n",
       "    </tr>\n",
       "    <tr>\n",
       "      <th>75%</th>\n",
       "      <td>2020-11-19 17:44:00</td>\n",
       "      <td>2020-11-19 18:00:00</td>\n",
       "      <td>41.929567</td>\n",
       "      <td>-87.628710</td>\n",
       "      <td>41.930000</td>\n",
       "      <td>-87.628722</td>\n",
       "      <td>2020-11-19 00:00:00</td>\n",
       "      <td>2020.0</td>\n",
       "      <td>11.000000</td>\n",
       "      <td>6.000000</td>\n",
       "    </tr>\n",
       "    <tr>\n",
       "      <th>max</th>\n",
       "      <td>2020-12-31 23:59:00</td>\n",
       "      <td>2021-01-03 08:54:00</td>\n",
       "      <td>42.080000</td>\n",
       "      <td>-87.520000</td>\n",
       "      <td>42.150000</td>\n",
       "      <td>-87.440000</td>\n",
       "      <td>2020-12-31 00:00:00</td>\n",
       "      <td>2020.0</td>\n",
       "      <td>12.000000</td>\n",
       "      <td>7.000000</td>\n",
       "    </tr>\n",
       "    <tr>\n",
       "      <th>std</th>\n",
       "      <td>NaN</td>\n",
       "      <td>NaN</td>\n",
       "      <td>0.046581</td>\n",
       "      <td>0.027105</td>\n",
       "      <td>0.046607</td>\n",
       "      <td>0.027242</td>\n",
       "      <td>NaN</td>\n",
       "      <td>0.0</td>\n",
       "      <td>0.747298</td>\n",
       "      <td>2.030379</td>\n",
       "    </tr>\n",
       "  </tbody>\n",
       "</table>\n",
       "</div>"
      ],
      "text/plain": [
       "                      start_datetime                   end_datetime  \\\n",
       "count                         776732                         776732   \n",
       "mean   2020-11-03 20:40:58.056704512  2020-11-03 21:00:16.052178176   \n",
       "min              2020-10-01 00:00:00            2020-10-01 00:05:00   \n",
       "25%              2020-10-13 11:29:00            2020-10-13 11:49:00   \n",
       "50%              2020-11-01 11:17:00            2020-11-01 11:31:00   \n",
       "75%              2020-11-19 17:44:00            2020-11-19 18:00:00   \n",
       "max              2020-12-31 23:59:00            2021-01-03 08:54:00   \n",
       "std                              NaN                            NaN   \n",
       "\n",
       "           start_lat      start_lng        end_lat        end_lng  \\\n",
       "count  776732.000000  776732.000000  775875.000000  775875.000000   \n",
       "mean       41.901701     -87.645489      41.901938     -87.645761   \n",
       "min        41.640000     -87.800000      41.540000     -87.870000   \n",
       "25%        41.881319     -87.660000      41.881653     -87.660000   \n",
       "50%        41.898586     -87.642884      41.898969     -87.643118   \n",
       "75%        41.929567     -87.628710      41.930000     -87.628722   \n",
       "max        42.080000     -87.520000      42.150000     -87.440000   \n",
       "std         0.046581       0.027105       0.046607       0.027242   \n",
       "\n",
       "                           ride_date  ride_year     ride_month    day_of_week  \n",
       "count                         776732   776732.0  776732.000000  776732.000000  \n",
       "mean   2020-11-03 06:16:20.205269760     2020.0      10.670925       4.243981  \n",
       "min              2020-10-01 00:00:00     2020.0      10.000000       1.000000  \n",
       "25%              2020-10-13 00:00:00     2020.0      10.000000       2.000000  \n",
       "50%              2020-11-01 00:00:00     2020.0      11.000000       4.000000  \n",
       "75%              2020-11-19 00:00:00     2020.0      11.000000       6.000000  \n",
       "max              2020-12-31 00:00:00     2020.0      12.000000       7.000000  \n",
       "std                              NaN        0.0       0.747298       2.030379  "
      ]
     },
     "execution_count": 29,
     "metadata": {},
     "output_type": "execute_result"
    }
   ],
   "source": [
    "q3.describe()"
   ]
  },
  {
   "cell_type": "code",
   "execution_count": 30,
   "id": "fc4c66f6",
   "metadata": {},
   "outputs": [
    {
     "data": {
      "text/html": [
       "<div>\n",
       "<style scoped>\n",
       "    .dataframe tbody tr th:only-of-type {\n",
       "        vertical-align: middle;\n",
       "    }\n",
       "\n",
       "    .dataframe tbody tr th {\n",
       "        vertical-align: top;\n",
       "    }\n",
       "\n",
       "    .dataframe thead th {\n",
       "        text-align: right;\n",
       "    }\n",
       "</style>\n",
       "<table border=\"1\" class=\"dataframe\">\n",
       "  <thead>\n",
       "    <tr style=\"text-align: right;\">\n",
       "      <th></th>\n",
       "      <th>start_datetime</th>\n",
       "      <th>end_datetime</th>\n",
       "      <th>start_lat</th>\n",
       "      <th>start_lng</th>\n",
       "      <th>end_lat</th>\n",
       "      <th>end_lng</th>\n",
       "      <th>ride_date</th>\n",
       "      <th>ride_year</th>\n",
       "      <th>ride_month</th>\n",
       "      <th>day_of_week</th>\n",
       "    </tr>\n",
       "  </thead>\n",
       "  <tbody>\n",
       "    <tr>\n",
       "      <th>count</th>\n",
       "      <td>374948</td>\n",
       "      <td>374948</td>\n",
       "      <td>374948.000000</td>\n",
       "      <td>374948.000000</td>\n",
       "      <td>374465.000000</td>\n",
       "      <td>374465.000000</td>\n",
       "      <td>374948</td>\n",
       "      <td>374948.0</td>\n",
       "      <td>374948.000000</td>\n",
       "      <td>374948.000000</td>\n",
       "    </tr>\n",
       "    <tr>\n",
       "      <th>mean</th>\n",
       "      <td>2021-02-26 11:11:51.370803456</td>\n",
       "      <td>2021-02-26 11:32:57.979879936</td>\n",
       "      <td>41.900866</td>\n",
       "      <td>-87.645102</td>\n",
       "      <td>41.901122</td>\n",
       "      <td>-87.645311</td>\n",
       "      <td>2021-02-25 20:48:04.624000768</td>\n",
       "      <td>2021.0</td>\n",
       "      <td>2.351147</td>\n",
       "      <td>4.105015</td>\n",
       "    </tr>\n",
       "    <tr>\n",
       "      <th>min</th>\n",
       "      <td>2021-01-01 00:02:00</td>\n",
       "      <td>2021-01-01 00:08:00</td>\n",
       "      <td>41.640000</td>\n",
       "      <td>-87.780000</td>\n",
       "      <td>41.540000</td>\n",
       "      <td>-88.070000</td>\n",
       "      <td>2021-01-01 00:00:00</td>\n",
       "      <td>2021.0</td>\n",
       "      <td>1.000000</td>\n",
       "      <td>1.000000</td>\n",
       "    </tr>\n",
       "    <tr>\n",
       "      <th>25%</th>\n",
       "      <td>2021-01-29 19:28:00</td>\n",
       "      <td>2021-01-29 19:40:00</td>\n",
       "      <td>41.881032</td>\n",
       "      <td>-87.659172</td>\n",
       "      <td>41.881032</td>\n",
       "      <td>-87.659753</td>\n",
       "      <td>2021-01-29 00:00:00</td>\n",
       "      <td>2021.0</td>\n",
       "      <td>1.000000</td>\n",
       "      <td>2.000000</td>\n",
       "    </tr>\n",
       "    <tr>\n",
       "      <th>50%</th>\n",
       "      <td>2021-03-08 16:10:00</td>\n",
       "      <td>2021-03-08 16:32:00</td>\n",
       "      <td>41.896750</td>\n",
       "      <td>-87.641404</td>\n",
       "      <td>41.896910</td>\n",
       "      <td>-87.641697</td>\n",
       "      <td>2021-03-08 00:00:00</td>\n",
       "      <td>2021.0</td>\n",
       "      <td>3.000000</td>\n",
       "      <td>4.000000</td>\n",
       "    </tr>\n",
       "    <tr>\n",
       "      <th>75%</th>\n",
       "      <td>2021-03-21 13:36:00</td>\n",
       "      <td>2021-03-21 14:06:00</td>\n",
       "      <td>41.928712</td>\n",
       "      <td>-87.627844</td>\n",
       "      <td>41.928773</td>\n",
       "      <td>-87.628017</td>\n",
       "      <td>2021-03-21 00:00:00</td>\n",
       "      <td>2021.0</td>\n",
       "      <td>3.000000</td>\n",
       "      <td>6.000000</td>\n",
       "    </tr>\n",
       "    <tr>\n",
       "      <th>max</th>\n",
       "      <td>2021-03-31 23:59:00</td>\n",
       "      <td>2021-04-06 11:00:00</td>\n",
       "      <td>42.070000</td>\n",
       "      <td>-87.528232</td>\n",
       "      <td>42.080000</td>\n",
       "      <td>-87.510000</td>\n",
       "      <td>2021-03-31 00:00:00</td>\n",
       "      <td>2021.0</td>\n",
       "      <td>3.000000</td>\n",
       "      <td>7.000000</td>\n",
       "    </tr>\n",
       "    <tr>\n",
       "      <th>std</th>\n",
       "      <td>NaN</td>\n",
       "      <td>NaN</td>\n",
       "      <td>0.045206</td>\n",
       "      <td>0.026520</td>\n",
       "      <td>0.045227</td>\n",
       "      <td>0.026580</td>\n",
       "      <td>NaN</td>\n",
       "      <td>0.0</td>\n",
       "      <td>0.862759</td>\n",
       "      <td>2.077568</td>\n",
       "    </tr>\n",
       "  </tbody>\n",
       "</table>\n",
       "</div>"
      ],
      "text/plain": [
       "                      start_datetime                   end_datetime  \\\n",
       "count                         374948                         374948   \n",
       "mean   2021-02-26 11:11:51.370803456  2021-02-26 11:32:57.979879936   \n",
       "min              2021-01-01 00:02:00            2021-01-01 00:08:00   \n",
       "25%              2021-01-29 19:28:00            2021-01-29 19:40:00   \n",
       "50%              2021-03-08 16:10:00            2021-03-08 16:32:00   \n",
       "75%              2021-03-21 13:36:00            2021-03-21 14:06:00   \n",
       "max              2021-03-31 23:59:00            2021-04-06 11:00:00   \n",
       "std                              NaN                            NaN   \n",
       "\n",
       "           start_lat      start_lng        end_lat        end_lng  \\\n",
       "count  374948.000000  374948.000000  374465.000000  374465.000000   \n",
       "mean       41.900866     -87.645102      41.901122     -87.645311   \n",
       "min        41.640000     -87.780000      41.540000     -88.070000   \n",
       "25%        41.881032     -87.659172      41.881032     -87.659753   \n",
       "50%        41.896750     -87.641404      41.896910     -87.641697   \n",
       "75%        41.928712     -87.627844      41.928773     -87.628017   \n",
       "max        42.070000     -87.528232      42.080000     -87.510000   \n",
       "std         0.045206       0.026520       0.045227       0.026580   \n",
       "\n",
       "                           ride_date  ride_year     ride_month    day_of_week  \n",
       "count                         374948   374948.0  374948.000000  374948.000000  \n",
       "mean   2021-02-25 20:48:04.624000768     2021.0       2.351147       4.105015  \n",
       "min              2021-01-01 00:00:00     2021.0       1.000000       1.000000  \n",
       "25%              2021-01-29 00:00:00     2021.0       1.000000       2.000000  \n",
       "50%              2021-03-08 00:00:00     2021.0       3.000000       4.000000  \n",
       "75%              2021-03-21 00:00:00     2021.0       3.000000       6.000000  \n",
       "max              2021-03-31 00:00:00     2021.0       3.000000       7.000000  \n",
       "std                              NaN        0.0       0.862759       2.077568  "
      ]
     },
     "execution_count": 30,
     "metadata": {},
     "output_type": "execute_result"
    }
   ],
   "source": [
    "q4.describe()"
   ]
  },
  {
   "cell_type": "code",
   "execution_count": 31,
   "id": "dd061668",
   "metadata": {},
   "outputs": [],
   "source": [
    "q1['bike_id'] = q1['bike_id'].astype('string')"
   ]
  },
  {
   "cell_type": "code",
   "execution_count": 32,
   "id": "816a0f48",
   "metadata": {},
   "outputs": [],
   "source": [
    "q2['bike_id'] = q2['bike_id'].astype('string')"
   ]
  },
  {
   "cell_type": "code",
   "execution_count": 33,
   "id": "147afc73",
   "metadata": {},
   "outputs": [],
   "source": [
    "q3['bike_id'] = q3['bike_id'].astype('string')"
   ]
  },
  {
   "cell_type": "code",
   "execution_count": 34,
   "id": "d0f54526",
   "metadata": {},
   "outputs": [],
   "source": [
    "q4['bike_id'] = q4['bike_id'].astype('string')"
   ]
  },
  {
   "cell_type": "code",
   "execution_count": 35,
   "id": "9a30bf2d",
   "metadata": {},
   "outputs": [],
   "source": [
    "all_trips = pd.concat([q1, q2, q3, q4])"
   ]
  },
  {
   "cell_type": "code",
   "execution_count": 63,
   "id": "2a777394",
   "metadata": {},
   "outputs": [
    {
     "data": {
      "text/html": [
       "<div>\n",
       "<style scoped>\n",
       "    .dataframe tbody tr th:only-of-type {\n",
       "        vertical-align: middle;\n",
       "    }\n",
       "\n",
       "    .dataframe tbody tr th {\n",
       "        vertical-align: top;\n",
       "    }\n",
       "\n",
       "    .dataframe thead th {\n",
       "        text-align: right;\n",
       "    }\n",
       "</style>\n",
       "<table border=\"1\" class=\"dataframe\">\n",
       "  <thead>\n",
       "    <tr style=\"text-align: right;\">\n",
       "      <th></th>\n",
       "      <th>bike_id</th>\n",
       "      <th>start_datetime</th>\n",
       "      <th>end_datetime</th>\n",
       "      <th>from_station_name</th>\n",
       "      <th>from_station_id</th>\n",
       "      <th>to_station_name</th>\n",
       "      <th>to_station_id</th>\n",
       "      <th>usertype</th>\n",
       "      <th>ride_length</th>\n",
       "      <th>ride_date</th>\n",
       "      <th>...</th>\n",
       "      <th>ride_month</th>\n",
       "      <th>start_time</th>\n",
       "      <th>end_time</th>\n",
       "      <th>day_of_week</th>\n",
       "      <th>season</th>\n",
       "      <th>ride_duration</th>\n",
       "      <th>Day</th>\n",
       "      <th>Month</th>\n",
       "      <th>Year</th>\n",
       "      <th>WeekDay</th>\n",
       "    </tr>\n",
       "  </thead>\n",
       "  <tbody>\n",
       "    <tr>\n",
       "      <th>0</th>\n",
       "      <td>docked_bike</td>\n",
       "      <td>2020-04-01 00:00:00</td>\n",
       "      <td>2020-04-01 00:23:00</td>\n",
       "      <td>Damen Ave &amp; Wellington Ave</td>\n",
       "      <td>162</td>\n",
       "      <td>Pine Grove Ave &amp; Waveland Ave</td>\n",
       "      <td>232.0</td>\n",
       "      <td>casual</td>\n",
       "      <td>00:23:00</td>\n",
       "      <td>2020-04-01</td>\n",
       "      <td>...</td>\n",
       "      <td>4</td>\n",
       "      <td>00:00:00</td>\n",
       "      <td>00:23:00</td>\n",
       "      <td>4</td>\n",
       "      <td>Spring</td>\n",
       "      <td>0 days 00:23:00</td>\n",
       "      <td>1</td>\n",
       "      <td>April</td>\n",
       "      <td>2020</td>\n",
       "      <td>Wednesday</td>\n",
       "    </tr>\n",
       "    <tr>\n",
       "      <th>1</th>\n",
       "      <td>docked_bike</td>\n",
       "      <td>2020-04-01 00:02:00</td>\n",
       "      <td>2020-04-01 00:24:00</td>\n",
       "      <td>Damen Ave &amp; Wellington Ave</td>\n",
       "      <td>162</td>\n",
       "      <td>Spaulding Ave &amp; Armitage Ave</td>\n",
       "      <td>506.0</td>\n",
       "      <td>casual</td>\n",
       "      <td>00:22:00</td>\n",
       "      <td>2020-04-01</td>\n",
       "      <td>...</td>\n",
       "      <td>4</td>\n",
       "      <td>00:02:00</td>\n",
       "      <td>00:24:00</td>\n",
       "      <td>4</td>\n",
       "      <td>Spring</td>\n",
       "      <td>0 days 00:22:00</td>\n",
       "      <td>1</td>\n",
       "      <td>April</td>\n",
       "      <td>2020</td>\n",
       "      <td>Wednesday</td>\n",
       "    </tr>\n",
       "    <tr>\n",
       "      <th>2</th>\n",
       "      <td>docked_bike</td>\n",
       "      <td>2020-04-01 00:02:00</td>\n",
       "      <td>2020-04-01 00:10:00</td>\n",
       "      <td>Wabash Ave &amp; 16th St</td>\n",
       "      <td>72</td>\n",
       "      <td>Wabash Ave &amp; 9th St</td>\n",
       "      <td>321.0</td>\n",
       "      <td>member</td>\n",
       "      <td>00:08:00</td>\n",
       "      <td>2020-04-01</td>\n",
       "      <td>...</td>\n",
       "      <td>4</td>\n",
       "      <td>00:02:00</td>\n",
       "      <td>00:10:00</td>\n",
       "      <td>4</td>\n",
       "      <td>Spring</td>\n",
       "      <td>0 days 00:08:00</td>\n",
       "      <td>1</td>\n",
       "      <td>April</td>\n",
       "      <td>2020</td>\n",
       "      <td>Wednesday</td>\n",
       "    </tr>\n",
       "    <tr>\n",
       "      <th>3</th>\n",
       "      <td>docked_bike</td>\n",
       "      <td>2020-04-01 00:06:00</td>\n",
       "      <td>2020-04-01 00:14:00</td>\n",
       "      <td>Mies van der Rohe Way &amp; Chicago Ave</td>\n",
       "      <td>173</td>\n",
       "      <td>Clark St &amp; Schiller St</td>\n",
       "      <td>301.0</td>\n",
       "      <td>member</td>\n",
       "      <td>00:08:00</td>\n",
       "      <td>2020-04-01</td>\n",
       "      <td>...</td>\n",
       "      <td>4</td>\n",
       "      <td>00:06:00</td>\n",
       "      <td>00:14:00</td>\n",
       "      <td>4</td>\n",
       "      <td>Spring</td>\n",
       "      <td>0 days 00:08:00</td>\n",
       "      <td>1</td>\n",
       "      <td>April</td>\n",
       "      <td>2020</td>\n",
       "      <td>Wednesday</td>\n",
       "    </tr>\n",
       "    <tr>\n",
       "      <th>4</th>\n",
       "      <td>docked_bike</td>\n",
       "      <td>2020-04-01 00:11:00</td>\n",
       "      <td>2020-04-01 00:11:00</td>\n",
       "      <td>Wabash Ave &amp; 9th St</td>\n",
       "      <td>321</td>\n",
       "      <td>Wabash Ave &amp; 9th St</td>\n",
       "      <td>321.0</td>\n",
       "      <td>member</td>\n",
       "      <td>00:00:00</td>\n",
       "      <td>2020-04-01</td>\n",
       "      <td>...</td>\n",
       "      <td>4</td>\n",
       "      <td>00:11:00</td>\n",
       "      <td>00:11:00</td>\n",
       "      <td>4</td>\n",
       "      <td>Spring</td>\n",
       "      <td>0 days 00:00:00</td>\n",
       "      <td>1</td>\n",
       "      <td>April</td>\n",
       "      <td>2020</td>\n",
       "      <td>Wednesday</td>\n",
       "    </tr>\n",
       "    <tr>\n",
       "      <th>...</th>\n",
       "      <td>...</td>\n",
       "      <td>...</td>\n",
       "      <td>...</td>\n",
       "      <td>...</td>\n",
       "      <td>...</td>\n",
       "      <td>...</td>\n",
       "      <td>...</td>\n",
       "      <td>...</td>\n",
       "      <td>...</td>\n",
       "      <td>...</td>\n",
       "      <td>...</td>\n",
       "      <td>...</td>\n",
       "      <td>...</td>\n",
       "      <td>...</td>\n",
       "      <td>...</td>\n",
       "      <td>...</td>\n",
       "      <td>...</td>\n",
       "      <td>...</td>\n",
       "      <td>...</td>\n",
       "      <td>...</td>\n",
       "      <td>...</td>\n",
       "    </tr>\n",
       "    <tr>\n",
       "      <th>374943</th>\n",
       "      <td>classic_bike</td>\n",
       "      <td>2021-03-31 23:56:00</td>\n",
       "      <td>2021-04-01 00:10:00</td>\n",
       "      <td>Michigan Ave &amp; 14th St</td>\n",
       "      <td>TA1307000124</td>\n",
       "      <td>Racine Ave &amp; 18th St</td>\n",
       "      <td>13164</td>\n",
       "      <td>member</td>\n",
       "      <td>00:13:45</td>\n",
       "      <td>2021-03-31</td>\n",
       "      <td>...</td>\n",
       "      <td>3</td>\n",
       "      <td>23:56:37</td>\n",
       "      <td>00:10:22</td>\n",
       "      <td>4</td>\n",
       "      <td>Spring</td>\n",
       "      <td>0 days 00:14:00</td>\n",
       "      <td>31</td>\n",
       "      <td>March</td>\n",
       "      <td>2021</td>\n",
       "      <td>Wednesday</td>\n",
       "    </tr>\n",
       "    <tr>\n",
       "      <th>374944</th>\n",
       "      <td>electric_bike</td>\n",
       "      <td>2021-03-31 23:57:00</td>\n",
       "      <td>2021-04-01 00:21:00</td>\n",
       "      <td>Clinton St &amp; Roosevelt Rd</td>\n",
       "      <td>WL-008</td>\n",
       "      <td>Damen Ave &amp; Cortland St</td>\n",
       "      <td>13133</td>\n",
       "      <td>member</td>\n",
       "      <td>00:23:12</td>\n",
       "      <td>2021-03-31</td>\n",
       "      <td>...</td>\n",
       "      <td>3</td>\n",
       "      <td>23:57:50</td>\n",
       "      <td>00:21:02</td>\n",
       "      <td>4</td>\n",
       "      <td>Spring</td>\n",
       "      <td>0 days 00:24:00</td>\n",
       "      <td>31</td>\n",
       "      <td>March</td>\n",
       "      <td>2021</td>\n",
       "      <td>Wednesday</td>\n",
       "    </tr>\n",
       "    <tr>\n",
       "      <th>374945</th>\n",
       "      <td>classic_bike</td>\n",
       "      <td>2021-03-31 23:58:00</td>\n",
       "      <td>2021-04-01 00:35:00</td>\n",
       "      <td>Dearborn St &amp; Erie St</td>\n",
       "      <td>13045</td>\n",
       "      <td>Clarendon Ave &amp; Junior Ter</td>\n",
       "      <td>13389</td>\n",
       "      <td>member</td>\n",
       "      <td>00:37:27</td>\n",
       "      <td>2021-03-31</td>\n",
       "      <td>...</td>\n",
       "      <td>3</td>\n",
       "      <td>23:58:00</td>\n",
       "      <td>00:35:27</td>\n",
       "      <td>4</td>\n",
       "      <td>Spring</td>\n",
       "      <td>0 days 00:37:00</td>\n",
       "      <td>31</td>\n",
       "      <td>March</td>\n",
       "      <td>2021</td>\n",
       "      <td>Wednesday</td>\n",
       "    </tr>\n",
       "    <tr>\n",
       "      <th>374946</th>\n",
       "      <td>classic_bike</td>\n",
       "      <td>2021-03-31 23:59:00</td>\n",
       "      <td>2021-04-01 00:11:00</td>\n",
       "      <td>Fairbanks Ct &amp; Grand Ave</td>\n",
       "      <td>TA1305000003</td>\n",
       "      <td>Clark St &amp; North Ave</td>\n",
       "      <td>13128</td>\n",
       "      <td>member</td>\n",
       "      <td>00:12:25</td>\n",
       "      <td>2021-03-31</td>\n",
       "      <td>...</td>\n",
       "      <td>3</td>\n",
       "      <td>23:59:08</td>\n",
       "      <td>00:11:33</td>\n",
       "      <td>4</td>\n",
       "      <td>Spring</td>\n",
       "      <td>0 days 00:12:00</td>\n",
       "      <td>31</td>\n",
       "      <td>March</td>\n",
       "      <td>2021</td>\n",
       "      <td>Wednesday</td>\n",
       "    </tr>\n",
       "    <tr>\n",
       "      <th>374947</th>\n",
       "      <td>classic_bike</td>\n",
       "      <td>2021-03-31 23:59:00</td>\n",
       "      <td>2021-04-01 00:07:00</td>\n",
       "      <td>Clark St &amp; Leland Ave</td>\n",
       "      <td>TA1309000014</td>\n",
       "      <td>Clark St &amp; Leland Ave</td>\n",
       "      <td>TA1309000014</td>\n",
       "      <td>member</td>\n",
       "      <td>00:07:59</td>\n",
       "      <td>2021-03-31</td>\n",
       "      <td>...</td>\n",
       "      <td>3</td>\n",
       "      <td>23:59:05</td>\n",
       "      <td>00:07:04</td>\n",
       "      <td>4</td>\n",
       "      <td>Spring</td>\n",
       "      <td>0 days 00:08:00</td>\n",
       "      <td>31</td>\n",
       "      <td>March</td>\n",
       "      <td>2021</td>\n",
       "      <td>Wednesday</td>\n",
       "    </tr>\n",
       "  </tbody>\n",
       "</table>\n",
       "<p>3361454 rows × 21 columns</p>\n",
       "</div>"
      ],
      "text/plain": [
       "              bike_id      start_datetime        end_datetime  \\\n",
       "0         docked_bike 2020-04-01 00:00:00 2020-04-01 00:23:00   \n",
       "1         docked_bike 2020-04-01 00:02:00 2020-04-01 00:24:00   \n",
       "2         docked_bike 2020-04-01 00:02:00 2020-04-01 00:10:00   \n",
       "3         docked_bike 2020-04-01 00:06:00 2020-04-01 00:14:00   \n",
       "4         docked_bike 2020-04-01 00:11:00 2020-04-01 00:11:00   \n",
       "...               ...                 ...                 ...   \n",
       "374943   classic_bike 2021-03-31 23:56:00 2021-04-01 00:10:00   \n",
       "374944  electric_bike 2021-03-31 23:57:00 2021-04-01 00:21:00   \n",
       "374945   classic_bike 2021-03-31 23:58:00 2021-04-01 00:35:00   \n",
       "374946   classic_bike 2021-03-31 23:59:00 2021-04-01 00:11:00   \n",
       "374947   classic_bike 2021-03-31 23:59:00 2021-04-01 00:07:00   \n",
       "\n",
       "                          from_station_name from_station_id  \\\n",
       "0                Damen Ave & Wellington Ave             162   \n",
       "1                Damen Ave & Wellington Ave             162   \n",
       "2                      Wabash Ave & 16th St              72   \n",
       "3       Mies van der Rohe Way & Chicago Ave             173   \n",
       "4                       Wabash Ave & 9th St             321   \n",
       "...                                     ...             ...   \n",
       "374943               Michigan Ave & 14th St    TA1307000124   \n",
       "374944            Clinton St & Roosevelt Rd          WL-008   \n",
       "374945                Dearborn St & Erie St           13045   \n",
       "374946             Fairbanks Ct & Grand Ave    TA1305000003   \n",
       "374947                Clark St & Leland Ave    TA1309000014   \n",
       "\n",
       "                      to_station_name to_station_id usertype ride_length  \\\n",
       "0       Pine Grove Ave & Waveland Ave         232.0   casual    00:23:00   \n",
       "1        Spaulding Ave & Armitage Ave         506.0   casual    00:22:00   \n",
       "2                 Wabash Ave & 9th St         321.0   member    00:08:00   \n",
       "3              Clark St & Schiller St         301.0   member    00:08:00   \n",
       "4                 Wabash Ave & 9th St         321.0   member    00:00:00   \n",
       "...                               ...           ...      ...         ...   \n",
       "374943           Racine Ave & 18th St         13164   member    00:13:45   \n",
       "374944        Damen Ave & Cortland St         13133   member    00:23:12   \n",
       "374945     Clarendon Ave & Junior Ter         13389   member    00:37:27   \n",
       "374946           Clark St & North Ave         13128   member    00:12:25   \n",
       "374947          Clark St & Leland Ave  TA1309000014   member    00:07:59   \n",
       "\n",
       "        ride_date  ...  ride_month  start_time  end_time day_of_week  season  \\\n",
       "0      2020-04-01  ...           4    00:00:00  00:23:00           4  Spring   \n",
       "1      2020-04-01  ...           4    00:02:00  00:24:00           4  Spring   \n",
       "2      2020-04-01  ...           4    00:02:00  00:10:00           4  Spring   \n",
       "3      2020-04-01  ...           4    00:06:00  00:14:00           4  Spring   \n",
       "4      2020-04-01  ...           4    00:11:00  00:11:00           4  Spring   \n",
       "...           ...  ...         ...         ...       ...         ...     ...   \n",
       "374943 2021-03-31  ...           3    23:56:37  00:10:22           4  Spring   \n",
       "374944 2021-03-31  ...           3    23:57:50  00:21:02           4  Spring   \n",
       "374945 2021-03-31  ...           3    23:58:00  00:35:27           4  Spring   \n",
       "374946 2021-03-31  ...           3    23:59:08  00:11:33           4  Spring   \n",
       "374947 2021-03-31  ...           3    23:59:05  00:07:04           4  Spring   \n",
       "\n",
       "         ride_duration Day  Month  Year    WeekDay  \n",
       "0      0 days 00:23:00   1  April  2020  Wednesday  \n",
       "1      0 days 00:22:00   1  April  2020  Wednesday  \n",
       "2      0 days 00:08:00   1  April  2020  Wednesday  \n",
       "3      0 days 00:08:00   1  April  2020  Wednesday  \n",
       "4      0 days 00:00:00   1  April  2020  Wednesday  \n",
       "...                ...  ..    ...   ...        ...  \n",
       "374943 0 days 00:14:00  31  March  2021  Wednesday  \n",
       "374944 0 days 00:24:00  31  March  2021  Wednesday  \n",
       "374945 0 days 00:37:00  31  March  2021  Wednesday  \n",
       "374946 0 days 00:12:00  31  March  2021  Wednesday  \n",
       "374947 0 days 00:08:00  31  March  2021  Wednesday  \n",
       "\n",
       "[3361454 rows x 21 columns]"
      ]
     },
     "execution_count": 63,
     "metadata": {},
     "output_type": "execute_result"
    }
   ],
   "source": [
    "all_trips"
   ]
  },
  {
   "cell_type": "markdown",
   "id": "c8aa62ec",
   "metadata": {},
   "source": [
    "# STEP 3: CLEAN UP AND ADD DATA TO PREPARE FOR ANALYSIS"
   ]
  },
  {
   "cell_type": "code",
   "execution_count": 37,
   "id": "fb8a4e2b",
   "metadata": {},
   "outputs": [],
   "source": [
    "from datetime import datetime"
   ]
  },
  {
   "cell_type": "code",
   "execution_count": 38,
   "id": "c716ad33",
   "metadata": {},
   "outputs": [
    {
     "data": {
      "text/plain": [
       "Index(['bike_id', 'start_datetime', 'end_datetime', 'from_station_name',\n",
       "       'from_station_id', 'to_station_name', 'to_station_id', 'start_lat',\n",
       "       'start_lng', 'end_lat', 'end_lng', 'usertype', 'ride_length',\n",
       "       'ride_date', 'ride_year', 'ride_month', 'start_time', 'end_time',\n",
       "       'day_of_week', 'season'],\n",
       "      dtype='object')"
      ]
     },
     "execution_count": 38,
     "metadata": {},
     "output_type": "execute_result"
    }
   ],
   "source": [
    "all_trips.columns"
   ]
  },
  {
   "cell_type": "code",
   "execution_count": 39,
   "id": "6a1950e3",
   "metadata": {},
   "outputs": [
    {
     "data": {
      "text/plain": [
       "3361454"
      ]
     },
     "execution_count": 39,
     "metadata": {},
     "output_type": "execute_result"
    }
   ],
   "source": [
    "len(all_trips)"
   ]
  },
  {
   "cell_type": "code",
   "execution_count": 40,
   "id": "1214220c",
   "metadata": {},
   "outputs": [
    {
     "data": {
      "text/plain": [
       "(3361454, 20)"
      ]
     },
     "execution_count": 40,
     "metadata": {},
     "output_type": "execute_result"
    }
   ],
   "source": [
    "all_trips.shape"
   ]
  },
  {
   "cell_type": "code",
   "execution_count": 41,
   "id": "ba73f589",
   "metadata": {},
   "outputs": [
    {
     "data": {
      "text/html": [
       "<div>\n",
       "<style scoped>\n",
       "    .dataframe tbody tr th:only-of-type {\n",
       "        vertical-align: middle;\n",
       "    }\n",
       "\n",
       "    .dataframe tbody tr th {\n",
       "        vertical-align: top;\n",
       "    }\n",
       "\n",
       "    .dataframe thead th {\n",
       "        text-align: right;\n",
       "    }\n",
       "</style>\n",
       "<table border=\"1\" class=\"dataframe\">\n",
       "  <thead>\n",
       "    <tr style=\"text-align: right;\">\n",
       "      <th></th>\n",
       "      <th>bike_id</th>\n",
       "      <th>start_datetime</th>\n",
       "      <th>end_datetime</th>\n",
       "      <th>from_station_name</th>\n",
       "      <th>from_station_id</th>\n",
       "      <th>to_station_name</th>\n",
       "      <th>to_station_id</th>\n",
       "      <th>start_lat</th>\n",
       "      <th>start_lng</th>\n",
       "      <th>end_lat</th>\n",
       "      <th>end_lng</th>\n",
       "      <th>usertype</th>\n",
       "      <th>ride_length</th>\n",
       "      <th>ride_date</th>\n",
       "      <th>ride_year</th>\n",
       "      <th>ride_month</th>\n",
       "      <th>start_time</th>\n",
       "      <th>end_time</th>\n",
       "      <th>day_of_week</th>\n",
       "      <th>season</th>\n",
       "    </tr>\n",
       "  </thead>\n",
       "  <tbody>\n",
       "    <tr>\n",
       "      <th>0</th>\n",
       "      <td>docked_bike</td>\n",
       "      <td>2020-04-01 00:00:00</td>\n",
       "      <td>2020-04-01 00:23:00</td>\n",
       "      <td>Damen Ave &amp; Wellington Ave</td>\n",
       "      <td>162</td>\n",
       "      <td>Pine Grove Ave &amp; Waveland Ave</td>\n",
       "      <td>232.0</td>\n",
       "      <td>41.9359</td>\n",
       "      <td>-87.6784</td>\n",
       "      <td>41.9493</td>\n",
       "      <td>-87.6463</td>\n",
       "      <td>casual</td>\n",
       "      <td>00:23:00</td>\n",
       "      <td>2020-04-01</td>\n",
       "      <td>2020</td>\n",
       "      <td>4</td>\n",
       "      <td>00:00:00</td>\n",
       "      <td>00:23:00</td>\n",
       "      <td>4</td>\n",
       "      <td>Spring</td>\n",
       "    </tr>\n",
       "    <tr>\n",
       "      <th>1</th>\n",
       "      <td>docked_bike</td>\n",
       "      <td>2020-04-01 00:02:00</td>\n",
       "      <td>2020-04-01 00:24:00</td>\n",
       "      <td>Damen Ave &amp; Wellington Ave</td>\n",
       "      <td>162</td>\n",
       "      <td>Spaulding Ave &amp; Armitage Ave</td>\n",
       "      <td>506.0</td>\n",
       "      <td>41.9359</td>\n",
       "      <td>-87.6784</td>\n",
       "      <td>41.9171</td>\n",
       "      <td>-87.7102</td>\n",
       "      <td>casual</td>\n",
       "      <td>00:22:00</td>\n",
       "      <td>2020-04-01</td>\n",
       "      <td>2020</td>\n",
       "      <td>4</td>\n",
       "      <td>00:02:00</td>\n",
       "      <td>00:24:00</td>\n",
       "      <td>4</td>\n",
       "      <td>Spring</td>\n",
       "    </tr>\n",
       "    <tr>\n",
       "      <th>2</th>\n",
       "      <td>docked_bike</td>\n",
       "      <td>2020-04-01 00:02:00</td>\n",
       "      <td>2020-04-01 00:10:00</td>\n",
       "      <td>Wabash Ave &amp; 16th St</td>\n",
       "      <td>72</td>\n",
       "      <td>Wabash Ave &amp; 9th St</td>\n",
       "      <td>321.0</td>\n",
       "      <td>41.8604</td>\n",
       "      <td>-87.6258</td>\n",
       "      <td>41.8708</td>\n",
       "      <td>-87.6257</td>\n",
       "      <td>member</td>\n",
       "      <td>00:08:00</td>\n",
       "      <td>2020-04-01</td>\n",
       "      <td>2020</td>\n",
       "      <td>4</td>\n",
       "      <td>00:02:00</td>\n",
       "      <td>00:10:00</td>\n",
       "      <td>4</td>\n",
       "      <td>Spring</td>\n",
       "    </tr>\n",
       "    <tr>\n",
       "      <th>3</th>\n",
       "      <td>docked_bike</td>\n",
       "      <td>2020-04-01 00:06:00</td>\n",
       "      <td>2020-04-01 00:14:00</td>\n",
       "      <td>Mies van der Rohe Way &amp; Chicago Ave</td>\n",
       "      <td>173</td>\n",
       "      <td>Clark St &amp; Schiller St</td>\n",
       "      <td>301.0</td>\n",
       "      <td>41.8969</td>\n",
       "      <td>-87.6217</td>\n",
       "      <td>41.9080</td>\n",
       "      <td>-87.6315</td>\n",
       "      <td>member</td>\n",
       "      <td>00:08:00</td>\n",
       "      <td>2020-04-01</td>\n",
       "      <td>2020</td>\n",
       "      <td>4</td>\n",
       "      <td>00:06:00</td>\n",
       "      <td>00:14:00</td>\n",
       "      <td>4</td>\n",
       "      <td>Spring</td>\n",
       "    </tr>\n",
       "    <tr>\n",
       "      <th>4</th>\n",
       "      <td>docked_bike</td>\n",
       "      <td>2020-04-01 00:11:00</td>\n",
       "      <td>2020-04-01 00:11:00</td>\n",
       "      <td>Wabash Ave &amp; 9th St</td>\n",
       "      <td>321</td>\n",
       "      <td>Wabash Ave &amp; 9th St</td>\n",
       "      <td>321.0</td>\n",
       "      <td>41.8708</td>\n",
       "      <td>-87.6257</td>\n",
       "      <td>41.8708</td>\n",
       "      <td>-87.6257</td>\n",
       "      <td>member</td>\n",
       "      <td>00:00:00</td>\n",
       "      <td>2020-04-01</td>\n",
       "      <td>2020</td>\n",
       "      <td>4</td>\n",
       "      <td>00:11:00</td>\n",
       "      <td>00:11:00</td>\n",
       "      <td>4</td>\n",
       "      <td>Spring</td>\n",
       "    </tr>\n",
       "  </tbody>\n",
       "</table>\n",
       "</div>"
      ],
      "text/plain": [
       "       bike_id      start_datetime        end_datetime  \\\n",
       "0  docked_bike 2020-04-01 00:00:00 2020-04-01 00:23:00   \n",
       "1  docked_bike 2020-04-01 00:02:00 2020-04-01 00:24:00   \n",
       "2  docked_bike 2020-04-01 00:02:00 2020-04-01 00:10:00   \n",
       "3  docked_bike 2020-04-01 00:06:00 2020-04-01 00:14:00   \n",
       "4  docked_bike 2020-04-01 00:11:00 2020-04-01 00:11:00   \n",
       "\n",
       "                     from_station_name from_station_id  \\\n",
       "0           Damen Ave & Wellington Ave             162   \n",
       "1           Damen Ave & Wellington Ave             162   \n",
       "2                 Wabash Ave & 16th St              72   \n",
       "3  Mies van der Rohe Way & Chicago Ave             173   \n",
       "4                  Wabash Ave & 9th St             321   \n",
       "\n",
       "                 to_station_name to_station_id  start_lat  start_lng  end_lat  \\\n",
       "0  Pine Grove Ave & Waveland Ave         232.0    41.9359   -87.6784  41.9493   \n",
       "1   Spaulding Ave & Armitage Ave         506.0    41.9359   -87.6784  41.9171   \n",
       "2            Wabash Ave & 9th St         321.0    41.8604   -87.6258  41.8708   \n",
       "3         Clark St & Schiller St         301.0    41.8969   -87.6217  41.9080   \n",
       "4            Wabash Ave & 9th St         321.0    41.8708   -87.6257  41.8708   \n",
       "\n",
       "   end_lng usertype ride_length  ride_date  ride_year  ride_month start_time  \\\n",
       "0 -87.6463   casual    00:23:00 2020-04-01       2020           4   00:00:00   \n",
       "1 -87.7102   casual    00:22:00 2020-04-01       2020           4   00:02:00   \n",
       "2 -87.6257   member    00:08:00 2020-04-01       2020           4   00:02:00   \n",
       "3 -87.6315   member    00:08:00 2020-04-01       2020           4   00:06:00   \n",
       "4 -87.6257   member    00:00:00 2020-04-01       2020           4   00:11:00   \n",
       "\n",
       "   end_time  day_of_week  season  \n",
       "0  00:23:00            4  Spring  \n",
       "1  00:24:00            4  Spring  \n",
       "2  00:10:00            4  Spring  \n",
       "3  00:14:00            4  Spring  \n",
       "4  00:11:00            4  Spring  "
      ]
     },
     "execution_count": 41,
     "metadata": {},
     "output_type": "execute_result"
    }
   ],
   "source": [
    "all_trips.head()"
   ]
  },
  {
   "cell_type": "code",
   "execution_count": 42,
   "id": "9b151129",
   "metadata": {},
   "outputs": [
    {
     "data": {
      "text/html": [
       "<div>\n",
       "<style scoped>\n",
       "    .dataframe tbody tr th:only-of-type {\n",
       "        vertical-align: middle;\n",
       "    }\n",
       "\n",
       "    .dataframe tbody tr th {\n",
       "        vertical-align: top;\n",
       "    }\n",
       "\n",
       "    .dataframe thead th {\n",
       "        text-align: right;\n",
       "    }\n",
       "</style>\n",
       "<table border=\"1\" class=\"dataframe\">\n",
       "  <thead>\n",
       "    <tr style=\"text-align: right;\">\n",
       "      <th></th>\n",
       "      <th>bike_id</th>\n",
       "      <th>start_datetime</th>\n",
       "      <th>end_datetime</th>\n",
       "      <th>from_station_name</th>\n",
       "      <th>from_station_id</th>\n",
       "      <th>to_station_name</th>\n",
       "      <th>to_station_id</th>\n",
       "      <th>start_lat</th>\n",
       "      <th>start_lng</th>\n",
       "      <th>end_lat</th>\n",
       "      <th>end_lng</th>\n",
       "      <th>usertype</th>\n",
       "      <th>ride_length</th>\n",
       "      <th>ride_date</th>\n",
       "      <th>ride_year</th>\n",
       "      <th>ride_month</th>\n",
       "      <th>start_time</th>\n",
       "      <th>end_time</th>\n",
       "      <th>day_of_week</th>\n",
       "      <th>season</th>\n",
       "    </tr>\n",
       "  </thead>\n",
       "  <tbody>\n",
       "    <tr>\n",
       "      <th>374943</th>\n",
       "      <td>classic_bike</td>\n",
       "      <td>2021-03-31 23:56:00</td>\n",
       "      <td>2021-04-01 00:10:00</td>\n",
       "      <td>Michigan Ave &amp; 14th St</td>\n",
       "      <td>TA1307000124</td>\n",
       "      <td>Racine Ave &amp; 18th St</td>\n",
       "      <td>13164</td>\n",
       "      <td>41.864059</td>\n",
       "      <td>-87.623727</td>\n",
       "      <td>41.858166</td>\n",
       "      <td>-87.656495</td>\n",
       "      <td>member</td>\n",
       "      <td>00:13:45</td>\n",
       "      <td>2021-03-31</td>\n",
       "      <td>2021</td>\n",
       "      <td>3</td>\n",
       "      <td>23:56:37</td>\n",
       "      <td>00:10:22</td>\n",
       "      <td>4</td>\n",
       "      <td>Spring</td>\n",
       "    </tr>\n",
       "    <tr>\n",
       "      <th>374944</th>\n",
       "      <td>electric_bike</td>\n",
       "      <td>2021-03-31 23:57:00</td>\n",
       "      <td>2021-04-01 00:21:00</td>\n",
       "      <td>Clinton St &amp; Roosevelt Rd</td>\n",
       "      <td>WL-008</td>\n",
       "      <td>Damen Ave &amp; Cortland St</td>\n",
       "      <td>13133</td>\n",
       "      <td>41.867087</td>\n",
       "      <td>-87.641014</td>\n",
       "      <td>41.915945</td>\n",
       "      <td>-87.677218</td>\n",
       "      <td>member</td>\n",
       "      <td>00:23:12</td>\n",
       "      <td>2021-03-31</td>\n",
       "      <td>2021</td>\n",
       "      <td>3</td>\n",
       "      <td>23:57:50</td>\n",
       "      <td>00:21:02</td>\n",
       "      <td>4</td>\n",
       "      <td>Spring</td>\n",
       "    </tr>\n",
       "    <tr>\n",
       "      <th>374945</th>\n",
       "      <td>classic_bike</td>\n",
       "      <td>2021-03-31 23:58:00</td>\n",
       "      <td>2021-04-01 00:35:00</td>\n",
       "      <td>Dearborn St &amp; Erie St</td>\n",
       "      <td>13045</td>\n",
       "      <td>Clarendon Ave &amp; Junior Ter</td>\n",
       "      <td>13389</td>\n",
       "      <td>41.893992</td>\n",
       "      <td>-87.629318</td>\n",
       "      <td>41.961004</td>\n",
       "      <td>-87.649603</td>\n",
       "      <td>member</td>\n",
       "      <td>00:37:27</td>\n",
       "      <td>2021-03-31</td>\n",
       "      <td>2021</td>\n",
       "      <td>3</td>\n",
       "      <td>23:58:00</td>\n",
       "      <td>00:35:27</td>\n",
       "      <td>4</td>\n",
       "      <td>Spring</td>\n",
       "    </tr>\n",
       "    <tr>\n",
       "      <th>374946</th>\n",
       "      <td>classic_bike</td>\n",
       "      <td>2021-03-31 23:59:00</td>\n",
       "      <td>2021-04-01 00:11:00</td>\n",
       "      <td>Fairbanks Ct &amp; Grand Ave</td>\n",
       "      <td>TA1305000003</td>\n",
       "      <td>Clark St &amp; North Ave</td>\n",
       "      <td>13128</td>\n",
       "      <td>41.891847</td>\n",
       "      <td>-87.620580</td>\n",
       "      <td>41.911974</td>\n",
       "      <td>-87.631942</td>\n",
       "      <td>member</td>\n",
       "      <td>00:12:25</td>\n",
       "      <td>2021-03-31</td>\n",
       "      <td>2021</td>\n",
       "      <td>3</td>\n",
       "      <td>23:59:08</td>\n",
       "      <td>00:11:33</td>\n",
       "      <td>4</td>\n",
       "      <td>Spring</td>\n",
       "    </tr>\n",
       "    <tr>\n",
       "      <th>374947</th>\n",
       "      <td>classic_bike</td>\n",
       "      <td>2021-03-31 23:59:00</td>\n",
       "      <td>2021-04-01 00:07:00</td>\n",
       "      <td>Clark St &amp; Leland Ave</td>\n",
       "      <td>TA1309000014</td>\n",
       "      <td>Clark St &amp; Leland Ave</td>\n",
       "      <td>TA1309000014</td>\n",
       "      <td>41.967096</td>\n",
       "      <td>-87.667429</td>\n",
       "      <td>41.967096</td>\n",
       "      <td>-87.667429</td>\n",
       "      <td>member</td>\n",
       "      <td>00:07:59</td>\n",
       "      <td>2021-03-31</td>\n",
       "      <td>2021</td>\n",
       "      <td>3</td>\n",
       "      <td>23:59:05</td>\n",
       "      <td>00:07:04</td>\n",
       "      <td>4</td>\n",
       "      <td>Spring</td>\n",
       "    </tr>\n",
       "  </tbody>\n",
       "</table>\n",
       "</div>"
      ],
      "text/plain": [
       "              bike_id      start_datetime        end_datetime  \\\n",
       "374943   classic_bike 2021-03-31 23:56:00 2021-04-01 00:10:00   \n",
       "374944  electric_bike 2021-03-31 23:57:00 2021-04-01 00:21:00   \n",
       "374945   classic_bike 2021-03-31 23:58:00 2021-04-01 00:35:00   \n",
       "374946   classic_bike 2021-03-31 23:59:00 2021-04-01 00:11:00   \n",
       "374947   classic_bike 2021-03-31 23:59:00 2021-04-01 00:07:00   \n",
       "\n",
       "                from_station_name from_station_id             to_station_name  \\\n",
       "374943     Michigan Ave & 14th St    TA1307000124        Racine Ave & 18th St   \n",
       "374944  Clinton St & Roosevelt Rd          WL-008     Damen Ave & Cortland St   \n",
       "374945      Dearborn St & Erie St           13045  Clarendon Ave & Junior Ter   \n",
       "374946   Fairbanks Ct & Grand Ave    TA1305000003        Clark St & North Ave   \n",
       "374947      Clark St & Leland Ave    TA1309000014       Clark St & Leland Ave   \n",
       "\n",
       "       to_station_id  start_lat  start_lng    end_lat    end_lng usertype  \\\n",
       "374943         13164  41.864059 -87.623727  41.858166 -87.656495   member   \n",
       "374944         13133  41.867087 -87.641014  41.915945 -87.677218   member   \n",
       "374945         13389  41.893992 -87.629318  41.961004 -87.649603   member   \n",
       "374946         13128  41.891847 -87.620580  41.911974 -87.631942   member   \n",
       "374947  TA1309000014  41.967096 -87.667429  41.967096 -87.667429   member   \n",
       "\n",
       "       ride_length  ride_date  ride_year  ride_month start_time  end_time  \\\n",
       "374943    00:13:45 2021-03-31       2021           3   23:56:37  00:10:22   \n",
       "374944    00:23:12 2021-03-31       2021           3   23:57:50  00:21:02   \n",
       "374945    00:37:27 2021-03-31       2021           3   23:58:00  00:35:27   \n",
       "374946    00:12:25 2021-03-31       2021           3   23:59:08  00:11:33   \n",
       "374947    00:07:59 2021-03-31       2021           3   23:59:05  00:07:04   \n",
       "\n",
       "        day_of_week  season  \n",
       "374943            4  Spring  \n",
       "374944            4  Spring  \n",
       "374945            4  Spring  \n",
       "374946            4  Spring  \n",
       "374947            4  Spring  "
      ]
     },
     "execution_count": 42,
     "metadata": {},
     "output_type": "execute_result"
    }
   ],
   "source": [
    "all_trips.tail()"
   ]
  },
  {
   "cell_type": "code",
   "execution_count": 43,
   "id": "30337aa6",
   "metadata": {},
   "outputs": [
    {
     "data": {
      "text/plain": [
       "bike_id              string[python]\n",
       "start_datetime       datetime64[ns]\n",
       "end_datetime         datetime64[ns]\n",
       "from_station_name            object\n",
       "from_station_id              object\n",
       "to_station_name              object\n",
       "to_station_id                object\n",
       "start_lat                   float64\n",
       "start_lng                   float64\n",
       "end_lat                     float64\n",
       "end_lng                     float64\n",
       "usertype                     object\n",
       "ride_length                  object\n",
       "ride_date            datetime64[ns]\n",
       "ride_year                     int64\n",
       "ride_month                    int64\n",
       "start_time                   object\n",
       "end_time                     object\n",
       "day_of_week                   int64\n",
       "season                       object\n",
       "dtype: object"
      ]
     },
     "execution_count": 43,
     "metadata": {},
     "output_type": "execute_result"
    }
   ],
   "source": [
    "all_trips.dtypes"
   ]
  },
  {
   "cell_type": "code",
   "execution_count": 44,
   "id": "264a9384",
   "metadata": {},
   "outputs": [
    {
     "name": "stdout",
     "output_type": "stream",
     "text": [
      "<class 'pandas.core.frame.DataFrame'>\n",
      "Index: 3361454 entries, 0 to 374947\n",
      "Data columns (total 20 columns):\n",
      " #   Column             Dtype         \n",
      "---  ------             -----         \n",
      " 0   bike_id            string        \n",
      " 1   start_datetime     datetime64[ns]\n",
      " 2   end_datetime       datetime64[ns]\n",
      " 3   from_station_name  object        \n",
      " 4   from_station_id    object        \n",
      " 5   to_station_name    object        \n",
      " 6   to_station_id      object        \n",
      " 7   start_lat          float64       \n",
      " 8   start_lng          float64       \n",
      " 9   end_lat            float64       \n",
      " 10  end_lng            float64       \n",
      " 11  usertype           object        \n",
      " 12  ride_length        object        \n",
      " 13  ride_date          datetime64[ns]\n",
      " 14  ride_year          int64         \n",
      " 15  ride_month         int64         \n",
      " 16  start_time         object        \n",
      " 17  end_time           object        \n",
      " 18  day_of_week        int64         \n",
      " 19  season             object        \n",
      "dtypes: datetime64[ns](3), float64(4), int64(3), object(9), string(1)\n",
      "memory usage: 538.6+ MB\n"
     ]
    }
   ],
   "source": [
    "all_trips.info()"
   ]
  },
  {
   "cell_type": "code",
   "execution_count": 45,
   "id": "a4914739",
   "metadata": {},
   "outputs": [
    {
     "data": {
      "text/html": [
       "<div>\n",
       "<style scoped>\n",
       "    .dataframe tbody tr th:only-of-type {\n",
       "        vertical-align: middle;\n",
       "    }\n",
       "\n",
       "    .dataframe tbody tr th {\n",
       "        vertical-align: top;\n",
       "    }\n",
       "\n",
       "    .dataframe thead th {\n",
       "        text-align: right;\n",
       "    }\n",
       "</style>\n",
       "<table border=\"1\" class=\"dataframe\">\n",
       "  <thead>\n",
       "    <tr style=\"text-align: right;\">\n",
       "      <th></th>\n",
       "      <th>start_datetime</th>\n",
       "      <th>end_datetime</th>\n",
       "      <th>start_lat</th>\n",
       "      <th>start_lng</th>\n",
       "      <th>end_lat</th>\n",
       "      <th>end_lng</th>\n",
       "      <th>ride_date</th>\n",
       "      <th>ride_year</th>\n",
       "      <th>ride_month</th>\n",
       "      <th>day_of_week</th>\n",
       "    </tr>\n",
       "  </thead>\n",
       "  <tbody>\n",
       "    <tr>\n",
       "      <th>count</th>\n",
       "      <td>3361454</td>\n",
       "      <td>3361454</td>\n",
       "      <td>3.361454e+06</td>\n",
       "      <td>3.361454e+06</td>\n",
       "      <td>3.356928e+06</td>\n",
       "      <td>3.356928e+06</td>\n",
       "      <td>3361454</td>\n",
       "      <td>3.361454e+06</td>\n",
       "      <td>3.361454e+06</td>\n",
       "      <td>3.361454e+06</td>\n",
       "    </tr>\n",
       "    <tr>\n",
       "      <th>mean</th>\n",
       "      <td>2020-09-14 01:21:08.642918144</td>\n",
       "      <td>2020-09-14 01:48:52.996475392</td>\n",
       "      <td>4.190405e+01</td>\n",
       "      <td>-8.764483e+01</td>\n",
       "      <td>4.190431e+01</td>\n",
       "      <td>-8.764510e+01</td>\n",
       "      <td>2020-09-13 10:33:27.652641536</td>\n",
       "      <td>2.020112e+03</td>\n",
       "      <td>7.602613e+00</td>\n",
       "      <td>4.166715e+00</td>\n",
       "    </tr>\n",
       "    <tr>\n",
       "      <th>min</th>\n",
       "      <td>2020-04-01 00:00:00</td>\n",
       "      <td>2020-04-01 00:10:00</td>\n",
       "      <td>4.164000e+01</td>\n",
       "      <td>-8.787000e+01</td>\n",
       "      <td>4.154000e+01</td>\n",
       "      <td>-8.807000e+01</td>\n",
       "      <td>2020-04-01 00:00:00</td>\n",
       "      <td>2.020000e+03</td>\n",
       "      <td>1.000000e+00</td>\n",
       "      <td>1.000000e+00</td>\n",
       "    </tr>\n",
       "    <tr>\n",
       "      <th>25%</th>\n",
       "      <td>2020-07-19 23:07:00</td>\n",
       "      <td>2020-07-20 00:20:15</td>\n",
       "      <td>4.188224e+01</td>\n",
       "      <td>-8.765887e+01</td>\n",
       "      <td>4.188266e+01</td>\n",
       "      <td>-8.765913e+01</td>\n",
       "      <td>2020-07-19 00:00:00</td>\n",
       "      <td>2.020000e+03</td>\n",
       "      <td>6.000000e+00</td>\n",
       "      <td>2.000000e+00</td>\n",
       "    </tr>\n",
       "    <tr>\n",
       "      <th>50%</th>\n",
       "      <td>2020-09-01 08:11:00</td>\n",
       "      <td>2020-09-01 08:27:00</td>\n",
       "      <td>4.190000e+01</td>\n",
       "      <td>-8.764164e+01</td>\n",
       "      <td>4.190051e+01</td>\n",
       "      <td>-8.764182e+01</td>\n",
       "      <td>2020-09-01 00:00:00</td>\n",
       "      <td>2.020000e+03</td>\n",
       "      <td>8.000000e+00</td>\n",
       "      <td>4.000000e+00</td>\n",
       "    </tr>\n",
       "    <tr>\n",
       "      <th>75%</th>\n",
       "      <td>2020-10-23 19:00:00</td>\n",
       "      <td>2020-10-23 19:14:45</td>\n",
       "      <td>4.193000e+01</td>\n",
       "      <td>-8.762773e+01</td>\n",
       "      <td>4.193059e+01</td>\n",
       "      <td>-8.762773e+01</td>\n",
       "      <td>2020-10-23 00:00:00</td>\n",
       "      <td>2.020000e+03</td>\n",
       "      <td>9.000000e+00</td>\n",
       "      <td>6.000000e+00</td>\n",
       "    </tr>\n",
       "    <tr>\n",
       "      <th>max</th>\n",
       "      <td>2021-03-31 23:59:00</td>\n",
       "      <td>2021-04-06 11:00:00</td>\n",
       "      <td>4.208000e+01</td>\n",
       "      <td>-8.752000e+01</td>\n",
       "      <td>4.216000e+01</td>\n",
       "      <td>-8.744000e+01</td>\n",
       "      <td>2021-03-31 00:00:00</td>\n",
       "      <td>2.021000e+03</td>\n",
       "      <td>1.200000e+01</td>\n",
       "      <td>7.000000e+00</td>\n",
       "    </tr>\n",
       "    <tr>\n",
       "      <th>std</th>\n",
       "      <td>NaN</td>\n",
       "      <td>NaN</td>\n",
       "      <td>4.364799e-02</td>\n",
       "      <td>2.576318e-02</td>\n",
       "      <td>4.373907e-02</td>\n",
       "      <td>2.589359e-02</td>\n",
       "      <td>NaN</td>\n",
       "      <td>3.148039e-01</td>\n",
       "      <td>2.572610e+00</td>\n",
       "      <td>2.085861e+00</td>\n",
       "    </tr>\n",
       "  </tbody>\n",
       "</table>\n",
       "</div>"
      ],
      "text/plain": [
       "                      start_datetime                   end_datetime  \\\n",
       "count                        3361454                        3361454   \n",
       "mean   2020-09-14 01:21:08.642918144  2020-09-14 01:48:52.996475392   \n",
       "min              2020-04-01 00:00:00            2020-04-01 00:10:00   \n",
       "25%              2020-07-19 23:07:00            2020-07-20 00:20:15   \n",
       "50%              2020-09-01 08:11:00            2020-09-01 08:27:00   \n",
       "75%              2020-10-23 19:00:00            2020-10-23 19:14:45   \n",
       "max              2021-03-31 23:59:00            2021-04-06 11:00:00   \n",
       "std                              NaN                            NaN   \n",
       "\n",
       "          start_lat     start_lng       end_lat       end_lng  \\\n",
       "count  3.361454e+06  3.361454e+06  3.356928e+06  3.356928e+06   \n",
       "mean   4.190405e+01 -8.764483e+01  4.190431e+01 -8.764510e+01   \n",
       "min    4.164000e+01 -8.787000e+01  4.154000e+01 -8.807000e+01   \n",
       "25%    4.188224e+01 -8.765887e+01  4.188266e+01 -8.765913e+01   \n",
       "50%    4.190000e+01 -8.764164e+01  4.190051e+01 -8.764182e+01   \n",
       "75%    4.193000e+01 -8.762773e+01  4.193059e+01 -8.762773e+01   \n",
       "max    4.208000e+01 -8.752000e+01  4.216000e+01 -8.744000e+01   \n",
       "std    4.364799e-02  2.576318e-02  4.373907e-02  2.589359e-02   \n",
       "\n",
       "                           ride_date     ride_year    ride_month   day_of_week  \n",
       "count                        3361454  3.361454e+06  3.361454e+06  3.361454e+06  \n",
       "mean   2020-09-13 10:33:27.652641536  2.020112e+03  7.602613e+00  4.166715e+00  \n",
       "min              2020-04-01 00:00:00  2.020000e+03  1.000000e+00  1.000000e+00  \n",
       "25%              2020-07-19 00:00:00  2.020000e+03  6.000000e+00  2.000000e+00  \n",
       "50%              2020-09-01 00:00:00  2.020000e+03  8.000000e+00  4.000000e+00  \n",
       "75%              2020-10-23 00:00:00  2.020000e+03  9.000000e+00  6.000000e+00  \n",
       "max              2021-03-31 00:00:00  2.021000e+03  1.200000e+01  7.000000e+00  \n",
       "std                              NaN  3.148039e-01  2.572610e+00  2.085861e+00  "
      ]
     },
     "execution_count": 45,
     "metadata": {},
     "output_type": "execute_result"
    }
   ],
   "source": [
    "all_trips.describe()"
   ]
  },
  {
   "cell_type": "code",
   "execution_count": 46,
   "id": "9983e204",
   "metadata": {
    "scrolled": true
   },
   "outputs": [
    {
     "data": {
      "text/html": [
       "<div>\n",
       "<style scoped>\n",
       "    .dataframe tbody tr th:only-of-type {\n",
       "        vertical-align: middle;\n",
       "    }\n",
       "\n",
       "    .dataframe tbody tr th {\n",
       "        vertical-align: top;\n",
       "    }\n",
       "\n",
       "    .dataframe thead th {\n",
       "        text-align: right;\n",
       "    }\n",
       "</style>\n",
       "<table border=\"1\" class=\"dataframe\">\n",
       "  <thead>\n",
       "    <tr style=\"text-align: right;\">\n",
       "      <th></th>\n",
       "      <th>bike_id</th>\n",
       "      <th>start_datetime</th>\n",
       "      <th>end_datetime</th>\n",
       "      <th>from_station_name</th>\n",
       "      <th>from_station_id</th>\n",
       "      <th>to_station_name</th>\n",
       "      <th>to_station_id</th>\n",
       "      <th>start_lat</th>\n",
       "      <th>start_lng</th>\n",
       "      <th>end_lat</th>\n",
       "      <th>end_lng</th>\n",
       "      <th>usertype</th>\n",
       "      <th>ride_length</th>\n",
       "      <th>ride_date</th>\n",
       "      <th>ride_year</th>\n",
       "      <th>ride_month</th>\n",
       "      <th>start_time</th>\n",
       "      <th>end_time</th>\n",
       "      <th>day_of_week</th>\n",
       "      <th>season</th>\n",
       "    </tr>\n",
       "  </thead>\n",
       "  <tbody>\n",
       "    <tr>\n",
       "      <th>count</th>\n",
       "      <td>3361454</td>\n",
       "      <td>3361454</td>\n",
       "      <td>3361454</td>\n",
       "      <td>3239326</td>\n",
       "      <td>3238700.0</td>\n",
       "      <td>3218482</td>\n",
       "      <td>3218021.0</td>\n",
       "      <td>3.361454e+06</td>\n",
       "      <td>3.361454e+06</td>\n",
       "      <td>3.356928e+06</td>\n",
       "      <td>3.356928e+06</td>\n",
       "      <td>3361454</td>\n",
       "      <td>3361454</td>\n",
       "      <td>3361454</td>\n",
       "      <td>3.361454e+06</td>\n",
       "      <td>3.361454e+06</td>\n",
       "      <td>3361454</td>\n",
       "      <td>3361454</td>\n",
       "      <td>3.361454e+06</td>\n",
       "      <td>3361454</td>\n",
       "    </tr>\n",
       "    <tr>\n",
       "      <th>unique</th>\n",
       "      <td>3</td>\n",
       "      <td>NaN</td>\n",
       "      <td>NaN</td>\n",
       "      <td>708</td>\n",
       "      <td>1344.0</td>\n",
       "      <td>706</td>\n",
       "      <td>1345.0</td>\n",
       "      <td>NaN</td>\n",
       "      <td>NaN</td>\n",
       "      <td>NaN</td>\n",
       "      <td>NaN</td>\n",
       "      <td>2</td>\n",
       "      <td>29539</td>\n",
       "      <td>NaN</td>\n",
       "      <td>NaN</td>\n",
       "      <td>NaN</td>\n",
       "      <td>84828</td>\n",
       "      <td>85272</td>\n",
       "      <td>NaN</td>\n",
       "      <td>4</td>\n",
       "    </tr>\n",
       "    <tr>\n",
       "      <th>top</th>\n",
       "      <td>docked_bike</td>\n",
       "      <td>NaN</td>\n",
       "      <td>NaN</td>\n",
       "      <td>Streeter Dr &amp; Grand Ave</td>\n",
       "      <td>35.0</td>\n",
       "      <td>Streeter Dr &amp; Grand Ave</td>\n",
       "      <td>35.0</td>\n",
       "      <td>NaN</td>\n",
       "      <td>NaN</td>\n",
       "      <td>NaN</td>\n",
       "      <td>NaN</td>\n",
       "      <td>member</td>\n",
       "      <td>00:06:00</td>\n",
       "      <td>NaN</td>\n",
       "      <td>NaN</td>\n",
       "      <td>NaN</td>\n",
       "      <td>17:12:00</td>\n",
       "      <td>17:50:00</td>\n",
       "      <td>NaN</td>\n",
       "      <td>Summer</td>\n",
       "    </tr>\n",
       "    <tr>\n",
       "      <th>freq</th>\n",
       "      <td>2430386</td>\n",
       "      <td>NaN</td>\n",
       "      <td>NaN</td>\n",
       "      <td>34891</td>\n",
       "      <td>31975.0</td>\n",
       "      <td>37012</td>\n",
       "      <td>34156.0</td>\n",
       "      <td>NaN</td>\n",
       "      <td>NaN</td>\n",
       "      <td>NaN</td>\n",
       "      <td>NaN</td>\n",
       "      <td>1985294</td>\n",
       "      <td>5807</td>\n",
       "      <td>NaN</td>\n",
       "      <td>NaN</td>\n",
       "      <td>NaN</td>\n",
       "      <td>275</td>\n",
       "      <td>281</td>\n",
       "      <td>NaN</td>\n",
       "      <td>1509496</td>\n",
       "    </tr>\n",
       "    <tr>\n",
       "      <th>mean</th>\n",
       "      <td>NaN</td>\n",
       "      <td>2020-09-14 01:21:08.642918144</td>\n",
       "      <td>2020-09-14 01:48:52.996475392</td>\n",
       "      <td>NaN</td>\n",
       "      <td>NaN</td>\n",
       "      <td>NaN</td>\n",
       "      <td>NaN</td>\n",
       "      <td>4.190405e+01</td>\n",
       "      <td>-8.764483e+01</td>\n",
       "      <td>4.190431e+01</td>\n",
       "      <td>-8.764510e+01</td>\n",
       "      <td>NaN</td>\n",
       "      <td>NaN</td>\n",
       "      <td>2020-09-13 10:33:27.652641536</td>\n",
       "      <td>2.020112e+03</td>\n",
       "      <td>7.602613e+00</td>\n",
       "      <td>NaN</td>\n",
       "      <td>NaN</td>\n",
       "      <td>4.166715e+00</td>\n",
       "      <td>NaN</td>\n",
       "    </tr>\n",
       "    <tr>\n",
       "      <th>min</th>\n",
       "      <td>NaN</td>\n",
       "      <td>2020-04-01 00:00:00</td>\n",
       "      <td>2020-04-01 00:10:00</td>\n",
       "      <td>NaN</td>\n",
       "      <td>NaN</td>\n",
       "      <td>NaN</td>\n",
       "      <td>NaN</td>\n",
       "      <td>4.164000e+01</td>\n",
       "      <td>-8.787000e+01</td>\n",
       "      <td>4.154000e+01</td>\n",
       "      <td>-8.807000e+01</td>\n",
       "      <td>NaN</td>\n",
       "      <td>NaN</td>\n",
       "      <td>2020-04-01 00:00:00</td>\n",
       "      <td>2.020000e+03</td>\n",
       "      <td>1.000000e+00</td>\n",
       "      <td>NaN</td>\n",
       "      <td>NaN</td>\n",
       "      <td>1.000000e+00</td>\n",
       "      <td>NaN</td>\n",
       "    </tr>\n",
       "    <tr>\n",
       "      <th>25%</th>\n",
       "      <td>NaN</td>\n",
       "      <td>2020-07-19 23:07:00</td>\n",
       "      <td>2020-07-20 00:20:15</td>\n",
       "      <td>NaN</td>\n",
       "      <td>NaN</td>\n",
       "      <td>NaN</td>\n",
       "      <td>NaN</td>\n",
       "      <td>4.188224e+01</td>\n",
       "      <td>-8.765887e+01</td>\n",
       "      <td>4.188266e+01</td>\n",
       "      <td>-8.765913e+01</td>\n",
       "      <td>NaN</td>\n",
       "      <td>NaN</td>\n",
       "      <td>2020-07-19 00:00:00</td>\n",
       "      <td>2.020000e+03</td>\n",
       "      <td>6.000000e+00</td>\n",
       "      <td>NaN</td>\n",
       "      <td>NaN</td>\n",
       "      <td>2.000000e+00</td>\n",
       "      <td>NaN</td>\n",
       "    </tr>\n",
       "    <tr>\n",
       "      <th>50%</th>\n",
       "      <td>NaN</td>\n",
       "      <td>2020-09-01 08:11:00</td>\n",
       "      <td>2020-09-01 08:27:00</td>\n",
       "      <td>NaN</td>\n",
       "      <td>NaN</td>\n",
       "      <td>NaN</td>\n",
       "      <td>NaN</td>\n",
       "      <td>4.190000e+01</td>\n",
       "      <td>-8.764164e+01</td>\n",
       "      <td>4.190051e+01</td>\n",
       "      <td>-8.764182e+01</td>\n",
       "      <td>NaN</td>\n",
       "      <td>NaN</td>\n",
       "      <td>2020-09-01 00:00:00</td>\n",
       "      <td>2.020000e+03</td>\n",
       "      <td>8.000000e+00</td>\n",
       "      <td>NaN</td>\n",
       "      <td>NaN</td>\n",
       "      <td>4.000000e+00</td>\n",
       "      <td>NaN</td>\n",
       "    </tr>\n",
       "    <tr>\n",
       "      <th>75%</th>\n",
       "      <td>NaN</td>\n",
       "      <td>2020-10-23 19:00:00</td>\n",
       "      <td>2020-10-23 19:14:45</td>\n",
       "      <td>NaN</td>\n",
       "      <td>NaN</td>\n",
       "      <td>NaN</td>\n",
       "      <td>NaN</td>\n",
       "      <td>4.193000e+01</td>\n",
       "      <td>-8.762773e+01</td>\n",
       "      <td>4.193059e+01</td>\n",
       "      <td>-8.762773e+01</td>\n",
       "      <td>NaN</td>\n",
       "      <td>NaN</td>\n",
       "      <td>2020-10-23 00:00:00</td>\n",
       "      <td>2.020000e+03</td>\n",
       "      <td>9.000000e+00</td>\n",
       "      <td>NaN</td>\n",
       "      <td>NaN</td>\n",
       "      <td>6.000000e+00</td>\n",
       "      <td>NaN</td>\n",
       "    </tr>\n",
       "    <tr>\n",
       "      <th>max</th>\n",
       "      <td>NaN</td>\n",
       "      <td>2021-03-31 23:59:00</td>\n",
       "      <td>2021-04-06 11:00:00</td>\n",
       "      <td>NaN</td>\n",
       "      <td>NaN</td>\n",
       "      <td>NaN</td>\n",
       "      <td>NaN</td>\n",
       "      <td>4.208000e+01</td>\n",
       "      <td>-8.752000e+01</td>\n",
       "      <td>4.216000e+01</td>\n",
       "      <td>-8.744000e+01</td>\n",
       "      <td>NaN</td>\n",
       "      <td>NaN</td>\n",
       "      <td>2021-03-31 00:00:00</td>\n",
       "      <td>2.021000e+03</td>\n",
       "      <td>1.200000e+01</td>\n",
       "      <td>NaN</td>\n",
       "      <td>NaN</td>\n",
       "      <td>7.000000e+00</td>\n",
       "      <td>NaN</td>\n",
       "    </tr>\n",
       "    <tr>\n",
       "      <th>std</th>\n",
       "      <td>NaN</td>\n",
       "      <td>NaN</td>\n",
       "      <td>NaN</td>\n",
       "      <td>NaN</td>\n",
       "      <td>NaN</td>\n",
       "      <td>NaN</td>\n",
       "      <td>NaN</td>\n",
       "      <td>4.364799e-02</td>\n",
       "      <td>2.576318e-02</td>\n",
       "      <td>4.373907e-02</td>\n",
       "      <td>2.589359e-02</td>\n",
       "      <td>NaN</td>\n",
       "      <td>NaN</td>\n",
       "      <td>NaN</td>\n",
       "      <td>3.148039e-01</td>\n",
       "      <td>2.572610e+00</td>\n",
       "      <td>NaN</td>\n",
       "      <td>NaN</td>\n",
       "      <td>2.085861e+00</td>\n",
       "      <td>NaN</td>\n",
       "    </tr>\n",
       "  </tbody>\n",
       "</table>\n",
       "</div>"
      ],
      "text/plain": [
       "            bike_id                 start_datetime  \\\n",
       "count       3361454                        3361454   \n",
       "unique            3                            NaN   \n",
       "top     docked_bike                            NaN   \n",
       "freq        2430386                            NaN   \n",
       "mean            NaN  2020-09-14 01:21:08.642918144   \n",
       "min             NaN            2020-04-01 00:00:00   \n",
       "25%             NaN            2020-07-19 23:07:00   \n",
       "50%             NaN            2020-09-01 08:11:00   \n",
       "75%             NaN            2020-10-23 19:00:00   \n",
       "max             NaN            2021-03-31 23:59:00   \n",
       "std             NaN                            NaN   \n",
       "\n",
       "                         end_datetime        from_station_name  \\\n",
       "count                         3361454                  3239326   \n",
       "unique                            NaN                      708   \n",
       "top                               NaN  Streeter Dr & Grand Ave   \n",
       "freq                              NaN                    34891   \n",
       "mean    2020-09-14 01:48:52.996475392                      NaN   \n",
       "min               2020-04-01 00:10:00                      NaN   \n",
       "25%               2020-07-20 00:20:15                      NaN   \n",
       "50%               2020-09-01 08:27:00                      NaN   \n",
       "75%               2020-10-23 19:14:45                      NaN   \n",
       "max               2021-04-06 11:00:00                      NaN   \n",
       "std                               NaN                      NaN   \n",
       "\n",
       "        from_station_id          to_station_name  to_station_id     start_lat  \\\n",
       "count         3238700.0                  3218482      3218021.0  3.361454e+06   \n",
       "unique           1344.0                      706         1345.0           NaN   \n",
       "top                35.0  Streeter Dr & Grand Ave           35.0           NaN   \n",
       "freq            31975.0                    37012        34156.0           NaN   \n",
       "mean                NaN                      NaN            NaN  4.190405e+01   \n",
       "min                 NaN                      NaN            NaN  4.164000e+01   \n",
       "25%                 NaN                      NaN            NaN  4.188224e+01   \n",
       "50%                 NaN                      NaN            NaN  4.190000e+01   \n",
       "75%                 NaN                      NaN            NaN  4.193000e+01   \n",
       "max                 NaN                      NaN            NaN  4.208000e+01   \n",
       "std                 NaN                      NaN            NaN  4.364799e-02   \n",
       "\n",
       "           start_lng       end_lat       end_lng usertype ride_length  \\\n",
       "count   3.361454e+06  3.356928e+06  3.356928e+06  3361454     3361454   \n",
       "unique           NaN           NaN           NaN        2       29539   \n",
       "top              NaN           NaN           NaN   member    00:06:00   \n",
       "freq             NaN           NaN           NaN  1985294        5807   \n",
       "mean   -8.764483e+01  4.190431e+01 -8.764510e+01      NaN         NaN   \n",
       "min    -8.787000e+01  4.154000e+01 -8.807000e+01      NaN         NaN   \n",
       "25%    -8.765887e+01  4.188266e+01 -8.765913e+01      NaN         NaN   \n",
       "50%    -8.764164e+01  4.190051e+01 -8.764182e+01      NaN         NaN   \n",
       "75%    -8.762773e+01  4.193059e+01 -8.762773e+01      NaN         NaN   \n",
       "max    -8.752000e+01  4.216000e+01 -8.744000e+01      NaN         NaN   \n",
       "std     2.576318e-02  4.373907e-02  2.589359e-02      NaN         NaN   \n",
       "\n",
       "                            ride_date     ride_year    ride_month start_time  \\\n",
       "count                         3361454  3.361454e+06  3.361454e+06    3361454   \n",
       "unique                            NaN           NaN           NaN      84828   \n",
       "top                               NaN           NaN           NaN   17:12:00   \n",
       "freq                              NaN           NaN           NaN        275   \n",
       "mean    2020-09-13 10:33:27.652641536  2.020112e+03  7.602613e+00        NaN   \n",
       "min               2020-04-01 00:00:00  2.020000e+03  1.000000e+00        NaN   \n",
       "25%               2020-07-19 00:00:00  2.020000e+03  6.000000e+00        NaN   \n",
       "50%               2020-09-01 00:00:00  2.020000e+03  8.000000e+00        NaN   \n",
       "75%               2020-10-23 00:00:00  2.020000e+03  9.000000e+00        NaN   \n",
       "max               2021-03-31 00:00:00  2.021000e+03  1.200000e+01        NaN   \n",
       "std                               NaN  3.148039e-01  2.572610e+00        NaN   \n",
       "\n",
       "        end_time   day_of_week   season  \n",
       "count    3361454  3.361454e+06  3361454  \n",
       "unique     85272           NaN        4  \n",
       "top     17:50:00           NaN   Summer  \n",
       "freq         281           NaN  1509496  \n",
       "mean         NaN  4.166715e+00      NaN  \n",
       "min          NaN  1.000000e+00      NaN  \n",
       "25%          NaN  2.000000e+00      NaN  \n",
       "50%          NaN  4.000000e+00      NaN  \n",
       "75%          NaN  6.000000e+00      NaN  \n",
       "max          NaN  7.000000e+00      NaN  \n",
       "std          NaN  2.085861e+00      NaN  "
      ]
     },
     "execution_count": 46,
     "metadata": {},
     "output_type": "execute_result"
    }
   ],
   "source": [
    "all_trips.describe(include='all')"
   ]
  },
  {
   "cell_type": "code",
   "execution_count": 47,
   "id": "cf0abedb",
   "metadata": {},
   "outputs": [],
   "source": [
    "all_trips['ride_duration'] = all_trips['end_datetime'] - all_trips['start_datetime']"
   ]
  },
  {
   "cell_type": "code",
   "execution_count": 48,
   "id": "55264b09",
   "metadata": {},
   "outputs": [
    {
     "data": {
      "text/html": [
       "<div>\n",
       "<style scoped>\n",
       "    .dataframe tbody tr th:only-of-type {\n",
       "        vertical-align: middle;\n",
       "    }\n",
       "\n",
       "    .dataframe tbody tr th {\n",
       "        vertical-align: top;\n",
       "    }\n",
       "\n",
       "    .dataframe thead th {\n",
       "        text-align: right;\n",
       "    }\n",
       "</style>\n",
       "<table border=\"1\" class=\"dataframe\">\n",
       "  <thead>\n",
       "    <tr style=\"text-align: right;\">\n",
       "      <th></th>\n",
       "      <th>bike_id</th>\n",
       "      <th>start_datetime</th>\n",
       "      <th>end_datetime</th>\n",
       "      <th>from_station_name</th>\n",
       "      <th>from_station_id</th>\n",
       "      <th>to_station_name</th>\n",
       "      <th>to_station_id</th>\n",
       "      <th>start_lat</th>\n",
       "      <th>start_lng</th>\n",
       "      <th>end_lat</th>\n",
       "      <th>...</th>\n",
       "      <th>usertype</th>\n",
       "      <th>ride_length</th>\n",
       "      <th>ride_date</th>\n",
       "      <th>ride_year</th>\n",
       "      <th>ride_month</th>\n",
       "      <th>start_time</th>\n",
       "      <th>end_time</th>\n",
       "      <th>day_of_week</th>\n",
       "      <th>season</th>\n",
       "      <th>ride_duration</th>\n",
       "    </tr>\n",
       "  </thead>\n",
       "  <tbody>\n",
       "    <tr>\n",
       "      <th>0</th>\n",
       "      <td>docked_bike</td>\n",
       "      <td>2020-04-01 00:00:00</td>\n",
       "      <td>2020-04-01 00:23:00</td>\n",
       "      <td>Damen Ave &amp; Wellington Ave</td>\n",
       "      <td>162</td>\n",
       "      <td>Pine Grove Ave &amp; Waveland Ave</td>\n",
       "      <td>232.0</td>\n",
       "      <td>41.935900</td>\n",
       "      <td>-87.678400</td>\n",
       "      <td>41.949300</td>\n",
       "      <td>...</td>\n",
       "      <td>casual</td>\n",
       "      <td>00:23:00</td>\n",
       "      <td>2020-04-01</td>\n",
       "      <td>2020</td>\n",
       "      <td>4</td>\n",
       "      <td>00:00:00</td>\n",
       "      <td>00:23:00</td>\n",
       "      <td>4</td>\n",
       "      <td>Spring</td>\n",
       "      <td>0 days 00:23:00</td>\n",
       "    </tr>\n",
       "    <tr>\n",
       "      <th>1</th>\n",
       "      <td>docked_bike</td>\n",
       "      <td>2020-04-01 00:02:00</td>\n",
       "      <td>2020-04-01 00:24:00</td>\n",
       "      <td>Damen Ave &amp; Wellington Ave</td>\n",
       "      <td>162</td>\n",
       "      <td>Spaulding Ave &amp; Armitage Ave</td>\n",
       "      <td>506.0</td>\n",
       "      <td>41.935900</td>\n",
       "      <td>-87.678400</td>\n",
       "      <td>41.917100</td>\n",
       "      <td>...</td>\n",
       "      <td>casual</td>\n",
       "      <td>00:22:00</td>\n",
       "      <td>2020-04-01</td>\n",
       "      <td>2020</td>\n",
       "      <td>4</td>\n",
       "      <td>00:02:00</td>\n",
       "      <td>00:24:00</td>\n",
       "      <td>4</td>\n",
       "      <td>Spring</td>\n",
       "      <td>0 days 00:22:00</td>\n",
       "    </tr>\n",
       "    <tr>\n",
       "      <th>2</th>\n",
       "      <td>docked_bike</td>\n",
       "      <td>2020-04-01 00:02:00</td>\n",
       "      <td>2020-04-01 00:10:00</td>\n",
       "      <td>Wabash Ave &amp; 16th St</td>\n",
       "      <td>72</td>\n",
       "      <td>Wabash Ave &amp; 9th St</td>\n",
       "      <td>321.0</td>\n",
       "      <td>41.860400</td>\n",
       "      <td>-87.625800</td>\n",
       "      <td>41.870800</td>\n",
       "      <td>...</td>\n",
       "      <td>member</td>\n",
       "      <td>00:08:00</td>\n",
       "      <td>2020-04-01</td>\n",
       "      <td>2020</td>\n",
       "      <td>4</td>\n",
       "      <td>00:02:00</td>\n",
       "      <td>00:10:00</td>\n",
       "      <td>4</td>\n",
       "      <td>Spring</td>\n",
       "      <td>0 days 00:08:00</td>\n",
       "    </tr>\n",
       "    <tr>\n",
       "      <th>3</th>\n",
       "      <td>docked_bike</td>\n",
       "      <td>2020-04-01 00:06:00</td>\n",
       "      <td>2020-04-01 00:14:00</td>\n",
       "      <td>Mies van der Rohe Way &amp; Chicago Ave</td>\n",
       "      <td>173</td>\n",
       "      <td>Clark St &amp; Schiller St</td>\n",
       "      <td>301.0</td>\n",
       "      <td>41.896900</td>\n",
       "      <td>-87.621700</td>\n",
       "      <td>41.908000</td>\n",
       "      <td>...</td>\n",
       "      <td>member</td>\n",
       "      <td>00:08:00</td>\n",
       "      <td>2020-04-01</td>\n",
       "      <td>2020</td>\n",
       "      <td>4</td>\n",
       "      <td>00:06:00</td>\n",
       "      <td>00:14:00</td>\n",
       "      <td>4</td>\n",
       "      <td>Spring</td>\n",
       "      <td>0 days 00:08:00</td>\n",
       "    </tr>\n",
       "    <tr>\n",
       "      <th>4</th>\n",
       "      <td>docked_bike</td>\n",
       "      <td>2020-04-01 00:11:00</td>\n",
       "      <td>2020-04-01 00:11:00</td>\n",
       "      <td>Wabash Ave &amp; 9th St</td>\n",
       "      <td>321</td>\n",
       "      <td>Wabash Ave &amp; 9th St</td>\n",
       "      <td>321.0</td>\n",
       "      <td>41.870800</td>\n",
       "      <td>-87.625700</td>\n",
       "      <td>41.870800</td>\n",
       "      <td>...</td>\n",
       "      <td>member</td>\n",
       "      <td>00:00:00</td>\n",
       "      <td>2020-04-01</td>\n",
       "      <td>2020</td>\n",
       "      <td>4</td>\n",
       "      <td>00:11:00</td>\n",
       "      <td>00:11:00</td>\n",
       "      <td>4</td>\n",
       "      <td>Spring</td>\n",
       "      <td>0 days 00:00:00</td>\n",
       "    </tr>\n",
       "    <tr>\n",
       "      <th>...</th>\n",
       "      <td>...</td>\n",
       "      <td>...</td>\n",
       "      <td>...</td>\n",
       "      <td>...</td>\n",
       "      <td>...</td>\n",
       "      <td>...</td>\n",
       "      <td>...</td>\n",
       "      <td>...</td>\n",
       "      <td>...</td>\n",
       "      <td>...</td>\n",
       "      <td>...</td>\n",
       "      <td>...</td>\n",
       "      <td>...</td>\n",
       "      <td>...</td>\n",
       "      <td>...</td>\n",
       "      <td>...</td>\n",
       "      <td>...</td>\n",
       "      <td>...</td>\n",
       "      <td>...</td>\n",
       "      <td>...</td>\n",
       "      <td>...</td>\n",
       "    </tr>\n",
       "    <tr>\n",
       "      <th>374943</th>\n",
       "      <td>classic_bike</td>\n",
       "      <td>2021-03-31 23:56:00</td>\n",
       "      <td>2021-04-01 00:10:00</td>\n",
       "      <td>Michigan Ave &amp; 14th St</td>\n",
       "      <td>TA1307000124</td>\n",
       "      <td>Racine Ave &amp; 18th St</td>\n",
       "      <td>13164</td>\n",
       "      <td>41.864059</td>\n",
       "      <td>-87.623727</td>\n",
       "      <td>41.858166</td>\n",
       "      <td>...</td>\n",
       "      <td>member</td>\n",
       "      <td>00:13:45</td>\n",
       "      <td>2021-03-31</td>\n",
       "      <td>2021</td>\n",
       "      <td>3</td>\n",
       "      <td>23:56:37</td>\n",
       "      <td>00:10:22</td>\n",
       "      <td>4</td>\n",
       "      <td>Spring</td>\n",
       "      <td>0 days 00:14:00</td>\n",
       "    </tr>\n",
       "    <tr>\n",
       "      <th>374944</th>\n",
       "      <td>electric_bike</td>\n",
       "      <td>2021-03-31 23:57:00</td>\n",
       "      <td>2021-04-01 00:21:00</td>\n",
       "      <td>Clinton St &amp; Roosevelt Rd</td>\n",
       "      <td>WL-008</td>\n",
       "      <td>Damen Ave &amp; Cortland St</td>\n",
       "      <td>13133</td>\n",
       "      <td>41.867087</td>\n",
       "      <td>-87.641014</td>\n",
       "      <td>41.915945</td>\n",
       "      <td>...</td>\n",
       "      <td>member</td>\n",
       "      <td>00:23:12</td>\n",
       "      <td>2021-03-31</td>\n",
       "      <td>2021</td>\n",
       "      <td>3</td>\n",
       "      <td>23:57:50</td>\n",
       "      <td>00:21:02</td>\n",
       "      <td>4</td>\n",
       "      <td>Spring</td>\n",
       "      <td>0 days 00:24:00</td>\n",
       "    </tr>\n",
       "    <tr>\n",
       "      <th>374945</th>\n",
       "      <td>classic_bike</td>\n",
       "      <td>2021-03-31 23:58:00</td>\n",
       "      <td>2021-04-01 00:35:00</td>\n",
       "      <td>Dearborn St &amp; Erie St</td>\n",
       "      <td>13045</td>\n",
       "      <td>Clarendon Ave &amp; Junior Ter</td>\n",
       "      <td>13389</td>\n",
       "      <td>41.893992</td>\n",
       "      <td>-87.629318</td>\n",
       "      <td>41.961004</td>\n",
       "      <td>...</td>\n",
       "      <td>member</td>\n",
       "      <td>00:37:27</td>\n",
       "      <td>2021-03-31</td>\n",
       "      <td>2021</td>\n",
       "      <td>3</td>\n",
       "      <td>23:58:00</td>\n",
       "      <td>00:35:27</td>\n",
       "      <td>4</td>\n",
       "      <td>Spring</td>\n",
       "      <td>0 days 00:37:00</td>\n",
       "    </tr>\n",
       "    <tr>\n",
       "      <th>374946</th>\n",
       "      <td>classic_bike</td>\n",
       "      <td>2021-03-31 23:59:00</td>\n",
       "      <td>2021-04-01 00:11:00</td>\n",
       "      <td>Fairbanks Ct &amp; Grand Ave</td>\n",
       "      <td>TA1305000003</td>\n",
       "      <td>Clark St &amp; North Ave</td>\n",
       "      <td>13128</td>\n",
       "      <td>41.891847</td>\n",
       "      <td>-87.620580</td>\n",
       "      <td>41.911974</td>\n",
       "      <td>...</td>\n",
       "      <td>member</td>\n",
       "      <td>00:12:25</td>\n",
       "      <td>2021-03-31</td>\n",
       "      <td>2021</td>\n",
       "      <td>3</td>\n",
       "      <td>23:59:08</td>\n",
       "      <td>00:11:33</td>\n",
       "      <td>4</td>\n",
       "      <td>Spring</td>\n",
       "      <td>0 days 00:12:00</td>\n",
       "    </tr>\n",
       "    <tr>\n",
       "      <th>374947</th>\n",
       "      <td>classic_bike</td>\n",
       "      <td>2021-03-31 23:59:00</td>\n",
       "      <td>2021-04-01 00:07:00</td>\n",
       "      <td>Clark St &amp; Leland Ave</td>\n",
       "      <td>TA1309000014</td>\n",
       "      <td>Clark St &amp; Leland Ave</td>\n",
       "      <td>TA1309000014</td>\n",
       "      <td>41.967096</td>\n",
       "      <td>-87.667429</td>\n",
       "      <td>41.967096</td>\n",
       "      <td>...</td>\n",
       "      <td>member</td>\n",
       "      <td>00:07:59</td>\n",
       "      <td>2021-03-31</td>\n",
       "      <td>2021</td>\n",
       "      <td>3</td>\n",
       "      <td>23:59:05</td>\n",
       "      <td>00:07:04</td>\n",
       "      <td>4</td>\n",
       "      <td>Spring</td>\n",
       "      <td>0 days 00:08:00</td>\n",
       "    </tr>\n",
       "  </tbody>\n",
       "</table>\n",
       "<p>3361454 rows × 21 columns</p>\n",
       "</div>"
      ],
      "text/plain": [
       "              bike_id      start_datetime        end_datetime  \\\n",
       "0         docked_bike 2020-04-01 00:00:00 2020-04-01 00:23:00   \n",
       "1         docked_bike 2020-04-01 00:02:00 2020-04-01 00:24:00   \n",
       "2         docked_bike 2020-04-01 00:02:00 2020-04-01 00:10:00   \n",
       "3         docked_bike 2020-04-01 00:06:00 2020-04-01 00:14:00   \n",
       "4         docked_bike 2020-04-01 00:11:00 2020-04-01 00:11:00   \n",
       "...               ...                 ...                 ...   \n",
       "374943   classic_bike 2021-03-31 23:56:00 2021-04-01 00:10:00   \n",
       "374944  electric_bike 2021-03-31 23:57:00 2021-04-01 00:21:00   \n",
       "374945   classic_bike 2021-03-31 23:58:00 2021-04-01 00:35:00   \n",
       "374946   classic_bike 2021-03-31 23:59:00 2021-04-01 00:11:00   \n",
       "374947   classic_bike 2021-03-31 23:59:00 2021-04-01 00:07:00   \n",
       "\n",
       "                          from_station_name from_station_id  \\\n",
       "0                Damen Ave & Wellington Ave             162   \n",
       "1                Damen Ave & Wellington Ave             162   \n",
       "2                      Wabash Ave & 16th St              72   \n",
       "3       Mies van der Rohe Way & Chicago Ave             173   \n",
       "4                       Wabash Ave & 9th St             321   \n",
       "...                                     ...             ...   \n",
       "374943               Michigan Ave & 14th St    TA1307000124   \n",
       "374944            Clinton St & Roosevelt Rd          WL-008   \n",
       "374945                Dearborn St & Erie St           13045   \n",
       "374946             Fairbanks Ct & Grand Ave    TA1305000003   \n",
       "374947                Clark St & Leland Ave    TA1309000014   \n",
       "\n",
       "                      to_station_name to_station_id  start_lat  start_lng  \\\n",
       "0       Pine Grove Ave & Waveland Ave         232.0  41.935900 -87.678400   \n",
       "1        Spaulding Ave & Armitage Ave         506.0  41.935900 -87.678400   \n",
       "2                 Wabash Ave & 9th St         321.0  41.860400 -87.625800   \n",
       "3              Clark St & Schiller St         301.0  41.896900 -87.621700   \n",
       "4                 Wabash Ave & 9th St         321.0  41.870800 -87.625700   \n",
       "...                               ...           ...        ...        ...   \n",
       "374943           Racine Ave & 18th St         13164  41.864059 -87.623727   \n",
       "374944        Damen Ave & Cortland St         13133  41.867087 -87.641014   \n",
       "374945     Clarendon Ave & Junior Ter         13389  41.893992 -87.629318   \n",
       "374946           Clark St & North Ave         13128  41.891847 -87.620580   \n",
       "374947          Clark St & Leland Ave  TA1309000014  41.967096 -87.667429   \n",
       "\n",
       "          end_lat  ...  usertype ride_length  ride_date ride_year  ride_month  \\\n",
       "0       41.949300  ...    casual    00:23:00 2020-04-01      2020           4   \n",
       "1       41.917100  ...    casual    00:22:00 2020-04-01      2020           4   \n",
       "2       41.870800  ...    member    00:08:00 2020-04-01      2020           4   \n",
       "3       41.908000  ...    member    00:08:00 2020-04-01      2020           4   \n",
       "4       41.870800  ...    member    00:00:00 2020-04-01      2020           4   \n",
       "...           ...  ...       ...         ...        ...       ...         ...   \n",
       "374943  41.858166  ...    member    00:13:45 2021-03-31      2021           3   \n",
       "374944  41.915945  ...    member    00:23:12 2021-03-31      2021           3   \n",
       "374945  41.961004  ...    member    00:37:27 2021-03-31      2021           3   \n",
       "374946  41.911974  ...    member    00:12:25 2021-03-31      2021           3   \n",
       "374947  41.967096  ...    member    00:07:59 2021-03-31      2021           3   \n",
       "\n",
       "        start_time  end_time day_of_week  season   ride_duration  \n",
       "0         00:00:00  00:23:00           4  Spring 0 days 00:23:00  \n",
       "1         00:02:00  00:24:00           4  Spring 0 days 00:22:00  \n",
       "2         00:02:00  00:10:00           4  Spring 0 days 00:08:00  \n",
       "3         00:06:00  00:14:00           4  Spring 0 days 00:08:00  \n",
       "4         00:11:00  00:11:00           4  Spring 0 days 00:00:00  \n",
       "...            ...       ...         ...     ...             ...  \n",
       "374943    23:56:37  00:10:22           4  Spring 0 days 00:14:00  \n",
       "374944    23:57:50  00:21:02           4  Spring 0 days 00:24:00  \n",
       "374945    23:58:00  00:35:27           4  Spring 0 days 00:37:00  \n",
       "374946    23:59:08  00:11:33           4  Spring 0 days 00:12:00  \n",
       "374947    23:59:05  00:07:04           4  Spring 0 days 00:08:00  \n",
       "\n",
       "[3361454 rows x 21 columns]"
      ]
     },
     "execution_count": 48,
     "metadata": {},
     "output_type": "execute_result"
    }
   ],
   "source": [
    "all_trips[all_trips.columns[:21]]"
   ]
  },
  {
   "cell_type": "code",
   "execution_count": 49,
   "id": "2efa52a3",
   "metadata": {},
   "outputs": [],
   "source": [
    "del all_trips['start_lat']"
   ]
  },
  {
   "cell_type": "code",
   "execution_count": 50,
   "id": "47d54ad1",
   "metadata": {},
   "outputs": [],
   "source": [
    "del all_trips['start_lng']"
   ]
  },
  {
   "cell_type": "code",
   "execution_count": 51,
   "id": "a852e88b",
   "metadata": {},
   "outputs": [],
   "source": [
    "del all_trips['end_lat']"
   ]
  },
  {
   "cell_type": "code",
   "execution_count": 52,
   "id": "f88c38e0",
   "metadata": {},
   "outputs": [],
   "source": [
    "del all_trips['end_lng']"
   ]
  },
  {
   "cell_type": "code",
   "execution_count": 53,
   "id": "4560765f",
   "metadata": {},
   "outputs": [
    {
     "data": {
      "text/html": [
       "<div>\n",
       "<style scoped>\n",
       "    .dataframe tbody tr th:only-of-type {\n",
       "        vertical-align: middle;\n",
       "    }\n",
       "\n",
       "    .dataframe tbody tr th {\n",
       "        vertical-align: top;\n",
       "    }\n",
       "\n",
       "    .dataframe thead th {\n",
       "        text-align: right;\n",
       "    }\n",
       "</style>\n",
       "<table border=\"1\" class=\"dataframe\">\n",
       "  <thead>\n",
       "    <tr style=\"text-align: right;\">\n",
       "      <th></th>\n",
       "      <th>bike_id</th>\n",
       "      <th>start_datetime</th>\n",
       "      <th>end_datetime</th>\n",
       "      <th>from_station_name</th>\n",
       "      <th>from_station_id</th>\n",
       "      <th>to_station_name</th>\n",
       "      <th>to_station_id</th>\n",
       "      <th>usertype</th>\n",
       "      <th>ride_length</th>\n",
       "      <th>ride_date</th>\n",
       "      <th>ride_year</th>\n",
       "      <th>ride_month</th>\n",
       "      <th>start_time</th>\n",
       "      <th>end_time</th>\n",
       "      <th>day_of_week</th>\n",
       "      <th>season</th>\n",
       "      <th>ride_duration</th>\n",
       "    </tr>\n",
       "  </thead>\n",
       "  <tbody>\n",
       "    <tr>\n",
       "      <th>0</th>\n",
       "      <td>docked_bike</td>\n",
       "      <td>2020-04-01 00:00:00</td>\n",
       "      <td>2020-04-01 00:23:00</td>\n",
       "      <td>Damen Ave &amp; Wellington Ave</td>\n",
       "      <td>162</td>\n",
       "      <td>Pine Grove Ave &amp; Waveland Ave</td>\n",
       "      <td>232.0</td>\n",
       "      <td>casual</td>\n",
       "      <td>00:23:00</td>\n",
       "      <td>2020-04-01</td>\n",
       "      <td>2020</td>\n",
       "      <td>4</td>\n",
       "      <td>00:00:00</td>\n",
       "      <td>00:23:00</td>\n",
       "      <td>4</td>\n",
       "      <td>Spring</td>\n",
       "      <td>0 days 00:23:00</td>\n",
       "    </tr>\n",
       "    <tr>\n",
       "      <th>1</th>\n",
       "      <td>docked_bike</td>\n",
       "      <td>2020-04-01 00:02:00</td>\n",
       "      <td>2020-04-01 00:24:00</td>\n",
       "      <td>Damen Ave &amp; Wellington Ave</td>\n",
       "      <td>162</td>\n",
       "      <td>Spaulding Ave &amp; Armitage Ave</td>\n",
       "      <td>506.0</td>\n",
       "      <td>casual</td>\n",
       "      <td>00:22:00</td>\n",
       "      <td>2020-04-01</td>\n",
       "      <td>2020</td>\n",
       "      <td>4</td>\n",
       "      <td>00:02:00</td>\n",
       "      <td>00:24:00</td>\n",
       "      <td>4</td>\n",
       "      <td>Spring</td>\n",
       "      <td>0 days 00:22:00</td>\n",
       "    </tr>\n",
       "    <tr>\n",
       "      <th>2</th>\n",
       "      <td>docked_bike</td>\n",
       "      <td>2020-04-01 00:02:00</td>\n",
       "      <td>2020-04-01 00:10:00</td>\n",
       "      <td>Wabash Ave &amp; 16th St</td>\n",
       "      <td>72</td>\n",
       "      <td>Wabash Ave &amp; 9th St</td>\n",
       "      <td>321.0</td>\n",
       "      <td>member</td>\n",
       "      <td>00:08:00</td>\n",
       "      <td>2020-04-01</td>\n",
       "      <td>2020</td>\n",
       "      <td>4</td>\n",
       "      <td>00:02:00</td>\n",
       "      <td>00:10:00</td>\n",
       "      <td>4</td>\n",
       "      <td>Spring</td>\n",
       "      <td>0 days 00:08:00</td>\n",
       "    </tr>\n",
       "    <tr>\n",
       "      <th>3</th>\n",
       "      <td>docked_bike</td>\n",
       "      <td>2020-04-01 00:06:00</td>\n",
       "      <td>2020-04-01 00:14:00</td>\n",
       "      <td>Mies van der Rohe Way &amp; Chicago Ave</td>\n",
       "      <td>173</td>\n",
       "      <td>Clark St &amp; Schiller St</td>\n",
       "      <td>301.0</td>\n",
       "      <td>member</td>\n",
       "      <td>00:08:00</td>\n",
       "      <td>2020-04-01</td>\n",
       "      <td>2020</td>\n",
       "      <td>4</td>\n",
       "      <td>00:06:00</td>\n",
       "      <td>00:14:00</td>\n",
       "      <td>4</td>\n",
       "      <td>Spring</td>\n",
       "      <td>0 days 00:08:00</td>\n",
       "    </tr>\n",
       "    <tr>\n",
       "      <th>4</th>\n",
       "      <td>docked_bike</td>\n",
       "      <td>2020-04-01 00:11:00</td>\n",
       "      <td>2020-04-01 00:11:00</td>\n",
       "      <td>Wabash Ave &amp; 9th St</td>\n",
       "      <td>321</td>\n",
       "      <td>Wabash Ave &amp; 9th St</td>\n",
       "      <td>321.0</td>\n",
       "      <td>member</td>\n",
       "      <td>00:00:00</td>\n",
       "      <td>2020-04-01</td>\n",
       "      <td>2020</td>\n",
       "      <td>4</td>\n",
       "      <td>00:11:00</td>\n",
       "      <td>00:11:00</td>\n",
       "      <td>4</td>\n",
       "      <td>Spring</td>\n",
       "      <td>0 days 00:00:00</td>\n",
       "    </tr>\n",
       "    <tr>\n",
       "      <th>...</th>\n",
       "      <td>...</td>\n",
       "      <td>...</td>\n",
       "      <td>...</td>\n",
       "      <td>...</td>\n",
       "      <td>...</td>\n",
       "      <td>...</td>\n",
       "      <td>...</td>\n",
       "      <td>...</td>\n",
       "      <td>...</td>\n",
       "      <td>...</td>\n",
       "      <td>...</td>\n",
       "      <td>...</td>\n",
       "      <td>...</td>\n",
       "      <td>...</td>\n",
       "      <td>...</td>\n",
       "      <td>...</td>\n",
       "      <td>...</td>\n",
       "    </tr>\n",
       "    <tr>\n",
       "      <th>374943</th>\n",
       "      <td>classic_bike</td>\n",
       "      <td>2021-03-31 23:56:00</td>\n",
       "      <td>2021-04-01 00:10:00</td>\n",
       "      <td>Michigan Ave &amp; 14th St</td>\n",
       "      <td>TA1307000124</td>\n",
       "      <td>Racine Ave &amp; 18th St</td>\n",
       "      <td>13164</td>\n",
       "      <td>member</td>\n",
       "      <td>00:13:45</td>\n",
       "      <td>2021-03-31</td>\n",
       "      <td>2021</td>\n",
       "      <td>3</td>\n",
       "      <td>23:56:37</td>\n",
       "      <td>00:10:22</td>\n",
       "      <td>4</td>\n",
       "      <td>Spring</td>\n",
       "      <td>0 days 00:14:00</td>\n",
       "    </tr>\n",
       "    <tr>\n",
       "      <th>374944</th>\n",
       "      <td>electric_bike</td>\n",
       "      <td>2021-03-31 23:57:00</td>\n",
       "      <td>2021-04-01 00:21:00</td>\n",
       "      <td>Clinton St &amp; Roosevelt Rd</td>\n",
       "      <td>WL-008</td>\n",
       "      <td>Damen Ave &amp; Cortland St</td>\n",
       "      <td>13133</td>\n",
       "      <td>member</td>\n",
       "      <td>00:23:12</td>\n",
       "      <td>2021-03-31</td>\n",
       "      <td>2021</td>\n",
       "      <td>3</td>\n",
       "      <td>23:57:50</td>\n",
       "      <td>00:21:02</td>\n",
       "      <td>4</td>\n",
       "      <td>Spring</td>\n",
       "      <td>0 days 00:24:00</td>\n",
       "    </tr>\n",
       "    <tr>\n",
       "      <th>374945</th>\n",
       "      <td>classic_bike</td>\n",
       "      <td>2021-03-31 23:58:00</td>\n",
       "      <td>2021-04-01 00:35:00</td>\n",
       "      <td>Dearborn St &amp; Erie St</td>\n",
       "      <td>13045</td>\n",
       "      <td>Clarendon Ave &amp; Junior Ter</td>\n",
       "      <td>13389</td>\n",
       "      <td>member</td>\n",
       "      <td>00:37:27</td>\n",
       "      <td>2021-03-31</td>\n",
       "      <td>2021</td>\n",
       "      <td>3</td>\n",
       "      <td>23:58:00</td>\n",
       "      <td>00:35:27</td>\n",
       "      <td>4</td>\n",
       "      <td>Spring</td>\n",
       "      <td>0 days 00:37:00</td>\n",
       "    </tr>\n",
       "    <tr>\n",
       "      <th>374946</th>\n",
       "      <td>classic_bike</td>\n",
       "      <td>2021-03-31 23:59:00</td>\n",
       "      <td>2021-04-01 00:11:00</td>\n",
       "      <td>Fairbanks Ct &amp; Grand Ave</td>\n",
       "      <td>TA1305000003</td>\n",
       "      <td>Clark St &amp; North Ave</td>\n",
       "      <td>13128</td>\n",
       "      <td>member</td>\n",
       "      <td>00:12:25</td>\n",
       "      <td>2021-03-31</td>\n",
       "      <td>2021</td>\n",
       "      <td>3</td>\n",
       "      <td>23:59:08</td>\n",
       "      <td>00:11:33</td>\n",
       "      <td>4</td>\n",
       "      <td>Spring</td>\n",
       "      <td>0 days 00:12:00</td>\n",
       "    </tr>\n",
       "    <tr>\n",
       "      <th>374947</th>\n",
       "      <td>classic_bike</td>\n",
       "      <td>2021-03-31 23:59:00</td>\n",
       "      <td>2021-04-01 00:07:00</td>\n",
       "      <td>Clark St &amp; Leland Ave</td>\n",
       "      <td>TA1309000014</td>\n",
       "      <td>Clark St &amp; Leland Ave</td>\n",
       "      <td>TA1309000014</td>\n",
       "      <td>member</td>\n",
       "      <td>00:07:59</td>\n",
       "      <td>2021-03-31</td>\n",
       "      <td>2021</td>\n",
       "      <td>3</td>\n",
       "      <td>23:59:05</td>\n",
       "      <td>00:07:04</td>\n",
       "      <td>4</td>\n",
       "      <td>Spring</td>\n",
       "      <td>0 days 00:08:00</td>\n",
       "    </tr>\n",
       "  </tbody>\n",
       "</table>\n",
       "<p>3361454 rows × 17 columns</p>\n",
       "</div>"
      ],
      "text/plain": [
       "              bike_id      start_datetime        end_datetime  \\\n",
       "0         docked_bike 2020-04-01 00:00:00 2020-04-01 00:23:00   \n",
       "1         docked_bike 2020-04-01 00:02:00 2020-04-01 00:24:00   \n",
       "2         docked_bike 2020-04-01 00:02:00 2020-04-01 00:10:00   \n",
       "3         docked_bike 2020-04-01 00:06:00 2020-04-01 00:14:00   \n",
       "4         docked_bike 2020-04-01 00:11:00 2020-04-01 00:11:00   \n",
       "...               ...                 ...                 ...   \n",
       "374943   classic_bike 2021-03-31 23:56:00 2021-04-01 00:10:00   \n",
       "374944  electric_bike 2021-03-31 23:57:00 2021-04-01 00:21:00   \n",
       "374945   classic_bike 2021-03-31 23:58:00 2021-04-01 00:35:00   \n",
       "374946   classic_bike 2021-03-31 23:59:00 2021-04-01 00:11:00   \n",
       "374947   classic_bike 2021-03-31 23:59:00 2021-04-01 00:07:00   \n",
       "\n",
       "                          from_station_name from_station_id  \\\n",
       "0                Damen Ave & Wellington Ave             162   \n",
       "1                Damen Ave & Wellington Ave             162   \n",
       "2                      Wabash Ave & 16th St              72   \n",
       "3       Mies van der Rohe Way & Chicago Ave             173   \n",
       "4                       Wabash Ave & 9th St             321   \n",
       "...                                     ...             ...   \n",
       "374943               Michigan Ave & 14th St    TA1307000124   \n",
       "374944            Clinton St & Roosevelt Rd          WL-008   \n",
       "374945                Dearborn St & Erie St           13045   \n",
       "374946             Fairbanks Ct & Grand Ave    TA1305000003   \n",
       "374947                Clark St & Leland Ave    TA1309000014   \n",
       "\n",
       "                      to_station_name to_station_id usertype ride_length  \\\n",
       "0       Pine Grove Ave & Waveland Ave         232.0   casual    00:23:00   \n",
       "1        Spaulding Ave & Armitage Ave         506.0   casual    00:22:00   \n",
       "2                 Wabash Ave & 9th St         321.0   member    00:08:00   \n",
       "3              Clark St & Schiller St         301.0   member    00:08:00   \n",
       "4                 Wabash Ave & 9th St         321.0   member    00:00:00   \n",
       "...                               ...           ...      ...         ...   \n",
       "374943           Racine Ave & 18th St         13164   member    00:13:45   \n",
       "374944        Damen Ave & Cortland St         13133   member    00:23:12   \n",
       "374945     Clarendon Ave & Junior Ter         13389   member    00:37:27   \n",
       "374946           Clark St & North Ave         13128   member    00:12:25   \n",
       "374947          Clark St & Leland Ave  TA1309000014   member    00:07:59   \n",
       "\n",
       "        ride_date  ride_year  ride_month start_time  end_time  day_of_week  \\\n",
       "0      2020-04-01       2020           4   00:00:00  00:23:00            4   \n",
       "1      2020-04-01       2020           4   00:02:00  00:24:00            4   \n",
       "2      2020-04-01       2020           4   00:02:00  00:10:00            4   \n",
       "3      2020-04-01       2020           4   00:06:00  00:14:00            4   \n",
       "4      2020-04-01       2020           4   00:11:00  00:11:00            4   \n",
       "...           ...        ...         ...        ...       ...          ...   \n",
       "374943 2021-03-31       2021           3   23:56:37  00:10:22            4   \n",
       "374944 2021-03-31       2021           3   23:57:50  00:21:02            4   \n",
       "374945 2021-03-31       2021           3   23:58:00  00:35:27            4   \n",
       "374946 2021-03-31       2021           3   23:59:08  00:11:33            4   \n",
       "374947 2021-03-31       2021           3   23:59:05  00:07:04            4   \n",
       "\n",
       "        season   ride_duration  \n",
       "0       Spring 0 days 00:23:00  \n",
       "1       Spring 0 days 00:22:00  \n",
       "2       Spring 0 days 00:08:00  \n",
       "3       Spring 0 days 00:08:00  \n",
       "4       Spring 0 days 00:00:00  \n",
       "...        ...             ...  \n",
       "374943  Spring 0 days 00:14:00  \n",
       "374944  Spring 0 days 00:24:00  \n",
       "374945  Spring 0 days 00:37:00  \n",
       "374946  Spring 0 days 00:12:00  \n",
       "374947  Spring 0 days 00:08:00  \n",
       "\n",
       "[3361454 rows x 17 columns]"
      ]
     },
     "execution_count": 53,
     "metadata": {},
     "output_type": "execute_result"
    }
   ],
   "source": [
    "all_trips"
   ]
  },
  {
   "cell_type": "code",
   "execution_count": 54,
   "id": "f8f5ef22",
   "metadata": {},
   "outputs": [],
   "source": [
    "all_trips['Day'] = all_trips['ride_date'].dt.day"
   ]
  },
  {
   "cell_type": "code",
   "execution_count": 55,
   "id": "243818f3",
   "metadata": {},
   "outputs": [],
   "source": [
    "all_trips['Month'] = pd.DatetimeIndex(all_trips['ride_date']).month_name()"
   ]
  },
  {
   "cell_type": "code",
   "execution_count": 56,
   "id": "f7ddce8d",
   "metadata": {},
   "outputs": [],
   "source": [
    "all_trips['Year'] = pd.DatetimeIndex(all_trips['ride_date']).year"
   ]
  },
  {
   "cell_type": "code",
   "execution_count": 57,
   "id": "429e5aa0",
   "metadata": {},
   "outputs": [],
   "source": [
    "all_trips['WeekDay'] = pd.DatetimeIndex(all_trips['ride_date']).day_name()"
   ]
  },
  {
   "cell_type": "code",
   "execution_count": 58,
   "id": "e157a0e1",
   "metadata": {},
   "outputs": [],
   "source": [
    "#all_trips.rename(columns = {'ride_day':'Day'}, inplace = True)"
   ]
  },
  {
   "cell_type": "code",
   "execution_count": 59,
   "id": "e261f1f7",
   "metadata": {},
   "outputs": [
    {
     "data": {
      "text/html": [
       "<div>\n",
       "<style scoped>\n",
       "    .dataframe tbody tr th:only-of-type {\n",
       "        vertical-align: middle;\n",
       "    }\n",
       "\n",
       "    .dataframe tbody tr th {\n",
       "        vertical-align: top;\n",
       "    }\n",
       "\n",
       "    .dataframe thead th {\n",
       "        text-align: right;\n",
       "    }\n",
       "</style>\n",
       "<table border=\"1\" class=\"dataframe\">\n",
       "  <thead>\n",
       "    <tr style=\"text-align: right;\">\n",
       "      <th></th>\n",
       "      <th>bike_id</th>\n",
       "      <th>start_datetime</th>\n",
       "      <th>end_datetime</th>\n",
       "      <th>from_station_name</th>\n",
       "      <th>from_station_id</th>\n",
       "      <th>to_station_name</th>\n",
       "      <th>to_station_id</th>\n",
       "      <th>usertype</th>\n",
       "      <th>ride_length</th>\n",
       "      <th>ride_date</th>\n",
       "      <th>...</th>\n",
       "      <th>ride_month</th>\n",
       "      <th>start_time</th>\n",
       "      <th>end_time</th>\n",
       "      <th>day_of_week</th>\n",
       "      <th>season</th>\n",
       "      <th>ride_duration</th>\n",
       "      <th>Day</th>\n",
       "      <th>Month</th>\n",
       "      <th>Year</th>\n",
       "      <th>WeekDay</th>\n",
       "    </tr>\n",
       "  </thead>\n",
       "  <tbody>\n",
       "    <tr>\n",
       "      <th>0</th>\n",
       "      <td>docked_bike</td>\n",
       "      <td>2020-04-01 00:00:00</td>\n",
       "      <td>2020-04-01 00:23:00</td>\n",
       "      <td>Damen Ave &amp; Wellington Ave</td>\n",
       "      <td>162</td>\n",
       "      <td>Pine Grove Ave &amp; Waveland Ave</td>\n",
       "      <td>232.0</td>\n",
       "      <td>casual</td>\n",
       "      <td>00:23:00</td>\n",
       "      <td>2020-04-01</td>\n",
       "      <td>...</td>\n",
       "      <td>4</td>\n",
       "      <td>00:00:00</td>\n",
       "      <td>00:23:00</td>\n",
       "      <td>4</td>\n",
       "      <td>Spring</td>\n",
       "      <td>0 days 00:23:00</td>\n",
       "      <td>1</td>\n",
       "      <td>April</td>\n",
       "      <td>2020</td>\n",
       "      <td>Wednesday</td>\n",
       "    </tr>\n",
       "    <tr>\n",
       "      <th>1</th>\n",
       "      <td>docked_bike</td>\n",
       "      <td>2020-04-01 00:02:00</td>\n",
       "      <td>2020-04-01 00:24:00</td>\n",
       "      <td>Damen Ave &amp; Wellington Ave</td>\n",
       "      <td>162</td>\n",
       "      <td>Spaulding Ave &amp; Armitage Ave</td>\n",
       "      <td>506.0</td>\n",
       "      <td>casual</td>\n",
       "      <td>00:22:00</td>\n",
       "      <td>2020-04-01</td>\n",
       "      <td>...</td>\n",
       "      <td>4</td>\n",
       "      <td>00:02:00</td>\n",
       "      <td>00:24:00</td>\n",
       "      <td>4</td>\n",
       "      <td>Spring</td>\n",
       "      <td>0 days 00:22:00</td>\n",
       "      <td>1</td>\n",
       "      <td>April</td>\n",
       "      <td>2020</td>\n",
       "      <td>Wednesday</td>\n",
       "    </tr>\n",
       "    <tr>\n",
       "      <th>2</th>\n",
       "      <td>docked_bike</td>\n",
       "      <td>2020-04-01 00:02:00</td>\n",
       "      <td>2020-04-01 00:10:00</td>\n",
       "      <td>Wabash Ave &amp; 16th St</td>\n",
       "      <td>72</td>\n",
       "      <td>Wabash Ave &amp; 9th St</td>\n",
       "      <td>321.0</td>\n",
       "      <td>member</td>\n",
       "      <td>00:08:00</td>\n",
       "      <td>2020-04-01</td>\n",
       "      <td>...</td>\n",
       "      <td>4</td>\n",
       "      <td>00:02:00</td>\n",
       "      <td>00:10:00</td>\n",
       "      <td>4</td>\n",
       "      <td>Spring</td>\n",
       "      <td>0 days 00:08:00</td>\n",
       "      <td>1</td>\n",
       "      <td>April</td>\n",
       "      <td>2020</td>\n",
       "      <td>Wednesday</td>\n",
       "    </tr>\n",
       "    <tr>\n",
       "      <th>3</th>\n",
       "      <td>docked_bike</td>\n",
       "      <td>2020-04-01 00:06:00</td>\n",
       "      <td>2020-04-01 00:14:00</td>\n",
       "      <td>Mies van der Rohe Way &amp; Chicago Ave</td>\n",
       "      <td>173</td>\n",
       "      <td>Clark St &amp; Schiller St</td>\n",
       "      <td>301.0</td>\n",
       "      <td>member</td>\n",
       "      <td>00:08:00</td>\n",
       "      <td>2020-04-01</td>\n",
       "      <td>...</td>\n",
       "      <td>4</td>\n",
       "      <td>00:06:00</td>\n",
       "      <td>00:14:00</td>\n",
       "      <td>4</td>\n",
       "      <td>Spring</td>\n",
       "      <td>0 days 00:08:00</td>\n",
       "      <td>1</td>\n",
       "      <td>April</td>\n",
       "      <td>2020</td>\n",
       "      <td>Wednesday</td>\n",
       "    </tr>\n",
       "    <tr>\n",
       "      <th>4</th>\n",
       "      <td>docked_bike</td>\n",
       "      <td>2020-04-01 00:11:00</td>\n",
       "      <td>2020-04-01 00:11:00</td>\n",
       "      <td>Wabash Ave &amp; 9th St</td>\n",
       "      <td>321</td>\n",
       "      <td>Wabash Ave &amp; 9th St</td>\n",
       "      <td>321.0</td>\n",
       "      <td>member</td>\n",
       "      <td>00:00:00</td>\n",
       "      <td>2020-04-01</td>\n",
       "      <td>...</td>\n",
       "      <td>4</td>\n",
       "      <td>00:11:00</td>\n",
       "      <td>00:11:00</td>\n",
       "      <td>4</td>\n",
       "      <td>Spring</td>\n",
       "      <td>0 days 00:00:00</td>\n",
       "      <td>1</td>\n",
       "      <td>April</td>\n",
       "      <td>2020</td>\n",
       "      <td>Wednesday</td>\n",
       "    </tr>\n",
       "    <tr>\n",
       "      <th>...</th>\n",
       "      <td>...</td>\n",
       "      <td>...</td>\n",
       "      <td>...</td>\n",
       "      <td>...</td>\n",
       "      <td>...</td>\n",
       "      <td>...</td>\n",
       "      <td>...</td>\n",
       "      <td>...</td>\n",
       "      <td>...</td>\n",
       "      <td>...</td>\n",
       "      <td>...</td>\n",
       "      <td>...</td>\n",
       "      <td>...</td>\n",
       "      <td>...</td>\n",
       "      <td>...</td>\n",
       "      <td>...</td>\n",
       "      <td>...</td>\n",
       "      <td>...</td>\n",
       "      <td>...</td>\n",
       "      <td>...</td>\n",
       "      <td>...</td>\n",
       "    </tr>\n",
       "    <tr>\n",
       "      <th>374943</th>\n",
       "      <td>classic_bike</td>\n",
       "      <td>2021-03-31 23:56:00</td>\n",
       "      <td>2021-04-01 00:10:00</td>\n",
       "      <td>Michigan Ave &amp; 14th St</td>\n",
       "      <td>TA1307000124</td>\n",
       "      <td>Racine Ave &amp; 18th St</td>\n",
       "      <td>13164</td>\n",
       "      <td>member</td>\n",
       "      <td>00:13:45</td>\n",
       "      <td>2021-03-31</td>\n",
       "      <td>...</td>\n",
       "      <td>3</td>\n",
       "      <td>23:56:37</td>\n",
       "      <td>00:10:22</td>\n",
       "      <td>4</td>\n",
       "      <td>Spring</td>\n",
       "      <td>0 days 00:14:00</td>\n",
       "      <td>31</td>\n",
       "      <td>March</td>\n",
       "      <td>2021</td>\n",
       "      <td>Wednesday</td>\n",
       "    </tr>\n",
       "    <tr>\n",
       "      <th>374944</th>\n",
       "      <td>electric_bike</td>\n",
       "      <td>2021-03-31 23:57:00</td>\n",
       "      <td>2021-04-01 00:21:00</td>\n",
       "      <td>Clinton St &amp; Roosevelt Rd</td>\n",
       "      <td>WL-008</td>\n",
       "      <td>Damen Ave &amp; Cortland St</td>\n",
       "      <td>13133</td>\n",
       "      <td>member</td>\n",
       "      <td>00:23:12</td>\n",
       "      <td>2021-03-31</td>\n",
       "      <td>...</td>\n",
       "      <td>3</td>\n",
       "      <td>23:57:50</td>\n",
       "      <td>00:21:02</td>\n",
       "      <td>4</td>\n",
       "      <td>Spring</td>\n",
       "      <td>0 days 00:24:00</td>\n",
       "      <td>31</td>\n",
       "      <td>March</td>\n",
       "      <td>2021</td>\n",
       "      <td>Wednesday</td>\n",
       "    </tr>\n",
       "    <tr>\n",
       "      <th>374945</th>\n",
       "      <td>classic_bike</td>\n",
       "      <td>2021-03-31 23:58:00</td>\n",
       "      <td>2021-04-01 00:35:00</td>\n",
       "      <td>Dearborn St &amp; Erie St</td>\n",
       "      <td>13045</td>\n",
       "      <td>Clarendon Ave &amp; Junior Ter</td>\n",
       "      <td>13389</td>\n",
       "      <td>member</td>\n",
       "      <td>00:37:27</td>\n",
       "      <td>2021-03-31</td>\n",
       "      <td>...</td>\n",
       "      <td>3</td>\n",
       "      <td>23:58:00</td>\n",
       "      <td>00:35:27</td>\n",
       "      <td>4</td>\n",
       "      <td>Spring</td>\n",
       "      <td>0 days 00:37:00</td>\n",
       "      <td>31</td>\n",
       "      <td>March</td>\n",
       "      <td>2021</td>\n",
       "      <td>Wednesday</td>\n",
       "    </tr>\n",
       "    <tr>\n",
       "      <th>374946</th>\n",
       "      <td>classic_bike</td>\n",
       "      <td>2021-03-31 23:59:00</td>\n",
       "      <td>2021-04-01 00:11:00</td>\n",
       "      <td>Fairbanks Ct &amp; Grand Ave</td>\n",
       "      <td>TA1305000003</td>\n",
       "      <td>Clark St &amp; North Ave</td>\n",
       "      <td>13128</td>\n",
       "      <td>member</td>\n",
       "      <td>00:12:25</td>\n",
       "      <td>2021-03-31</td>\n",
       "      <td>...</td>\n",
       "      <td>3</td>\n",
       "      <td>23:59:08</td>\n",
       "      <td>00:11:33</td>\n",
       "      <td>4</td>\n",
       "      <td>Spring</td>\n",
       "      <td>0 days 00:12:00</td>\n",
       "      <td>31</td>\n",
       "      <td>March</td>\n",
       "      <td>2021</td>\n",
       "      <td>Wednesday</td>\n",
       "    </tr>\n",
       "    <tr>\n",
       "      <th>374947</th>\n",
       "      <td>classic_bike</td>\n",
       "      <td>2021-03-31 23:59:00</td>\n",
       "      <td>2021-04-01 00:07:00</td>\n",
       "      <td>Clark St &amp; Leland Ave</td>\n",
       "      <td>TA1309000014</td>\n",
       "      <td>Clark St &amp; Leland Ave</td>\n",
       "      <td>TA1309000014</td>\n",
       "      <td>member</td>\n",
       "      <td>00:07:59</td>\n",
       "      <td>2021-03-31</td>\n",
       "      <td>...</td>\n",
       "      <td>3</td>\n",
       "      <td>23:59:05</td>\n",
       "      <td>00:07:04</td>\n",
       "      <td>4</td>\n",
       "      <td>Spring</td>\n",
       "      <td>0 days 00:08:00</td>\n",
       "      <td>31</td>\n",
       "      <td>March</td>\n",
       "      <td>2021</td>\n",
       "      <td>Wednesday</td>\n",
       "    </tr>\n",
       "  </tbody>\n",
       "</table>\n",
       "<p>3361454 rows × 21 columns</p>\n",
       "</div>"
      ],
      "text/plain": [
       "              bike_id      start_datetime        end_datetime  \\\n",
       "0         docked_bike 2020-04-01 00:00:00 2020-04-01 00:23:00   \n",
       "1         docked_bike 2020-04-01 00:02:00 2020-04-01 00:24:00   \n",
       "2         docked_bike 2020-04-01 00:02:00 2020-04-01 00:10:00   \n",
       "3         docked_bike 2020-04-01 00:06:00 2020-04-01 00:14:00   \n",
       "4         docked_bike 2020-04-01 00:11:00 2020-04-01 00:11:00   \n",
       "...               ...                 ...                 ...   \n",
       "374943   classic_bike 2021-03-31 23:56:00 2021-04-01 00:10:00   \n",
       "374944  electric_bike 2021-03-31 23:57:00 2021-04-01 00:21:00   \n",
       "374945   classic_bike 2021-03-31 23:58:00 2021-04-01 00:35:00   \n",
       "374946   classic_bike 2021-03-31 23:59:00 2021-04-01 00:11:00   \n",
       "374947   classic_bike 2021-03-31 23:59:00 2021-04-01 00:07:00   \n",
       "\n",
       "                          from_station_name from_station_id  \\\n",
       "0                Damen Ave & Wellington Ave             162   \n",
       "1                Damen Ave & Wellington Ave             162   \n",
       "2                      Wabash Ave & 16th St              72   \n",
       "3       Mies van der Rohe Way & Chicago Ave             173   \n",
       "4                       Wabash Ave & 9th St             321   \n",
       "...                                     ...             ...   \n",
       "374943               Michigan Ave & 14th St    TA1307000124   \n",
       "374944            Clinton St & Roosevelt Rd          WL-008   \n",
       "374945                Dearborn St & Erie St           13045   \n",
       "374946             Fairbanks Ct & Grand Ave    TA1305000003   \n",
       "374947                Clark St & Leland Ave    TA1309000014   \n",
       "\n",
       "                      to_station_name to_station_id usertype ride_length  \\\n",
       "0       Pine Grove Ave & Waveland Ave         232.0   casual    00:23:00   \n",
       "1        Spaulding Ave & Armitage Ave         506.0   casual    00:22:00   \n",
       "2                 Wabash Ave & 9th St         321.0   member    00:08:00   \n",
       "3              Clark St & Schiller St         301.0   member    00:08:00   \n",
       "4                 Wabash Ave & 9th St         321.0   member    00:00:00   \n",
       "...                               ...           ...      ...         ...   \n",
       "374943           Racine Ave & 18th St         13164   member    00:13:45   \n",
       "374944        Damen Ave & Cortland St         13133   member    00:23:12   \n",
       "374945     Clarendon Ave & Junior Ter         13389   member    00:37:27   \n",
       "374946           Clark St & North Ave         13128   member    00:12:25   \n",
       "374947          Clark St & Leland Ave  TA1309000014   member    00:07:59   \n",
       "\n",
       "        ride_date  ...  ride_month  start_time  end_time day_of_week  season  \\\n",
       "0      2020-04-01  ...           4    00:00:00  00:23:00           4  Spring   \n",
       "1      2020-04-01  ...           4    00:02:00  00:24:00           4  Spring   \n",
       "2      2020-04-01  ...           4    00:02:00  00:10:00           4  Spring   \n",
       "3      2020-04-01  ...           4    00:06:00  00:14:00           4  Spring   \n",
       "4      2020-04-01  ...           4    00:11:00  00:11:00           4  Spring   \n",
       "...           ...  ...         ...         ...       ...         ...     ...   \n",
       "374943 2021-03-31  ...           3    23:56:37  00:10:22           4  Spring   \n",
       "374944 2021-03-31  ...           3    23:57:50  00:21:02           4  Spring   \n",
       "374945 2021-03-31  ...           3    23:58:00  00:35:27           4  Spring   \n",
       "374946 2021-03-31  ...           3    23:59:08  00:11:33           4  Spring   \n",
       "374947 2021-03-31  ...           3    23:59:05  00:07:04           4  Spring   \n",
       "\n",
       "         ride_duration Day  Month  Year    WeekDay  \n",
       "0      0 days 00:23:00   1  April  2020  Wednesday  \n",
       "1      0 days 00:22:00   1  April  2020  Wednesday  \n",
       "2      0 days 00:08:00   1  April  2020  Wednesday  \n",
       "3      0 days 00:08:00   1  April  2020  Wednesday  \n",
       "4      0 days 00:00:00   1  April  2020  Wednesday  \n",
       "...                ...  ..    ...   ...        ...  \n",
       "374943 0 days 00:14:00  31  March  2021  Wednesday  \n",
       "374944 0 days 00:24:00  31  March  2021  Wednesday  \n",
       "374945 0 days 00:37:00  31  March  2021  Wednesday  \n",
       "374946 0 days 00:12:00  31  March  2021  Wednesday  \n",
       "374947 0 days 00:08:00  31  March  2021  Wednesday  \n",
       "\n",
       "[3361454 rows x 21 columns]"
      ]
     },
     "execution_count": 59,
     "metadata": {},
     "output_type": "execute_result"
    }
   ],
   "source": [
    "all_trips"
   ]
  },
  {
   "cell_type": "code",
   "execution_count": 60,
   "id": "31c3e59e",
   "metadata": {},
   "outputs": [],
   "source": [
    "all_trips_v2=all_trips"
   ]
  },
  {
   "cell_type": "code",
   "execution_count": 62,
   "id": "6ce2eea1",
   "metadata": {},
   "outputs": [
    {
     "data": {
      "text/html": [
       "<div>\n",
       "<style scoped>\n",
       "    .dataframe tbody tr th:only-of-type {\n",
       "        vertical-align: middle;\n",
       "    }\n",
       "\n",
       "    .dataframe tbody tr th {\n",
       "        vertical-align: top;\n",
       "    }\n",
       "\n",
       "    .dataframe thead th {\n",
       "        text-align: right;\n",
       "    }\n",
       "</style>\n",
       "<table border=\"1\" class=\"dataframe\">\n",
       "  <thead>\n",
       "    <tr style=\"text-align: right;\">\n",
       "      <th></th>\n",
       "      <th>bike_id</th>\n",
       "      <th>start_datetime</th>\n",
       "      <th>end_datetime</th>\n",
       "      <th>from_station_name</th>\n",
       "      <th>from_station_id</th>\n",
       "      <th>to_station_name</th>\n",
       "      <th>to_station_id</th>\n",
       "      <th>usertype</th>\n",
       "      <th>ride_length</th>\n",
       "      <th>ride_date</th>\n",
       "      <th>...</th>\n",
       "      <th>ride_month</th>\n",
       "      <th>start_time</th>\n",
       "      <th>end_time</th>\n",
       "      <th>day_of_week</th>\n",
       "      <th>season</th>\n",
       "      <th>ride_duration</th>\n",
       "      <th>Day</th>\n",
       "      <th>Month</th>\n",
       "      <th>Year</th>\n",
       "      <th>WeekDay</th>\n",
       "    </tr>\n",
       "  </thead>\n",
       "  <tbody>\n",
       "    <tr>\n",
       "      <th>0</th>\n",
       "      <td>docked_bike</td>\n",
       "      <td>2020-04-01 00:00:00</td>\n",
       "      <td>2020-04-01 00:23:00</td>\n",
       "      <td>Damen Ave &amp; Wellington Ave</td>\n",
       "      <td>162</td>\n",
       "      <td>Pine Grove Ave &amp; Waveland Ave</td>\n",
       "      <td>232.0</td>\n",
       "      <td>casual</td>\n",
       "      <td>00:23:00</td>\n",
       "      <td>2020-04-01</td>\n",
       "      <td>...</td>\n",
       "      <td>4</td>\n",
       "      <td>00:00:00</td>\n",
       "      <td>00:23:00</td>\n",
       "      <td>4</td>\n",
       "      <td>Spring</td>\n",
       "      <td>0 days 00:23:00</td>\n",
       "      <td>1</td>\n",
       "      <td>April</td>\n",
       "      <td>2020</td>\n",
       "      <td>Wednesday</td>\n",
       "    </tr>\n",
       "    <tr>\n",
       "      <th>1</th>\n",
       "      <td>docked_bike</td>\n",
       "      <td>2020-04-01 00:02:00</td>\n",
       "      <td>2020-04-01 00:24:00</td>\n",
       "      <td>Damen Ave &amp; Wellington Ave</td>\n",
       "      <td>162</td>\n",
       "      <td>Spaulding Ave &amp; Armitage Ave</td>\n",
       "      <td>506.0</td>\n",
       "      <td>casual</td>\n",
       "      <td>00:22:00</td>\n",
       "      <td>2020-04-01</td>\n",
       "      <td>...</td>\n",
       "      <td>4</td>\n",
       "      <td>00:02:00</td>\n",
       "      <td>00:24:00</td>\n",
       "      <td>4</td>\n",
       "      <td>Spring</td>\n",
       "      <td>0 days 00:22:00</td>\n",
       "      <td>1</td>\n",
       "      <td>April</td>\n",
       "      <td>2020</td>\n",
       "      <td>Wednesday</td>\n",
       "    </tr>\n",
       "    <tr>\n",
       "      <th>2</th>\n",
       "      <td>docked_bike</td>\n",
       "      <td>2020-04-01 00:02:00</td>\n",
       "      <td>2020-04-01 00:10:00</td>\n",
       "      <td>Wabash Ave &amp; 16th St</td>\n",
       "      <td>72</td>\n",
       "      <td>Wabash Ave &amp; 9th St</td>\n",
       "      <td>321.0</td>\n",
       "      <td>member</td>\n",
       "      <td>00:08:00</td>\n",
       "      <td>2020-04-01</td>\n",
       "      <td>...</td>\n",
       "      <td>4</td>\n",
       "      <td>00:02:00</td>\n",
       "      <td>00:10:00</td>\n",
       "      <td>4</td>\n",
       "      <td>Spring</td>\n",
       "      <td>0 days 00:08:00</td>\n",
       "      <td>1</td>\n",
       "      <td>April</td>\n",
       "      <td>2020</td>\n",
       "      <td>Wednesday</td>\n",
       "    </tr>\n",
       "    <tr>\n",
       "      <th>3</th>\n",
       "      <td>docked_bike</td>\n",
       "      <td>2020-04-01 00:06:00</td>\n",
       "      <td>2020-04-01 00:14:00</td>\n",
       "      <td>Mies van der Rohe Way &amp; Chicago Ave</td>\n",
       "      <td>173</td>\n",
       "      <td>Clark St &amp; Schiller St</td>\n",
       "      <td>301.0</td>\n",
       "      <td>member</td>\n",
       "      <td>00:08:00</td>\n",
       "      <td>2020-04-01</td>\n",
       "      <td>...</td>\n",
       "      <td>4</td>\n",
       "      <td>00:06:00</td>\n",
       "      <td>00:14:00</td>\n",
       "      <td>4</td>\n",
       "      <td>Spring</td>\n",
       "      <td>0 days 00:08:00</td>\n",
       "      <td>1</td>\n",
       "      <td>April</td>\n",
       "      <td>2020</td>\n",
       "      <td>Wednesday</td>\n",
       "    </tr>\n",
       "    <tr>\n",
       "      <th>4</th>\n",
       "      <td>docked_bike</td>\n",
       "      <td>2020-04-01 00:11:00</td>\n",
       "      <td>2020-04-01 00:11:00</td>\n",
       "      <td>Wabash Ave &amp; 9th St</td>\n",
       "      <td>321</td>\n",
       "      <td>Wabash Ave &amp; 9th St</td>\n",
       "      <td>321.0</td>\n",
       "      <td>member</td>\n",
       "      <td>00:00:00</td>\n",
       "      <td>2020-04-01</td>\n",
       "      <td>...</td>\n",
       "      <td>4</td>\n",
       "      <td>00:11:00</td>\n",
       "      <td>00:11:00</td>\n",
       "      <td>4</td>\n",
       "      <td>Spring</td>\n",
       "      <td>0 days 00:00:00</td>\n",
       "      <td>1</td>\n",
       "      <td>April</td>\n",
       "      <td>2020</td>\n",
       "      <td>Wednesday</td>\n",
       "    </tr>\n",
       "    <tr>\n",
       "      <th>...</th>\n",
       "      <td>...</td>\n",
       "      <td>...</td>\n",
       "      <td>...</td>\n",
       "      <td>...</td>\n",
       "      <td>...</td>\n",
       "      <td>...</td>\n",
       "      <td>...</td>\n",
       "      <td>...</td>\n",
       "      <td>...</td>\n",
       "      <td>...</td>\n",
       "      <td>...</td>\n",
       "      <td>...</td>\n",
       "      <td>...</td>\n",
       "      <td>...</td>\n",
       "      <td>...</td>\n",
       "      <td>...</td>\n",
       "      <td>...</td>\n",
       "      <td>...</td>\n",
       "      <td>...</td>\n",
       "      <td>...</td>\n",
       "      <td>...</td>\n",
       "    </tr>\n",
       "    <tr>\n",
       "      <th>374943</th>\n",
       "      <td>classic_bike</td>\n",
       "      <td>2021-03-31 23:56:00</td>\n",
       "      <td>2021-04-01 00:10:00</td>\n",
       "      <td>Michigan Ave &amp; 14th St</td>\n",
       "      <td>TA1307000124</td>\n",
       "      <td>Racine Ave &amp; 18th St</td>\n",
       "      <td>13164</td>\n",
       "      <td>member</td>\n",
       "      <td>00:13:45</td>\n",
       "      <td>2021-03-31</td>\n",
       "      <td>...</td>\n",
       "      <td>3</td>\n",
       "      <td>23:56:37</td>\n",
       "      <td>00:10:22</td>\n",
       "      <td>4</td>\n",
       "      <td>Spring</td>\n",
       "      <td>0 days 00:14:00</td>\n",
       "      <td>31</td>\n",
       "      <td>March</td>\n",
       "      <td>2021</td>\n",
       "      <td>Wednesday</td>\n",
       "    </tr>\n",
       "    <tr>\n",
       "      <th>374944</th>\n",
       "      <td>electric_bike</td>\n",
       "      <td>2021-03-31 23:57:00</td>\n",
       "      <td>2021-04-01 00:21:00</td>\n",
       "      <td>Clinton St &amp; Roosevelt Rd</td>\n",
       "      <td>WL-008</td>\n",
       "      <td>Damen Ave &amp; Cortland St</td>\n",
       "      <td>13133</td>\n",
       "      <td>member</td>\n",
       "      <td>00:23:12</td>\n",
       "      <td>2021-03-31</td>\n",
       "      <td>...</td>\n",
       "      <td>3</td>\n",
       "      <td>23:57:50</td>\n",
       "      <td>00:21:02</td>\n",
       "      <td>4</td>\n",
       "      <td>Spring</td>\n",
       "      <td>0 days 00:24:00</td>\n",
       "      <td>31</td>\n",
       "      <td>March</td>\n",
       "      <td>2021</td>\n",
       "      <td>Wednesday</td>\n",
       "    </tr>\n",
       "    <tr>\n",
       "      <th>374945</th>\n",
       "      <td>classic_bike</td>\n",
       "      <td>2021-03-31 23:58:00</td>\n",
       "      <td>2021-04-01 00:35:00</td>\n",
       "      <td>Dearborn St &amp; Erie St</td>\n",
       "      <td>13045</td>\n",
       "      <td>Clarendon Ave &amp; Junior Ter</td>\n",
       "      <td>13389</td>\n",
       "      <td>member</td>\n",
       "      <td>00:37:27</td>\n",
       "      <td>2021-03-31</td>\n",
       "      <td>...</td>\n",
       "      <td>3</td>\n",
       "      <td>23:58:00</td>\n",
       "      <td>00:35:27</td>\n",
       "      <td>4</td>\n",
       "      <td>Spring</td>\n",
       "      <td>0 days 00:37:00</td>\n",
       "      <td>31</td>\n",
       "      <td>March</td>\n",
       "      <td>2021</td>\n",
       "      <td>Wednesday</td>\n",
       "    </tr>\n",
       "    <tr>\n",
       "      <th>374946</th>\n",
       "      <td>classic_bike</td>\n",
       "      <td>2021-03-31 23:59:00</td>\n",
       "      <td>2021-04-01 00:11:00</td>\n",
       "      <td>Fairbanks Ct &amp; Grand Ave</td>\n",
       "      <td>TA1305000003</td>\n",
       "      <td>Clark St &amp; North Ave</td>\n",
       "      <td>13128</td>\n",
       "      <td>member</td>\n",
       "      <td>00:12:25</td>\n",
       "      <td>2021-03-31</td>\n",
       "      <td>...</td>\n",
       "      <td>3</td>\n",
       "      <td>23:59:08</td>\n",
       "      <td>00:11:33</td>\n",
       "      <td>4</td>\n",
       "      <td>Spring</td>\n",
       "      <td>0 days 00:12:00</td>\n",
       "      <td>31</td>\n",
       "      <td>March</td>\n",
       "      <td>2021</td>\n",
       "      <td>Wednesday</td>\n",
       "    </tr>\n",
       "    <tr>\n",
       "      <th>374947</th>\n",
       "      <td>classic_bike</td>\n",
       "      <td>2021-03-31 23:59:00</td>\n",
       "      <td>2021-04-01 00:07:00</td>\n",
       "      <td>Clark St &amp; Leland Ave</td>\n",
       "      <td>TA1309000014</td>\n",
       "      <td>Clark St &amp; Leland Ave</td>\n",
       "      <td>TA1309000014</td>\n",
       "      <td>member</td>\n",
       "      <td>00:07:59</td>\n",
       "      <td>2021-03-31</td>\n",
       "      <td>...</td>\n",
       "      <td>3</td>\n",
       "      <td>23:59:05</td>\n",
       "      <td>00:07:04</td>\n",
       "      <td>4</td>\n",
       "      <td>Spring</td>\n",
       "      <td>0 days 00:08:00</td>\n",
       "      <td>31</td>\n",
       "      <td>March</td>\n",
       "      <td>2021</td>\n",
       "      <td>Wednesday</td>\n",
       "    </tr>\n",
       "  </tbody>\n",
       "</table>\n",
       "<p>3361454 rows × 21 columns</p>\n",
       "</div>"
      ],
      "text/plain": [
       "              bike_id      start_datetime        end_datetime  \\\n",
       "0         docked_bike 2020-04-01 00:00:00 2020-04-01 00:23:00   \n",
       "1         docked_bike 2020-04-01 00:02:00 2020-04-01 00:24:00   \n",
       "2         docked_bike 2020-04-01 00:02:00 2020-04-01 00:10:00   \n",
       "3         docked_bike 2020-04-01 00:06:00 2020-04-01 00:14:00   \n",
       "4         docked_bike 2020-04-01 00:11:00 2020-04-01 00:11:00   \n",
       "...               ...                 ...                 ...   \n",
       "374943   classic_bike 2021-03-31 23:56:00 2021-04-01 00:10:00   \n",
       "374944  electric_bike 2021-03-31 23:57:00 2021-04-01 00:21:00   \n",
       "374945   classic_bike 2021-03-31 23:58:00 2021-04-01 00:35:00   \n",
       "374946   classic_bike 2021-03-31 23:59:00 2021-04-01 00:11:00   \n",
       "374947   classic_bike 2021-03-31 23:59:00 2021-04-01 00:07:00   \n",
       "\n",
       "                          from_station_name from_station_id  \\\n",
       "0                Damen Ave & Wellington Ave             162   \n",
       "1                Damen Ave & Wellington Ave             162   \n",
       "2                      Wabash Ave & 16th St              72   \n",
       "3       Mies van der Rohe Way & Chicago Ave             173   \n",
       "4                       Wabash Ave & 9th St             321   \n",
       "...                                     ...             ...   \n",
       "374943               Michigan Ave & 14th St    TA1307000124   \n",
       "374944            Clinton St & Roosevelt Rd          WL-008   \n",
       "374945                Dearborn St & Erie St           13045   \n",
       "374946             Fairbanks Ct & Grand Ave    TA1305000003   \n",
       "374947                Clark St & Leland Ave    TA1309000014   \n",
       "\n",
       "                      to_station_name to_station_id usertype ride_length  \\\n",
       "0       Pine Grove Ave & Waveland Ave         232.0   casual    00:23:00   \n",
       "1        Spaulding Ave & Armitage Ave         506.0   casual    00:22:00   \n",
       "2                 Wabash Ave & 9th St         321.0   member    00:08:00   \n",
       "3              Clark St & Schiller St         301.0   member    00:08:00   \n",
       "4                 Wabash Ave & 9th St         321.0   member    00:00:00   \n",
       "...                               ...           ...      ...         ...   \n",
       "374943           Racine Ave & 18th St         13164   member    00:13:45   \n",
       "374944        Damen Ave & Cortland St         13133   member    00:23:12   \n",
       "374945     Clarendon Ave & Junior Ter         13389   member    00:37:27   \n",
       "374946           Clark St & North Ave         13128   member    00:12:25   \n",
       "374947          Clark St & Leland Ave  TA1309000014   member    00:07:59   \n",
       "\n",
       "        ride_date  ...  ride_month  start_time  end_time day_of_week  season  \\\n",
       "0      2020-04-01  ...           4    00:00:00  00:23:00           4  Spring   \n",
       "1      2020-04-01  ...           4    00:02:00  00:24:00           4  Spring   \n",
       "2      2020-04-01  ...           4    00:02:00  00:10:00           4  Spring   \n",
       "3      2020-04-01  ...           4    00:06:00  00:14:00           4  Spring   \n",
       "4      2020-04-01  ...           4    00:11:00  00:11:00           4  Spring   \n",
       "...           ...  ...         ...         ...       ...         ...     ...   \n",
       "374943 2021-03-31  ...           3    23:56:37  00:10:22           4  Spring   \n",
       "374944 2021-03-31  ...           3    23:57:50  00:21:02           4  Spring   \n",
       "374945 2021-03-31  ...           3    23:58:00  00:35:27           4  Spring   \n",
       "374946 2021-03-31  ...           3    23:59:08  00:11:33           4  Spring   \n",
       "374947 2021-03-31  ...           3    23:59:05  00:07:04           4  Spring   \n",
       "\n",
       "         ride_duration Day  Month  Year    WeekDay  \n",
       "0      0 days 00:23:00   1  April  2020  Wednesday  \n",
       "1      0 days 00:22:00   1  April  2020  Wednesday  \n",
       "2      0 days 00:08:00   1  April  2020  Wednesday  \n",
       "3      0 days 00:08:00   1  April  2020  Wednesday  \n",
       "4      0 days 00:00:00   1  April  2020  Wednesday  \n",
       "...                ...  ..    ...   ...        ...  \n",
       "374943 0 days 00:14:00  31  March  2021  Wednesday  \n",
       "374944 0 days 00:24:00  31  March  2021  Wednesday  \n",
       "374945 0 days 00:37:00  31  March  2021  Wednesday  \n",
       "374946 0 days 00:12:00  31  March  2021  Wednesday  \n",
       "374947 0 days 00:08:00  31  March  2021  Wednesday  \n",
       "\n",
       "[3361454 rows x 21 columns]"
      ]
     },
     "execution_count": 62,
     "metadata": {},
     "output_type": "execute_result"
    }
   ],
   "source": [
    "all_trips_v2"
   ]
  },
  {
   "cell_type": "markdown",
   "id": "88d99f00",
   "metadata": {},
   "source": [
    "#  STEP 4: CONDUCT DESCRIPTIVE ANALYSIS\n"
   ]
  },
  {
   "cell_type": "code",
   "execution_count": 64,
   "id": "724c44c6",
   "metadata": {},
   "outputs": [
    {
     "data": {
      "text/plain": [
       "Timedelta('0 days 00:27:44.353557418')"
      ]
     },
     "execution_count": 64,
     "metadata": {},
     "output_type": "execute_result"
    }
   ],
   "source": [
    "all_trips_v2['ride_duration'].mean()"
   ]
  },
  {
   "cell_type": "code",
   "execution_count": 116,
   "id": "fcdeb231",
   "metadata": {},
   "outputs": [
    {
     "data": {
      "text/plain": [
       "2"
      ]
     },
     "execution_count": 116,
     "metadata": {},
     "output_type": "execute_result"
    }
   ],
   "source": [
    "all_trips_v2['usertype'].nunique()"
   ]
  },
  {
   "cell_type": "code",
   "execution_count": 108,
   "id": "cc9e2a8a",
   "metadata": {},
   "outputs": [
    {
     "data": {
      "text/plain": [
       "usertype\n",
       "member    1985294\n",
       "casual    1376160\n",
       "Name: count, dtype: int64"
      ]
     },
     "execution_count": 108,
     "metadata": {},
     "output_type": "execute_result"
    }
   ],
   "source": [
    "all_trips_v2['usertype'].value_counts()"
   ]
  },
  {
   "cell_type": "code",
   "execution_count": 65,
   "id": "6fe24d4e",
   "metadata": {},
   "outputs": [
    {
     "data": {
      "text/plain": [
       "0        0 days 00:23:00\n",
       "1        0 days 00:22:00\n",
       "2        0 days 00:08:00\n",
       "3        0 days 00:08:00\n",
       "4        0 days 00:00:00\n",
       "               ...      \n",
       "374943   0 days 00:14:00\n",
       "374944   0 days 00:24:00\n",
       "374945   0 days 00:37:00\n",
       "374946   0 days 00:12:00\n",
       "374947   0 days 00:08:00\n",
       "Name: ride_duration, Length: 3361454, dtype: timedelta64[ns]"
      ]
     },
     "execution_count": 65,
     "metadata": {},
     "output_type": "execute_result"
    }
   ],
   "source": [
    "all_trips_v2['ride_duration']"
   ]
  },
  {
   "cell_type": "code",
   "execution_count": 66,
   "id": "cdfc1447",
   "metadata": {},
   "outputs": [
    {
     "data": {
      "text/plain": [
       "0   0 days 00:07:00\n",
       "Name: ride_duration, dtype: timedelta64[ns]"
      ]
     },
     "execution_count": 66,
     "metadata": {},
     "output_type": "execute_result"
    }
   ],
   "source": [
    "all_trips_v2['ride_duration'].mode()"
   ]
  },
  {
   "cell_type": "code",
   "execution_count": 67,
   "id": "5e4b7c69",
   "metadata": {},
   "outputs": [
    {
     "data": {
      "text/plain": [
       "Timedelta('0 days 00:14:00')"
      ]
     },
     "execution_count": 67,
     "metadata": {},
     "output_type": "execute_result"
    }
   ],
   "source": [
    "all_trips_v2['ride_duration'].median()"
   ]
  },
  {
   "cell_type": "code",
   "execution_count": 68,
   "id": "7c445882",
   "metadata": {},
   "outputs": [
    {
     "data": {
      "text/plain": [
       "Timedelta('40 days 18:40:00')"
      ]
     },
     "execution_count": 68,
     "metadata": {},
     "output_type": "execute_result"
    }
   ],
   "source": [
    "all_trips_v2['ride_duration'].max()"
   ]
  },
  {
   "cell_type": "code",
   "execution_count": 69,
   "id": "671ac2a6",
   "metadata": {},
   "outputs": [
    {
     "data": {
      "text/plain": [
       "Timedelta('0 days 00:00:00')"
      ]
     },
     "execution_count": 69,
     "metadata": {},
     "output_type": "execute_result"
    }
   ],
   "source": [
    "all_trips_v2['ride_duration'].min()"
   ]
  },
  {
   "cell_type": "code",
   "execution_count": null,
   "id": "036a0207",
   "metadata": {},
   "outputs": [],
   "source": []
  },
  {
   "cell_type": "code",
   "execution_count": 70,
   "id": "53481bed",
   "metadata": {},
   "outputs": [
    {
     "data": {
      "text/html": [
       "<div>\n",
       "<style scoped>\n",
       "    .dataframe tbody tr th:only-of-type {\n",
       "        vertical-align: middle;\n",
       "    }\n",
       "\n",
       "    .dataframe tbody tr th {\n",
       "        vertical-align: top;\n",
       "    }\n",
       "\n",
       "    .dataframe thead th {\n",
       "        text-align: right;\n",
       "    }\n",
       "</style>\n",
       "<table border=\"1\" class=\"dataframe\">\n",
       "  <thead>\n",
       "    <tr style=\"text-align: right;\">\n",
       "      <th></th>\n",
       "      <th>start_datetime</th>\n",
       "      <th>end_datetime</th>\n",
       "      <th>ride_date</th>\n",
       "      <th>ride_year</th>\n",
       "      <th>ride_month</th>\n",
       "      <th>day_of_week</th>\n",
       "      <th>ride_duration</th>\n",
       "      <th>Day</th>\n",
       "      <th>Year</th>\n",
       "    </tr>\n",
       "  </thead>\n",
       "  <tbody>\n",
       "    <tr>\n",
       "      <th>count</th>\n",
       "      <td>3361454</td>\n",
       "      <td>3361454</td>\n",
       "      <td>3361454</td>\n",
       "      <td>3.361454e+06</td>\n",
       "      <td>3.361454e+06</td>\n",
       "      <td>3.361454e+06</td>\n",
       "      <td>3361454</td>\n",
       "      <td>3.361454e+06</td>\n",
       "      <td>3.361454e+06</td>\n",
       "    </tr>\n",
       "    <tr>\n",
       "      <th>mean</th>\n",
       "      <td>2020-09-14 01:21:08.642918144</td>\n",
       "      <td>2020-09-14 01:48:52.996475392</td>\n",
       "      <td>2020-09-13 10:33:27.652641536</td>\n",
       "      <td>2.020112e+03</td>\n",
       "      <td>7.602613e+00</td>\n",
       "      <td>4.166715e+00</td>\n",
       "      <td>0 days 00:27:44.353557418</td>\n",
       "      <td>1.578503e+01</td>\n",
       "      <td>2.020112e+03</td>\n",
       "    </tr>\n",
       "    <tr>\n",
       "      <th>min</th>\n",
       "      <td>2020-04-01 00:00:00</td>\n",
       "      <td>2020-04-01 00:10:00</td>\n",
       "      <td>2020-04-01 00:00:00</td>\n",
       "      <td>2.020000e+03</td>\n",
       "      <td>1.000000e+00</td>\n",
       "      <td>1.000000e+00</td>\n",
       "      <td>0 days 00:00:00</td>\n",
       "      <td>1.000000e+00</td>\n",
       "      <td>2.020000e+03</td>\n",
       "    </tr>\n",
       "    <tr>\n",
       "      <th>25%</th>\n",
       "      <td>2020-07-19 23:07:00</td>\n",
       "      <td>2020-07-20 00:20:15</td>\n",
       "      <td>2020-07-19 00:00:00</td>\n",
       "      <td>2.020000e+03</td>\n",
       "      <td>6.000000e+00</td>\n",
       "      <td>2.000000e+00</td>\n",
       "      <td>0 days 00:08:00</td>\n",
       "      <td>8.000000e+00</td>\n",
       "      <td>2.020000e+03</td>\n",
       "    </tr>\n",
       "    <tr>\n",
       "      <th>50%</th>\n",
       "      <td>2020-09-01 08:11:00</td>\n",
       "      <td>2020-09-01 08:27:00</td>\n",
       "      <td>2020-09-01 00:00:00</td>\n",
       "      <td>2.020000e+03</td>\n",
       "      <td>8.000000e+00</td>\n",
       "      <td>4.000000e+00</td>\n",
       "      <td>0 days 00:14:00</td>\n",
       "      <td>1.600000e+01</td>\n",
       "      <td>2.020000e+03</td>\n",
       "    </tr>\n",
       "    <tr>\n",
       "      <th>75%</th>\n",
       "      <td>2020-10-23 19:00:00</td>\n",
       "      <td>2020-10-23 19:14:45</td>\n",
       "      <td>2020-10-23 00:00:00</td>\n",
       "      <td>2.020000e+03</td>\n",
       "      <td>9.000000e+00</td>\n",
       "      <td>6.000000e+00</td>\n",
       "      <td>0 days 00:26:00</td>\n",
       "      <td>2.300000e+01</td>\n",
       "      <td>2.020000e+03</td>\n",
       "    </tr>\n",
       "    <tr>\n",
       "      <th>max</th>\n",
       "      <td>2021-03-31 23:59:00</td>\n",
       "      <td>2021-04-06 11:00:00</td>\n",
       "      <td>2021-03-31 00:00:00</td>\n",
       "      <td>2.021000e+03</td>\n",
       "      <td>1.200000e+01</td>\n",
       "      <td>7.000000e+00</td>\n",
       "      <td>40 days 18:40:00</td>\n",
       "      <td>3.100000e+01</td>\n",
       "      <td>2.021000e+03</td>\n",
       "    </tr>\n",
       "    <tr>\n",
       "      <th>std</th>\n",
       "      <td>NaN</td>\n",
       "      <td>NaN</td>\n",
       "      <td>NaN</td>\n",
       "      <td>3.148039e-01</td>\n",
       "      <td>2.572610e+00</td>\n",
       "      <td>2.085861e+00</td>\n",
       "      <td>0 days 04:16:06.284969565</td>\n",
       "      <td>8.731922e+00</td>\n",
       "      <td>3.148039e-01</td>\n",
       "    </tr>\n",
       "  </tbody>\n",
       "</table>\n",
       "</div>"
      ],
      "text/plain": [
       "                      start_datetime                   end_datetime  \\\n",
       "count                        3361454                        3361454   \n",
       "mean   2020-09-14 01:21:08.642918144  2020-09-14 01:48:52.996475392   \n",
       "min              2020-04-01 00:00:00            2020-04-01 00:10:00   \n",
       "25%              2020-07-19 23:07:00            2020-07-20 00:20:15   \n",
       "50%              2020-09-01 08:11:00            2020-09-01 08:27:00   \n",
       "75%              2020-10-23 19:00:00            2020-10-23 19:14:45   \n",
       "max              2021-03-31 23:59:00            2021-04-06 11:00:00   \n",
       "std                              NaN                            NaN   \n",
       "\n",
       "                           ride_date     ride_year    ride_month  \\\n",
       "count                        3361454  3.361454e+06  3.361454e+06   \n",
       "mean   2020-09-13 10:33:27.652641536  2.020112e+03  7.602613e+00   \n",
       "min              2020-04-01 00:00:00  2.020000e+03  1.000000e+00   \n",
       "25%              2020-07-19 00:00:00  2.020000e+03  6.000000e+00   \n",
       "50%              2020-09-01 00:00:00  2.020000e+03  8.000000e+00   \n",
       "75%              2020-10-23 00:00:00  2.020000e+03  9.000000e+00   \n",
       "max              2021-03-31 00:00:00  2.021000e+03  1.200000e+01   \n",
       "std                              NaN  3.148039e-01  2.572610e+00   \n",
       "\n",
       "        day_of_week              ride_duration           Day          Year  \n",
       "count  3.361454e+06                    3361454  3.361454e+06  3.361454e+06  \n",
       "mean   4.166715e+00  0 days 00:27:44.353557418  1.578503e+01  2.020112e+03  \n",
       "min    1.000000e+00            0 days 00:00:00  1.000000e+00  2.020000e+03  \n",
       "25%    2.000000e+00            0 days 00:08:00  8.000000e+00  2.020000e+03  \n",
       "50%    4.000000e+00            0 days 00:14:00  1.600000e+01  2.020000e+03  \n",
       "75%    6.000000e+00            0 days 00:26:00  2.300000e+01  2.020000e+03  \n",
       "max    7.000000e+00           40 days 18:40:00  3.100000e+01  2.021000e+03  \n",
       "std    2.085861e+00  0 days 04:16:06.284969565  8.731922e+00  3.148039e-01  "
      ]
     },
     "execution_count": 70,
     "metadata": {},
     "output_type": "execute_result"
    }
   ],
   "source": [
    "all_trips_v2.describe()"
   ]
  },
  {
   "cell_type": "code",
   "execution_count": 71,
   "id": "81d4f2b3",
   "metadata": {},
   "outputs": [
    {
     "data": {
      "text/plain": [
       "usertype\n",
       "casual   0 days 00:44:44.094623444\n",
       "member   0 days 00:15:57.492575910\n",
       "Name: ride_duration, dtype: timedelta64[ns]"
      ]
     },
     "execution_count": 71,
     "metadata": {},
     "output_type": "execute_result"
    }
   ],
   "source": [
    "all_trips_v2.groupby('usertype')['ride_duration'].mean()\n"
   ]
  },
  {
   "cell_type": "code",
   "execution_count": 72,
   "id": "a352472f",
   "metadata": {},
   "outputs": [
    {
     "data": {
      "text/plain": [
       "usertype\n",
       "casual   0 days 00:21:00\n",
       "member   0 days 00:11:00\n",
       "Name: ride_duration, dtype: timedelta64[ns]"
      ]
     },
     "execution_count": 72,
     "metadata": {},
     "output_type": "execute_result"
    }
   ],
   "source": [
    "all_trips_v2.groupby('usertype')['ride_duration'].median()\n"
   ]
  },
  {
   "cell_type": "code",
   "execution_count": 84,
   "id": "42391b97",
   "metadata": {},
   "outputs": [
    {
     "data": {
      "text/plain": [
       "usertype\n",
       "casual   38 days 16:04:00\n",
       "member   40 days 18:40:00\n",
       "Name: ride_duration, dtype: timedelta64[ns]"
      ]
     },
     "execution_count": 84,
     "metadata": {},
     "output_type": "execute_result"
    }
   ],
   "source": [
    "all_trips_v2.groupby('usertype')['ride_duration'].max()\n"
   ]
  },
  {
   "cell_type": "code",
   "execution_count": 85,
   "id": "be424825",
   "metadata": {},
   "outputs": [
    {
     "data": {
      "text/plain": [
       "usertype\n",
       "casual   0 days\n",
       "member   0 days\n",
       "Name: ride_duration, dtype: timedelta64[ns]"
      ]
     },
     "execution_count": 85,
     "metadata": {},
     "output_type": "execute_result"
    }
   ],
   "source": [
    "all_trips_v2.groupby('usertype')['ride_duration'].min()"
   ]
  },
  {
   "cell_type": "code",
   "execution_count": 73,
   "id": "64a245ec",
   "metadata": {},
   "outputs": [
    {
     "name": "stdout",
     "output_type": "stream",
     "text": [
      "usertype  day_of_week\n",
      "casual    1             0 days 00:50:34.714960431\n",
      "          2             0 days 00:44:30.281958620\n",
      "          3             0 days 00:40:08.726992825\n",
      "          4             0 days 00:39:53.766541822\n",
      "          5             0 days 00:42:53.133506964\n",
      "          6             0 days 00:42:28.778991780\n",
      "          7             0 days 00:46:53.725591294\n",
      "member    1             0 days 00:18:04.754685016\n",
      "          2             0 days 00:15:11.186440612\n",
      "          3             0 days 00:15:01.408186183\n",
      "          4             0 days 00:15:10.813021821\n",
      "          5             0 days 00:15:05.371308665\n",
      "          6             0 days 00:15:37.457533065\n",
      "          7             0 days 00:17:34.587091901\n",
      "Name: ride_duration, dtype: timedelta64[ns]\n"
     ]
    }
   ],
   "source": [
    "average_ride_time = all_trips_v2.groupby(['usertype', 'day_of_week'])['ride_duration'].mean()\n",
    "print(average_ride_time)\n"
   ]
  },
  {
   "cell_type": "code",
   "execution_count": 74,
   "id": "d60699de",
   "metadata": {},
   "outputs": [
    {
     "name": "stdout",
     "output_type": "stream",
     "text": [
      "usertype  WeekDay  \n",
      "casual    Friday      0 days 00:42:28.778991780\n",
      "          Monday      0 days 00:44:30.281958620\n",
      "          Saturday    0 days 00:46:53.725591294\n",
      "          Sunday      0 days 00:50:34.714960431\n",
      "          Thursday    0 days 00:42:53.133506964\n",
      "          Tuesday     0 days 00:40:08.726992825\n",
      "          Wednesday   0 days 00:39:53.766541822\n",
      "member    Friday      0 days 00:15:37.457533065\n",
      "          Monday      0 days 00:15:11.186440612\n",
      "          Saturday    0 days 00:17:34.587091901\n",
      "          Sunday      0 days 00:18:04.754685016\n",
      "          Thursday    0 days 00:15:05.371308665\n",
      "          Tuesday     0 days 00:15:01.408186183\n",
      "          Wednesday   0 days 00:15:10.813021821\n",
      "Name: ride_duration, dtype: timedelta64[ns]\n"
     ]
    }
   ],
   "source": [
    "average_ride_time_weekday = all_trips_v2.groupby(['usertype', 'WeekDay'])['ride_duration'].mean()\n",
    "print(average_ride_time_weekday)\n"
   ]
  },
  {
   "cell_type": "code",
   "execution_count": 75,
   "id": "dc4ab71f",
   "metadata": {},
   "outputs": [
    {
     "name": "stdout",
     "output_type": "stream",
     "text": [
      "   usertype    WeekDay  number_of_rides          average_duration\n",
      "0    casual     Friday           200988 0 days 00:42:28.778991780\n",
      "1    casual     Monday           145000 0 days 00:44:30.281958620\n",
      "2    casual   Saturday           319046 0 days 00:46:53.725591294\n",
      "3    casual     Sunday           254498 0 days 00:50:34.714960431\n",
      "4    casual   Thursday           162029 0 days 00:42:53.133506964\n",
      "5    casual    Tuesday           141608 0 days 00:40:08.726992825\n",
      "6    casual  Wednesday           152991 0 days 00:39:53.766541822\n",
      "7    member     Friday           294641 0 days 00:15:37.457533065\n",
      "8    member     Monday           259702 0 days 00:15:11.186440612\n",
      "9    member   Saturday           307187 0 days 00:17:34.587091901\n",
      "10   member     Sunday           257363 0 days 00:18:04.754685016\n",
      "11   member   Thursday           292848 0 days 00:15:05.371308665\n",
      "12   member    Tuesday           277834 0 days 00:15:01.408186183\n",
      "13   member  Wednesday           295719 0 days 00:15:10.813021821\n"
     ]
    }
   ],
   "source": [
    "import calendar\n",
    "all_trips_v2['WeekDay'] = all_trips_v2['ride_date'].dt.strftime('%A')  # creates a 'weekday' column using dt.weekday_name\n",
    "rides_by_type_weekday = all_trips_v2.groupby(['usertype', 'WeekDay']).agg(number_of_rides=('bike_id', 'count'), average_duration=('ride_duration', 'mean')).reset_index().sort_values(['usertype', 'WeekDay'])\n",
    "print(rides_by_type_weekday)\n"
   ]
  },
  {
   "cell_type": "code",
   "execution_count": 76,
   "id": "b7010a87",
   "metadata": {},
   "outputs": [
    {
     "data": {
      "text/html": [
       "<div>\n",
       "<style scoped>\n",
       "    .dataframe tbody tr th:only-of-type {\n",
       "        vertical-align: middle;\n",
       "    }\n",
       "\n",
       "    .dataframe tbody tr th {\n",
       "        vertical-align: top;\n",
       "    }\n",
       "\n",
       "    .dataframe thead th {\n",
       "        text-align: right;\n",
       "    }\n",
       "</style>\n",
       "<table border=\"1\" class=\"dataframe\">\n",
       "  <thead>\n",
       "    <tr style=\"text-align: right;\">\n",
       "      <th></th>\n",
       "      <th>bike_id</th>\n",
       "      <th>start_datetime</th>\n",
       "      <th>end_datetime</th>\n",
       "      <th>from_station_name</th>\n",
       "      <th>from_station_id</th>\n",
       "      <th>to_station_name</th>\n",
       "      <th>to_station_id</th>\n",
       "      <th>usertype</th>\n",
       "      <th>ride_length</th>\n",
       "      <th>ride_date</th>\n",
       "      <th>...</th>\n",
       "      <th>ride_month</th>\n",
       "      <th>start_time</th>\n",
       "      <th>end_time</th>\n",
       "      <th>day_of_week</th>\n",
       "      <th>season</th>\n",
       "      <th>ride_duration</th>\n",
       "      <th>Day</th>\n",
       "      <th>Month</th>\n",
       "      <th>Year</th>\n",
       "      <th>WeekDay</th>\n",
       "    </tr>\n",
       "  </thead>\n",
       "  <tbody>\n",
       "    <tr>\n",
       "      <th>0</th>\n",
       "      <td>docked_bike</td>\n",
       "      <td>2020-04-01 00:00:00</td>\n",
       "      <td>2020-04-01 00:23:00</td>\n",
       "      <td>Damen Ave &amp; Wellington Ave</td>\n",
       "      <td>162</td>\n",
       "      <td>Pine Grove Ave &amp; Waveland Ave</td>\n",
       "      <td>232.0</td>\n",
       "      <td>casual</td>\n",
       "      <td>00:23:00</td>\n",
       "      <td>2020-04-01</td>\n",
       "      <td>...</td>\n",
       "      <td>4</td>\n",
       "      <td>00:00:00</td>\n",
       "      <td>00:23:00</td>\n",
       "      <td>4</td>\n",
       "      <td>Spring</td>\n",
       "      <td>0 days 00:23:00</td>\n",
       "      <td>1</td>\n",
       "      <td>April</td>\n",
       "      <td>2020</td>\n",
       "      <td>Wednesday</td>\n",
       "    </tr>\n",
       "    <tr>\n",
       "      <th>1</th>\n",
       "      <td>docked_bike</td>\n",
       "      <td>2020-04-01 00:02:00</td>\n",
       "      <td>2020-04-01 00:24:00</td>\n",
       "      <td>Damen Ave &amp; Wellington Ave</td>\n",
       "      <td>162</td>\n",
       "      <td>Spaulding Ave &amp; Armitage Ave</td>\n",
       "      <td>506.0</td>\n",
       "      <td>casual</td>\n",
       "      <td>00:22:00</td>\n",
       "      <td>2020-04-01</td>\n",
       "      <td>...</td>\n",
       "      <td>4</td>\n",
       "      <td>00:02:00</td>\n",
       "      <td>00:24:00</td>\n",
       "      <td>4</td>\n",
       "      <td>Spring</td>\n",
       "      <td>0 days 00:22:00</td>\n",
       "      <td>1</td>\n",
       "      <td>April</td>\n",
       "      <td>2020</td>\n",
       "      <td>Wednesday</td>\n",
       "    </tr>\n",
       "    <tr>\n",
       "      <th>2</th>\n",
       "      <td>docked_bike</td>\n",
       "      <td>2020-04-01 00:02:00</td>\n",
       "      <td>2020-04-01 00:10:00</td>\n",
       "      <td>Wabash Ave &amp; 16th St</td>\n",
       "      <td>72</td>\n",
       "      <td>Wabash Ave &amp; 9th St</td>\n",
       "      <td>321.0</td>\n",
       "      <td>member</td>\n",
       "      <td>00:08:00</td>\n",
       "      <td>2020-04-01</td>\n",
       "      <td>...</td>\n",
       "      <td>4</td>\n",
       "      <td>00:02:00</td>\n",
       "      <td>00:10:00</td>\n",
       "      <td>4</td>\n",
       "      <td>Spring</td>\n",
       "      <td>0 days 00:08:00</td>\n",
       "      <td>1</td>\n",
       "      <td>April</td>\n",
       "      <td>2020</td>\n",
       "      <td>Wednesday</td>\n",
       "    </tr>\n",
       "    <tr>\n",
       "      <th>3</th>\n",
       "      <td>docked_bike</td>\n",
       "      <td>2020-04-01 00:06:00</td>\n",
       "      <td>2020-04-01 00:14:00</td>\n",
       "      <td>Mies van der Rohe Way &amp; Chicago Ave</td>\n",
       "      <td>173</td>\n",
       "      <td>Clark St &amp; Schiller St</td>\n",
       "      <td>301.0</td>\n",
       "      <td>member</td>\n",
       "      <td>00:08:00</td>\n",
       "      <td>2020-04-01</td>\n",
       "      <td>...</td>\n",
       "      <td>4</td>\n",
       "      <td>00:06:00</td>\n",
       "      <td>00:14:00</td>\n",
       "      <td>4</td>\n",
       "      <td>Spring</td>\n",
       "      <td>0 days 00:08:00</td>\n",
       "      <td>1</td>\n",
       "      <td>April</td>\n",
       "      <td>2020</td>\n",
       "      <td>Wednesday</td>\n",
       "    </tr>\n",
       "    <tr>\n",
       "      <th>4</th>\n",
       "      <td>docked_bike</td>\n",
       "      <td>2020-04-01 00:11:00</td>\n",
       "      <td>2020-04-01 00:11:00</td>\n",
       "      <td>Wabash Ave &amp; 9th St</td>\n",
       "      <td>321</td>\n",
       "      <td>Wabash Ave &amp; 9th St</td>\n",
       "      <td>321.0</td>\n",
       "      <td>member</td>\n",
       "      <td>00:00:00</td>\n",
       "      <td>2020-04-01</td>\n",
       "      <td>...</td>\n",
       "      <td>4</td>\n",
       "      <td>00:11:00</td>\n",
       "      <td>00:11:00</td>\n",
       "      <td>4</td>\n",
       "      <td>Spring</td>\n",
       "      <td>0 days 00:00:00</td>\n",
       "      <td>1</td>\n",
       "      <td>April</td>\n",
       "      <td>2020</td>\n",
       "      <td>Wednesday</td>\n",
       "    </tr>\n",
       "    <tr>\n",
       "      <th>...</th>\n",
       "      <td>...</td>\n",
       "      <td>...</td>\n",
       "      <td>...</td>\n",
       "      <td>...</td>\n",
       "      <td>...</td>\n",
       "      <td>...</td>\n",
       "      <td>...</td>\n",
       "      <td>...</td>\n",
       "      <td>...</td>\n",
       "      <td>...</td>\n",
       "      <td>...</td>\n",
       "      <td>...</td>\n",
       "      <td>...</td>\n",
       "      <td>...</td>\n",
       "      <td>...</td>\n",
       "      <td>...</td>\n",
       "      <td>...</td>\n",
       "      <td>...</td>\n",
       "      <td>...</td>\n",
       "      <td>...</td>\n",
       "      <td>...</td>\n",
       "    </tr>\n",
       "    <tr>\n",
       "      <th>374943</th>\n",
       "      <td>classic_bike</td>\n",
       "      <td>2021-03-31 23:56:00</td>\n",
       "      <td>2021-04-01 00:10:00</td>\n",
       "      <td>Michigan Ave &amp; 14th St</td>\n",
       "      <td>TA1307000124</td>\n",
       "      <td>Racine Ave &amp; 18th St</td>\n",
       "      <td>13164</td>\n",
       "      <td>member</td>\n",
       "      <td>00:13:45</td>\n",
       "      <td>2021-03-31</td>\n",
       "      <td>...</td>\n",
       "      <td>3</td>\n",
       "      <td>23:56:37</td>\n",
       "      <td>00:10:22</td>\n",
       "      <td>4</td>\n",
       "      <td>Spring</td>\n",
       "      <td>0 days 00:14:00</td>\n",
       "      <td>31</td>\n",
       "      <td>March</td>\n",
       "      <td>2021</td>\n",
       "      <td>Wednesday</td>\n",
       "    </tr>\n",
       "    <tr>\n",
       "      <th>374944</th>\n",
       "      <td>electric_bike</td>\n",
       "      <td>2021-03-31 23:57:00</td>\n",
       "      <td>2021-04-01 00:21:00</td>\n",
       "      <td>Clinton St &amp; Roosevelt Rd</td>\n",
       "      <td>WL-008</td>\n",
       "      <td>Damen Ave &amp; Cortland St</td>\n",
       "      <td>13133</td>\n",
       "      <td>member</td>\n",
       "      <td>00:23:12</td>\n",
       "      <td>2021-03-31</td>\n",
       "      <td>...</td>\n",
       "      <td>3</td>\n",
       "      <td>23:57:50</td>\n",
       "      <td>00:21:02</td>\n",
       "      <td>4</td>\n",
       "      <td>Spring</td>\n",
       "      <td>0 days 00:24:00</td>\n",
       "      <td>31</td>\n",
       "      <td>March</td>\n",
       "      <td>2021</td>\n",
       "      <td>Wednesday</td>\n",
       "    </tr>\n",
       "    <tr>\n",
       "      <th>374945</th>\n",
       "      <td>classic_bike</td>\n",
       "      <td>2021-03-31 23:58:00</td>\n",
       "      <td>2021-04-01 00:35:00</td>\n",
       "      <td>Dearborn St &amp; Erie St</td>\n",
       "      <td>13045</td>\n",
       "      <td>Clarendon Ave &amp; Junior Ter</td>\n",
       "      <td>13389</td>\n",
       "      <td>member</td>\n",
       "      <td>00:37:27</td>\n",
       "      <td>2021-03-31</td>\n",
       "      <td>...</td>\n",
       "      <td>3</td>\n",
       "      <td>23:58:00</td>\n",
       "      <td>00:35:27</td>\n",
       "      <td>4</td>\n",
       "      <td>Spring</td>\n",
       "      <td>0 days 00:37:00</td>\n",
       "      <td>31</td>\n",
       "      <td>March</td>\n",
       "      <td>2021</td>\n",
       "      <td>Wednesday</td>\n",
       "    </tr>\n",
       "    <tr>\n",
       "      <th>374946</th>\n",
       "      <td>classic_bike</td>\n",
       "      <td>2021-03-31 23:59:00</td>\n",
       "      <td>2021-04-01 00:11:00</td>\n",
       "      <td>Fairbanks Ct &amp; Grand Ave</td>\n",
       "      <td>TA1305000003</td>\n",
       "      <td>Clark St &amp; North Ave</td>\n",
       "      <td>13128</td>\n",
       "      <td>member</td>\n",
       "      <td>00:12:25</td>\n",
       "      <td>2021-03-31</td>\n",
       "      <td>...</td>\n",
       "      <td>3</td>\n",
       "      <td>23:59:08</td>\n",
       "      <td>00:11:33</td>\n",
       "      <td>4</td>\n",
       "      <td>Spring</td>\n",
       "      <td>0 days 00:12:00</td>\n",
       "      <td>31</td>\n",
       "      <td>March</td>\n",
       "      <td>2021</td>\n",
       "      <td>Wednesday</td>\n",
       "    </tr>\n",
       "    <tr>\n",
       "      <th>374947</th>\n",
       "      <td>classic_bike</td>\n",
       "      <td>2021-03-31 23:59:00</td>\n",
       "      <td>2021-04-01 00:07:00</td>\n",
       "      <td>Clark St &amp; Leland Ave</td>\n",
       "      <td>TA1309000014</td>\n",
       "      <td>Clark St &amp; Leland Ave</td>\n",
       "      <td>TA1309000014</td>\n",
       "      <td>member</td>\n",
       "      <td>00:07:59</td>\n",
       "      <td>2021-03-31</td>\n",
       "      <td>...</td>\n",
       "      <td>3</td>\n",
       "      <td>23:59:05</td>\n",
       "      <td>00:07:04</td>\n",
       "      <td>4</td>\n",
       "      <td>Spring</td>\n",
       "      <td>0 days 00:08:00</td>\n",
       "      <td>31</td>\n",
       "      <td>March</td>\n",
       "      <td>2021</td>\n",
       "      <td>Wednesday</td>\n",
       "    </tr>\n",
       "  </tbody>\n",
       "</table>\n",
       "<p>3361454 rows × 21 columns</p>\n",
       "</div>"
      ],
      "text/plain": [
       "              bike_id      start_datetime        end_datetime  \\\n",
       "0         docked_bike 2020-04-01 00:00:00 2020-04-01 00:23:00   \n",
       "1         docked_bike 2020-04-01 00:02:00 2020-04-01 00:24:00   \n",
       "2         docked_bike 2020-04-01 00:02:00 2020-04-01 00:10:00   \n",
       "3         docked_bike 2020-04-01 00:06:00 2020-04-01 00:14:00   \n",
       "4         docked_bike 2020-04-01 00:11:00 2020-04-01 00:11:00   \n",
       "...               ...                 ...                 ...   \n",
       "374943   classic_bike 2021-03-31 23:56:00 2021-04-01 00:10:00   \n",
       "374944  electric_bike 2021-03-31 23:57:00 2021-04-01 00:21:00   \n",
       "374945   classic_bike 2021-03-31 23:58:00 2021-04-01 00:35:00   \n",
       "374946   classic_bike 2021-03-31 23:59:00 2021-04-01 00:11:00   \n",
       "374947   classic_bike 2021-03-31 23:59:00 2021-04-01 00:07:00   \n",
       "\n",
       "                          from_station_name from_station_id  \\\n",
       "0                Damen Ave & Wellington Ave             162   \n",
       "1                Damen Ave & Wellington Ave             162   \n",
       "2                      Wabash Ave & 16th St              72   \n",
       "3       Mies van der Rohe Way & Chicago Ave             173   \n",
       "4                       Wabash Ave & 9th St             321   \n",
       "...                                     ...             ...   \n",
       "374943               Michigan Ave & 14th St    TA1307000124   \n",
       "374944            Clinton St & Roosevelt Rd          WL-008   \n",
       "374945                Dearborn St & Erie St           13045   \n",
       "374946             Fairbanks Ct & Grand Ave    TA1305000003   \n",
       "374947                Clark St & Leland Ave    TA1309000014   \n",
       "\n",
       "                      to_station_name to_station_id usertype ride_length  \\\n",
       "0       Pine Grove Ave & Waveland Ave         232.0   casual    00:23:00   \n",
       "1        Spaulding Ave & Armitage Ave         506.0   casual    00:22:00   \n",
       "2                 Wabash Ave & 9th St         321.0   member    00:08:00   \n",
       "3              Clark St & Schiller St         301.0   member    00:08:00   \n",
       "4                 Wabash Ave & 9th St         321.0   member    00:00:00   \n",
       "...                               ...           ...      ...         ...   \n",
       "374943           Racine Ave & 18th St         13164   member    00:13:45   \n",
       "374944        Damen Ave & Cortland St         13133   member    00:23:12   \n",
       "374945     Clarendon Ave & Junior Ter         13389   member    00:37:27   \n",
       "374946           Clark St & North Ave         13128   member    00:12:25   \n",
       "374947          Clark St & Leland Ave  TA1309000014   member    00:07:59   \n",
       "\n",
       "        ride_date  ...  ride_month  start_time  end_time day_of_week  season  \\\n",
       "0      2020-04-01  ...           4    00:00:00  00:23:00           4  Spring   \n",
       "1      2020-04-01  ...           4    00:02:00  00:24:00           4  Spring   \n",
       "2      2020-04-01  ...           4    00:02:00  00:10:00           4  Spring   \n",
       "3      2020-04-01  ...           4    00:06:00  00:14:00           4  Spring   \n",
       "4      2020-04-01  ...           4    00:11:00  00:11:00           4  Spring   \n",
       "...           ...  ...         ...         ...       ...         ...     ...   \n",
       "374943 2021-03-31  ...           3    23:56:37  00:10:22           4  Spring   \n",
       "374944 2021-03-31  ...           3    23:57:50  00:21:02           4  Spring   \n",
       "374945 2021-03-31  ...           3    23:58:00  00:35:27           4  Spring   \n",
       "374946 2021-03-31  ...           3    23:59:08  00:11:33           4  Spring   \n",
       "374947 2021-03-31  ...           3    23:59:05  00:07:04           4  Spring   \n",
       "\n",
       "         ride_duration Day  Month  Year    WeekDay  \n",
       "0      0 days 00:23:00   1  April  2020  Wednesday  \n",
       "1      0 days 00:22:00   1  April  2020  Wednesday  \n",
       "2      0 days 00:08:00   1  April  2020  Wednesday  \n",
       "3      0 days 00:08:00   1  April  2020  Wednesday  \n",
       "4      0 days 00:00:00   1  April  2020  Wednesday  \n",
       "...                ...  ..    ...   ...        ...  \n",
       "374943 0 days 00:14:00  31  March  2021  Wednesday  \n",
       "374944 0 days 00:24:00  31  March  2021  Wednesday  \n",
       "374945 0 days 00:37:00  31  March  2021  Wednesday  \n",
       "374946 0 days 00:12:00  31  March  2021  Wednesday  \n",
       "374947 0 days 00:08:00  31  March  2021  Wednesday  \n",
       "\n",
       "[3361454 rows x 21 columns]"
      ]
     },
     "execution_count": 76,
     "metadata": {},
     "output_type": "execute_result"
    }
   ],
   "source": [
    "all_trips_v2"
   ]
  },
  {
   "cell_type": "code",
   "execution_count": 91,
   "id": "8058e43e",
   "metadata": {},
   "outputs": [
    {
     "name": "stdout",
     "output_type": "stream",
     "text": [
      "Requirement already satisfied: plotly in c:\\users\\shubh\\appdata\\local\\programs\\python\\python311\\lib\\site-packages (5.15.0)\n",
      "Requirement already satisfied: tenacity>=6.2.0 in c:\\users\\shubh\\appdata\\local\\programs\\python\\python311\\lib\\site-packages (from plotly) (8.2.2)\n",
      "Requirement already satisfied: packaging in c:\\users\\shubh\\appdata\\local\\programs\\python\\python311\\lib\\site-packages (from plotly) (23.0)\n",
      "Note: you may need to restart the kernel to use updated packages.\n"
     ]
    }
   ],
   "source": [
    "pip install plotly"
   ]
  },
  {
   "cell_type": "code",
   "execution_count": 77,
   "id": "2acdfe37",
   "metadata": {},
   "outputs": [],
   "source": [
    "import plotly.express as px"
   ]
  },
  {
   "cell_type": "code",
   "execution_count": 104,
   "id": "338eed67",
   "metadata": {
    "scrolled": false
   },
   "outputs": [
    {
     "data": {
      "application/vnd.plotly.v1+json": {
       "config": {
        "plotlyServerURL": "https://plot.ly"
       },
       "data": [
        {
         "alignmentgroup": "True",
         "hovertemplate": "usertype=casual<br>WeekDay=%{x}<br>number_of_rides=%{y}<extra></extra>",
         "legendgroup": "casual",
         "marker": {
          "color": "#636efa",
          "pattern": {
           "shape": ""
          }
         },
         "name": "casual",
         "offsetgroup": "casual",
         "orientation": "v",
         "showlegend": true,
         "textposition": "auto",
         "type": "bar",
         "x": [
          "Friday",
          "Monday",
          "Saturday",
          "Sunday",
          "Thursday",
          "Tuesday",
          "Wednesday"
         ],
         "xaxis": "x",
         "y": [
          200988,
          145000,
          319046,
          254498,
          162029,
          141608,
          152991
         ],
         "yaxis": "y"
        },
        {
         "alignmentgroup": "True",
         "hovertemplate": "usertype=member<br>WeekDay=%{x}<br>number_of_rides=%{y}<extra></extra>",
         "legendgroup": "member",
         "marker": {
          "color": "#EF553B",
          "pattern": {
           "shape": ""
          }
         },
         "name": "member",
         "offsetgroup": "member",
         "orientation": "v",
         "showlegend": true,
         "textposition": "auto",
         "type": "bar",
         "x": [
          "Friday",
          "Monday",
          "Saturday",
          "Sunday",
          "Thursday",
          "Tuesday",
          "Wednesday"
         ],
         "xaxis": "x",
         "y": [
          294641,
          259702,
          307187,
          257363,
          292848,
          277834,
          295719
         ],
         "yaxis": "y"
        }
       ],
       "layout": {
        "barmode": "group",
        "legend": {
         "title": {
          "text": "usertype"
         },
         "tracegroupgap": 0
        },
        "margin": {
         "t": 60
        },
        "template": {
         "data": {
          "bar": [
           {
            "error_x": {
             "color": "#2a3f5f"
            },
            "error_y": {
             "color": "#2a3f5f"
            },
            "marker": {
             "line": {
              "color": "#E5ECF6",
              "width": 0.5
             },
             "pattern": {
              "fillmode": "overlay",
              "size": 10,
              "solidity": 0.2
             }
            },
            "type": "bar"
           }
          ],
          "barpolar": [
           {
            "marker": {
             "line": {
              "color": "#E5ECF6",
              "width": 0.5
             },
             "pattern": {
              "fillmode": "overlay",
              "size": 10,
              "solidity": 0.2
             }
            },
            "type": "barpolar"
           }
          ],
          "carpet": [
           {
            "aaxis": {
             "endlinecolor": "#2a3f5f",
             "gridcolor": "white",
             "linecolor": "white",
             "minorgridcolor": "white",
             "startlinecolor": "#2a3f5f"
            },
            "baxis": {
             "endlinecolor": "#2a3f5f",
             "gridcolor": "white",
             "linecolor": "white",
             "minorgridcolor": "white",
             "startlinecolor": "#2a3f5f"
            },
            "type": "carpet"
           }
          ],
          "choropleth": [
           {
            "colorbar": {
             "outlinewidth": 0,
             "ticks": ""
            },
            "type": "choropleth"
           }
          ],
          "contour": [
           {
            "colorbar": {
             "outlinewidth": 0,
             "ticks": ""
            },
            "colorscale": [
             [
              0,
              "#0d0887"
             ],
             [
              0.1111111111111111,
              "#46039f"
             ],
             [
              0.2222222222222222,
              "#7201a8"
             ],
             [
              0.3333333333333333,
              "#9c179e"
             ],
             [
              0.4444444444444444,
              "#bd3786"
             ],
             [
              0.5555555555555556,
              "#d8576b"
             ],
             [
              0.6666666666666666,
              "#ed7953"
             ],
             [
              0.7777777777777778,
              "#fb9f3a"
             ],
             [
              0.8888888888888888,
              "#fdca26"
             ],
             [
              1,
              "#f0f921"
             ]
            ],
            "type": "contour"
           }
          ],
          "contourcarpet": [
           {
            "colorbar": {
             "outlinewidth": 0,
             "ticks": ""
            },
            "type": "contourcarpet"
           }
          ],
          "heatmap": [
           {
            "colorbar": {
             "outlinewidth": 0,
             "ticks": ""
            },
            "colorscale": [
             [
              0,
              "#0d0887"
             ],
             [
              0.1111111111111111,
              "#46039f"
             ],
             [
              0.2222222222222222,
              "#7201a8"
             ],
             [
              0.3333333333333333,
              "#9c179e"
             ],
             [
              0.4444444444444444,
              "#bd3786"
             ],
             [
              0.5555555555555556,
              "#d8576b"
             ],
             [
              0.6666666666666666,
              "#ed7953"
             ],
             [
              0.7777777777777778,
              "#fb9f3a"
             ],
             [
              0.8888888888888888,
              "#fdca26"
             ],
             [
              1,
              "#f0f921"
             ]
            ],
            "type": "heatmap"
           }
          ],
          "heatmapgl": [
           {
            "colorbar": {
             "outlinewidth": 0,
             "ticks": ""
            },
            "colorscale": [
             [
              0,
              "#0d0887"
             ],
             [
              0.1111111111111111,
              "#46039f"
             ],
             [
              0.2222222222222222,
              "#7201a8"
             ],
             [
              0.3333333333333333,
              "#9c179e"
             ],
             [
              0.4444444444444444,
              "#bd3786"
             ],
             [
              0.5555555555555556,
              "#d8576b"
             ],
             [
              0.6666666666666666,
              "#ed7953"
             ],
             [
              0.7777777777777778,
              "#fb9f3a"
             ],
             [
              0.8888888888888888,
              "#fdca26"
             ],
             [
              1,
              "#f0f921"
             ]
            ],
            "type": "heatmapgl"
           }
          ],
          "histogram": [
           {
            "marker": {
             "pattern": {
              "fillmode": "overlay",
              "size": 10,
              "solidity": 0.2
             }
            },
            "type": "histogram"
           }
          ],
          "histogram2d": [
           {
            "colorbar": {
             "outlinewidth": 0,
             "ticks": ""
            },
            "colorscale": [
             [
              0,
              "#0d0887"
             ],
             [
              0.1111111111111111,
              "#46039f"
             ],
             [
              0.2222222222222222,
              "#7201a8"
             ],
             [
              0.3333333333333333,
              "#9c179e"
             ],
             [
              0.4444444444444444,
              "#bd3786"
             ],
             [
              0.5555555555555556,
              "#d8576b"
             ],
             [
              0.6666666666666666,
              "#ed7953"
             ],
             [
              0.7777777777777778,
              "#fb9f3a"
             ],
             [
              0.8888888888888888,
              "#fdca26"
             ],
             [
              1,
              "#f0f921"
             ]
            ],
            "type": "histogram2d"
           }
          ],
          "histogram2dcontour": [
           {
            "colorbar": {
             "outlinewidth": 0,
             "ticks": ""
            },
            "colorscale": [
             [
              0,
              "#0d0887"
             ],
             [
              0.1111111111111111,
              "#46039f"
             ],
             [
              0.2222222222222222,
              "#7201a8"
             ],
             [
              0.3333333333333333,
              "#9c179e"
             ],
             [
              0.4444444444444444,
              "#bd3786"
             ],
             [
              0.5555555555555556,
              "#d8576b"
             ],
             [
              0.6666666666666666,
              "#ed7953"
             ],
             [
              0.7777777777777778,
              "#fb9f3a"
             ],
             [
              0.8888888888888888,
              "#fdca26"
             ],
             [
              1,
              "#f0f921"
             ]
            ],
            "type": "histogram2dcontour"
           }
          ],
          "mesh3d": [
           {
            "colorbar": {
             "outlinewidth": 0,
             "ticks": ""
            },
            "type": "mesh3d"
           }
          ],
          "parcoords": [
           {
            "line": {
             "colorbar": {
              "outlinewidth": 0,
              "ticks": ""
             }
            },
            "type": "parcoords"
           }
          ],
          "pie": [
           {
            "automargin": true,
            "type": "pie"
           }
          ],
          "scatter": [
           {
            "fillpattern": {
             "fillmode": "overlay",
             "size": 10,
             "solidity": 0.2
            },
            "type": "scatter"
           }
          ],
          "scatter3d": [
           {
            "line": {
             "colorbar": {
              "outlinewidth": 0,
              "ticks": ""
             }
            },
            "marker": {
             "colorbar": {
              "outlinewidth": 0,
              "ticks": ""
             }
            },
            "type": "scatter3d"
           }
          ],
          "scattercarpet": [
           {
            "marker": {
             "colorbar": {
              "outlinewidth": 0,
              "ticks": ""
             }
            },
            "type": "scattercarpet"
           }
          ],
          "scattergeo": [
           {
            "marker": {
             "colorbar": {
              "outlinewidth": 0,
              "ticks": ""
             }
            },
            "type": "scattergeo"
           }
          ],
          "scattergl": [
           {
            "marker": {
             "colorbar": {
              "outlinewidth": 0,
              "ticks": ""
             }
            },
            "type": "scattergl"
           }
          ],
          "scattermapbox": [
           {
            "marker": {
             "colorbar": {
              "outlinewidth": 0,
              "ticks": ""
             }
            },
            "type": "scattermapbox"
           }
          ],
          "scatterpolar": [
           {
            "marker": {
             "colorbar": {
              "outlinewidth": 0,
              "ticks": ""
             }
            },
            "type": "scatterpolar"
           }
          ],
          "scatterpolargl": [
           {
            "marker": {
             "colorbar": {
              "outlinewidth": 0,
              "ticks": ""
             }
            },
            "type": "scatterpolargl"
           }
          ],
          "scatterternary": [
           {
            "marker": {
             "colorbar": {
              "outlinewidth": 0,
              "ticks": ""
             }
            },
            "type": "scatterternary"
           }
          ],
          "surface": [
           {
            "colorbar": {
             "outlinewidth": 0,
             "ticks": ""
            },
            "colorscale": [
             [
              0,
              "#0d0887"
             ],
             [
              0.1111111111111111,
              "#46039f"
             ],
             [
              0.2222222222222222,
              "#7201a8"
             ],
             [
              0.3333333333333333,
              "#9c179e"
             ],
             [
              0.4444444444444444,
              "#bd3786"
             ],
             [
              0.5555555555555556,
              "#d8576b"
             ],
             [
              0.6666666666666666,
              "#ed7953"
             ],
             [
              0.7777777777777778,
              "#fb9f3a"
             ],
             [
              0.8888888888888888,
              "#fdca26"
             ],
             [
              1,
              "#f0f921"
             ]
            ],
            "type": "surface"
           }
          ],
          "table": [
           {
            "cells": {
             "fill": {
              "color": "#EBF0F8"
             },
             "line": {
              "color": "white"
             }
            },
            "header": {
             "fill": {
              "color": "#C8D4E3"
             },
             "line": {
              "color": "white"
             }
            },
            "type": "table"
           }
          ]
         },
         "layout": {
          "annotationdefaults": {
           "arrowcolor": "#2a3f5f",
           "arrowhead": 0,
           "arrowwidth": 1
          },
          "autotypenumbers": "strict",
          "coloraxis": {
           "colorbar": {
            "outlinewidth": 0,
            "ticks": ""
           }
          },
          "colorscale": {
           "diverging": [
            [
             0,
             "#8e0152"
            ],
            [
             0.1,
             "#c51b7d"
            ],
            [
             0.2,
             "#de77ae"
            ],
            [
             0.3,
             "#f1b6da"
            ],
            [
             0.4,
             "#fde0ef"
            ],
            [
             0.5,
             "#f7f7f7"
            ],
            [
             0.6,
             "#e6f5d0"
            ],
            [
             0.7,
             "#b8e186"
            ],
            [
             0.8,
             "#7fbc41"
            ],
            [
             0.9,
             "#4d9221"
            ],
            [
             1,
             "#276419"
            ]
           ],
           "sequential": [
            [
             0,
             "#0d0887"
            ],
            [
             0.1111111111111111,
             "#46039f"
            ],
            [
             0.2222222222222222,
             "#7201a8"
            ],
            [
             0.3333333333333333,
             "#9c179e"
            ],
            [
             0.4444444444444444,
             "#bd3786"
            ],
            [
             0.5555555555555556,
             "#d8576b"
            ],
            [
             0.6666666666666666,
             "#ed7953"
            ],
            [
             0.7777777777777778,
             "#fb9f3a"
            ],
            [
             0.8888888888888888,
             "#fdca26"
            ],
            [
             1,
             "#f0f921"
            ]
           ],
           "sequentialminus": [
            [
             0,
             "#0d0887"
            ],
            [
             0.1111111111111111,
             "#46039f"
            ],
            [
             0.2222222222222222,
             "#7201a8"
            ],
            [
             0.3333333333333333,
             "#9c179e"
            ],
            [
             0.4444444444444444,
             "#bd3786"
            ],
            [
             0.5555555555555556,
             "#d8576b"
            ],
            [
             0.6666666666666666,
             "#ed7953"
            ],
            [
             0.7777777777777778,
             "#fb9f3a"
            ],
            [
             0.8888888888888888,
             "#fdca26"
            ],
            [
             1,
             "#f0f921"
            ]
           ]
          },
          "colorway": [
           "#636efa",
           "#EF553B",
           "#00cc96",
           "#ab63fa",
           "#FFA15A",
           "#19d3f3",
           "#FF6692",
           "#B6E880",
           "#FF97FF",
           "#FECB52"
          ],
          "font": {
           "color": "#2a3f5f"
          },
          "geo": {
           "bgcolor": "white",
           "lakecolor": "white",
           "landcolor": "#E5ECF6",
           "showlakes": true,
           "showland": true,
           "subunitcolor": "white"
          },
          "hoverlabel": {
           "align": "left"
          },
          "hovermode": "closest",
          "mapbox": {
           "style": "light"
          },
          "paper_bgcolor": "white",
          "plot_bgcolor": "#E5ECF6",
          "polar": {
           "angularaxis": {
            "gridcolor": "white",
            "linecolor": "white",
            "ticks": ""
           },
           "bgcolor": "#E5ECF6",
           "radialaxis": {
            "gridcolor": "white",
            "linecolor": "white",
            "ticks": ""
           }
          },
          "scene": {
           "xaxis": {
            "backgroundcolor": "#E5ECF6",
            "gridcolor": "white",
            "gridwidth": 2,
            "linecolor": "white",
            "showbackground": true,
            "ticks": "",
            "zerolinecolor": "white"
           },
           "yaxis": {
            "backgroundcolor": "#E5ECF6",
            "gridcolor": "white",
            "gridwidth": 2,
            "linecolor": "white",
            "showbackground": true,
            "ticks": "",
            "zerolinecolor": "white"
           },
           "zaxis": {
            "backgroundcolor": "#E5ECF6",
            "gridcolor": "white",
            "gridwidth": 2,
            "linecolor": "white",
            "showbackground": true,
            "ticks": "",
            "zerolinecolor": "white"
           }
          },
          "shapedefaults": {
           "line": {
            "color": "#2a3f5f"
           }
          },
          "ternary": {
           "aaxis": {
            "gridcolor": "white",
            "linecolor": "white",
            "ticks": ""
           },
           "baxis": {
            "gridcolor": "white",
            "linecolor": "white",
            "ticks": ""
           },
           "bgcolor": "#E5ECF6",
           "caxis": {
            "gridcolor": "white",
            "linecolor": "white",
            "ticks": ""
           }
          },
          "title": {
           "x": 0.05
          },
          "xaxis": {
           "automargin": true,
           "gridcolor": "white",
           "linecolor": "white",
           "ticks": "",
           "title": {
            "standoff": 15
           },
           "zerolinecolor": "white",
           "zerolinewidth": 2
          },
          "yaxis": {
           "automargin": true,
           "gridcolor": "white",
           "linecolor": "white",
           "ticks": "",
           "title": {
            "standoff": 15
           },
           "zerolinecolor": "white",
           "zerolinewidth": 2
          }
         }
        },
        "xaxis": {
         "anchor": "y",
         "domain": [
          0,
          1
         ],
         "title": {
          "text": "WeekDay"
         }
        },
        "yaxis": {
         "anchor": "x",
         "domain": [
          0,
          1
         ],
         "title": {
          "text": "number_of_rides"
         }
        }
       }
      },
      "text/html": [
       "<div>                            <div id=\"dfdc490b-ee0a-456a-8c97-c3ab6fff1b10\" class=\"plotly-graph-div\" style=\"height:525px; width:100%;\"></div>            <script type=\"text/javascript\">                require([\"plotly\"], function(Plotly) {                    window.PLOTLYENV=window.PLOTLYENV || {};                                    if (document.getElementById(\"dfdc490b-ee0a-456a-8c97-c3ab6fff1b10\")) {                    Plotly.newPlot(                        \"dfdc490b-ee0a-456a-8c97-c3ab6fff1b10\",                        [{\"alignmentgroup\":\"True\",\"hovertemplate\":\"usertype=casual\\u003cbr\\u003eWeekDay=%{x}\\u003cbr\\u003enumber_of_rides=%{y}\\u003cextra\\u003e\\u003c\\u002fextra\\u003e\",\"legendgroup\":\"casual\",\"marker\":{\"color\":\"#636efa\",\"pattern\":{\"shape\":\"\"}},\"name\":\"casual\",\"offsetgroup\":\"casual\",\"orientation\":\"v\",\"showlegend\":true,\"textposition\":\"auto\",\"x\":[\"Friday\",\"Monday\",\"Saturday\",\"Sunday\",\"Thursday\",\"Tuesday\",\"Wednesday\"],\"xaxis\":\"x\",\"y\":[200988,145000,319046,254498,162029,141608,152991],\"yaxis\":\"y\",\"type\":\"bar\"},{\"alignmentgroup\":\"True\",\"hovertemplate\":\"usertype=member\\u003cbr\\u003eWeekDay=%{x}\\u003cbr\\u003enumber_of_rides=%{y}\\u003cextra\\u003e\\u003c\\u002fextra\\u003e\",\"legendgroup\":\"member\",\"marker\":{\"color\":\"#EF553B\",\"pattern\":{\"shape\":\"\"}},\"name\":\"member\",\"offsetgroup\":\"member\",\"orientation\":\"v\",\"showlegend\":true,\"textposition\":\"auto\",\"x\":[\"Friday\",\"Monday\",\"Saturday\",\"Sunday\",\"Thursday\",\"Tuesday\",\"Wednesday\"],\"xaxis\":\"x\",\"y\":[294641,259702,307187,257363,292848,277834,295719],\"yaxis\":\"y\",\"type\":\"bar\"}],                        {\"template\":{\"data\":{\"histogram2dcontour\":[{\"type\":\"histogram2dcontour\",\"colorbar\":{\"outlinewidth\":0,\"ticks\":\"\"},\"colorscale\":[[0.0,\"#0d0887\"],[0.1111111111111111,\"#46039f\"],[0.2222222222222222,\"#7201a8\"],[0.3333333333333333,\"#9c179e\"],[0.4444444444444444,\"#bd3786\"],[0.5555555555555556,\"#d8576b\"],[0.6666666666666666,\"#ed7953\"],[0.7777777777777778,\"#fb9f3a\"],[0.8888888888888888,\"#fdca26\"],[1.0,\"#f0f921\"]]}],\"choropleth\":[{\"type\":\"choropleth\",\"colorbar\":{\"outlinewidth\":0,\"ticks\":\"\"}}],\"histogram2d\":[{\"type\":\"histogram2d\",\"colorbar\":{\"outlinewidth\":0,\"ticks\":\"\"},\"colorscale\":[[0.0,\"#0d0887\"],[0.1111111111111111,\"#46039f\"],[0.2222222222222222,\"#7201a8\"],[0.3333333333333333,\"#9c179e\"],[0.4444444444444444,\"#bd3786\"],[0.5555555555555556,\"#d8576b\"],[0.6666666666666666,\"#ed7953\"],[0.7777777777777778,\"#fb9f3a\"],[0.8888888888888888,\"#fdca26\"],[1.0,\"#f0f921\"]]}],\"heatmap\":[{\"type\":\"heatmap\",\"colorbar\":{\"outlinewidth\":0,\"ticks\":\"\"},\"colorscale\":[[0.0,\"#0d0887\"],[0.1111111111111111,\"#46039f\"],[0.2222222222222222,\"#7201a8\"],[0.3333333333333333,\"#9c179e\"],[0.4444444444444444,\"#bd3786\"],[0.5555555555555556,\"#d8576b\"],[0.6666666666666666,\"#ed7953\"],[0.7777777777777778,\"#fb9f3a\"],[0.8888888888888888,\"#fdca26\"],[1.0,\"#f0f921\"]]}],\"heatmapgl\":[{\"type\":\"heatmapgl\",\"colorbar\":{\"outlinewidth\":0,\"ticks\":\"\"},\"colorscale\":[[0.0,\"#0d0887\"],[0.1111111111111111,\"#46039f\"],[0.2222222222222222,\"#7201a8\"],[0.3333333333333333,\"#9c179e\"],[0.4444444444444444,\"#bd3786\"],[0.5555555555555556,\"#d8576b\"],[0.6666666666666666,\"#ed7953\"],[0.7777777777777778,\"#fb9f3a\"],[0.8888888888888888,\"#fdca26\"],[1.0,\"#f0f921\"]]}],\"contourcarpet\":[{\"type\":\"contourcarpet\",\"colorbar\":{\"outlinewidth\":0,\"ticks\":\"\"}}],\"contour\":[{\"type\":\"contour\",\"colorbar\":{\"outlinewidth\":0,\"ticks\":\"\"},\"colorscale\":[[0.0,\"#0d0887\"],[0.1111111111111111,\"#46039f\"],[0.2222222222222222,\"#7201a8\"],[0.3333333333333333,\"#9c179e\"],[0.4444444444444444,\"#bd3786\"],[0.5555555555555556,\"#d8576b\"],[0.6666666666666666,\"#ed7953\"],[0.7777777777777778,\"#fb9f3a\"],[0.8888888888888888,\"#fdca26\"],[1.0,\"#f0f921\"]]}],\"surface\":[{\"type\":\"surface\",\"colorbar\":{\"outlinewidth\":0,\"ticks\":\"\"},\"colorscale\":[[0.0,\"#0d0887\"],[0.1111111111111111,\"#46039f\"],[0.2222222222222222,\"#7201a8\"],[0.3333333333333333,\"#9c179e\"],[0.4444444444444444,\"#bd3786\"],[0.5555555555555556,\"#d8576b\"],[0.6666666666666666,\"#ed7953\"],[0.7777777777777778,\"#fb9f3a\"],[0.8888888888888888,\"#fdca26\"],[1.0,\"#f0f921\"]]}],\"mesh3d\":[{\"type\":\"mesh3d\",\"colorbar\":{\"outlinewidth\":0,\"ticks\":\"\"}}],\"scatter\":[{\"fillpattern\":{\"fillmode\":\"overlay\",\"size\":10,\"solidity\":0.2},\"type\":\"scatter\"}],\"parcoords\":[{\"type\":\"parcoords\",\"line\":{\"colorbar\":{\"outlinewidth\":0,\"ticks\":\"\"}}}],\"scatterpolargl\":[{\"type\":\"scatterpolargl\",\"marker\":{\"colorbar\":{\"outlinewidth\":0,\"ticks\":\"\"}}}],\"bar\":[{\"error_x\":{\"color\":\"#2a3f5f\"},\"error_y\":{\"color\":\"#2a3f5f\"},\"marker\":{\"line\":{\"color\":\"#E5ECF6\",\"width\":0.5},\"pattern\":{\"fillmode\":\"overlay\",\"size\":10,\"solidity\":0.2}},\"type\":\"bar\"}],\"scattergeo\":[{\"type\":\"scattergeo\",\"marker\":{\"colorbar\":{\"outlinewidth\":0,\"ticks\":\"\"}}}],\"scatterpolar\":[{\"type\":\"scatterpolar\",\"marker\":{\"colorbar\":{\"outlinewidth\":0,\"ticks\":\"\"}}}],\"histogram\":[{\"marker\":{\"pattern\":{\"fillmode\":\"overlay\",\"size\":10,\"solidity\":0.2}},\"type\":\"histogram\"}],\"scattergl\":[{\"type\":\"scattergl\",\"marker\":{\"colorbar\":{\"outlinewidth\":0,\"ticks\":\"\"}}}],\"scatter3d\":[{\"type\":\"scatter3d\",\"line\":{\"colorbar\":{\"outlinewidth\":0,\"ticks\":\"\"}},\"marker\":{\"colorbar\":{\"outlinewidth\":0,\"ticks\":\"\"}}}],\"scattermapbox\":[{\"type\":\"scattermapbox\",\"marker\":{\"colorbar\":{\"outlinewidth\":0,\"ticks\":\"\"}}}],\"scatterternary\":[{\"type\":\"scatterternary\",\"marker\":{\"colorbar\":{\"outlinewidth\":0,\"ticks\":\"\"}}}],\"scattercarpet\":[{\"type\":\"scattercarpet\",\"marker\":{\"colorbar\":{\"outlinewidth\":0,\"ticks\":\"\"}}}],\"carpet\":[{\"aaxis\":{\"endlinecolor\":\"#2a3f5f\",\"gridcolor\":\"white\",\"linecolor\":\"white\",\"minorgridcolor\":\"white\",\"startlinecolor\":\"#2a3f5f\"},\"baxis\":{\"endlinecolor\":\"#2a3f5f\",\"gridcolor\":\"white\",\"linecolor\":\"white\",\"minorgridcolor\":\"white\",\"startlinecolor\":\"#2a3f5f\"},\"type\":\"carpet\"}],\"table\":[{\"cells\":{\"fill\":{\"color\":\"#EBF0F8\"},\"line\":{\"color\":\"white\"}},\"header\":{\"fill\":{\"color\":\"#C8D4E3\"},\"line\":{\"color\":\"white\"}},\"type\":\"table\"}],\"barpolar\":[{\"marker\":{\"line\":{\"color\":\"#E5ECF6\",\"width\":0.5},\"pattern\":{\"fillmode\":\"overlay\",\"size\":10,\"solidity\":0.2}},\"type\":\"barpolar\"}],\"pie\":[{\"automargin\":true,\"type\":\"pie\"}]},\"layout\":{\"autotypenumbers\":\"strict\",\"colorway\":[\"#636efa\",\"#EF553B\",\"#00cc96\",\"#ab63fa\",\"#FFA15A\",\"#19d3f3\",\"#FF6692\",\"#B6E880\",\"#FF97FF\",\"#FECB52\"],\"font\":{\"color\":\"#2a3f5f\"},\"hovermode\":\"closest\",\"hoverlabel\":{\"align\":\"left\"},\"paper_bgcolor\":\"white\",\"plot_bgcolor\":\"#E5ECF6\",\"polar\":{\"bgcolor\":\"#E5ECF6\",\"angularaxis\":{\"gridcolor\":\"white\",\"linecolor\":\"white\",\"ticks\":\"\"},\"radialaxis\":{\"gridcolor\":\"white\",\"linecolor\":\"white\",\"ticks\":\"\"}},\"ternary\":{\"bgcolor\":\"#E5ECF6\",\"aaxis\":{\"gridcolor\":\"white\",\"linecolor\":\"white\",\"ticks\":\"\"},\"baxis\":{\"gridcolor\":\"white\",\"linecolor\":\"white\",\"ticks\":\"\"},\"caxis\":{\"gridcolor\":\"white\",\"linecolor\":\"white\",\"ticks\":\"\"}},\"coloraxis\":{\"colorbar\":{\"outlinewidth\":0,\"ticks\":\"\"}},\"colorscale\":{\"sequential\":[[0.0,\"#0d0887\"],[0.1111111111111111,\"#46039f\"],[0.2222222222222222,\"#7201a8\"],[0.3333333333333333,\"#9c179e\"],[0.4444444444444444,\"#bd3786\"],[0.5555555555555556,\"#d8576b\"],[0.6666666666666666,\"#ed7953\"],[0.7777777777777778,\"#fb9f3a\"],[0.8888888888888888,\"#fdca26\"],[1.0,\"#f0f921\"]],\"sequentialminus\":[[0.0,\"#0d0887\"],[0.1111111111111111,\"#46039f\"],[0.2222222222222222,\"#7201a8\"],[0.3333333333333333,\"#9c179e\"],[0.4444444444444444,\"#bd3786\"],[0.5555555555555556,\"#d8576b\"],[0.6666666666666666,\"#ed7953\"],[0.7777777777777778,\"#fb9f3a\"],[0.8888888888888888,\"#fdca26\"],[1.0,\"#f0f921\"]],\"diverging\":[[0,\"#8e0152\"],[0.1,\"#c51b7d\"],[0.2,\"#de77ae\"],[0.3,\"#f1b6da\"],[0.4,\"#fde0ef\"],[0.5,\"#f7f7f7\"],[0.6,\"#e6f5d0\"],[0.7,\"#b8e186\"],[0.8,\"#7fbc41\"],[0.9,\"#4d9221\"],[1,\"#276419\"]]},\"xaxis\":{\"gridcolor\":\"white\",\"linecolor\":\"white\",\"ticks\":\"\",\"title\":{\"standoff\":15},\"zerolinecolor\":\"white\",\"automargin\":true,\"zerolinewidth\":2},\"yaxis\":{\"gridcolor\":\"white\",\"linecolor\":\"white\",\"ticks\":\"\",\"title\":{\"standoff\":15},\"zerolinecolor\":\"white\",\"automargin\":true,\"zerolinewidth\":2},\"scene\":{\"xaxis\":{\"backgroundcolor\":\"#E5ECF6\",\"gridcolor\":\"white\",\"linecolor\":\"white\",\"showbackground\":true,\"ticks\":\"\",\"zerolinecolor\":\"white\",\"gridwidth\":2},\"yaxis\":{\"backgroundcolor\":\"#E5ECF6\",\"gridcolor\":\"white\",\"linecolor\":\"white\",\"showbackground\":true,\"ticks\":\"\",\"zerolinecolor\":\"white\",\"gridwidth\":2},\"zaxis\":{\"backgroundcolor\":\"#E5ECF6\",\"gridcolor\":\"white\",\"linecolor\":\"white\",\"showbackground\":true,\"ticks\":\"\",\"zerolinecolor\":\"white\",\"gridwidth\":2}},\"shapedefaults\":{\"line\":{\"color\":\"#2a3f5f\"}},\"annotationdefaults\":{\"arrowcolor\":\"#2a3f5f\",\"arrowhead\":0,\"arrowwidth\":1},\"geo\":{\"bgcolor\":\"white\",\"landcolor\":\"#E5ECF6\",\"subunitcolor\":\"white\",\"showland\":true,\"showlakes\":true,\"lakecolor\":\"white\"},\"title\":{\"x\":0.05},\"mapbox\":{\"style\":\"light\"}}},\"xaxis\":{\"anchor\":\"y\",\"domain\":[0.0,1.0],\"title\":{\"text\":\"WeekDay\"}},\"yaxis\":{\"anchor\":\"x\",\"domain\":[0.0,1.0],\"title\":{\"text\":\"number_of_rides\"}},\"legend\":{\"title\":{\"text\":\"usertype\"},\"tracegroupgap\":0},\"margin\":{\"t\":60},\"barmode\":\"group\"},                        {\"responsive\": true}                    ).then(function(){\n",
       "                            \n",
       "var gd = document.getElementById('dfdc490b-ee0a-456a-8c97-c3ab6fff1b10');\n",
       "var x = new MutationObserver(function (mutations, observer) {{\n",
       "        var display = window.getComputedStyle(gd).display;\n",
       "        if (!display || display === 'none') {{\n",
       "            console.log([gd, 'removed!']);\n",
       "            Plotly.purge(gd);\n",
       "            observer.disconnect();\n",
       "        }}\n",
       "}});\n",
       "\n",
       "// Listen for the removal of the full notebook cells\n",
       "var notebookContainer = gd.closest('#notebook-container');\n",
       "if (notebookContainer) {{\n",
       "    x.observe(notebookContainer, {childList: true});\n",
       "}}\n",
       "\n",
       "// Listen for the clearing of the current output cell\n",
       "var outputEl = gd.closest('.output');\n",
       "if (outputEl) {{\n",
       "    x.observe(outputEl, {childList: true});\n",
       "}}\n",
       "\n",
       "                        })                };                });            </script>        </div>"
      ]
     },
     "metadata": {},
     "output_type": "display_data"
    }
   ],
   "source": [
    "rides_by_type_weekday = all_trips_v2.groupby(['usertype', 'WeekDay']).agg(number_of_rides=('bike_id', 'count')).reset_index().sort_values(['usertype', 'WeekDay'], ascending=[True, True])\n",
    "\n",
    "fig = px.bar(rides_by_type_weekday, x='WeekDay', y='number_of_rides', color='usertype', barmode='group')\n",
    "fig.show()"
   ]
  },
  {
   "cell_type": "code",
   "execution_count": 94,
   "id": "e1624354",
   "metadata": {},
   "outputs": [],
   "source": [
    "import plotly.express as px"
   ]
  },
  {
   "cell_type": "code",
   "execution_count": 120,
   "id": "5f23f559",
   "metadata": {},
   "outputs": [
    {
     "data": {
      "application/vnd.plotly.v1+json": {
       "config": {
        "plotlyServerURL": "https://plot.ly"
       },
       "data": [
        {
         "alignmentgroup": "True",
         "hovertemplate": "usertype=casual<br>season=%{x}<br>Number_of_Rides=%{y}<extra></extra>",
         "legendgroup": "casual",
         "marker": {
          "color": "#636efa",
          "pattern": {
           "shape": ""
          }
         },
         "name": "casual",
         "offsetgroup": "casual",
         "orientation": "v",
         "showlegend": true,
         "textposition": "auto",
         "type": "bar",
         "x": [
          "Autumn",
          "Spring",
          "Summer",
          "Winter"
         ],
         "xaxis": "x",
         "y": [
          462512,
          144228,
          711175,
          58245
         ],
         "yaxis": "y"
        },
        {
         "alignmentgroup": "True",
         "hovertemplate": "usertype=member<br>season=%{x}<br>Number_of_Rides=%{y}<extra></extra>",
         "legendgroup": "member",
         "marker": {
          "color": "#EF553B",
          "pattern": {
           "shape": ""
          }
         },
         "name": "member",
         "offsetgroup": "member",
         "orientation": "v",
         "showlegend": true,
         "textposition": "auto",
         "type": "bar",
         "x": [
          "Autumn",
          "Spring",
          "Summer",
          "Winter"
         ],
         "xaxis": "x",
         "y": [
          713907,
          253718,
          798321,
          219348
         ],
         "yaxis": "y"
        }
       ],
       "layout": {
        "barmode": "group",
        "legend": {
         "title": {
          "text": "usertype"
         },
         "tracegroupgap": 0
        },
        "margin": {
         "t": 60
        },
        "template": {
         "data": {
          "bar": [
           {
            "error_x": {
             "color": "#2a3f5f"
            },
            "error_y": {
             "color": "#2a3f5f"
            },
            "marker": {
             "line": {
              "color": "#E5ECF6",
              "width": 0.5
             },
             "pattern": {
              "fillmode": "overlay",
              "size": 10,
              "solidity": 0.2
             }
            },
            "type": "bar"
           }
          ],
          "barpolar": [
           {
            "marker": {
             "line": {
              "color": "#E5ECF6",
              "width": 0.5
             },
             "pattern": {
              "fillmode": "overlay",
              "size": 10,
              "solidity": 0.2
             }
            },
            "type": "barpolar"
           }
          ],
          "carpet": [
           {
            "aaxis": {
             "endlinecolor": "#2a3f5f",
             "gridcolor": "white",
             "linecolor": "white",
             "minorgridcolor": "white",
             "startlinecolor": "#2a3f5f"
            },
            "baxis": {
             "endlinecolor": "#2a3f5f",
             "gridcolor": "white",
             "linecolor": "white",
             "minorgridcolor": "white",
             "startlinecolor": "#2a3f5f"
            },
            "type": "carpet"
           }
          ],
          "choropleth": [
           {
            "colorbar": {
             "outlinewidth": 0,
             "ticks": ""
            },
            "type": "choropleth"
           }
          ],
          "contour": [
           {
            "colorbar": {
             "outlinewidth": 0,
             "ticks": ""
            },
            "colorscale": [
             [
              0,
              "#0d0887"
             ],
             [
              0.1111111111111111,
              "#46039f"
             ],
             [
              0.2222222222222222,
              "#7201a8"
             ],
             [
              0.3333333333333333,
              "#9c179e"
             ],
             [
              0.4444444444444444,
              "#bd3786"
             ],
             [
              0.5555555555555556,
              "#d8576b"
             ],
             [
              0.6666666666666666,
              "#ed7953"
             ],
             [
              0.7777777777777778,
              "#fb9f3a"
             ],
             [
              0.8888888888888888,
              "#fdca26"
             ],
             [
              1,
              "#f0f921"
             ]
            ],
            "type": "contour"
           }
          ],
          "contourcarpet": [
           {
            "colorbar": {
             "outlinewidth": 0,
             "ticks": ""
            },
            "type": "contourcarpet"
           }
          ],
          "heatmap": [
           {
            "colorbar": {
             "outlinewidth": 0,
             "ticks": ""
            },
            "colorscale": [
             [
              0,
              "#0d0887"
             ],
             [
              0.1111111111111111,
              "#46039f"
             ],
             [
              0.2222222222222222,
              "#7201a8"
             ],
             [
              0.3333333333333333,
              "#9c179e"
             ],
             [
              0.4444444444444444,
              "#bd3786"
             ],
             [
              0.5555555555555556,
              "#d8576b"
             ],
             [
              0.6666666666666666,
              "#ed7953"
             ],
             [
              0.7777777777777778,
              "#fb9f3a"
             ],
             [
              0.8888888888888888,
              "#fdca26"
             ],
             [
              1,
              "#f0f921"
             ]
            ],
            "type": "heatmap"
           }
          ],
          "heatmapgl": [
           {
            "colorbar": {
             "outlinewidth": 0,
             "ticks": ""
            },
            "colorscale": [
             [
              0,
              "#0d0887"
             ],
             [
              0.1111111111111111,
              "#46039f"
             ],
             [
              0.2222222222222222,
              "#7201a8"
             ],
             [
              0.3333333333333333,
              "#9c179e"
             ],
             [
              0.4444444444444444,
              "#bd3786"
             ],
             [
              0.5555555555555556,
              "#d8576b"
             ],
             [
              0.6666666666666666,
              "#ed7953"
             ],
             [
              0.7777777777777778,
              "#fb9f3a"
             ],
             [
              0.8888888888888888,
              "#fdca26"
             ],
             [
              1,
              "#f0f921"
             ]
            ],
            "type": "heatmapgl"
           }
          ],
          "histogram": [
           {
            "marker": {
             "pattern": {
              "fillmode": "overlay",
              "size": 10,
              "solidity": 0.2
             }
            },
            "type": "histogram"
           }
          ],
          "histogram2d": [
           {
            "colorbar": {
             "outlinewidth": 0,
             "ticks": ""
            },
            "colorscale": [
             [
              0,
              "#0d0887"
             ],
             [
              0.1111111111111111,
              "#46039f"
             ],
             [
              0.2222222222222222,
              "#7201a8"
             ],
             [
              0.3333333333333333,
              "#9c179e"
             ],
             [
              0.4444444444444444,
              "#bd3786"
             ],
             [
              0.5555555555555556,
              "#d8576b"
             ],
             [
              0.6666666666666666,
              "#ed7953"
             ],
             [
              0.7777777777777778,
              "#fb9f3a"
             ],
             [
              0.8888888888888888,
              "#fdca26"
             ],
             [
              1,
              "#f0f921"
             ]
            ],
            "type": "histogram2d"
           }
          ],
          "histogram2dcontour": [
           {
            "colorbar": {
             "outlinewidth": 0,
             "ticks": ""
            },
            "colorscale": [
             [
              0,
              "#0d0887"
             ],
             [
              0.1111111111111111,
              "#46039f"
             ],
             [
              0.2222222222222222,
              "#7201a8"
             ],
             [
              0.3333333333333333,
              "#9c179e"
             ],
             [
              0.4444444444444444,
              "#bd3786"
             ],
             [
              0.5555555555555556,
              "#d8576b"
             ],
             [
              0.6666666666666666,
              "#ed7953"
             ],
             [
              0.7777777777777778,
              "#fb9f3a"
             ],
             [
              0.8888888888888888,
              "#fdca26"
             ],
             [
              1,
              "#f0f921"
             ]
            ],
            "type": "histogram2dcontour"
           }
          ],
          "mesh3d": [
           {
            "colorbar": {
             "outlinewidth": 0,
             "ticks": ""
            },
            "type": "mesh3d"
           }
          ],
          "parcoords": [
           {
            "line": {
             "colorbar": {
              "outlinewidth": 0,
              "ticks": ""
             }
            },
            "type": "parcoords"
           }
          ],
          "pie": [
           {
            "automargin": true,
            "type": "pie"
           }
          ],
          "scatter": [
           {
            "fillpattern": {
             "fillmode": "overlay",
             "size": 10,
             "solidity": 0.2
            },
            "type": "scatter"
           }
          ],
          "scatter3d": [
           {
            "line": {
             "colorbar": {
              "outlinewidth": 0,
              "ticks": ""
             }
            },
            "marker": {
             "colorbar": {
              "outlinewidth": 0,
              "ticks": ""
             }
            },
            "type": "scatter3d"
           }
          ],
          "scattercarpet": [
           {
            "marker": {
             "colorbar": {
              "outlinewidth": 0,
              "ticks": ""
             }
            },
            "type": "scattercarpet"
           }
          ],
          "scattergeo": [
           {
            "marker": {
             "colorbar": {
              "outlinewidth": 0,
              "ticks": ""
             }
            },
            "type": "scattergeo"
           }
          ],
          "scattergl": [
           {
            "marker": {
             "colorbar": {
              "outlinewidth": 0,
              "ticks": ""
             }
            },
            "type": "scattergl"
           }
          ],
          "scattermapbox": [
           {
            "marker": {
             "colorbar": {
              "outlinewidth": 0,
              "ticks": ""
             }
            },
            "type": "scattermapbox"
           }
          ],
          "scatterpolar": [
           {
            "marker": {
             "colorbar": {
              "outlinewidth": 0,
              "ticks": ""
             }
            },
            "type": "scatterpolar"
           }
          ],
          "scatterpolargl": [
           {
            "marker": {
             "colorbar": {
              "outlinewidth": 0,
              "ticks": ""
             }
            },
            "type": "scatterpolargl"
           }
          ],
          "scatterternary": [
           {
            "marker": {
             "colorbar": {
              "outlinewidth": 0,
              "ticks": ""
             }
            },
            "type": "scatterternary"
           }
          ],
          "surface": [
           {
            "colorbar": {
             "outlinewidth": 0,
             "ticks": ""
            },
            "colorscale": [
             [
              0,
              "#0d0887"
             ],
             [
              0.1111111111111111,
              "#46039f"
             ],
             [
              0.2222222222222222,
              "#7201a8"
             ],
             [
              0.3333333333333333,
              "#9c179e"
             ],
             [
              0.4444444444444444,
              "#bd3786"
             ],
             [
              0.5555555555555556,
              "#d8576b"
             ],
             [
              0.6666666666666666,
              "#ed7953"
             ],
             [
              0.7777777777777778,
              "#fb9f3a"
             ],
             [
              0.8888888888888888,
              "#fdca26"
             ],
             [
              1,
              "#f0f921"
             ]
            ],
            "type": "surface"
           }
          ],
          "table": [
           {
            "cells": {
             "fill": {
              "color": "#EBF0F8"
             },
             "line": {
              "color": "white"
             }
            },
            "header": {
             "fill": {
              "color": "#C8D4E3"
             },
             "line": {
              "color": "white"
             }
            },
            "type": "table"
           }
          ]
         },
         "layout": {
          "annotationdefaults": {
           "arrowcolor": "#2a3f5f",
           "arrowhead": 0,
           "arrowwidth": 1
          },
          "autotypenumbers": "strict",
          "coloraxis": {
           "colorbar": {
            "outlinewidth": 0,
            "ticks": ""
           }
          },
          "colorscale": {
           "diverging": [
            [
             0,
             "#8e0152"
            ],
            [
             0.1,
             "#c51b7d"
            ],
            [
             0.2,
             "#de77ae"
            ],
            [
             0.3,
             "#f1b6da"
            ],
            [
             0.4,
             "#fde0ef"
            ],
            [
             0.5,
             "#f7f7f7"
            ],
            [
             0.6,
             "#e6f5d0"
            ],
            [
             0.7,
             "#b8e186"
            ],
            [
             0.8,
             "#7fbc41"
            ],
            [
             0.9,
             "#4d9221"
            ],
            [
             1,
             "#276419"
            ]
           ],
           "sequential": [
            [
             0,
             "#0d0887"
            ],
            [
             0.1111111111111111,
             "#46039f"
            ],
            [
             0.2222222222222222,
             "#7201a8"
            ],
            [
             0.3333333333333333,
             "#9c179e"
            ],
            [
             0.4444444444444444,
             "#bd3786"
            ],
            [
             0.5555555555555556,
             "#d8576b"
            ],
            [
             0.6666666666666666,
             "#ed7953"
            ],
            [
             0.7777777777777778,
             "#fb9f3a"
            ],
            [
             0.8888888888888888,
             "#fdca26"
            ],
            [
             1,
             "#f0f921"
            ]
           ],
           "sequentialminus": [
            [
             0,
             "#0d0887"
            ],
            [
             0.1111111111111111,
             "#46039f"
            ],
            [
             0.2222222222222222,
             "#7201a8"
            ],
            [
             0.3333333333333333,
             "#9c179e"
            ],
            [
             0.4444444444444444,
             "#bd3786"
            ],
            [
             0.5555555555555556,
             "#d8576b"
            ],
            [
             0.6666666666666666,
             "#ed7953"
            ],
            [
             0.7777777777777778,
             "#fb9f3a"
            ],
            [
             0.8888888888888888,
             "#fdca26"
            ],
            [
             1,
             "#f0f921"
            ]
           ]
          },
          "colorway": [
           "#636efa",
           "#EF553B",
           "#00cc96",
           "#ab63fa",
           "#FFA15A",
           "#19d3f3",
           "#FF6692",
           "#B6E880",
           "#FF97FF",
           "#FECB52"
          ],
          "font": {
           "color": "#2a3f5f"
          },
          "geo": {
           "bgcolor": "white",
           "lakecolor": "white",
           "landcolor": "#E5ECF6",
           "showlakes": true,
           "showland": true,
           "subunitcolor": "white"
          },
          "hoverlabel": {
           "align": "left"
          },
          "hovermode": "closest",
          "mapbox": {
           "style": "light"
          },
          "paper_bgcolor": "white",
          "plot_bgcolor": "#E5ECF6",
          "polar": {
           "angularaxis": {
            "gridcolor": "white",
            "linecolor": "white",
            "ticks": ""
           },
           "bgcolor": "#E5ECF6",
           "radialaxis": {
            "gridcolor": "white",
            "linecolor": "white",
            "ticks": ""
           }
          },
          "scene": {
           "xaxis": {
            "backgroundcolor": "#E5ECF6",
            "gridcolor": "white",
            "gridwidth": 2,
            "linecolor": "white",
            "showbackground": true,
            "ticks": "",
            "zerolinecolor": "white"
           },
           "yaxis": {
            "backgroundcolor": "#E5ECF6",
            "gridcolor": "white",
            "gridwidth": 2,
            "linecolor": "white",
            "showbackground": true,
            "ticks": "",
            "zerolinecolor": "white"
           },
           "zaxis": {
            "backgroundcolor": "#E5ECF6",
            "gridcolor": "white",
            "gridwidth": 2,
            "linecolor": "white",
            "showbackground": true,
            "ticks": "",
            "zerolinecolor": "white"
           }
          },
          "shapedefaults": {
           "line": {
            "color": "#2a3f5f"
           }
          },
          "ternary": {
           "aaxis": {
            "gridcolor": "white",
            "linecolor": "white",
            "ticks": ""
           },
           "baxis": {
            "gridcolor": "white",
            "linecolor": "white",
            "ticks": ""
           },
           "bgcolor": "#E5ECF6",
           "caxis": {
            "gridcolor": "white",
            "linecolor": "white",
            "ticks": ""
           }
          },
          "title": {
           "x": 0.05
          },
          "xaxis": {
           "automargin": true,
           "gridcolor": "white",
           "linecolor": "white",
           "ticks": "",
           "title": {
            "standoff": 15
           },
           "zerolinecolor": "white",
           "zerolinewidth": 2
          },
          "yaxis": {
           "automargin": true,
           "gridcolor": "white",
           "linecolor": "white",
           "ticks": "",
           "title": {
            "standoff": 15
           },
           "zerolinecolor": "white",
           "zerolinewidth": 2
          }
         }
        },
        "title": {
         "text": "Number of Rides by Season and Rider Type"
        },
        "xaxis": {
         "anchor": "y",
         "domain": [
          0,
          1
         ],
         "title": {
          "text": "Season"
         }
        },
        "yaxis": {
         "anchor": "x",
         "domain": [
          0,
          1
         ],
         "title": {
          "text": "Number of Rides"
         }
        }
       }
      },
      "text/html": [
       "<div>                            <div id=\"339472b4-cf4b-40c4-b1c2-f9a57e29116d\" class=\"plotly-graph-div\" style=\"height:525px; width:100%;\"></div>            <script type=\"text/javascript\">                require([\"plotly\"], function(Plotly) {                    window.PLOTLYENV=window.PLOTLYENV || {};                                    if (document.getElementById(\"339472b4-cf4b-40c4-b1c2-f9a57e29116d\")) {                    Plotly.newPlot(                        \"339472b4-cf4b-40c4-b1c2-f9a57e29116d\",                        [{\"alignmentgroup\":\"True\",\"hovertemplate\":\"usertype=casual\\u003cbr\\u003eseason=%{x}\\u003cbr\\u003eNumber_of_Rides=%{y}\\u003cextra\\u003e\\u003c\\u002fextra\\u003e\",\"legendgroup\":\"casual\",\"marker\":{\"color\":\"#636efa\",\"pattern\":{\"shape\":\"\"}},\"name\":\"casual\",\"offsetgroup\":\"casual\",\"orientation\":\"v\",\"showlegend\":true,\"textposition\":\"auto\",\"x\":[\"Autumn\",\"Spring\",\"Summer\",\"Winter\"],\"xaxis\":\"x\",\"y\":[462512,144228,711175,58245],\"yaxis\":\"y\",\"type\":\"bar\"},{\"alignmentgroup\":\"True\",\"hovertemplate\":\"usertype=member\\u003cbr\\u003eseason=%{x}\\u003cbr\\u003eNumber_of_Rides=%{y}\\u003cextra\\u003e\\u003c\\u002fextra\\u003e\",\"legendgroup\":\"member\",\"marker\":{\"color\":\"#EF553B\",\"pattern\":{\"shape\":\"\"}},\"name\":\"member\",\"offsetgroup\":\"member\",\"orientation\":\"v\",\"showlegend\":true,\"textposition\":\"auto\",\"x\":[\"Autumn\",\"Spring\",\"Summer\",\"Winter\"],\"xaxis\":\"x\",\"y\":[713907,253718,798321,219348],\"yaxis\":\"y\",\"type\":\"bar\"}],                        {\"template\":{\"data\":{\"histogram2dcontour\":[{\"type\":\"histogram2dcontour\",\"colorbar\":{\"outlinewidth\":0,\"ticks\":\"\"},\"colorscale\":[[0.0,\"#0d0887\"],[0.1111111111111111,\"#46039f\"],[0.2222222222222222,\"#7201a8\"],[0.3333333333333333,\"#9c179e\"],[0.4444444444444444,\"#bd3786\"],[0.5555555555555556,\"#d8576b\"],[0.6666666666666666,\"#ed7953\"],[0.7777777777777778,\"#fb9f3a\"],[0.8888888888888888,\"#fdca26\"],[1.0,\"#f0f921\"]]}],\"choropleth\":[{\"type\":\"choropleth\",\"colorbar\":{\"outlinewidth\":0,\"ticks\":\"\"}}],\"histogram2d\":[{\"type\":\"histogram2d\",\"colorbar\":{\"outlinewidth\":0,\"ticks\":\"\"},\"colorscale\":[[0.0,\"#0d0887\"],[0.1111111111111111,\"#46039f\"],[0.2222222222222222,\"#7201a8\"],[0.3333333333333333,\"#9c179e\"],[0.4444444444444444,\"#bd3786\"],[0.5555555555555556,\"#d8576b\"],[0.6666666666666666,\"#ed7953\"],[0.7777777777777778,\"#fb9f3a\"],[0.8888888888888888,\"#fdca26\"],[1.0,\"#f0f921\"]]}],\"heatmap\":[{\"type\":\"heatmap\",\"colorbar\":{\"outlinewidth\":0,\"ticks\":\"\"},\"colorscale\":[[0.0,\"#0d0887\"],[0.1111111111111111,\"#46039f\"],[0.2222222222222222,\"#7201a8\"],[0.3333333333333333,\"#9c179e\"],[0.4444444444444444,\"#bd3786\"],[0.5555555555555556,\"#d8576b\"],[0.6666666666666666,\"#ed7953\"],[0.7777777777777778,\"#fb9f3a\"],[0.8888888888888888,\"#fdca26\"],[1.0,\"#f0f921\"]]}],\"heatmapgl\":[{\"type\":\"heatmapgl\",\"colorbar\":{\"outlinewidth\":0,\"ticks\":\"\"},\"colorscale\":[[0.0,\"#0d0887\"],[0.1111111111111111,\"#46039f\"],[0.2222222222222222,\"#7201a8\"],[0.3333333333333333,\"#9c179e\"],[0.4444444444444444,\"#bd3786\"],[0.5555555555555556,\"#d8576b\"],[0.6666666666666666,\"#ed7953\"],[0.7777777777777778,\"#fb9f3a\"],[0.8888888888888888,\"#fdca26\"],[1.0,\"#f0f921\"]]}],\"contourcarpet\":[{\"type\":\"contourcarpet\",\"colorbar\":{\"outlinewidth\":0,\"ticks\":\"\"}}],\"contour\":[{\"type\":\"contour\",\"colorbar\":{\"outlinewidth\":0,\"ticks\":\"\"},\"colorscale\":[[0.0,\"#0d0887\"],[0.1111111111111111,\"#46039f\"],[0.2222222222222222,\"#7201a8\"],[0.3333333333333333,\"#9c179e\"],[0.4444444444444444,\"#bd3786\"],[0.5555555555555556,\"#d8576b\"],[0.6666666666666666,\"#ed7953\"],[0.7777777777777778,\"#fb9f3a\"],[0.8888888888888888,\"#fdca26\"],[1.0,\"#f0f921\"]]}],\"surface\":[{\"type\":\"surface\",\"colorbar\":{\"outlinewidth\":0,\"ticks\":\"\"},\"colorscale\":[[0.0,\"#0d0887\"],[0.1111111111111111,\"#46039f\"],[0.2222222222222222,\"#7201a8\"],[0.3333333333333333,\"#9c179e\"],[0.4444444444444444,\"#bd3786\"],[0.5555555555555556,\"#d8576b\"],[0.6666666666666666,\"#ed7953\"],[0.7777777777777778,\"#fb9f3a\"],[0.8888888888888888,\"#fdca26\"],[1.0,\"#f0f921\"]]}],\"mesh3d\":[{\"type\":\"mesh3d\",\"colorbar\":{\"outlinewidth\":0,\"ticks\":\"\"}}],\"scatter\":[{\"fillpattern\":{\"fillmode\":\"overlay\",\"size\":10,\"solidity\":0.2},\"type\":\"scatter\"}],\"parcoords\":[{\"type\":\"parcoords\",\"line\":{\"colorbar\":{\"outlinewidth\":0,\"ticks\":\"\"}}}],\"scatterpolargl\":[{\"type\":\"scatterpolargl\",\"marker\":{\"colorbar\":{\"outlinewidth\":0,\"ticks\":\"\"}}}],\"bar\":[{\"error_x\":{\"color\":\"#2a3f5f\"},\"error_y\":{\"color\":\"#2a3f5f\"},\"marker\":{\"line\":{\"color\":\"#E5ECF6\",\"width\":0.5},\"pattern\":{\"fillmode\":\"overlay\",\"size\":10,\"solidity\":0.2}},\"type\":\"bar\"}],\"scattergeo\":[{\"type\":\"scattergeo\",\"marker\":{\"colorbar\":{\"outlinewidth\":0,\"ticks\":\"\"}}}],\"scatterpolar\":[{\"type\":\"scatterpolar\",\"marker\":{\"colorbar\":{\"outlinewidth\":0,\"ticks\":\"\"}}}],\"histogram\":[{\"marker\":{\"pattern\":{\"fillmode\":\"overlay\",\"size\":10,\"solidity\":0.2}},\"type\":\"histogram\"}],\"scattergl\":[{\"type\":\"scattergl\",\"marker\":{\"colorbar\":{\"outlinewidth\":0,\"ticks\":\"\"}}}],\"scatter3d\":[{\"type\":\"scatter3d\",\"line\":{\"colorbar\":{\"outlinewidth\":0,\"ticks\":\"\"}},\"marker\":{\"colorbar\":{\"outlinewidth\":0,\"ticks\":\"\"}}}],\"scattermapbox\":[{\"type\":\"scattermapbox\",\"marker\":{\"colorbar\":{\"outlinewidth\":0,\"ticks\":\"\"}}}],\"scatterternary\":[{\"type\":\"scatterternary\",\"marker\":{\"colorbar\":{\"outlinewidth\":0,\"ticks\":\"\"}}}],\"scattercarpet\":[{\"type\":\"scattercarpet\",\"marker\":{\"colorbar\":{\"outlinewidth\":0,\"ticks\":\"\"}}}],\"carpet\":[{\"aaxis\":{\"endlinecolor\":\"#2a3f5f\",\"gridcolor\":\"white\",\"linecolor\":\"white\",\"minorgridcolor\":\"white\",\"startlinecolor\":\"#2a3f5f\"},\"baxis\":{\"endlinecolor\":\"#2a3f5f\",\"gridcolor\":\"white\",\"linecolor\":\"white\",\"minorgridcolor\":\"white\",\"startlinecolor\":\"#2a3f5f\"},\"type\":\"carpet\"}],\"table\":[{\"cells\":{\"fill\":{\"color\":\"#EBF0F8\"},\"line\":{\"color\":\"white\"}},\"header\":{\"fill\":{\"color\":\"#C8D4E3\"},\"line\":{\"color\":\"white\"}},\"type\":\"table\"}],\"barpolar\":[{\"marker\":{\"line\":{\"color\":\"#E5ECF6\",\"width\":0.5},\"pattern\":{\"fillmode\":\"overlay\",\"size\":10,\"solidity\":0.2}},\"type\":\"barpolar\"}],\"pie\":[{\"automargin\":true,\"type\":\"pie\"}]},\"layout\":{\"autotypenumbers\":\"strict\",\"colorway\":[\"#636efa\",\"#EF553B\",\"#00cc96\",\"#ab63fa\",\"#FFA15A\",\"#19d3f3\",\"#FF6692\",\"#B6E880\",\"#FF97FF\",\"#FECB52\"],\"font\":{\"color\":\"#2a3f5f\"},\"hovermode\":\"closest\",\"hoverlabel\":{\"align\":\"left\"},\"paper_bgcolor\":\"white\",\"plot_bgcolor\":\"#E5ECF6\",\"polar\":{\"bgcolor\":\"#E5ECF6\",\"angularaxis\":{\"gridcolor\":\"white\",\"linecolor\":\"white\",\"ticks\":\"\"},\"radialaxis\":{\"gridcolor\":\"white\",\"linecolor\":\"white\",\"ticks\":\"\"}},\"ternary\":{\"bgcolor\":\"#E5ECF6\",\"aaxis\":{\"gridcolor\":\"white\",\"linecolor\":\"white\",\"ticks\":\"\"},\"baxis\":{\"gridcolor\":\"white\",\"linecolor\":\"white\",\"ticks\":\"\"},\"caxis\":{\"gridcolor\":\"white\",\"linecolor\":\"white\",\"ticks\":\"\"}},\"coloraxis\":{\"colorbar\":{\"outlinewidth\":0,\"ticks\":\"\"}},\"colorscale\":{\"sequential\":[[0.0,\"#0d0887\"],[0.1111111111111111,\"#46039f\"],[0.2222222222222222,\"#7201a8\"],[0.3333333333333333,\"#9c179e\"],[0.4444444444444444,\"#bd3786\"],[0.5555555555555556,\"#d8576b\"],[0.6666666666666666,\"#ed7953\"],[0.7777777777777778,\"#fb9f3a\"],[0.8888888888888888,\"#fdca26\"],[1.0,\"#f0f921\"]],\"sequentialminus\":[[0.0,\"#0d0887\"],[0.1111111111111111,\"#46039f\"],[0.2222222222222222,\"#7201a8\"],[0.3333333333333333,\"#9c179e\"],[0.4444444444444444,\"#bd3786\"],[0.5555555555555556,\"#d8576b\"],[0.6666666666666666,\"#ed7953\"],[0.7777777777777778,\"#fb9f3a\"],[0.8888888888888888,\"#fdca26\"],[1.0,\"#f0f921\"]],\"diverging\":[[0,\"#8e0152\"],[0.1,\"#c51b7d\"],[0.2,\"#de77ae\"],[0.3,\"#f1b6da\"],[0.4,\"#fde0ef\"],[0.5,\"#f7f7f7\"],[0.6,\"#e6f5d0\"],[0.7,\"#b8e186\"],[0.8,\"#7fbc41\"],[0.9,\"#4d9221\"],[1,\"#276419\"]]},\"xaxis\":{\"gridcolor\":\"white\",\"linecolor\":\"white\",\"ticks\":\"\",\"title\":{\"standoff\":15},\"zerolinecolor\":\"white\",\"automargin\":true,\"zerolinewidth\":2},\"yaxis\":{\"gridcolor\":\"white\",\"linecolor\":\"white\",\"ticks\":\"\",\"title\":{\"standoff\":15},\"zerolinecolor\":\"white\",\"automargin\":true,\"zerolinewidth\":2},\"scene\":{\"xaxis\":{\"backgroundcolor\":\"#E5ECF6\",\"gridcolor\":\"white\",\"linecolor\":\"white\",\"showbackground\":true,\"ticks\":\"\",\"zerolinecolor\":\"white\",\"gridwidth\":2},\"yaxis\":{\"backgroundcolor\":\"#E5ECF6\",\"gridcolor\":\"white\",\"linecolor\":\"white\",\"showbackground\":true,\"ticks\":\"\",\"zerolinecolor\":\"white\",\"gridwidth\":2},\"zaxis\":{\"backgroundcolor\":\"#E5ECF6\",\"gridcolor\":\"white\",\"linecolor\":\"white\",\"showbackground\":true,\"ticks\":\"\",\"zerolinecolor\":\"white\",\"gridwidth\":2}},\"shapedefaults\":{\"line\":{\"color\":\"#2a3f5f\"}},\"annotationdefaults\":{\"arrowcolor\":\"#2a3f5f\",\"arrowhead\":0,\"arrowwidth\":1},\"geo\":{\"bgcolor\":\"white\",\"landcolor\":\"#E5ECF6\",\"subunitcolor\":\"white\",\"showland\":true,\"showlakes\":true,\"lakecolor\":\"white\"},\"title\":{\"x\":0.05},\"mapbox\":{\"style\":\"light\"}}},\"xaxis\":{\"anchor\":\"y\",\"domain\":[0.0,1.0],\"title\":{\"text\":\"Season\"}},\"yaxis\":{\"anchor\":\"x\",\"domain\":[0.0,1.0],\"title\":{\"text\":\"Number of Rides\"}},\"legend\":{\"title\":{\"text\":\"usertype\"},\"tracegroupgap\":0},\"margin\":{\"t\":60},\"barmode\":\"group\",\"title\":{\"text\":\"Number of Rides by Season and Rider Type\"}},                        {\"responsive\": true}                    ).then(function(){\n",
       "                            \n",
       "var gd = document.getElementById('339472b4-cf4b-40c4-b1c2-f9a57e29116d');\n",
       "var x = new MutationObserver(function (mutations, observer) {{\n",
       "        var display = window.getComputedStyle(gd).display;\n",
       "        if (!display || display === 'none') {{\n",
       "            console.log([gd, 'removed!']);\n",
       "            Plotly.purge(gd);\n",
       "            observer.disconnect();\n",
       "        }}\n",
       "}});\n",
       "\n",
       "// Listen for the removal of the full notebook cells\n",
       "var notebookContainer = gd.closest('#notebook-container');\n",
       "if (notebookContainer) {{\n",
       "    x.observe(notebookContainer, {childList: true});\n",
       "}}\n",
       "\n",
       "// Listen for the clearing of the current output cell\n",
       "var outputEl = gd.closest('.output');\n",
       "if (outputEl) {{\n",
       "    x.observe(outputEl, {childList: true});\n",
       "}}\n",
       "\n",
       "                        })                };                });            </script>        </div>"
      ]
     },
     "metadata": {},
     "output_type": "display_data"
    }
   ],
   "source": [
    "\n",
    "# Group by member_casual and weekday, calculate number_of_rides and average_duration\n",
    "grouped_data = all_trips_v2.groupby(['usertype', 'season']).agg(number_of_rides=('bike_id', 'count'))\n",
    "grouped_data = grouped_data.rename(columns={'number_of_rides': 'Number_of_Rides', 'ride_date': 'number_of_rides'}).reset_index()\n",
    "\n",
    "# Create the visualization\n",
    "fig = px.bar(grouped_data, x='season', y='Number_of_Rides', color='usertype', barmode='group')\n",
    "fig.update_layout(\n",
    "    xaxis_title='Season',\n",
    "    yaxis_title='Number of Rides',\n",
    "    title='Number of Rides by Season and Rider Type'\n",
    ")\n",
    "fig.show()\n"
   ]
  },
  {
   "cell_type": "code",
   "execution_count": 119,
   "id": "5342ac24",
   "metadata": {
    "scrolled": true
   },
   "outputs": [
    {
     "data": {
      "application/vnd.plotly.v1+json": {
       "config": {
        "plotlyServerURL": "https://plot.ly"
       },
       "data": [
        {
         "alignmentgroup": "True",
         "hovertemplate": "usertype=casual<br>Month=%{x}<br>Number_of_Rides=%{y}<extra></extra>",
         "legendgroup": "casual",
         "marker": {
          "color": "#636efa",
          "pattern": {
           "shape": ""
          }
         },
         "name": "casual",
         "offsetgroup": "casual",
         "orientation": "v",
         "showlegend": true,
         "textposition": "auto",
         "type": "bar",
         "x": [
          "April",
          "August",
          "December",
          "February",
          "January",
          "July",
          "June",
          "March",
          "May",
          "November",
          "October",
          "September"
         ],
         "xaxis": "x",
         "y": [
          23623,
          288639,
          29997,
          10131,
          18117,
          268688,
          153848,
          84032,
          36573,
          87911,
          144529,
          230072
         ],
         "yaxis": "y"
        },
        {
         "alignmentgroup": "True",
         "hovertemplate": "usertype=member<br>Month=%{x}<br>Number_of_Rides=%{y}<extra></extra>",
         "legendgroup": "member",
         "marker": {
          "color": "#EF553B",
          "pattern": {
           "shape": ""
          }
         },
         "name": "member",
         "offsetgroup": "member",
         "orientation": "v",
         "showlegend": true,
         "textposition": "auto",
         "type": "bar",
         "x": [
          "April",
          "August",
          "December",
          "February",
          "January",
          "July",
          "June",
          "March",
          "May",
          "November",
          "October",
          "September"
         ],
         "xaxis": "x",
         "y": [
          61139,
          330953,
          101142,
          39491,
          78715,
          281047,
          186321,
          144462,
          48117,
          170940,
          242213,
          300754
         ],
         "yaxis": "y"
        }
       ],
       "layout": {
        "barmode": "group",
        "legend": {
         "title": {
          "text": "usertype"
         },
         "tracegroupgap": 0
        },
        "margin": {
         "t": 60
        },
        "template": {
         "data": {
          "bar": [
           {
            "error_x": {
             "color": "#2a3f5f"
            },
            "error_y": {
             "color": "#2a3f5f"
            },
            "marker": {
             "line": {
              "color": "#E5ECF6",
              "width": 0.5
             },
             "pattern": {
              "fillmode": "overlay",
              "size": 10,
              "solidity": 0.2
             }
            },
            "type": "bar"
           }
          ],
          "barpolar": [
           {
            "marker": {
             "line": {
              "color": "#E5ECF6",
              "width": 0.5
             },
             "pattern": {
              "fillmode": "overlay",
              "size": 10,
              "solidity": 0.2
             }
            },
            "type": "barpolar"
           }
          ],
          "carpet": [
           {
            "aaxis": {
             "endlinecolor": "#2a3f5f",
             "gridcolor": "white",
             "linecolor": "white",
             "minorgridcolor": "white",
             "startlinecolor": "#2a3f5f"
            },
            "baxis": {
             "endlinecolor": "#2a3f5f",
             "gridcolor": "white",
             "linecolor": "white",
             "minorgridcolor": "white",
             "startlinecolor": "#2a3f5f"
            },
            "type": "carpet"
           }
          ],
          "choropleth": [
           {
            "colorbar": {
             "outlinewidth": 0,
             "ticks": ""
            },
            "type": "choropleth"
           }
          ],
          "contour": [
           {
            "colorbar": {
             "outlinewidth": 0,
             "ticks": ""
            },
            "colorscale": [
             [
              0,
              "#0d0887"
             ],
             [
              0.1111111111111111,
              "#46039f"
             ],
             [
              0.2222222222222222,
              "#7201a8"
             ],
             [
              0.3333333333333333,
              "#9c179e"
             ],
             [
              0.4444444444444444,
              "#bd3786"
             ],
             [
              0.5555555555555556,
              "#d8576b"
             ],
             [
              0.6666666666666666,
              "#ed7953"
             ],
             [
              0.7777777777777778,
              "#fb9f3a"
             ],
             [
              0.8888888888888888,
              "#fdca26"
             ],
             [
              1,
              "#f0f921"
             ]
            ],
            "type": "contour"
           }
          ],
          "contourcarpet": [
           {
            "colorbar": {
             "outlinewidth": 0,
             "ticks": ""
            },
            "type": "contourcarpet"
           }
          ],
          "heatmap": [
           {
            "colorbar": {
             "outlinewidth": 0,
             "ticks": ""
            },
            "colorscale": [
             [
              0,
              "#0d0887"
             ],
             [
              0.1111111111111111,
              "#46039f"
             ],
             [
              0.2222222222222222,
              "#7201a8"
             ],
             [
              0.3333333333333333,
              "#9c179e"
             ],
             [
              0.4444444444444444,
              "#bd3786"
             ],
             [
              0.5555555555555556,
              "#d8576b"
             ],
             [
              0.6666666666666666,
              "#ed7953"
             ],
             [
              0.7777777777777778,
              "#fb9f3a"
             ],
             [
              0.8888888888888888,
              "#fdca26"
             ],
             [
              1,
              "#f0f921"
             ]
            ],
            "type": "heatmap"
           }
          ],
          "heatmapgl": [
           {
            "colorbar": {
             "outlinewidth": 0,
             "ticks": ""
            },
            "colorscale": [
             [
              0,
              "#0d0887"
             ],
             [
              0.1111111111111111,
              "#46039f"
             ],
             [
              0.2222222222222222,
              "#7201a8"
             ],
             [
              0.3333333333333333,
              "#9c179e"
             ],
             [
              0.4444444444444444,
              "#bd3786"
             ],
             [
              0.5555555555555556,
              "#d8576b"
             ],
             [
              0.6666666666666666,
              "#ed7953"
             ],
             [
              0.7777777777777778,
              "#fb9f3a"
             ],
             [
              0.8888888888888888,
              "#fdca26"
             ],
             [
              1,
              "#f0f921"
             ]
            ],
            "type": "heatmapgl"
           }
          ],
          "histogram": [
           {
            "marker": {
             "pattern": {
              "fillmode": "overlay",
              "size": 10,
              "solidity": 0.2
             }
            },
            "type": "histogram"
           }
          ],
          "histogram2d": [
           {
            "colorbar": {
             "outlinewidth": 0,
             "ticks": ""
            },
            "colorscale": [
             [
              0,
              "#0d0887"
             ],
             [
              0.1111111111111111,
              "#46039f"
             ],
             [
              0.2222222222222222,
              "#7201a8"
             ],
             [
              0.3333333333333333,
              "#9c179e"
             ],
             [
              0.4444444444444444,
              "#bd3786"
             ],
             [
              0.5555555555555556,
              "#d8576b"
             ],
             [
              0.6666666666666666,
              "#ed7953"
             ],
             [
              0.7777777777777778,
              "#fb9f3a"
             ],
             [
              0.8888888888888888,
              "#fdca26"
             ],
             [
              1,
              "#f0f921"
             ]
            ],
            "type": "histogram2d"
           }
          ],
          "histogram2dcontour": [
           {
            "colorbar": {
             "outlinewidth": 0,
             "ticks": ""
            },
            "colorscale": [
             [
              0,
              "#0d0887"
             ],
             [
              0.1111111111111111,
              "#46039f"
             ],
             [
              0.2222222222222222,
              "#7201a8"
             ],
             [
              0.3333333333333333,
              "#9c179e"
             ],
             [
              0.4444444444444444,
              "#bd3786"
             ],
             [
              0.5555555555555556,
              "#d8576b"
             ],
             [
              0.6666666666666666,
              "#ed7953"
             ],
             [
              0.7777777777777778,
              "#fb9f3a"
             ],
             [
              0.8888888888888888,
              "#fdca26"
             ],
             [
              1,
              "#f0f921"
             ]
            ],
            "type": "histogram2dcontour"
           }
          ],
          "mesh3d": [
           {
            "colorbar": {
             "outlinewidth": 0,
             "ticks": ""
            },
            "type": "mesh3d"
           }
          ],
          "parcoords": [
           {
            "line": {
             "colorbar": {
              "outlinewidth": 0,
              "ticks": ""
             }
            },
            "type": "parcoords"
           }
          ],
          "pie": [
           {
            "automargin": true,
            "type": "pie"
           }
          ],
          "scatter": [
           {
            "fillpattern": {
             "fillmode": "overlay",
             "size": 10,
             "solidity": 0.2
            },
            "type": "scatter"
           }
          ],
          "scatter3d": [
           {
            "line": {
             "colorbar": {
              "outlinewidth": 0,
              "ticks": ""
             }
            },
            "marker": {
             "colorbar": {
              "outlinewidth": 0,
              "ticks": ""
             }
            },
            "type": "scatter3d"
           }
          ],
          "scattercarpet": [
           {
            "marker": {
             "colorbar": {
              "outlinewidth": 0,
              "ticks": ""
             }
            },
            "type": "scattercarpet"
           }
          ],
          "scattergeo": [
           {
            "marker": {
             "colorbar": {
              "outlinewidth": 0,
              "ticks": ""
             }
            },
            "type": "scattergeo"
           }
          ],
          "scattergl": [
           {
            "marker": {
             "colorbar": {
              "outlinewidth": 0,
              "ticks": ""
             }
            },
            "type": "scattergl"
           }
          ],
          "scattermapbox": [
           {
            "marker": {
             "colorbar": {
              "outlinewidth": 0,
              "ticks": ""
             }
            },
            "type": "scattermapbox"
           }
          ],
          "scatterpolar": [
           {
            "marker": {
             "colorbar": {
              "outlinewidth": 0,
              "ticks": ""
             }
            },
            "type": "scatterpolar"
           }
          ],
          "scatterpolargl": [
           {
            "marker": {
             "colorbar": {
              "outlinewidth": 0,
              "ticks": ""
             }
            },
            "type": "scatterpolargl"
           }
          ],
          "scatterternary": [
           {
            "marker": {
             "colorbar": {
              "outlinewidth": 0,
              "ticks": ""
             }
            },
            "type": "scatterternary"
           }
          ],
          "surface": [
           {
            "colorbar": {
             "outlinewidth": 0,
             "ticks": ""
            },
            "colorscale": [
             [
              0,
              "#0d0887"
             ],
             [
              0.1111111111111111,
              "#46039f"
             ],
             [
              0.2222222222222222,
              "#7201a8"
             ],
             [
              0.3333333333333333,
              "#9c179e"
             ],
             [
              0.4444444444444444,
              "#bd3786"
             ],
             [
              0.5555555555555556,
              "#d8576b"
             ],
             [
              0.6666666666666666,
              "#ed7953"
             ],
             [
              0.7777777777777778,
              "#fb9f3a"
             ],
             [
              0.8888888888888888,
              "#fdca26"
             ],
             [
              1,
              "#f0f921"
             ]
            ],
            "type": "surface"
           }
          ],
          "table": [
           {
            "cells": {
             "fill": {
              "color": "#EBF0F8"
             },
             "line": {
              "color": "white"
             }
            },
            "header": {
             "fill": {
              "color": "#C8D4E3"
             },
             "line": {
              "color": "white"
             }
            },
            "type": "table"
           }
          ]
         },
         "layout": {
          "annotationdefaults": {
           "arrowcolor": "#2a3f5f",
           "arrowhead": 0,
           "arrowwidth": 1
          },
          "autotypenumbers": "strict",
          "coloraxis": {
           "colorbar": {
            "outlinewidth": 0,
            "ticks": ""
           }
          },
          "colorscale": {
           "diverging": [
            [
             0,
             "#8e0152"
            ],
            [
             0.1,
             "#c51b7d"
            ],
            [
             0.2,
             "#de77ae"
            ],
            [
             0.3,
             "#f1b6da"
            ],
            [
             0.4,
             "#fde0ef"
            ],
            [
             0.5,
             "#f7f7f7"
            ],
            [
             0.6,
             "#e6f5d0"
            ],
            [
             0.7,
             "#b8e186"
            ],
            [
             0.8,
             "#7fbc41"
            ],
            [
             0.9,
             "#4d9221"
            ],
            [
             1,
             "#276419"
            ]
           ],
           "sequential": [
            [
             0,
             "#0d0887"
            ],
            [
             0.1111111111111111,
             "#46039f"
            ],
            [
             0.2222222222222222,
             "#7201a8"
            ],
            [
             0.3333333333333333,
             "#9c179e"
            ],
            [
             0.4444444444444444,
             "#bd3786"
            ],
            [
             0.5555555555555556,
             "#d8576b"
            ],
            [
             0.6666666666666666,
             "#ed7953"
            ],
            [
             0.7777777777777778,
             "#fb9f3a"
            ],
            [
             0.8888888888888888,
             "#fdca26"
            ],
            [
             1,
             "#f0f921"
            ]
           ],
           "sequentialminus": [
            [
             0,
             "#0d0887"
            ],
            [
             0.1111111111111111,
             "#46039f"
            ],
            [
             0.2222222222222222,
             "#7201a8"
            ],
            [
             0.3333333333333333,
             "#9c179e"
            ],
            [
             0.4444444444444444,
             "#bd3786"
            ],
            [
             0.5555555555555556,
             "#d8576b"
            ],
            [
             0.6666666666666666,
             "#ed7953"
            ],
            [
             0.7777777777777778,
             "#fb9f3a"
            ],
            [
             0.8888888888888888,
             "#fdca26"
            ],
            [
             1,
             "#f0f921"
            ]
           ]
          },
          "colorway": [
           "#636efa",
           "#EF553B",
           "#00cc96",
           "#ab63fa",
           "#FFA15A",
           "#19d3f3",
           "#FF6692",
           "#B6E880",
           "#FF97FF",
           "#FECB52"
          ],
          "font": {
           "color": "#2a3f5f"
          },
          "geo": {
           "bgcolor": "white",
           "lakecolor": "white",
           "landcolor": "#E5ECF6",
           "showlakes": true,
           "showland": true,
           "subunitcolor": "white"
          },
          "hoverlabel": {
           "align": "left"
          },
          "hovermode": "closest",
          "mapbox": {
           "style": "light"
          },
          "paper_bgcolor": "white",
          "plot_bgcolor": "#E5ECF6",
          "polar": {
           "angularaxis": {
            "gridcolor": "white",
            "linecolor": "white",
            "ticks": ""
           },
           "bgcolor": "#E5ECF6",
           "radialaxis": {
            "gridcolor": "white",
            "linecolor": "white",
            "ticks": ""
           }
          },
          "scene": {
           "xaxis": {
            "backgroundcolor": "#E5ECF6",
            "gridcolor": "white",
            "gridwidth": 2,
            "linecolor": "white",
            "showbackground": true,
            "ticks": "",
            "zerolinecolor": "white"
           },
           "yaxis": {
            "backgroundcolor": "#E5ECF6",
            "gridcolor": "white",
            "gridwidth": 2,
            "linecolor": "white",
            "showbackground": true,
            "ticks": "",
            "zerolinecolor": "white"
           },
           "zaxis": {
            "backgroundcolor": "#E5ECF6",
            "gridcolor": "white",
            "gridwidth": 2,
            "linecolor": "white",
            "showbackground": true,
            "ticks": "",
            "zerolinecolor": "white"
           }
          },
          "shapedefaults": {
           "line": {
            "color": "#2a3f5f"
           }
          },
          "ternary": {
           "aaxis": {
            "gridcolor": "white",
            "linecolor": "white",
            "ticks": ""
           },
           "baxis": {
            "gridcolor": "white",
            "linecolor": "white",
            "ticks": ""
           },
           "bgcolor": "#E5ECF6",
           "caxis": {
            "gridcolor": "white",
            "linecolor": "white",
            "ticks": ""
           }
          },
          "title": {
           "x": 0.05
          },
          "xaxis": {
           "automargin": true,
           "gridcolor": "white",
           "linecolor": "white",
           "ticks": "",
           "title": {
            "standoff": 15
           },
           "zerolinecolor": "white",
           "zerolinewidth": 2
          },
          "yaxis": {
           "automargin": true,
           "gridcolor": "white",
           "linecolor": "white",
           "ticks": "",
           "title": {
            "standoff": 15
           },
           "zerolinecolor": "white",
           "zerolinewidth": 2
          }
         }
        },
        "title": {
         "text": "Number of Rides by Month and Rider Type"
        },
        "xaxis": {
         "anchor": "y",
         "domain": [
          0,
          1
         ],
         "title": {
          "text": "Month"
         }
        },
        "yaxis": {
         "anchor": "x",
         "domain": [
          0,
          1
         ],
         "title": {
          "text": "Number of Rides"
         }
        }
       }
      },
      "text/html": [
       "<div>                            <div id=\"48e3168c-e870-442b-a070-b416eb2081bc\" class=\"plotly-graph-div\" style=\"height:525px; width:100%;\"></div>            <script type=\"text/javascript\">                require([\"plotly\"], function(Plotly) {                    window.PLOTLYENV=window.PLOTLYENV || {};                                    if (document.getElementById(\"48e3168c-e870-442b-a070-b416eb2081bc\")) {                    Plotly.newPlot(                        \"48e3168c-e870-442b-a070-b416eb2081bc\",                        [{\"alignmentgroup\":\"True\",\"hovertemplate\":\"usertype=casual\\u003cbr\\u003eMonth=%{x}\\u003cbr\\u003eNumber_of_Rides=%{y}\\u003cextra\\u003e\\u003c\\u002fextra\\u003e\",\"legendgroup\":\"casual\",\"marker\":{\"color\":\"#636efa\",\"pattern\":{\"shape\":\"\"}},\"name\":\"casual\",\"offsetgroup\":\"casual\",\"orientation\":\"v\",\"showlegend\":true,\"textposition\":\"auto\",\"x\":[\"April\",\"August\",\"December\",\"February\",\"January\",\"July\",\"June\",\"March\",\"May\",\"November\",\"October\",\"September\"],\"xaxis\":\"x\",\"y\":[23623,288639,29997,10131,18117,268688,153848,84032,36573,87911,144529,230072],\"yaxis\":\"y\",\"type\":\"bar\"},{\"alignmentgroup\":\"True\",\"hovertemplate\":\"usertype=member\\u003cbr\\u003eMonth=%{x}\\u003cbr\\u003eNumber_of_Rides=%{y}\\u003cextra\\u003e\\u003c\\u002fextra\\u003e\",\"legendgroup\":\"member\",\"marker\":{\"color\":\"#EF553B\",\"pattern\":{\"shape\":\"\"}},\"name\":\"member\",\"offsetgroup\":\"member\",\"orientation\":\"v\",\"showlegend\":true,\"textposition\":\"auto\",\"x\":[\"April\",\"August\",\"December\",\"February\",\"January\",\"July\",\"June\",\"March\",\"May\",\"November\",\"October\",\"September\"],\"xaxis\":\"x\",\"y\":[61139,330953,101142,39491,78715,281047,186321,144462,48117,170940,242213,300754],\"yaxis\":\"y\",\"type\":\"bar\"}],                        {\"template\":{\"data\":{\"histogram2dcontour\":[{\"type\":\"histogram2dcontour\",\"colorbar\":{\"outlinewidth\":0,\"ticks\":\"\"},\"colorscale\":[[0.0,\"#0d0887\"],[0.1111111111111111,\"#46039f\"],[0.2222222222222222,\"#7201a8\"],[0.3333333333333333,\"#9c179e\"],[0.4444444444444444,\"#bd3786\"],[0.5555555555555556,\"#d8576b\"],[0.6666666666666666,\"#ed7953\"],[0.7777777777777778,\"#fb9f3a\"],[0.8888888888888888,\"#fdca26\"],[1.0,\"#f0f921\"]]}],\"choropleth\":[{\"type\":\"choropleth\",\"colorbar\":{\"outlinewidth\":0,\"ticks\":\"\"}}],\"histogram2d\":[{\"type\":\"histogram2d\",\"colorbar\":{\"outlinewidth\":0,\"ticks\":\"\"},\"colorscale\":[[0.0,\"#0d0887\"],[0.1111111111111111,\"#46039f\"],[0.2222222222222222,\"#7201a8\"],[0.3333333333333333,\"#9c179e\"],[0.4444444444444444,\"#bd3786\"],[0.5555555555555556,\"#d8576b\"],[0.6666666666666666,\"#ed7953\"],[0.7777777777777778,\"#fb9f3a\"],[0.8888888888888888,\"#fdca26\"],[1.0,\"#f0f921\"]]}],\"heatmap\":[{\"type\":\"heatmap\",\"colorbar\":{\"outlinewidth\":0,\"ticks\":\"\"},\"colorscale\":[[0.0,\"#0d0887\"],[0.1111111111111111,\"#46039f\"],[0.2222222222222222,\"#7201a8\"],[0.3333333333333333,\"#9c179e\"],[0.4444444444444444,\"#bd3786\"],[0.5555555555555556,\"#d8576b\"],[0.6666666666666666,\"#ed7953\"],[0.7777777777777778,\"#fb9f3a\"],[0.8888888888888888,\"#fdca26\"],[1.0,\"#f0f921\"]]}],\"heatmapgl\":[{\"type\":\"heatmapgl\",\"colorbar\":{\"outlinewidth\":0,\"ticks\":\"\"},\"colorscale\":[[0.0,\"#0d0887\"],[0.1111111111111111,\"#46039f\"],[0.2222222222222222,\"#7201a8\"],[0.3333333333333333,\"#9c179e\"],[0.4444444444444444,\"#bd3786\"],[0.5555555555555556,\"#d8576b\"],[0.6666666666666666,\"#ed7953\"],[0.7777777777777778,\"#fb9f3a\"],[0.8888888888888888,\"#fdca26\"],[1.0,\"#f0f921\"]]}],\"contourcarpet\":[{\"type\":\"contourcarpet\",\"colorbar\":{\"outlinewidth\":0,\"ticks\":\"\"}}],\"contour\":[{\"type\":\"contour\",\"colorbar\":{\"outlinewidth\":0,\"ticks\":\"\"},\"colorscale\":[[0.0,\"#0d0887\"],[0.1111111111111111,\"#46039f\"],[0.2222222222222222,\"#7201a8\"],[0.3333333333333333,\"#9c179e\"],[0.4444444444444444,\"#bd3786\"],[0.5555555555555556,\"#d8576b\"],[0.6666666666666666,\"#ed7953\"],[0.7777777777777778,\"#fb9f3a\"],[0.8888888888888888,\"#fdca26\"],[1.0,\"#f0f921\"]]}],\"surface\":[{\"type\":\"surface\",\"colorbar\":{\"outlinewidth\":0,\"ticks\":\"\"},\"colorscale\":[[0.0,\"#0d0887\"],[0.1111111111111111,\"#46039f\"],[0.2222222222222222,\"#7201a8\"],[0.3333333333333333,\"#9c179e\"],[0.4444444444444444,\"#bd3786\"],[0.5555555555555556,\"#d8576b\"],[0.6666666666666666,\"#ed7953\"],[0.7777777777777778,\"#fb9f3a\"],[0.8888888888888888,\"#fdca26\"],[1.0,\"#f0f921\"]]}],\"mesh3d\":[{\"type\":\"mesh3d\",\"colorbar\":{\"outlinewidth\":0,\"ticks\":\"\"}}],\"scatter\":[{\"fillpattern\":{\"fillmode\":\"overlay\",\"size\":10,\"solidity\":0.2},\"type\":\"scatter\"}],\"parcoords\":[{\"type\":\"parcoords\",\"line\":{\"colorbar\":{\"outlinewidth\":0,\"ticks\":\"\"}}}],\"scatterpolargl\":[{\"type\":\"scatterpolargl\",\"marker\":{\"colorbar\":{\"outlinewidth\":0,\"ticks\":\"\"}}}],\"bar\":[{\"error_x\":{\"color\":\"#2a3f5f\"},\"error_y\":{\"color\":\"#2a3f5f\"},\"marker\":{\"line\":{\"color\":\"#E5ECF6\",\"width\":0.5},\"pattern\":{\"fillmode\":\"overlay\",\"size\":10,\"solidity\":0.2}},\"type\":\"bar\"}],\"scattergeo\":[{\"type\":\"scattergeo\",\"marker\":{\"colorbar\":{\"outlinewidth\":0,\"ticks\":\"\"}}}],\"scatterpolar\":[{\"type\":\"scatterpolar\",\"marker\":{\"colorbar\":{\"outlinewidth\":0,\"ticks\":\"\"}}}],\"histogram\":[{\"marker\":{\"pattern\":{\"fillmode\":\"overlay\",\"size\":10,\"solidity\":0.2}},\"type\":\"histogram\"}],\"scattergl\":[{\"type\":\"scattergl\",\"marker\":{\"colorbar\":{\"outlinewidth\":0,\"ticks\":\"\"}}}],\"scatter3d\":[{\"type\":\"scatter3d\",\"line\":{\"colorbar\":{\"outlinewidth\":0,\"ticks\":\"\"}},\"marker\":{\"colorbar\":{\"outlinewidth\":0,\"ticks\":\"\"}}}],\"scattermapbox\":[{\"type\":\"scattermapbox\",\"marker\":{\"colorbar\":{\"outlinewidth\":0,\"ticks\":\"\"}}}],\"scatterternary\":[{\"type\":\"scatterternary\",\"marker\":{\"colorbar\":{\"outlinewidth\":0,\"ticks\":\"\"}}}],\"scattercarpet\":[{\"type\":\"scattercarpet\",\"marker\":{\"colorbar\":{\"outlinewidth\":0,\"ticks\":\"\"}}}],\"carpet\":[{\"aaxis\":{\"endlinecolor\":\"#2a3f5f\",\"gridcolor\":\"white\",\"linecolor\":\"white\",\"minorgridcolor\":\"white\",\"startlinecolor\":\"#2a3f5f\"},\"baxis\":{\"endlinecolor\":\"#2a3f5f\",\"gridcolor\":\"white\",\"linecolor\":\"white\",\"minorgridcolor\":\"white\",\"startlinecolor\":\"#2a3f5f\"},\"type\":\"carpet\"}],\"table\":[{\"cells\":{\"fill\":{\"color\":\"#EBF0F8\"},\"line\":{\"color\":\"white\"}},\"header\":{\"fill\":{\"color\":\"#C8D4E3\"},\"line\":{\"color\":\"white\"}},\"type\":\"table\"}],\"barpolar\":[{\"marker\":{\"line\":{\"color\":\"#E5ECF6\",\"width\":0.5},\"pattern\":{\"fillmode\":\"overlay\",\"size\":10,\"solidity\":0.2}},\"type\":\"barpolar\"}],\"pie\":[{\"automargin\":true,\"type\":\"pie\"}]},\"layout\":{\"autotypenumbers\":\"strict\",\"colorway\":[\"#636efa\",\"#EF553B\",\"#00cc96\",\"#ab63fa\",\"#FFA15A\",\"#19d3f3\",\"#FF6692\",\"#B6E880\",\"#FF97FF\",\"#FECB52\"],\"font\":{\"color\":\"#2a3f5f\"},\"hovermode\":\"closest\",\"hoverlabel\":{\"align\":\"left\"},\"paper_bgcolor\":\"white\",\"plot_bgcolor\":\"#E5ECF6\",\"polar\":{\"bgcolor\":\"#E5ECF6\",\"angularaxis\":{\"gridcolor\":\"white\",\"linecolor\":\"white\",\"ticks\":\"\"},\"radialaxis\":{\"gridcolor\":\"white\",\"linecolor\":\"white\",\"ticks\":\"\"}},\"ternary\":{\"bgcolor\":\"#E5ECF6\",\"aaxis\":{\"gridcolor\":\"white\",\"linecolor\":\"white\",\"ticks\":\"\"},\"baxis\":{\"gridcolor\":\"white\",\"linecolor\":\"white\",\"ticks\":\"\"},\"caxis\":{\"gridcolor\":\"white\",\"linecolor\":\"white\",\"ticks\":\"\"}},\"coloraxis\":{\"colorbar\":{\"outlinewidth\":0,\"ticks\":\"\"}},\"colorscale\":{\"sequential\":[[0.0,\"#0d0887\"],[0.1111111111111111,\"#46039f\"],[0.2222222222222222,\"#7201a8\"],[0.3333333333333333,\"#9c179e\"],[0.4444444444444444,\"#bd3786\"],[0.5555555555555556,\"#d8576b\"],[0.6666666666666666,\"#ed7953\"],[0.7777777777777778,\"#fb9f3a\"],[0.8888888888888888,\"#fdca26\"],[1.0,\"#f0f921\"]],\"sequentialminus\":[[0.0,\"#0d0887\"],[0.1111111111111111,\"#46039f\"],[0.2222222222222222,\"#7201a8\"],[0.3333333333333333,\"#9c179e\"],[0.4444444444444444,\"#bd3786\"],[0.5555555555555556,\"#d8576b\"],[0.6666666666666666,\"#ed7953\"],[0.7777777777777778,\"#fb9f3a\"],[0.8888888888888888,\"#fdca26\"],[1.0,\"#f0f921\"]],\"diverging\":[[0,\"#8e0152\"],[0.1,\"#c51b7d\"],[0.2,\"#de77ae\"],[0.3,\"#f1b6da\"],[0.4,\"#fde0ef\"],[0.5,\"#f7f7f7\"],[0.6,\"#e6f5d0\"],[0.7,\"#b8e186\"],[0.8,\"#7fbc41\"],[0.9,\"#4d9221\"],[1,\"#276419\"]]},\"xaxis\":{\"gridcolor\":\"white\",\"linecolor\":\"white\",\"ticks\":\"\",\"title\":{\"standoff\":15},\"zerolinecolor\":\"white\",\"automargin\":true,\"zerolinewidth\":2},\"yaxis\":{\"gridcolor\":\"white\",\"linecolor\":\"white\",\"ticks\":\"\",\"title\":{\"standoff\":15},\"zerolinecolor\":\"white\",\"automargin\":true,\"zerolinewidth\":2},\"scene\":{\"xaxis\":{\"backgroundcolor\":\"#E5ECF6\",\"gridcolor\":\"white\",\"linecolor\":\"white\",\"showbackground\":true,\"ticks\":\"\",\"zerolinecolor\":\"white\",\"gridwidth\":2},\"yaxis\":{\"backgroundcolor\":\"#E5ECF6\",\"gridcolor\":\"white\",\"linecolor\":\"white\",\"showbackground\":true,\"ticks\":\"\",\"zerolinecolor\":\"white\",\"gridwidth\":2},\"zaxis\":{\"backgroundcolor\":\"#E5ECF6\",\"gridcolor\":\"white\",\"linecolor\":\"white\",\"showbackground\":true,\"ticks\":\"\",\"zerolinecolor\":\"white\",\"gridwidth\":2}},\"shapedefaults\":{\"line\":{\"color\":\"#2a3f5f\"}},\"annotationdefaults\":{\"arrowcolor\":\"#2a3f5f\",\"arrowhead\":0,\"arrowwidth\":1},\"geo\":{\"bgcolor\":\"white\",\"landcolor\":\"#E5ECF6\",\"subunitcolor\":\"white\",\"showland\":true,\"showlakes\":true,\"lakecolor\":\"white\"},\"title\":{\"x\":0.05},\"mapbox\":{\"style\":\"light\"}}},\"xaxis\":{\"anchor\":\"y\",\"domain\":[0.0,1.0],\"title\":{\"text\":\"Month\"}},\"yaxis\":{\"anchor\":\"x\",\"domain\":[0.0,1.0],\"title\":{\"text\":\"Number of Rides\"}},\"legend\":{\"title\":{\"text\":\"usertype\"},\"tracegroupgap\":0},\"margin\":{\"t\":60},\"barmode\":\"group\",\"title\":{\"text\":\"Number of Rides by Month and Rider Type\"}},                        {\"responsive\": true}                    ).then(function(){\n",
       "                            \n",
       "var gd = document.getElementById('48e3168c-e870-442b-a070-b416eb2081bc');\n",
       "var x = new MutationObserver(function (mutations, observer) {{\n",
       "        var display = window.getComputedStyle(gd).display;\n",
       "        if (!display || display === 'none') {{\n",
       "            console.log([gd, 'removed!']);\n",
       "            Plotly.purge(gd);\n",
       "            observer.disconnect();\n",
       "        }}\n",
       "}});\n",
       "\n",
       "// Listen for the removal of the full notebook cells\n",
       "var notebookContainer = gd.closest('#notebook-container');\n",
       "if (notebookContainer) {{\n",
       "    x.observe(notebookContainer, {childList: true});\n",
       "}}\n",
       "\n",
       "// Listen for the clearing of the current output cell\n",
       "var outputEl = gd.closest('.output');\n",
       "if (outputEl) {{\n",
       "    x.observe(outputEl, {childList: true});\n",
       "}}\n",
       "\n",
       "                        })                };                });            </script>        </div>"
      ]
     },
     "metadata": {},
     "output_type": "display_data"
    }
   ],
   "source": [
    "\n",
    "# Group by member_casual and weekday, calculate number_of_rides and average_duration\n",
    "grouped_data = all_trips_v2.groupby(['usertype', 'Month']).agg(number_of_rides=('bike_id', 'count'))\n",
    "grouped_data = grouped_data.rename(columns={'number_of_rides': 'Number_of_Rides', 'ride_date': 'number_of_rides'}).reset_index()\n",
    "\n",
    "# Create the visualization\n",
    "fig = px.bar(grouped_data, x='Month', y='Number_of_Rides', color='usertype', barmode='group')\n",
    "fig.update_layout(\n",
    "    xaxis_title='Month',\n",
    "    yaxis_title='Number of Rides',\n",
    "    title='Number of Rides by Month and Rider Type'\n",
    ")\n",
    "fig.show()"
   ]
  },
  {
   "cell_type": "code",
   "execution_count": 123,
   "id": "94ec8ffc",
   "metadata": {},
   "outputs": [
    {
     "data": {
      "application/vnd.plotly.v1+json": {
       "config": {
        "plotlyServerURL": "https://plot.ly"
       },
       "data": [
        {
         "alignmentgroup": "True",
         "hovertemplate": "usertype=casual<br>bike_id=%{x}<br>Number_of_Rides=%{y}<extra></extra>",
         "legendgroup": "casual",
         "marker": {
          "color": "#636efa",
          "pattern": {
           "shape": ""
          }
         },
         "name": "casual",
         "offsetgroup": "casual",
         "orientation": "v",
         "showlegend": true,
         "textposition": "auto",
         "type": "bar",
         "x": [
          "classic_bike",
          "docked_bike",
          "electric_bike"
         ],
         "xaxis": "x",
         "y": [
          70800,
          1062447,
          242913
         ],
         "yaxis": "y"
        },
        {
         "alignmentgroup": "True",
         "hovertemplate": "usertype=member<br>bike_id=%{x}<br>Number_of_Rides=%{y}<extra></extra>",
         "legendgroup": "member",
         "marker": {
          "color": "#EF553B",
          "pattern": {
           "shape": ""
          }
         },
         "name": "member",
         "offsetgroup": "member",
         "orientation": "v",
         "showlegend": true,
         "textposition": "auto",
         "type": "bar",
         "x": [
          "classic_bike",
          "docked_bike",
          "electric_bike"
         ],
         "xaxis": "x",
         "y": [
          249071,
          1367939,
          368284
         ],
         "yaxis": "y"
        }
       ],
       "layout": {
        "barmode": "group",
        "legend": {
         "title": {
          "text": "usertype"
         },
         "tracegroupgap": 0
        },
        "margin": {
         "t": 60
        },
        "template": {
         "data": {
          "bar": [
           {
            "error_x": {
             "color": "#2a3f5f"
            },
            "error_y": {
             "color": "#2a3f5f"
            },
            "marker": {
             "line": {
              "color": "#E5ECF6",
              "width": 0.5
             },
             "pattern": {
              "fillmode": "overlay",
              "size": 10,
              "solidity": 0.2
             }
            },
            "type": "bar"
           }
          ],
          "barpolar": [
           {
            "marker": {
             "line": {
              "color": "#E5ECF6",
              "width": 0.5
             },
             "pattern": {
              "fillmode": "overlay",
              "size": 10,
              "solidity": 0.2
             }
            },
            "type": "barpolar"
           }
          ],
          "carpet": [
           {
            "aaxis": {
             "endlinecolor": "#2a3f5f",
             "gridcolor": "white",
             "linecolor": "white",
             "minorgridcolor": "white",
             "startlinecolor": "#2a3f5f"
            },
            "baxis": {
             "endlinecolor": "#2a3f5f",
             "gridcolor": "white",
             "linecolor": "white",
             "minorgridcolor": "white",
             "startlinecolor": "#2a3f5f"
            },
            "type": "carpet"
           }
          ],
          "choropleth": [
           {
            "colorbar": {
             "outlinewidth": 0,
             "ticks": ""
            },
            "type": "choropleth"
           }
          ],
          "contour": [
           {
            "colorbar": {
             "outlinewidth": 0,
             "ticks": ""
            },
            "colorscale": [
             [
              0,
              "#0d0887"
             ],
             [
              0.1111111111111111,
              "#46039f"
             ],
             [
              0.2222222222222222,
              "#7201a8"
             ],
             [
              0.3333333333333333,
              "#9c179e"
             ],
             [
              0.4444444444444444,
              "#bd3786"
             ],
             [
              0.5555555555555556,
              "#d8576b"
             ],
             [
              0.6666666666666666,
              "#ed7953"
             ],
             [
              0.7777777777777778,
              "#fb9f3a"
             ],
             [
              0.8888888888888888,
              "#fdca26"
             ],
             [
              1,
              "#f0f921"
             ]
            ],
            "type": "contour"
           }
          ],
          "contourcarpet": [
           {
            "colorbar": {
             "outlinewidth": 0,
             "ticks": ""
            },
            "type": "contourcarpet"
           }
          ],
          "heatmap": [
           {
            "colorbar": {
             "outlinewidth": 0,
             "ticks": ""
            },
            "colorscale": [
             [
              0,
              "#0d0887"
             ],
             [
              0.1111111111111111,
              "#46039f"
             ],
             [
              0.2222222222222222,
              "#7201a8"
             ],
             [
              0.3333333333333333,
              "#9c179e"
             ],
             [
              0.4444444444444444,
              "#bd3786"
             ],
             [
              0.5555555555555556,
              "#d8576b"
             ],
             [
              0.6666666666666666,
              "#ed7953"
             ],
             [
              0.7777777777777778,
              "#fb9f3a"
             ],
             [
              0.8888888888888888,
              "#fdca26"
             ],
             [
              1,
              "#f0f921"
             ]
            ],
            "type": "heatmap"
           }
          ],
          "heatmapgl": [
           {
            "colorbar": {
             "outlinewidth": 0,
             "ticks": ""
            },
            "colorscale": [
             [
              0,
              "#0d0887"
             ],
             [
              0.1111111111111111,
              "#46039f"
             ],
             [
              0.2222222222222222,
              "#7201a8"
             ],
             [
              0.3333333333333333,
              "#9c179e"
             ],
             [
              0.4444444444444444,
              "#bd3786"
             ],
             [
              0.5555555555555556,
              "#d8576b"
             ],
             [
              0.6666666666666666,
              "#ed7953"
             ],
             [
              0.7777777777777778,
              "#fb9f3a"
             ],
             [
              0.8888888888888888,
              "#fdca26"
             ],
             [
              1,
              "#f0f921"
             ]
            ],
            "type": "heatmapgl"
           }
          ],
          "histogram": [
           {
            "marker": {
             "pattern": {
              "fillmode": "overlay",
              "size": 10,
              "solidity": 0.2
             }
            },
            "type": "histogram"
           }
          ],
          "histogram2d": [
           {
            "colorbar": {
             "outlinewidth": 0,
             "ticks": ""
            },
            "colorscale": [
             [
              0,
              "#0d0887"
             ],
             [
              0.1111111111111111,
              "#46039f"
             ],
             [
              0.2222222222222222,
              "#7201a8"
             ],
             [
              0.3333333333333333,
              "#9c179e"
             ],
             [
              0.4444444444444444,
              "#bd3786"
             ],
             [
              0.5555555555555556,
              "#d8576b"
             ],
             [
              0.6666666666666666,
              "#ed7953"
             ],
             [
              0.7777777777777778,
              "#fb9f3a"
             ],
             [
              0.8888888888888888,
              "#fdca26"
             ],
             [
              1,
              "#f0f921"
             ]
            ],
            "type": "histogram2d"
           }
          ],
          "histogram2dcontour": [
           {
            "colorbar": {
             "outlinewidth": 0,
             "ticks": ""
            },
            "colorscale": [
             [
              0,
              "#0d0887"
             ],
             [
              0.1111111111111111,
              "#46039f"
             ],
             [
              0.2222222222222222,
              "#7201a8"
             ],
             [
              0.3333333333333333,
              "#9c179e"
             ],
             [
              0.4444444444444444,
              "#bd3786"
             ],
             [
              0.5555555555555556,
              "#d8576b"
             ],
             [
              0.6666666666666666,
              "#ed7953"
             ],
             [
              0.7777777777777778,
              "#fb9f3a"
             ],
             [
              0.8888888888888888,
              "#fdca26"
             ],
             [
              1,
              "#f0f921"
             ]
            ],
            "type": "histogram2dcontour"
           }
          ],
          "mesh3d": [
           {
            "colorbar": {
             "outlinewidth": 0,
             "ticks": ""
            },
            "type": "mesh3d"
           }
          ],
          "parcoords": [
           {
            "line": {
             "colorbar": {
              "outlinewidth": 0,
              "ticks": ""
             }
            },
            "type": "parcoords"
           }
          ],
          "pie": [
           {
            "automargin": true,
            "type": "pie"
           }
          ],
          "scatter": [
           {
            "fillpattern": {
             "fillmode": "overlay",
             "size": 10,
             "solidity": 0.2
            },
            "type": "scatter"
           }
          ],
          "scatter3d": [
           {
            "line": {
             "colorbar": {
              "outlinewidth": 0,
              "ticks": ""
             }
            },
            "marker": {
             "colorbar": {
              "outlinewidth": 0,
              "ticks": ""
             }
            },
            "type": "scatter3d"
           }
          ],
          "scattercarpet": [
           {
            "marker": {
             "colorbar": {
              "outlinewidth": 0,
              "ticks": ""
             }
            },
            "type": "scattercarpet"
           }
          ],
          "scattergeo": [
           {
            "marker": {
             "colorbar": {
              "outlinewidth": 0,
              "ticks": ""
             }
            },
            "type": "scattergeo"
           }
          ],
          "scattergl": [
           {
            "marker": {
             "colorbar": {
              "outlinewidth": 0,
              "ticks": ""
             }
            },
            "type": "scattergl"
           }
          ],
          "scattermapbox": [
           {
            "marker": {
             "colorbar": {
              "outlinewidth": 0,
              "ticks": ""
             }
            },
            "type": "scattermapbox"
           }
          ],
          "scatterpolar": [
           {
            "marker": {
             "colorbar": {
              "outlinewidth": 0,
              "ticks": ""
             }
            },
            "type": "scatterpolar"
           }
          ],
          "scatterpolargl": [
           {
            "marker": {
             "colorbar": {
              "outlinewidth": 0,
              "ticks": ""
             }
            },
            "type": "scatterpolargl"
           }
          ],
          "scatterternary": [
           {
            "marker": {
             "colorbar": {
              "outlinewidth": 0,
              "ticks": ""
             }
            },
            "type": "scatterternary"
           }
          ],
          "surface": [
           {
            "colorbar": {
             "outlinewidth": 0,
             "ticks": ""
            },
            "colorscale": [
             [
              0,
              "#0d0887"
             ],
             [
              0.1111111111111111,
              "#46039f"
             ],
             [
              0.2222222222222222,
              "#7201a8"
             ],
             [
              0.3333333333333333,
              "#9c179e"
             ],
             [
              0.4444444444444444,
              "#bd3786"
             ],
             [
              0.5555555555555556,
              "#d8576b"
             ],
             [
              0.6666666666666666,
              "#ed7953"
             ],
             [
              0.7777777777777778,
              "#fb9f3a"
             ],
             [
              0.8888888888888888,
              "#fdca26"
             ],
             [
              1,
              "#f0f921"
             ]
            ],
            "type": "surface"
           }
          ],
          "table": [
           {
            "cells": {
             "fill": {
              "color": "#EBF0F8"
             },
             "line": {
              "color": "white"
             }
            },
            "header": {
             "fill": {
              "color": "#C8D4E3"
             },
             "line": {
              "color": "white"
             }
            },
            "type": "table"
           }
          ]
         },
         "layout": {
          "annotationdefaults": {
           "arrowcolor": "#2a3f5f",
           "arrowhead": 0,
           "arrowwidth": 1
          },
          "autotypenumbers": "strict",
          "coloraxis": {
           "colorbar": {
            "outlinewidth": 0,
            "ticks": ""
           }
          },
          "colorscale": {
           "diverging": [
            [
             0,
             "#8e0152"
            ],
            [
             0.1,
             "#c51b7d"
            ],
            [
             0.2,
             "#de77ae"
            ],
            [
             0.3,
             "#f1b6da"
            ],
            [
             0.4,
             "#fde0ef"
            ],
            [
             0.5,
             "#f7f7f7"
            ],
            [
             0.6,
             "#e6f5d0"
            ],
            [
             0.7,
             "#b8e186"
            ],
            [
             0.8,
             "#7fbc41"
            ],
            [
             0.9,
             "#4d9221"
            ],
            [
             1,
             "#276419"
            ]
           ],
           "sequential": [
            [
             0,
             "#0d0887"
            ],
            [
             0.1111111111111111,
             "#46039f"
            ],
            [
             0.2222222222222222,
             "#7201a8"
            ],
            [
             0.3333333333333333,
             "#9c179e"
            ],
            [
             0.4444444444444444,
             "#bd3786"
            ],
            [
             0.5555555555555556,
             "#d8576b"
            ],
            [
             0.6666666666666666,
             "#ed7953"
            ],
            [
             0.7777777777777778,
             "#fb9f3a"
            ],
            [
             0.8888888888888888,
             "#fdca26"
            ],
            [
             1,
             "#f0f921"
            ]
           ],
           "sequentialminus": [
            [
             0,
             "#0d0887"
            ],
            [
             0.1111111111111111,
             "#46039f"
            ],
            [
             0.2222222222222222,
             "#7201a8"
            ],
            [
             0.3333333333333333,
             "#9c179e"
            ],
            [
             0.4444444444444444,
             "#bd3786"
            ],
            [
             0.5555555555555556,
             "#d8576b"
            ],
            [
             0.6666666666666666,
             "#ed7953"
            ],
            [
             0.7777777777777778,
             "#fb9f3a"
            ],
            [
             0.8888888888888888,
             "#fdca26"
            ],
            [
             1,
             "#f0f921"
            ]
           ]
          },
          "colorway": [
           "#636efa",
           "#EF553B",
           "#00cc96",
           "#ab63fa",
           "#FFA15A",
           "#19d3f3",
           "#FF6692",
           "#B6E880",
           "#FF97FF",
           "#FECB52"
          ],
          "font": {
           "color": "#2a3f5f"
          },
          "geo": {
           "bgcolor": "white",
           "lakecolor": "white",
           "landcolor": "#E5ECF6",
           "showlakes": true,
           "showland": true,
           "subunitcolor": "white"
          },
          "hoverlabel": {
           "align": "left"
          },
          "hovermode": "closest",
          "mapbox": {
           "style": "light"
          },
          "paper_bgcolor": "white",
          "plot_bgcolor": "#E5ECF6",
          "polar": {
           "angularaxis": {
            "gridcolor": "white",
            "linecolor": "white",
            "ticks": ""
           },
           "bgcolor": "#E5ECF6",
           "radialaxis": {
            "gridcolor": "white",
            "linecolor": "white",
            "ticks": ""
           }
          },
          "scene": {
           "xaxis": {
            "backgroundcolor": "#E5ECF6",
            "gridcolor": "white",
            "gridwidth": 2,
            "linecolor": "white",
            "showbackground": true,
            "ticks": "",
            "zerolinecolor": "white"
           },
           "yaxis": {
            "backgroundcolor": "#E5ECF6",
            "gridcolor": "white",
            "gridwidth": 2,
            "linecolor": "white",
            "showbackground": true,
            "ticks": "",
            "zerolinecolor": "white"
           },
           "zaxis": {
            "backgroundcolor": "#E5ECF6",
            "gridcolor": "white",
            "gridwidth": 2,
            "linecolor": "white",
            "showbackground": true,
            "ticks": "",
            "zerolinecolor": "white"
           }
          },
          "shapedefaults": {
           "line": {
            "color": "#2a3f5f"
           }
          },
          "ternary": {
           "aaxis": {
            "gridcolor": "white",
            "linecolor": "white",
            "ticks": ""
           },
           "baxis": {
            "gridcolor": "white",
            "linecolor": "white",
            "ticks": ""
           },
           "bgcolor": "#E5ECF6",
           "caxis": {
            "gridcolor": "white",
            "linecolor": "white",
            "ticks": ""
           }
          },
          "title": {
           "x": 0.05
          },
          "xaxis": {
           "automargin": true,
           "gridcolor": "white",
           "linecolor": "white",
           "ticks": "",
           "title": {
            "standoff": 15
           },
           "zerolinecolor": "white",
           "zerolinewidth": 2
          },
          "yaxis": {
           "automargin": true,
           "gridcolor": "white",
           "linecolor": "white",
           "ticks": "",
           "title": {
            "standoff": 15
           },
           "zerolinecolor": "white",
           "zerolinewidth": 2
          }
         }
        },
        "title": {
         "text": "Number of Rides by Bike Type and Rider Type"
        },
        "xaxis": {
         "anchor": "y",
         "domain": [
          0,
          1
         ],
         "title": {
          "text": "Bike Type"
         }
        },
        "yaxis": {
         "anchor": "x",
         "domain": [
          0,
          1
         ],
         "title": {
          "text": "Number of Rides"
         }
        }
       }
      },
      "text/html": [
       "<div>                            <div id=\"8bd26ce5-a5b1-4eeb-968f-db9145461311\" class=\"plotly-graph-div\" style=\"height:525px; width:100%;\"></div>            <script type=\"text/javascript\">                require([\"plotly\"], function(Plotly) {                    window.PLOTLYENV=window.PLOTLYENV || {};                                    if (document.getElementById(\"8bd26ce5-a5b1-4eeb-968f-db9145461311\")) {                    Plotly.newPlot(                        \"8bd26ce5-a5b1-4eeb-968f-db9145461311\",                        [{\"alignmentgroup\":\"True\",\"hovertemplate\":\"usertype=casual\\u003cbr\\u003ebike_id=%{x}\\u003cbr\\u003eNumber_of_Rides=%{y}\\u003cextra\\u003e\\u003c\\u002fextra\\u003e\",\"legendgroup\":\"casual\",\"marker\":{\"color\":\"#636efa\",\"pattern\":{\"shape\":\"\"}},\"name\":\"casual\",\"offsetgroup\":\"casual\",\"orientation\":\"v\",\"showlegend\":true,\"textposition\":\"auto\",\"x\":[\"classic_bike\",\"docked_bike\",\"electric_bike\"],\"xaxis\":\"x\",\"y\":[70800,1062447,242913],\"yaxis\":\"y\",\"type\":\"bar\"},{\"alignmentgroup\":\"True\",\"hovertemplate\":\"usertype=member\\u003cbr\\u003ebike_id=%{x}\\u003cbr\\u003eNumber_of_Rides=%{y}\\u003cextra\\u003e\\u003c\\u002fextra\\u003e\",\"legendgroup\":\"member\",\"marker\":{\"color\":\"#EF553B\",\"pattern\":{\"shape\":\"\"}},\"name\":\"member\",\"offsetgroup\":\"member\",\"orientation\":\"v\",\"showlegend\":true,\"textposition\":\"auto\",\"x\":[\"classic_bike\",\"docked_bike\",\"electric_bike\"],\"xaxis\":\"x\",\"y\":[249071,1367939,368284],\"yaxis\":\"y\",\"type\":\"bar\"}],                        {\"template\":{\"data\":{\"histogram2dcontour\":[{\"type\":\"histogram2dcontour\",\"colorbar\":{\"outlinewidth\":0,\"ticks\":\"\"},\"colorscale\":[[0.0,\"#0d0887\"],[0.1111111111111111,\"#46039f\"],[0.2222222222222222,\"#7201a8\"],[0.3333333333333333,\"#9c179e\"],[0.4444444444444444,\"#bd3786\"],[0.5555555555555556,\"#d8576b\"],[0.6666666666666666,\"#ed7953\"],[0.7777777777777778,\"#fb9f3a\"],[0.8888888888888888,\"#fdca26\"],[1.0,\"#f0f921\"]]}],\"choropleth\":[{\"type\":\"choropleth\",\"colorbar\":{\"outlinewidth\":0,\"ticks\":\"\"}}],\"histogram2d\":[{\"type\":\"histogram2d\",\"colorbar\":{\"outlinewidth\":0,\"ticks\":\"\"},\"colorscale\":[[0.0,\"#0d0887\"],[0.1111111111111111,\"#46039f\"],[0.2222222222222222,\"#7201a8\"],[0.3333333333333333,\"#9c179e\"],[0.4444444444444444,\"#bd3786\"],[0.5555555555555556,\"#d8576b\"],[0.6666666666666666,\"#ed7953\"],[0.7777777777777778,\"#fb9f3a\"],[0.8888888888888888,\"#fdca26\"],[1.0,\"#f0f921\"]]}],\"heatmap\":[{\"type\":\"heatmap\",\"colorbar\":{\"outlinewidth\":0,\"ticks\":\"\"},\"colorscale\":[[0.0,\"#0d0887\"],[0.1111111111111111,\"#46039f\"],[0.2222222222222222,\"#7201a8\"],[0.3333333333333333,\"#9c179e\"],[0.4444444444444444,\"#bd3786\"],[0.5555555555555556,\"#d8576b\"],[0.6666666666666666,\"#ed7953\"],[0.7777777777777778,\"#fb9f3a\"],[0.8888888888888888,\"#fdca26\"],[1.0,\"#f0f921\"]]}],\"heatmapgl\":[{\"type\":\"heatmapgl\",\"colorbar\":{\"outlinewidth\":0,\"ticks\":\"\"},\"colorscale\":[[0.0,\"#0d0887\"],[0.1111111111111111,\"#46039f\"],[0.2222222222222222,\"#7201a8\"],[0.3333333333333333,\"#9c179e\"],[0.4444444444444444,\"#bd3786\"],[0.5555555555555556,\"#d8576b\"],[0.6666666666666666,\"#ed7953\"],[0.7777777777777778,\"#fb9f3a\"],[0.8888888888888888,\"#fdca26\"],[1.0,\"#f0f921\"]]}],\"contourcarpet\":[{\"type\":\"contourcarpet\",\"colorbar\":{\"outlinewidth\":0,\"ticks\":\"\"}}],\"contour\":[{\"type\":\"contour\",\"colorbar\":{\"outlinewidth\":0,\"ticks\":\"\"},\"colorscale\":[[0.0,\"#0d0887\"],[0.1111111111111111,\"#46039f\"],[0.2222222222222222,\"#7201a8\"],[0.3333333333333333,\"#9c179e\"],[0.4444444444444444,\"#bd3786\"],[0.5555555555555556,\"#d8576b\"],[0.6666666666666666,\"#ed7953\"],[0.7777777777777778,\"#fb9f3a\"],[0.8888888888888888,\"#fdca26\"],[1.0,\"#f0f921\"]]}],\"surface\":[{\"type\":\"surface\",\"colorbar\":{\"outlinewidth\":0,\"ticks\":\"\"},\"colorscale\":[[0.0,\"#0d0887\"],[0.1111111111111111,\"#46039f\"],[0.2222222222222222,\"#7201a8\"],[0.3333333333333333,\"#9c179e\"],[0.4444444444444444,\"#bd3786\"],[0.5555555555555556,\"#d8576b\"],[0.6666666666666666,\"#ed7953\"],[0.7777777777777778,\"#fb9f3a\"],[0.8888888888888888,\"#fdca26\"],[1.0,\"#f0f921\"]]}],\"mesh3d\":[{\"type\":\"mesh3d\",\"colorbar\":{\"outlinewidth\":0,\"ticks\":\"\"}}],\"scatter\":[{\"fillpattern\":{\"fillmode\":\"overlay\",\"size\":10,\"solidity\":0.2},\"type\":\"scatter\"}],\"parcoords\":[{\"type\":\"parcoords\",\"line\":{\"colorbar\":{\"outlinewidth\":0,\"ticks\":\"\"}}}],\"scatterpolargl\":[{\"type\":\"scatterpolargl\",\"marker\":{\"colorbar\":{\"outlinewidth\":0,\"ticks\":\"\"}}}],\"bar\":[{\"error_x\":{\"color\":\"#2a3f5f\"},\"error_y\":{\"color\":\"#2a3f5f\"},\"marker\":{\"line\":{\"color\":\"#E5ECF6\",\"width\":0.5},\"pattern\":{\"fillmode\":\"overlay\",\"size\":10,\"solidity\":0.2}},\"type\":\"bar\"}],\"scattergeo\":[{\"type\":\"scattergeo\",\"marker\":{\"colorbar\":{\"outlinewidth\":0,\"ticks\":\"\"}}}],\"scatterpolar\":[{\"type\":\"scatterpolar\",\"marker\":{\"colorbar\":{\"outlinewidth\":0,\"ticks\":\"\"}}}],\"histogram\":[{\"marker\":{\"pattern\":{\"fillmode\":\"overlay\",\"size\":10,\"solidity\":0.2}},\"type\":\"histogram\"}],\"scattergl\":[{\"type\":\"scattergl\",\"marker\":{\"colorbar\":{\"outlinewidth\":0,\"ticks\":\"\"}}}],\"scatter3d\":[{\"type\":\"scatter3d\",\"line\":{\"colorbar\":{\"outlinewidth\":0,\"ticks\":\"\"}},\"marker\":{\"colorbar\":{\"outlinewidth\":0,\"ticks\":\"\"}}}],\"scattermapbox\":[{\"type\":\"scattermapbox\",\"marker\":{\"colorbar\":{\"outlinewidth\":0,\"ticks\":\"\"}}}],\"scatterternary\":[{\"type\":\"scatterternary\",\"marker\":{\"colorbar\":{\"outlinewidth\":0,\"ticks\":\"\"}}}],\"scattercarpet\":[{\"type\":\"scattercarpet\",\"marker\":{\"colorbar\":{\"outlinewidth\":0,\"ticks\":\"\"}}}],\"carpet\":[{\"aaxis\":{\"endlinecolor\":\"#2a3f5f\",\"gridcolor\":\"white\",\"linecolor\":\"white\",\"minorgridcolor\":\"white\",\"startlinecolor\":\"#2a3f5f\"},\"baxis\":{\"endlinecolor\":\"#2a3f5f\",\"gridcolor\":\"white\",\"linecolor\":\"white\",\"minorgridcolor\":\"white\",\"startlinecolor\":\"#2a3f5f\"},\"type\":\"carpet\"}],\"table\":[{\"cells\":{\"fill\":{\"color\":\"#EBF0F8\"},\"line\":{\"color\":\"white\"}},\"header\":{\"fill\":{\"color\":\"#C8D4E3\"},\"line\":{\"color\":\"white\"}},\"type\":\"table\"}],\"barpolar\":[{\"marker\":{\"line\":{\"color\":\"#E5ECF6\",\"width\":0.5},\"pattern\":{\"fillmode\":\"overlay\",\"size\":10,\"solidity\":0.2}},\"type\":\"barpolar\"}],\"pie\":[{\"automargin\":true,\"type\":\"pie\"}]},\"layout\":{\"autotypenumbers\":\"strict\",\"colorway\":[\"#636efa\",\"#EF553B\",\"#00cc96\",\"#ab63fa\",\"#FFA15A\",\"#19d3f3\",\"#FF6692\",\"#B6E880\",\"#FF97FF\",\"#FECB52\"],\"font\":{\"color\":\"#2a3f5f\"},\"hovermode\":\"closest\",\"hoverlabel\":{\"align\":\"left\"},\"paper_bgcolor\":\"white\",\"plot_bgcolor\":\"#E5ECF6\",\"polar\":{\"bgcolor\":\"#E5ECF6\",\"angularaxis\":{\"gridcolor\":\"white\",\"linecolor\":\"white\",\"ticks\":\"\"},\"radialaxis\":{\"gridcolor\":\"white\",\"linecolor\":\"white\",\"ticks\":\"\"}},\"ternary\":{\"bgcolor\":\"#E5ECF6\",\"aaxis\":{\"gridcolor\":\"white\",\"linecolor\":\"white\",\"ticks\":\"\"},\"baxis\":{\"gridcolor\":\"white\",\"linecolor\":\"white\",\"ticks\":\"\"},\"caxis\":{\"gridcolor\":\"white\",\"linecolor\":\"white\",\"ticks\":\"\"}},\"coloraxis\":{\"colorbar\":{\"outlinewidth\":0,\"ticks\":\"\"}},\"colorscale\":{\"sequential\":[[0.0,\"#0d0887\"],[0.1111111111111111,\"#46039f\"],[0.2222222222222222,\"#7201a8\"],[0.3333333333333333,\"#9c179e\"],[0.4444444444444444,\"#bd3786\"],[0.5555555555555556,\"#d8576b\"],[0.6666666666666666,\"#ed7953\"],[0.7777777777777778,\"#fb9f3a\"],[0.8888888888888888,\"#fdca26\"],[1.0,\"#f0f921\"]],\"sequentialminus\":[[0.0,\"#0d0887\"],[0.1111111111111111,\"#46039f\"],[0.2222222222222222,\"#7201a8\"],[0.3333333333333333,\"#9c179e\"],[0.4444444444444444,\"#bd3786\"],[0.5555555555555556,\"#d8576b\"],[0.6666666666666666,\"#ed7953\"],[0.7777777777777778,\"#fb9f3a\"],[0.8888888888888888,\"#fdca26\"],[1.0,\"#f0f921\"]],\"diverging\":[[0,\"#8e0152\"],[0.1,\"#c51b7d\"],[0.2,\"#de77ae\"],[0.3,\"#f1b6da\"],[0.4,\"#fde0ef\"],[0.5,\"#f7f7f7\"],[0.6,\"#e6f5d0\"],[0.7,\"#b8e186\"],[0.8,\"#7fbc41\"],[0.9,\"#4d9221\"],[1,\"#276419\"]]},\"xaxis\":{\"gridcolor\":\"white\",\"linecolor\":\"white\",\"ticks\":\"\",\"title\":{\"standoff\":15},\"zerolinecolor\":\"white\",\"automargin\":true,\"zerolinewidth\":2},\"yaxis\":{\"gridcolor\":\"white\",\"linecolor\":\"white\",\"ticks\":\"\",\"title\":{\"standoff\":15},\"zerolinecolor\":\"white\",\"automargin\":true,\"zerolinewidth\":2},\"scene\":{\"xaxis\":{\"backgroundcolor\":\"#E5ECF6\",\"gridcolor\":\"white\",\"linecolor\":\"white\",\"showbackground\":true,\"ticks\":\"\",\"zerolinecolor\":\"white\",\"gridwidth\":2},\"yaxis\":{\"backgroundcolor\":\"#E5ECF6\",\"gridcolor\":\"white\",\"linecolor\":\"white\",\"showbackground\":true,\"ticks\":\"\",\"zerolinecolor\":\"white\",\"gridwidth\":2},\"zaxis\":{\"backgroundcolor\":\"#E5ECF6\",\"gridcolor\":\"white\",\"linecolor\":\"white\",\"showbackground\":true,\"ticks\":\"\",\"zerolinecolor\":\"white\",\"gridwidth\":2}},\"shapedefaults\":{\"line\":{\"color\":\"#2a3f5f\"}},\"annotationdefaults\":{\"arrowcolor\":\"#2a3f5f\",\"arrowhead\":0,\"arrowwidth\":1},\"geo\":{\"bgcolor\":\"white\",\"landcolor\":\"#E5ECF6\",\"subunitcolor\":\"white\",\"showland\":true,\"showlakes\":true,\"lakecolor\":\"white\"},\"title\":{\"x\":0.05},\"mapbox\":{\"style\":\"light\"}}},\"xaxis\":{\"anchor\":\"y\",\"domain\":[0.0,1.0],\"title\":{\"text\":\"Bike Type\"}},\"yaxis\":{\"anchor\":\"x\",\"domain\":[0.0,1.0],\"title\":{\"text\":\"Number of Rides\"}},\"legend\":{\"title\":{\"text\":\"usertype\"},\"tracegroupgap\":0},\"margin\":{\"t\":60},\"barmode\":\"group\",\"title\":{\"text\":\"Number of Rides by Bike Type and Rider Type\"}},                        {\"responsive\": true}                    ).then(function(){\n",
       "                            \n",
       "var gd = document.getElementById('8bd26ce5-a5b1-4eeb-968f-db9145461311');\n",
       "var x = new MutationObserver(function (mutations, observer) {{\n",
       "        var display = window.getComputedStyle(gd).display;\n",
       "        if (!display || display === 'none') {{\n",
       "            console.log([gd, 'removed!']);\n",
       "            Plotly.purge(gd);\n",
       "            observer.disconnect();\n",
       "        }}\n",
       "}});\n",
       "\n",
       "// Listen for the removal of the full notebook cells\n",
       "var notebookContainer = gd.closest('#notebook-container');\n",
       "if (notebookContainer) {{\n",
       "    x.observe(notebookContainer, {childList: true});\n",
       "}}\n",
       "\n",
       "// Listen for the clearing of the current output cell\n",
       "var outputEl = gd.closest('.output');\n",
       "if (outputEl) {{\n",
       "    x.observe(outputEl, {childList: true});\n",
       "}}\n",
       "\n",
       "                        })                };                });            </script>        </div>"
      ]
     },
     "metadata": {},
     "output_type": "display_data"
    }
   ],
   "source": [
    "\n",
    "# Group by member_casual and weekday, calculate number_of_rides and average_duration\n",
    "grouped_data = all_trips_v2.groupby(['usertype', 'bike_id']).agg(number_of_rides=('bike_id', 'count'))\n",
    "grouped_data = grouped_data.rename(columns={'number_of_rides': 'Number_of_Rides', 'ride_date': 'number_of_rides'}).reset_index()\n",
    "\n",
    "# Create the visualization\n",
    "fig = px.bar(grouped_data, x='bike_id', y='Number_of_Rides', color='usertype', barmode='group')\n",
    "fig.update_layout(\n",
    "    xaxis_title='Bike Type',\n",
    "    yaxis_title='Number of Rides',\n",
    "    title='Number of Rides by Bike Type and Rider Type'\n",
    ")\n",
    "fig.show()"
   ]
  },
  {
   "cell_type": "code",
   "execution_count": null,
   "id": "c5eb4c53",
   "metadata": {},
   "outputs": [],
   "source": []
  },
  {
   "cell_type": "code",
   "execution_count": 126,
   "id": "03897f92",
   "metadata": {},
   "outputs": [],
   "source": [
    "counts = all_trips_v2.groupby(['usertype', 'WeekDay'])['ride_duration'].mean().reset_index()\n",
    "counts.to_csv(\"C:/Case Study 1/Pandas/average_ride_time_weekday.csv\", index=False)"
   ]
  },
  {
   "cell_type": "code",
   "execution_count": 127,
   "id": "be267204",
   "metadata": {},
   "outputs": [],
   "source": [
    "counts= all_trips_v2.groupby(['usertype', 'WeekDay']).agg(number_of_rides=('bike_id', 'count'), average_duration=('ride_duration', 'mean')).reset_index().sort_values(['usertype', 'WeekDay'])\n",
    "counts.to_csv(\"C:/Case Study 1/Pandas/rides_by_type_weekday.csv\", index=False)"
   ]
  },
  {
   "cell_type": "code",
   "execution_count": 130,
   "id": "cb0501c7",
   "metadata": {},
   "outputs": [],
   "source": [
    "counts= all_trips_v2.groupby(['usertype', 'season']).agg(number_of_rides=('bike_id', 'count'), average_duration=('ride_duration', 'mean')).reset_index().sort_values(['usertype', 'season'])\n",
    "counts.to_csv(\"C:/Case Study 1/Pandas/season_by_type_weekday.csv\", index=False)"
   ]
  },
  {
   "cell_type": "code",
   "execution_count": 133,
   "id": "3c5f513e",
   "metadata": {},
   "outputs": [],
   "source": [
    "counts= all_trips_v2.groupby(['usertype', 'Month']).agg(number_of_rides=('bike_id', 'count'), average_duration=('ride_duration', 'mean')).reset_index().sort_values(['usertype', 'Month'])\n",
    "counts.to_csv(\"C:/Case Study 1/Pandas/month_by_type_weekday.csv\", index=False)"
   ]
  },
  {
   "cell_type": "code",
   "execution_count": 134,
   "id": "e1836a0f",
   "metadata": {},
   "outputs": [],
   "source": [
    "counts= all_trips_v2.groupby(['usertype', 'bike_id']).agg(number_of_rides=('bike_id', 'count'), average_duration=('ride_duration', 'mean')).reset_index().sort_values(['usertype', 'bike_id'])\n",
    "counts.to_csv(\"C:/Case Study 1/Pandas/bike_by_type_weekday.csv\", index=False)"
   ]
  },
  {
   "cell_type": "code",
   "execution_count": 135,
   "id": "eb070bc1",
   "metadata": {},
   "outputs": [
    {
     "data": {
      "text/html": [
       "<div>\n",
       "<style scoped>\n",
       "    .dataframe tbody tr th:only-of-type {\n",
       "        vertical-align: middle;\n",
       "    }\n",
       "\n",
       "    .dataframe tbody tr th {\n",
       "        vertical-align: top;\n",
       "    }\n",
       "\n",
       "    .dataframe thead th {\n",
       "        text-align: right;\n",
       "    }\n",
       "</style>\n",
       "<table border=\"1\" class=\"dataframe\">\n",
       "  <thead>\n",
       "    <tr style=\"text-align: right;\">\n",
       "      <th></th>\n",
       "      <th>bike_id</th>\n",
       "      <th>start_datetime</th>\n",
       "      <th>end_datetime</th>\n",
       "      <th>from_station_name</th>\n",
       "      <th>from_station_id</th>\n",
       "      <th>to_station_name</th>\n",
       "      <th>to_station_id</th>\n",
       "      <th>usertype</th>\n",
       "      <th>ride_length</th>\n",
       "      <th>ride_date</th>\n",
       "      <th>...</th>\n",
       "      <th>ride_month</th>\n",
       "      <th>start_time</th>\n",
       "      <th>end_time</th>\n",
       "      <th>day_of_week</th>\n",
       "      <th>season</th>\n",
       "      <th>ride_duration</th>\n",
       "      <th>Day</th>\n",
       "      <th>Month</th>\n",
       "      <th>Year</th>\n",
       "      <th>WeekDay</th>\n",
       "    </tr>\n",
       "  </thead>\n",
       "  <tbody>\n",
       "    <tr>\n",
       "      <th>0</th>\n",
       "      <td>docked_bike</td>\n",
       "      <td>2020-04-01 00:00:00</td>\n",
       "      <td>2020-04-01 00:23:00</td>\n",
       "      <td>Damen Ave &amp; Wellington Ave</td>\n",
       "      <td>162</td>\n",
       "      <td>Pine Grove Ave &amp; Waveland Ave</td>\n",
       "      <td>232.0</td>\n",
       "      <td>casual</td>\n",
       "      <td>00:23:00</td>\n",
       "      <td>2020-04-01</td>\n",
       "      <td>...</td>\n",
       "      <td>4</td>\n",
       "      <td>00:00:00</td>\n",
       "      <td>00:23:00</td>\n",
       "      <td>4</td>\n",
       "      <td>Spring</td>\n",
       "      <td>0 days 00:23:00</td>\n",
       "      <td>1</td>\n",
       "      <td>April</td>\n",
       "      <td>2020</td>\n",
       "      <td>Wednesday</td>\n",
       "    </tr>\n",
       "    <tr>\n",
       "      <th>1</th>\n",
       "      <td>docked_bike</td>\n",
       "      <td>2020-04-01 00:02:00</td>\n",
       "      <td>2020-04-01 00:24:00</td>\n",
       "      <td>Damen Ave &amp; Wellington Ave</td>\n",
       "      <td>162</td>\n",
       "      <td>Spaulding Ave &amp; Armitage Ave</td>\n",
       "      <td>506.0</td>\n",
       "      <td>casual</td>\n",
       "      <td>00:22:00</td>\n",
       "      <td>2020-04-01</td>\n",
       "      <td>...</td>\n",
       "      <td>4</td>\n",
       "      <td>00:02:00</td>\n",
       "      <td>00:24:00</td>\n",
       "      <td>4</td>\n",
       "      <td>Spring</td>\n",
       "      <td>0 days 00:22:00</td>\n",
       "      <td>1</td>\n",
       "      <td>April</td>\n",
       "      <td>2020</td>\n",
       "      <td>Wednesday</td>\n",
       "    </tr>\n",
       "    <tr>\n",
       "      <th>2</th>\n",
       "      <td>docked_bike</td>\n",
       "      <td>2020-04-01 00:02:00</td>\n",
       "      <td>2020-04-01 00:10:00</td>\n",
       "      <td>Wabash Ave &amp; 16th St</td>\n",
       "      <td>72</td>\n",
       "      <td>Wabash Ave &amp; 9th St</td>\n",
       "      <td>321.0</td>\n",
       "      <td>member</td>\n",
       "      <td>00:08:00</td>\n",
       "      <td>2020-04-01</td>\n",
       "      <td>...</td>\n",
       "      <td>4</td>\n",
       "      <td>00:02:00</td>\n",
       "      <td>00:10:00</td>\n",
       "      <td>4</td>\n",
       "      <td>Spring</td>\n",
       "      <td>0 days 00:08:00</td>\n",
       "      <td>1</td>\n",
       "      <td>April</td>\n",
       "      <td>2020</td>\n",
       "      <td>Wednesday</td>\n",
       "    </tr>\n",
       "    <tr>\n",
       "      <th>3</th>\n",
       "      <td>docked_bike</td>\n",
       "      <td>2020-04-01 00:06:00</td>\n",
       "      <td>2020-04-01 00:14:00</td>\n",
       "      <td>Mies van der Rohe Way &amp; Chicago Ave</td>\n",
       "      <td>173</td>\n",
       "      <td>Clark St &amp; Schiller St</td>\n",
       "      <td>301.0</td>\n",
       "      <td>member</td>\n",
       "      <td>00:08:00</td>\n",
       "      <td>2020-04-01</td>\n",
       "      <td>...</td>\n",
       "      <td>4</td>\n",
       "      <td>00:06:00</td>\n",
       "      <td>00:14:00</td>\n",
       "      <td>4</td>\n",
       "      <td>Spring</td>\n",
       "      <td>0 days 00:08:00</td>\n",
       "      <td>1</td>\n",
       "      <td>April</td>\n",
       "      <td>2020</td>\n",
       "      <td>Wednesday</td>\n",
       "    </tr>\n",
       "    <tr>\n",
       "      <th>4</th>\n",
       "      <td>docked_bike</td>\n",
       "      <td>2020-04-01 00:11:00</td>\n",
       "      <td>2020-04-01 00:11:00</td>\n",
       "      <td>Wabash Ave &amp; 9th St</td>\n",
       "      <td>321</td>\n",
       "      <td>Wabash Ave &amp; 9th St</td>\n",
       "      <td>321.0</td>\n",
       "      <td>member</td>\n",
       "      <td>00:00:00</td>\n",
       "      <td>2020-04-01</td>\n",
       "      <td>...</td>\n",
       "      <td>4</td>\n",
       "      <td>00:11:00</td>\n",
       "      <td>00:11:00</td>\n",
       "      <td>4</td>\n",
       "      <td>Spring</td>\n",
       "      <td>0 days 00:00:00</td>\n",
       "      <td>1</td>\n",
       "      <td>April</td>\n",
       "      <td>2020</td>\n",
       "      <td>Wednesday</td>\n",
       "    </tr>\n",
       "  </tbody>\n",
       "</table>\n",
       "<p>5 rows × 21 columns</p>\n",
       "</div>"
      ],
      "text/plain": [
       "       bike_id      start_datetime        end_datetime  \\\n",
       "0  docked_bike 2020-04-01 00:00:00 2020-04-01 00:23:00   \n",
       "1  docked_bike 2020-04-01 00:02:00 2020-04-01 00:24:00   \n",
       "2  docked_bike 2020-04-01 00:02:00 2020-04-01 00:10:00   \n",
       "3  docked_bike 2020-04-01 00:06:00 2020-04-01 00:14:00   \n",
       "4  docked_bike 2020-04-01 00:11:00 2020-04-01 00:11:00   \n",
       "\n",
       "                     from_station_name from_station_id  \\\n",
       "0           Damen Ave & Wellington Ave             162   \n",
       "1           Damen Ave & Wellington Ave             162   \n",
       "2                 Wabash Ave & 16th St              72   \n",
       "3  Mies van der Rohe Way & Chicago Ave             173   \n",
       "4                  Wabash Ave & 9th St             321   \n",
       "\n",
       "                 to_station_name to_station_id usertype ride_length  \\\n",
       "0  Pine Grove Ave & Waveland Ave         232.0   casual    00:23:00   \n",
       "1   Spaulding Ave & Armitage Ave         506.0   casual    00:22:00   \n",
       "2            Wabash Ave & 9th St         321.0   member    00:08:00   \n",
       "3         Clark St & Schiller St         301.0   member    00:08:00   \n",
       "4            Wabash Ave & 9th St         321.0   member    00:00:00   \n",
       "\n",
       "   ride_date  ...  ride_month  start_time  end_time day_of_week  season  \\\n",
       "0 2020-04-01  ...           4    00:00:00  00:23:00           4  Spring   \n",
       "1 2020-04-01  ...           4    00:02:00  00:24:00           4  Spring   \n",
       "2 2020-04-01  ...           4    00:02:00  00:10:00           4  Spring   \n",
       "3 2020-04-01  ...           4    00:06:00  00:14:00           4  Spring   \n",
       "4 2020-04-01  ...           4    00:11:00  00:11:00           4  Spring   \n",
       "\n",
       "    ride_duration Day  Month  Year    WeekDay  \n",
       "0 0 days 00:23:00   1  April  2020  Wednesday  \n",
       "1 0 days 00:22:00   1  April  2020  Wednesday  \n",
       "2 0 days 00:08:00   1  April  2020  Wednesday  \n",
       "3 0 days 00:08:00   1  April  2020  Wednesday  \n",
       "4 0 days 00:00:00   1  April  2020  Wednesday  \n",
       "\n",
       "[5 rows x 21 columns]"
      ]
     },
     "execution_count": 135,
     "metadata": {},
     "output_type": "execute_result"
    }
   ],
   "source": [
    "all_trips_v2.head()"
   ]
  },
  {
   "cell_type": "code",
   "execution_count": null,
   "id": "c60a78da",
   "metadata": {},
   "outputs": [],
   "source": []
  }
 ],
 "metadata": {
  "kernelspec": {
   "display_name": "Python 3 (ipykernel)",
   "language": "python",
   "name": "python3"
  },
  "language_info": {
   "codemirror_mode": {
    "name": "ipython",
    "version": 3
   },
   "file_extension": ".py",
   "mimetype": "text/x-python",
   "name": "python",
   "nbconvert_exporter": "python",
   "pygments_lexer": "ipython3",
   "version": "3.11.2"
  }
 },
 "nbformat": 4,
 "nbformat_minor": 5
}
